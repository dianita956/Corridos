{
 "cells": [
  {
   "cell_type": "markdown",
   "metadata": {},
   "source": [
    "NLTK "
   ]
  },
  {
   "cell_type": "code",
   "execution_count": 1,
   "metadata": {},
   "outputs": [
    {
     "name": "stdout",
     "output_type": "stream",
     "text": [
      "Requirement already satisfied: nltk in c:\\users\\dmlpz\\corridos\\venv\\lib\\site-packages (3.7)\n",
      "Requirement already satisfied: joblib in c:\\users\\dmlpz\\corridos\\venv\\lib\\site-packages (from nltk) (1.1.0)\n",
      "Requirement already satisfied: regex>=2021.8.3 in c:\\users\\dmlpz\\corridos\\venv\\lib\\site-packages (from nltk) (2022.8.17)\n",
      "Requirement already satisfied: click in c:\\users\\dmlpz\\corridos\\venv\\lib\\site-packages (from nltk) (8.1.3)\n",
      "Requirement already satisfied: tqdm in c:\\users\\dmlpz\\corridos\\venv\\lib\\site-packages (from nltk) (4.64.0)\n",
      "Requirement already satisfied: colorama in c:\\users\\dmlpz\\corridos\\venv\\lib\\site-packages (from click->nltk) (0.4.5)\n",
      "Note: you may need to restart the kernel to use updated packages.\n"
     ]
    },
    {
     "name": "stderr",
     "output_type": "stream",
     "text": [
      "[nltk_data] Downloading package punkt to\n",
      "[nltk_data]     C:\\Users\\dmlpz\\AppData\\Roaming\\nltk_data...\n",
      "[nltk_data]   Package punkt is already up-to-date!\n"
     ]
    },
    {
     "data": {
      "text/plain": [
       "True"
      ]
     },
     "execution_count": 1,
     "metadata": {},
     "output_type": "execute_result"
    }
   ],
   "source": [
    "%pip install nltk\n",
    "import nltk\n",
    "nltk.download('punkt')"
   ]
  },
  {
   "cell_type": "code",
   "execution_count": 13,
   "metadata": {},
   "outputs": [
    {
     "name": "stdout",
     "output_type": "stream",
     "text": [
      "Requirement already satisfied: vaderSentiment in c:\\users\\dmlpz\\corridos\\venv\\lib\\site-packages (3.3.2)\n",
      "Requirement already satisfied: requests in c:\\users\\dmlpz\\corridos\\venv\\lib\\site-packages (from vaderSentiment) (2.28.1)\n",
      "Requirement already satisfied: charset-normalizer<3,>=2 in c:\\users\\dmlpz\\corridos\\venv\\lib\\site-packages (from requests->vaderSentiment) (2.1.0)\n",
      "Requirement already satisfied: certifi>=2017.4.17 in c:\\users\\dmlpz\\corridos\\venv\\lib\\site-packages (from requests->vaderSentiment) (2022.6.15)\n",
      "Requirement already satisfied: urllib3<1.27,>=1.21.1 in c:\\users\\dmlpz\\corridos\\venv\\lib\\site-packages (from requests->vaderSentiment) (1.26.11)\n",
      "Requirement already satisfied: idna<4,>=2.5 in c:\\users\\dmlpz\\corridos\\venv\\lib\\site-packages (from requests->vaderSentiment) (3.3)\n",
      "Note: you may need to restart the kernel to use updated packages.\n",
      "Requirement already satisfied: numpy in c:\\users\\dmlpz\\corridos\\venv\\lib\\site-packages (1.23.1)\n",
      "Note: you may need to restart the kernel to use updated packages.\n"
     ]
    }
   ],
   "source": [
    "%pip install vaderSentiment\n",
    "from vaderSentiment import SentimentIntensityAnalyzer\n",
    "\n",
    "# Initialize VADER so we can use it later\n",
    "sa = SentimentIntensityAnalyzer()\n",
    "\n",
    "import re\n",
    "\n",
    "%pip install numpy"
   ]
  },
  {
   "cell_type": "code",
   "execution_count": 15,
   "metadata": {},
   "outputs": [
    {
     "name": "stderr",
     "output_type": "stream",
     "text": [
      "ERROR: unknown command \"pandas\"\n",
      "\n"
     ]
    },
    {
     "name": "stdout",
     "output_type": "stream",
     "text": [
      "Note: you may need to restart the kernel to use updated packages.\n"
     ]
    }
   ],
   "source": [
    "%pip pandas\n",
    "import pandas as pd\n",
    "pd.options.display.max_colwidth = 400"
   ]
  },
  {
   "cell_type": "code",
   "execution_count": 7,
   "metadata": {},
   "outputs": [],
   "source": [
    "# Read in text file\n",
    "text = open(\"corrido corpus\\gregoriocortez_es_corrido.txt\", encoding=\"utf-8\").read()\n",
    "# Replace line breaks with spaces\n",
    "text = text.replace('\\n', ' ')"
   ]
  },
  {
   "cell_type": "code",
   "execution_count": 8,
   "metadata": {},
   "outputs": [
    {
     "data": {
      "text/plain": [
       "['En el condado El Carmen miren lo que ha sucedido, murió el Cherife Mayor, quedando Román herido.',\n",
       " 'Se anduvieron informando como media hora después supieropn que el malhechor era Gregorio Cortez.',\n",
       " 'Ya insortaron a Cortez por toditito el estado, que vivo o muerto se aprehenda proque a various ha matado.',\n",
       " 'Decía Gregorio Cortez con su pistola en la mano: No siento haberlo matado, lo que siento es a mi hermano.',\n",
       " 'Decía Gregorio Cortez con su almu my encendid: No siento haberlo matado, la defensa es permitida.',\n",
       " 'Venían los american mas blancos que una amapola, de miedo que le tenían a Cortez con su pistola.',\n",
       " 'Decían los americanos, decían con timidez: Vamos a seguir la huella que el malhechor es Cortez.',\n",
       " \"Soltaron los perros juanes pa'que siguieran la huella, pero alcanzar a Cortez.\",\n",
       " 'Tiró con rumbo a Gonzales sin ninguna timidez: Síganme, rinches cobardes, yo soy Gregorio Cortez.',\n",
       " 'Se fue de Belmont al rancho, lo alcanzaron a rodear, poquitos más de trescientos, y allí les brincó el corral.',\n",
       " 'Cuando les brincó el corral, según lo que aquí se dice, se agarraron a balazos, y les mató otro cherife.',\n",
       " 'Decía Gregorio Cortez con su pistola en la mano: No corran, rinches cobardes, con un solo mexicano.',\n",
       " 'Salió Gregorio Cortez, salió con rumbo a Laredo, no lo quisieron seguir porque le tuvieron miedo.',\n",
       " \"Decía Gregorio Cortez: Pa' qué se velen de planes?\",\n",
       " 'No me pueden agarrar ni con esos perros juanes.',\n",
       " 'Decían Los americanos: Si lo alcanzamos por derecho myu poquitos volveremos.',\n",
       " 'Allá por El Encinal, según lo que aquí se dice, le formaron un corral y les mató otro cherife.',\n",
       " 'Decía Gregorio Cortez echando muchos balazos: Me ha escapado de aquaceros, contimás de nublinazos.',\n",
       " 'Ya se encontrá a un mexicano, le dice con altivez: Platícame qué hay de nuevo, yo soy Gregorio Cortez.',\n",
       " 'Dicen que por culpa mía han matado mucha gente, pues ya me voy a entregar porque eso no es convieniente.',\n",
       " 'Cortez le dice a Jesús: Oro sí lo vas a ver, anda diles los rinches que vengan a aprehender.',\n",
       " 'Venían todos los rinches, venían que hasta volaban, porque se iban a ganer diez mil pesos que le daban.',\n",
       " 'Cuando rodearon la case Cortez se les presentó: Por la buena sí me llevan proque de otro modo no.',\n",
       " 'Decía el Cheride Mayor como queriendo llorar: Cortez, entrega tus armas, no te vamos a matar.',\n",
       " 'Decía Gregorio Cortez, les gritaba en alta voz: Mis armas no las entrego hasta estar en calaboz.',\n",
       " 'Decía Gregorio Cortez, decía en su voz divina: Mis armas no las entrgo hasta estar en bartolina.',\n",
       " 'Ya agarron a Cortez, ya terminó la cuestion, la pobre de sui familia lo lleva en el corazón.',\n",
       " 'Ya con esta me despido a la sombra de un ciprés, aquí se acaba el corrido de don Gregorio Cortez.']"
      ]
     },
     "execution_count": 8,
     "metadata": {},
     "output_type": "execute_result"
    }
   ],
   "source": [
    "nltk.sent_tokenize(text)\n"
   ]
  },
  {
   "cell_type": "code",
   "execution_count": 9,
   "metadata": {},
   "outputs": [
    {
     "name": "stdout",
     "output_type": "stream",
     "text": [
      "0 En el condado El Carmen miren lo que ha sucedido, murió el Cherife Mayor, quedando Román herido.\n",
      "1 Se anduvieron informando como media hora después supieropn que el malhechor era Gregorio Cortez.\n",
      "2 Ya insortaron a Cortez por toditito el estado, que vivo o muerto se aprehenda proque a various ha matado.\n",
      "3 Decía Gregorio Cortez con su pistola en la mano: No siento haberlo matado, lo que siento es a mi hermano.\n",
      "4 Decía Gregorio Cortez con su almu my encendid: No siento haberlo matado, la defensa es permitida.\n",
      "5 Venían los american mas blancos que una amapola, de miedo que le tenían a Cortez con su pistola.\n",
      "6 Decían los americanos, decían con timidez: Vamos a seguir la huella que el malhechor es Cortez.\n",
      "7 Soltaron los perros juanes pa'que siguieran la huella, pero alcanzar a Cortez.\n",
      "8 Tiró con rumbo a Gonzales sin ninguna timidez: Síganme, rinches cobardes, yo soy Gregorio Cortez.\n",
      "9 Se fue de Belmont al rancho, lo alcanzaron a rodear, poquitos más de trescientos, y allí les brincó el corral.\n",
      "10 Cuando les brincó el corral, según lo que aquí se dice, se agarraron a balazos, y les mató otro cherife.\n",
      "11 Decía Gregorio Cortez con su pistola en la mano: No corran, rinches cobardes, con un solo mexicano.\n",
      "12 Salió Gregorio Cortez, salió con rumbo a Laredo, no lo quisieron seguir porque le tuvieron miedo.\n",
      "13 Decía Gregorio Cortez: Pa' qué se velen de planes?\n",
      "14 No me pueden agarrar ni con esos perros juanes.\n",
      "15 Decían Los americanos: Si lo alcanzamos por derecho myu poquitos volveremos.\n",
      "16 Allá por El Encinal, según lo que aquí se dice, le formaron un corral y les mató otro cherife.\n",
      "17 Decía Gregorio Cortez echando muchos balazos: Me ha escapado de aquaceros, contimás de nublinazos.\n",
      "18 Ya se encontrá a un mexicano, le dice con altivez: Platícame qué hay de nuevo, yo soy Gregorio Cortez.\n",
      "19 Dicen que por culpa mía han matado mucha gente, pues ya me voy a entregar porque eso no es convieniente.\n",
      "20 Cortez le dice a Jesús: Oro sí lo vas a ver, anda diles los rinches que vengan a aprehender.\n",
      "21 Venían todos los rinches, venían que hasta volaban, porque se iban a ganer diez mil pesos que le daban.\n",
      "22 Cuando rodearon la case Cortez se les presentó: Por la buena sí me llevan proque de otro modo no.\n",
      "23 Decía el Cheride Mayor como queriendo llorar: Cortez, entrega tus armas, no te vamos a matar.\n",
      "24 Decía Gregorio Cortez, les gritaba en alta voz: Mis armas no las entrego hasta estar en calaboz.\n",
      "25 Decía Gregorio Cortez, decía en su voz divina: Mis armas no las entrgo hasta estar en bartolina.\n",
      "26 Ya agarron a Cortez, ya terminó la cuestion, la pobre de sui familia lo lleva en el corazón.\n",
      "27 Ya con esta me despido a la sombra de un ciprés, aquí se acaba el corrido de don Gregorio Cortez.\n"
     ]
    }
   ],
   "source": [
    "for number, sentence in enumerate(nltk.sent_tokenize(text)):\n",
    "    print(number, sentence)\n",
    " # Break text into sentences\n",
    "sentences = nltk.sent_tokenize(text)"
   ]
  },
  {
   "cell_type": "code",
   "execution_count": 11,
   "metadata": {},
   "outputs": [],
   "source": [
    "# Break text into sentences\n",
    "sentences = nltk.sent_tokenize(text)"
   ]
  },
  {
   "cell_type": "code",
   "execution_count": 16,
   "metadata": {},
   "outputs": [
    {
     "data": {
      "text/html": [
       "<div>\n",
       "<style scoped>\n",
       "    .dataframe tbody tr th:only-of-type {\n",
       "        vertical-align: middle;\n",
       "    }\n",
       "\n",
       "    .dataframe tbody tr th {\n",
       "        vertical-align: top;\n",
       "    }\n",
       "\n",
       "    .dataframe thead th {\n",
       "        text-align: right;\n",
       "    }\n",
       "</style>\n",
       "<table border=\"1\" class=\"dataframe\">\n",
       "  <thead>\n",
       "    <tr style=\"text-align: right;\">\n",
       "      <th></th>\n",
       "      <th>sentence</th>\n",
       "      <th>sentence_number</th>\n",
       "      <th>sentiment_score</th>\n",
       "    </tr>\n",
       "  </thead>\n",
       "  <tbody>\n",
       "    <tr>\n",
       "      <th>0</th>\n",
       "      <td>En el condado El Carmen miren lo que ha sucedido, murió el Cherife Mayor, quedando Román herido.</td>\n",
       "      <td>1</td>\n",
       "      <td>0.3400</td>\n",
       "    </tr>\n",
       "    <tr>\n",
       "      <th>1</th>\n",
       "      <td>Se anduvieron informando como media hora después supieropn que el malhechor era Gregorio Cortez.</td>\n",
       "      <td>2</td>\n",
       "      <td>0.0000</td>\n",
       "    </tr>\n",
       "    <tr>\n",
       "      <th>2</th>\n",
       "      <td>Ya insortaron a Cortez por toditito el estado, que vivo o muerto se aprehenda proque a various ha matado.</td>\n",
       "      <td>3</td>\n",
       "      <td>0.3400</td>\n",
       "    </tr>\n",
       "    <tr>\n",
       "      <th>3</th>\n",
       "      <td>Decía Gregorio Cortez con su pistola en la mano: No siento haberlo matado, lo que siento es a mi hermano.</td>\n",
       "      <td>4</td>\n",
       "      <td>-0.2960</td>\n",
       "    </tr>\n",
       "    <tr>\n",
       "      <th>4</th>\n",
       "      <td>Decía Gregorio Cortez con su almu my encendid: No siento haberlo matado, la defensa es permitida.</td>\n",
       "      <td>5</td>\n",
       "      <td>-0.2960</td>\n",
       "    </tr>\n",
       "    <tr>\n",
       "      <th>5</th>\n",
       "      <td>Venían los american mas blancos que una amapola, de miedo que le tenían a Cortez con su pistola.</td>\n",
       "      <td>6</td>\n",
       "      <td>0.0000</td>\n",
       "    </tr>\n",
       "    <tr>\n",
       "      <th>6</th>\n",
       "      <td>Decían los americanos, decían con timidez: Vamos a seguir la huella que el malhechor es Cortez.</td>\n",
       "      <td>7</td>\n",
       "      <td>0.0000</td>\n",
       "    </tr>\n",
       "    <tr>\n",
       "      <th>7</th>\n",
       "      <td>Soltaron los perros juanes pa'que siguieran la huella, pero alcanzar a Cortez.</td>\n",
       "      <td>8</td>\n",
       "      <td>0.0000</td>\n",
       "    </tr>\n",
       "    <tr>\n",
       "      <th>8</th>\n",
       "      <td>Tiró con rumbo a Gonzales sin ninguna timidez: Síganme, rinches cobardes, yo soy Gregorio Cortez.</td>\n",
       "      <td>9</td>\n",
       "      <td>-0.5574</td>\n",
       "    </tr>\n",
       "    <tr>\n",
       "      <th>9</th>\n",
       "      <td>Se fue de Belmont al rancho, lo alcanzaron a rodear, poquitos más de trescientos, y allí les brincó el corral.</td>\n",
       "      <td>10</td>\n",
       "      <td>0.0000</td>\n",
       "    </tr>\n",
       "    <tr>\n",
       "      <th>10</th>\n",
       "      <td>Cuando les brincó el corral, según lo que aquí se dice, se agarraron a balazos, y les mató otro cherife.</td>\n",
       "      <td>11</td>\n",
       "      <td>0.0000</td>\n",
       "    </tr>\n",
       "    <tr>\n",
       "      <th>11</th>\n",
       "      <td>Decía Gregorio Cortez con su pistola en la mano: No corran, rinches cobardes, con un solo mexicano.</td>\n",
       "      <td>12</td>\n",
       "      <td>-0.2960</td>\n",
       "    </tr>\n",
       "    <tr>\n",
       "      <th>12</th>\n",
       "      <td>Salió Gregorio Cortez, salió con rumbo a Laredo, no lo quisieron seguir porque le tuvieron miedo.</td>\n",
       "      <td>13</td>\n",
       "      <td>-0.2960</td>\n",
       "    </tr>\n",
       "    <tr>\n",
       "      <th>13</th>\n",
       "      <td>Decía Gregorio Cortez: Pa' qué se velen de planes?</td>\n",
       "      <td>14</td>\n",
       "      <td>0.0000</td>\n",
       "    </tr>\n",
       "    <tr>\n",
       "      <th>14</th>\n",
       "      <td>No me pueden agarrar ni con esos perros juanes.</td>\n",
       "      <td>15</td>\n",
       "      <td>-0.2960</td>\n",
       "    </tr>\n",
       "    <tr>\n",
       "      <th>15</th>\n",
       "      <td>Decían Los americanos: Si lo alcanzamos por derecho myu poquitos volveremos.</td>\n",
       "      <td>16</td>\n",
       "      <td>0.0000</td>\n",
       "    </tr>\n",
       "    <tr>\n",
       "      <th>16</th>\n",
       "      <td>Allá por El Encinal, según lo que aquí se dice, le formaron un corral y les mató otro cherife.</td>\n",
       "      <td>17</td>\n",
       "      <td>0.0000</td>\n",
       "    </tr>\n",
       "    <tr>\n",
       "      <th>17</th>\n",
       "      <td>Decía Gregorio Cortez echando muchos balazos: Me ha escapado de aquaceros, contimás de nublinazos.</td>\n",
       "      <td>18</td>\n",
       "      <td>0.3400</td>\n",
       "    </tr>\n",
       "    <tr>\n",
       "      <th>18</th>\n",
       "      <td>Ya se encontrá a un mexicano, le dice con altivez: Platícame qué hay de nuevo, yo soy Gregorio Cortez.</td>\n",
       "      <td>19</td>\n",
       "      <td>0.0000</td>\n",
       "    </tr>\n",
       "    <tr>\n",
       "      <th>19</th>\n",
       "      <td>Dicen que por culpa mía han matado mucha gente, pues ya me voy a entregar porque eso no es convieniente.</td>\n",
       "      <td>20</td>\n",
       "      <td>-0.2960</td>\n",
       "    </tr>\n",
       "    <tr>\n",
       "      <th>20</th>\n",
       "      <td>Cortez le dice a Jesús: Oro sí lo vas a ver, anda diles los rinches que vengan a aprehender.</td>\n",
       "      <td>21</td>\n",
       "      <td>0.0000</td>\n",
       "    </tr>\n",
       "    <tr>\n",
       "      <th>21</th>\n",
       "      <td>Venían todos los rinches, venían que hasta volaban, porque se iban a ganer diez mil pesos que le daban.</td>\n",
       "      <td>22</td>\n",
       "      <td>0.0000</td>\n",
       "    </tr>\n",
       "    <tr>\n",
       "      <th>22</th>\n",
       "      <td>Cuando rodearon la case Cortez se les presentó: Por la buena sí me llevan proque de otro modo no.</td>\n",
       "      <td>23</td>\n",
       "      <td>0.0000</td>\n",
       "    </tr>\n",
       "    <tr>\n",
       "      <th>23</th>\n",
       "      <td>Decía el Cheride Mayor como queriendo llorar: Cortez, entrega tus armas, no te vamos a matar.</td>\n",
       "      <td>24</td>\n",
       "      <td>-0.2960</td>\n",
       "    </tr>\n",
       "    <tr>\n",
       "      <th>24</th>\n",
       "      <td>Decía Gregorio Cortez, les gritaba en alta voz: Mis armas no las entrego hasta estar en calaboz.</td>\n",
       "      <td>25</td>\n",
       "      <td>-0.2960</td>\n",
       "    </tr>\n",
       "    <tr>\n",
       "      <th>25</th>\n",
       "      <td>Decía Gregorio Cortez, decía en su voz divina: Mis armas no las entrgo hasta estar en bartolina.</td>\n",
       "      <td>26</td>\n",
       "      <td>-0.2960</td>\n",
       "    </tr>\n",
       "    <tr>\n",
       "      <th>26</th>\n",
       "      <td>Ya agarron a Cortez, ya terminó la cuestion, la pobre de sui familia lo lleva en el corazón.</td>\n",
       "      <td>27</td>\n",
       "      <td>0.0000</td>\n",
       "    </tr>\n",
       "    <tr>\n",
       "      <th>27</th>\n",
       "      <td>Ya con esta me despido a la sombra de un ciprés, aquí se acaba el corrido de don Gregorio Cortez.</td>\n",
       "      <td>28</td>\n",
       "      <td>0.0000</td>\n",
       "    </tr>\n",
       "  </tbody>\n",
       "</table>\n",
       "</div>"
      ],
      "text/plain": [
       "                                                                                                          sentence  \\\n",
       "0                 En el condado El Carmen miren lo que ha sucedido, murió el Cherife Mayor, quedando Román herido.   \n",
       "1                 Se anduvieron informando como media hora después supieropn que el malhechor era Gregorio Cortez.   \n",
       "2        Ya insortaron a Cortez por toditito el estado, que vivo o muerto se aprehenda proque a various ha matado.   \n",
       "3        Decía Gregorio Cortez con su pistola en la mano: No siento haberlo matado, lo que siento es a mi hermano.   \n",
       "4                Decía Gregorio Cortez con su almu my encendid: No siento haberlo matado, la defensa es permitida.   \n",
       "5                 Venían los american mas blancos que una amapola, de miedo que le tenían a Cortez con su pistola.   \n",
       "6                  Decían los americanos, decían con timidez: Vamos a seguir la huella que el malhechor es Cortez.   \n",
       "7                                   Soltaron los perros juanes pa'que siguieran la huella, pero alcanzar a Cortez.   \n",
       "8                Tiró con rumbo a Gonzales sin ninguna timidez: Síganme, rinches cobardes, yo soy Gregorio Cortez.   \n",
       "9   Se fue de Belmont al rancho, lo alcanzaron a rodear, poquitos más de trescientos, y allí les brincó el corral.   \n",
       "10        Cuando les brincó el corral, según lo que aquí se dice, se agarraron a balazos, y les mató otro cherife.   \n",
       "11             Decía Gregorio Cortez con su pistola en la mano: No corran, rinches cobardes, con un solo mexicano.   \n",
       "12               Salió Gregorio Cortez, salió con rumbo a Laredo, no lo quisieron seguir porque le tuvieron miedo.   \n",
       "13                                                              Decía Gregorio Cortez: Pa' qué se velen de planes?   \n",
       "14                                                                 No me pueden agarrar ni con esos perros juanes.   \n",
       "15                                    Decían Los americanos: Si lo alcanzamos por derecho myu poquitos volveremos.   \n",
       "16                  Allá por El Encinal, según lo que aquí se dice, le formaron un corral y les mató otro cherife.   \n",
       "17              Decía Gregorio Cortez echando muchos balazos: Me ha escapado de aquaceros, contimás de nublinazos.   \n",
       "18          Ya se encontrá a un mexicano, le dice con altivez: Platícame qué hay de nuevo, yo soy Gregorio Cortez.   \n",
       "19        Dicen que por culpa mía han matado mucha gente, pues ya me voy a entregar porque eso no es convieniente.   \n",
       "20                    Cortez le dice a Jesús: Oro sí lo vas a ver, anda diles los rinches que vengan a aprehender.   \n",
       "21         Venían todos los rinches, venían que hasta volaban, porque se iban a ganer diez mil pesos que le daban.   \n",
       "22               Cuando rodearon la case Cortez se les presentó: Por la buena sí me llevan proque de otro modo no.   \n",
       "23                   Decía el Cheride Mayor como queriendo llorar: Cortez, entrega tus armas, no te vamos a matar.   \n",
       "24                Decía Gregorio Cortez, les gritaba en alta voz: Mis armas no las entrego hasta estar en calaboz.   \n",
       "25                Decía Gregorio Cortez, decía en su voz divina: Mis armas no las entrgo hasta estar en bartolina.   \n",
       "26                    Ya agarron a Cortez, ya terminó la cuestion, la pobre de sui familia lo lleva en el corazón.   \n",
       "27               Ya con esta me despido a la sombra de un ciprés, aquí se acaba el corrido de don Gregorio Cortez.   \n",
       "\n",
       "    sentence_number  sentiment_score  \n",
       "0                 1           0.3400  \n",
       "1                 2           0.0000  \n",
       "2                 3           0.3400  \n",
       "3                 4          -0.2960  \n",
       "4                 5          -0.2960  \n",
       "5                 6           0.0000  \n",
       "6                 7           0.0000  \n",
       "7                 8           0.0000  \n",
       "8                 9          -0.5574  \n",
       "9                10           0.0000  \n",
       "10               11           0.0000  \n",
       "11               12          -0.2960  \n",
       "12               13          -0.2960  \n",
       "13               14           0.0000  \n",
       "14               15          -0.2960  \n",
       "15               16           0.0000  \n",
       "16               17           0.0000  \n",
       "17               18           0.3400  \n",
       "18               19           0.0000  \n",
       "19               20          -0.2960  \n",
       "20               21           0.0000  \n",
       "21               22           0.0000  \n",
       "22               23           0.0000  \n",
       "23               24          -0.2960  \n",
       "24               25          -0.2960  \n",
       "25               26          -0.2960  \n",
       "26               27           0.0000  \n",
       "27               28           0.0000  "
      ]
     },
     "execution_count": 16,
     "metadata": {},
     "output_type": "execute_result"
    }
   ],
   "source": [
    "# Make empty list\n",
    "sentence_scores = []\n",
    "# Get each sentence and sentence number, which is what enumerate does\n",
    "for number, sentence in enumerate(sentences):\n",
    "    # Use VADER to calculate sentiment\n",
    "    scores = sa.polarity_scores(sentence)\n",
    "    # Make dictionary and append it to the previously empty list\n",
    "    sentence_scores.append({'sentence': sentence, 'sentence_number': number+1, 'sentiment_score': scores['compound']})\n",
    "pd.DataFrame(sentence_scores)\n",
    " # Assign DataFrame to variable red_df\n",
    " # 10 most negative sentence\n",
    "greg_df = pd.DataFrame(sentence_scores)\n",
    "greg_df"
   ]
  },
  {
   "cell_type": "code",
   "execution_count": 17,
   "metadata": {},
   "outputs": [
    {
     "data": {
      "text/html": [
       "<div>\n",
       "<style scoped>\n",
       "    .dataframe tbody tr th:only-of-type {\n",
       "        vertical-align: middle;\n",
       "    }\n",
       "\n",
       "    .dataframe tbody tr th {\n",
       "        vertical-align: top;\n",
       "    }\n",
       "\n",
       "    .dataframe thead th {\n",
       "        text-align: right;\n",
       "    }\n",
       "</style>\n",
       "<table border=\"1\" class=\"dataframe\">\n",
       "  <thead>\n",
       "    <tr style=\"text-align: right;\">\n",
       "      <th></th>\n",
       "      <th>sentence</th>\n",
       "      <th>sentence_number</th>\n",
       "      <th>sentiment_score</th>\n",
       "    </tr>\n",
       "  </thead>\n",
       "  <tbody>\n",
       "    <tr>\n",
       "      <th>8</th>\n",
       "      <td>Tiró con rumbo a Gonzales sin ninguna timidez: Síganme, rinches cobardes, yo soy Gregorio Cortez.</td>\n",
       "      <td>9</td>\n",
       "      <td>-0.5574</td>\n",
       "    </tr>\n",
       "    <tr>\n",
       "      <th>25</th>\n",
       "      <td>Decía Gregorio Cortez, decía en su voz divina: Mis armas no las entrgo hasta estar en bartolina.</td>\n",
       "      <td>26</td>\n",
       "      <td>-0.2960</td>\n",
       "    </tr>\n",
       "    <tr>\n",
       "      <th>24</th>\n",
       "      <td>Decía Gregorio Cortez, les gritaba en alta voz: Mis armas no las entrego hasta estar en calaboz.</td>\n",
       "      <td>25</td>\n",
       "      <td>-0.2960</td>\n",
       "    </tr>\n",
       "    <tr>\n",
       "      <th>3</th>\n",
       "      <td>Decía Gregorio Cortez con su pistola en la mano: No siento haberlo matado, lo que siento es a mi hermano.</td>\n",
       "      <td>4</td>\n",
       "      <td>-0.2960</td>\n",
       "    </tr>\n",
       "    <tr>\n",
       "      <th>4</th>\n",
       "      <td>Decía Gregorio Cortez con su almu my encendid: No siento haberlo matado, la defensa es permitida.</td>\n",
       "      <td>5</td>\n",
       "      <td>-0.2960</td>\n",
       "    </tr>\n",
       "    <tr>\n",
       "      <th>23</th>\n",
       "      <td>Decía el Cheride Mayor como queriendo llorar: Cortez, entrega tus armas, no te vamos a matar.</td>\n",
       "      <td>24</td>\n",
       "      <td>-0.2960</td>\n",
       "    </tr>\n",
       "    <tr>\n",
       "      <th>19</th>\n",
       "      <td>Dicen que por culpa mía han matado mucha gente, pues ya me voy a entregar porque eso no es convieniente.</td>\n",
       "      <td>20</td>\n",
       "      <td>-0.2960</td>\n",
       "    </tr>\n",
       "    <tr>\n",
       "      <th>11</th>\n",
       "      <td>Decía Gregorio Cortez con su pistola en la mano: No corran, rinches cobardes, con un solo mexicano.</td>\n",
       "      <td>12</td>\n",
       "      <td>-0.2960</td>\n",
       "    </tr>\n",
       "    <tr>\n",
       "      <th>12</th>\n",
       "      <td>Salió Gregorio Cortez, salió con rumbo a Laredo, no lo quisieron seguir porque le tuvieron miedo.</td>\n",
       "      <td>13</td>\n",
       "      <td>-0.2960</td>\n",
       "    </tr>\n",
       "    <tr>\n",
       "      <th>14</th>\n",
       "      <td>No me pueden agarrar ni con esos perros juanes.</td>\n",
       "      <td>15</td>\n",
       "      <td>-0.2960</td>\n",
       "    </tr>\n",
       "  </tbody>\n",
       "</table>\n",
       "</div>"
      ],
      "text/plain": [
       "                                                                                                     sentence  \\\n",
       "8           Tiró con rumbo a Gonzales sin ninguna timidez: Síganme, rinches cobardes, yo soy Gregorio Cortez.   \n",
       "25           Decía Gregorio Cortez, decía en su voz divina: Mis armas no las entrgo hasta estar en bartolina.   \n",
       "24           Decía Gregorio Cortez, les gritaba en alta voz: Mis armas no las entrego hasta estar en calaboz.   \n",
       "3   Decía Gregorio Cortez con su pistola en la mano: No siento haberlo matado, lo que siento es a mi hermano.   \n",
       "4           Decía Gregorio Cortez con su almu my encendid: No siento haberlo matado, la defensa es permitida.   \n",
       "23              Decía el Cheride Mayor como queriendo llorar: Cortez, entrega tus armas, no te vamos a matar.   \n",
       "19   Dicen que por culpa mía han matado mucha gente, pues ya me voy a entregar porque eso no es convieniente.   \n",
       "11        Decía Gregorio Cortez con su pistola en la mano: No corran, rinches cobardes, con un solo mexicano.   \n",
       "12          Salió Gregorio Cortez, salió con rumbo a Laredo, no lo quisieron seguir porque le tuvieron miedo.   \n",
       "14                                                            No me pueden agarrar ni con esos perros juanes.   \n",
       "\n",
       "    sentence_number  sentiment_score  \n",
       "8                 9          -0.5574  \n",
       "25               26          -0.2960  \n",
       "24               25          -0.2960  \n",
       "3                 4          -0.2960  \n",
       "4                 5          -0.2960  \n",
       "23               24          -0.2960  \n",
       "19               20          -0.2960  \n",
       "11               12          -0.2960  \n",
       "12               13          -0.2960  \n",
       "14               15          -0.2960  "
      ]
     },
     "execution_count": 17,
     "metadata": {},
     "output_type": "execute_result"
    }
   ],
   "source": [
    "# Sort by the column \"sentiment_score\" and slice for first 10 values\n",
    "# 10 negative sentence_scores\n",
    "greg_df.sort_values(by='sentiment_score')[:10]\n"
   ]
  },
  {
   "cell_type": "code",
   "execution_count": 18,
   "metadata": {},
   "outputs": [
    {
     "data": {
      "text/html": [
       "<div>\n",
       "<style scoped>\n",
       "    .dataframe tbody tr th:only-of-type {\n",
       "        vertical-align: middle;\n",
       "    }\n",
       "\n",
       "    .dataframe tbody tr th {\n",
       "        vertical-align: top;\n",
       "    }\n",
       "\n",
       "    .dataframe thead th {\n",
       "        text-align: right;\n",
       "    }\n",
       "</style>\n",
       "<table border=\"1\" class=\"dataframe\">\n",
       "  <thead>\n",
       "    <tr style=\"text-align: right;\">\n",
       "      <th></th>\n",
       "      <th>sentence</th>\n",
       "      <th>sentence_number</th>\n",
       "      <th>sentiment_score</th>\n",
       "    </tr>\n",
       "  </thead>\n",
       "  <tbody>\n",
       "    <tr>\n",
       "      <th>0</th>\n",
       "      <td>En el condado El Carmen miren lo que ha sucedido, murió el Cherife Mayor, quedando Román herido.</td>\n",
       "      <td>1</td>\n",
       "      <td>0.34</td>\n",
       "    </tr>\n",
       "    <tr>\n",
       "      <th>2</th>\n",
       "      <td>Ya insortaron a Cortez por toditito el estado, que vivo o muerto se aprehenda proque a various ha matado.</td>\n",
       "      <td>3</td>\n",
       "      <td>0.34</td>\n",
       "    </tr>\n",
       "    <tr>\n",
       "      <th>17</th>\n",
       "      <td>Decía Gregorio Cortez echando muchos balazos: Me ha escapado de aquaceros, contimás de nublinazos.</td>\n",
       "      <td>18</td>\n",
       "      <td>0.34</td>\n",
       "    </tr>\n",
       "    <tr>\n",
       "      <th>13</th>\n",
       "      <td>Decía Gregorio Cortez: Pa' qué se velen de planes?</td>\n",
       "      <td>14</td>\n",
       "      <td>0.00</td>\n",
       "    </tr>\n",
       "    <tr>\n",
       "      <th>26</th>\n",
       "      <td>Ya agarron a Cortez, ya terminó la cuestion, la pobre de sui familia lo lleva en el corazón.</td>\n",
       "      <td>27</td>\n",
       "      <td>0.00</td>\n",
       "    </tr>\n",
       "    <tr>\n",
       "      <th>22</th>\n",
       "      <td>Cuando rodearon la case Cortez se les presentó: Por la buena sí me llevan proque de otro modo no.</td>\n",
       "      <td>23</td>\n",
       "      <td>0.00</td>\n",
       "    </tr>\n",
       "    <tr>\n",
       "      <th>21</th>\n",
       "      <td>Venían todos los rinches, venían que hasta volaban, porque se iban a ganer diez mil pesos que le daban.</td>\n",
       "      <td>22</td>\n",
       "      <td>0.00</td>\n",
       "    </tr>\n",
       "    <tr>\n",
       "      <th>20</th>\n",
       "      <td>Cortez le dice a Jesús: Oro sí lo vas a ver, anda diles los rinches que vengan a aprehender.</td>\n",
       "      <td>21</td>\n",
       "      <td>0.00</td>\n",
       "    </tr>\n",
       "    <tr>\n",
       "      <th>18</th>\n",
       "      <td>Ya se encontrá a un mexicano, le dice con altivez: Platícame qué hay de nuevo, yo soy Gregorio Cortez.</td>\n",
       "      <td>19</td>\n",
       "      <td>0.00</td>\n",
       "    </tr>\n",
       "    <tr>\n",
       "      <th>16</th>\n",
       "      <td>Allá por El Encinal, según lo que aquí se dice, le formaron un corral y les mató otro cherife.</td>\n",
       "      <td>17</td>\n",
       "      <td>0.00</td>\n",
       "    </tr>\n",
       "  </tbody>\n",
       "</table>\n",
       "</div>"
      ],
      "text/plain": [
       "                                                                                                     sentence  \\\n",
       "0            En el condado El Carmen miren lo que ha sucedido, murió el Cherife Mayor, quedando Román herido.   \n",
       "2   Ya insortaron a Cortez por toditito el estado, que vivo o muerto se aprehenda proque a various ha matado.   \n",
       "17         Decía Gregorio Cortez echando muchos balazos: Me ha escapado de aquaceros, contimás de nublinazos.   \n",
       "13                                                         Decía Gregorio Cortez: Pa' qué se velen de planes?   \n",
       "26               Ya agarron a Cortez, ya terminó la cuestion, la pobre de sui familia lo lleva en el corazón.   \n",
       "22          Cuando rodearon la case Cortez se les presentó: Por la buena sí me llevan proque de otro modo no.   \n",
       "21    Venían todos los rinches, venían que hasta volaban, porque se iban a ganer diez mil pesos que le daban.   \n",
       "20               Cortez le dice a Jesús: Oro sí lo vas a ver, anda diles los rinches que vengan a aprehender.   \n",
       "18     Ya se encontrá a un mexicano, le dice con altivez: Platícame qué hay de nuevo, yo soy Gregorio Cortez.   \n",
       "16             Allá por El Encinal, según lo que aquí se dice, le formaron un corral y les mató otro cherife.   \n",
       "\n",
       "    sentence_number  sentiment_score  \n",
       "0                 1             0.34  \n",
       "2                 3             0.34  \n",
       "17               18             0.34  \n",
       "13               14             0.00  \n",
       "26               27             0.00  \n",
       "22               23             0.00  \n",
       "21               22             0.00  \n",
       "20               21             0.00  \n",
       "18               19             0.00  \n",
       "16               17             0.00  "
      ]
     },
     "execution_count": 18,
     "metadata": {},
     "output_type": "execute_result"
    }
   ],
   "source": [
    "\n",
    " # 10 positive sentence_scores\n",
    " # Sort by the column \"sentiment_score,\" this time in descending order, and slice for first 10 values\n",
    "\n",
    "greg_df.sort_values(by='sentiment_score', ascending=False)[:10]\n",
    " "
   ]
  },
  {
   "cell_type": "code",
   "execution_count": 19,
   "metadata": {},
   "outputs": [
    {
     "data": {
      "image/png": "[encoded data removed]",
      "text/plain": [
       "<Figure size 720x360 with 1 Axes>"
      ]
     },
     "metadata": {
      "needs_background": "light"
     },
     "output_type": "display_data"
    }
   ],
   "source": [
    "## Make a sentiment plot\n",
    "greg_df['sentiment_score'].plot();\n",
    " \n",
    "ax = greg_df['sentiment_score'].plot(x='sentence_number', y='sentiment_score', kind='line',\n",
    "                        figsize=(10,5), rot=90, title='Sentiment in Gregorio Cortez Corrido')"
   ]
  },
  {
   "cell_type": "code",
   "execution_count": 21,
   "metadata": {},
   "outputs": [
    {
     "name": "stdout",
     "output_type": "stream",
     "text": [
      "Requirement already satisfied: matplotlib in c:\\users\\dmlpz\\corridos\\venv\\lib\\site-packages (3.5.3)\n",
      "Requirement already satisfied: cycler>=0.10 in c:\\users\\dmlpz\\corridos\\venv\\lib\\site-packages (from matplotlib) (0.11.0)\n",
      "Requirement already satisfied: fonttools>=4.22.0 in c:\\users\\dmlpz\\corridos\\venv\\lib\\site-packages (from matplotlib) (4.37.1)\n",
      "Requirement already satisfied: packaging>=20.0 in c:\\users\\dmlpz\\corridos\\venv\\lib\\site-packages (from matplotlib) (21.3)\n",
      "Requirement already satisfied: numpy>=1.17 in c:\\users\\dmlpz\\corridos\\venv\\lib\\site-packages (from matplotlib) (1.23.1)\n",
      "Requirement already satisfied: pillow>=6.2.0 in c:\\users\\dmlpz\\corridos\\venv\\lib\\site-packages (from matplotlib) (9.2.0)\n",
      "Requirement already satisfied: python-dateutil>=2.7 in c:\\users\\dmlpz\\corridos\\venv\\lib\\site-packages (from matplotlib) (2.8.2)\n",
      "Requirement already satisfied: pyparsing>=2.2.1 in c:\\users\\dmlpz\\corridos\\venv\\lib\\site-packages (from matplotlib) (3.0.9)\n",
      "Requirement already satisfied: kiwisolver>=1.0.1 in c:\\users\\dmlpz\\corridos\\venv\\lib\\site-packages (from matplotlib) (1.4.4)\n",
      "Requirement already satisfied: six>=1.5 in c:\\users\\dmlpz\\corridos\\venv\\lib\\site-packages (from python-dateutil>=2.7->matplotlib) (1.16.0)\n",
      "Note: you may need to restart the kernel to use updated packages.\n"
     ]
    }
   ],
   "source": [
    "%pip install matplotlib\n",
    "import matplotlib.pyplot as plot"
   ]
  },
  {
   "cell_type": "code",
   "execution_count": 22,
   "metadata": {},
   "outputs": [
    {
     "data": {
      "image/png": "[encoded data removed]",
      "text/plain": [
       "<Figure size 720x360 with 1 Axes>"
      ]
     },
     "metadata": {
      "needs_background": "light"
     },
     "output_type": "display_data"
    }
   ],
   "source": [
    "\n",
    "# Plot a horizontal line at 0\n",
    "plot.axhline(y=0, color='orange', linestyle='-');\n",
    " # Get averages for a rolling window, then plot\n",
    "greg_df.rolling(5)['sentiment_score'].mean().plot(x='sentence_number', y='sentiment_score', kind='line',\n",
    "                        figsize=(10,5), rot=90, title='Sentiment in \"Gregorio Cortez Corrido\"')\n",
    "\n",
    "# Plot a horizontal line at 0\n",
    "plot.axhline(y=0, color='orange', linestyle='-');\n",
    " "
   ]
  },
  {
   "cell_type": "markdown",
   "metadata": {},
   "source": [
    "Word freqencies "
   ]
  },
  {
   "cell_type": "code",
   "execution_count": 23,
   "metadata": {},
   "outputs": [],
   "source": [
    "import os\n",
    "from nltk.corpus.reader.plaintext import PlaintextCorpusReader\n",
    "from nltk.corpus import stopwords\n",
    "from nltk.tokenize import word_tokenize"
   ]
  },
  {
   "cell_type": "code",
   "execution_count": 24,
   "metadata": {},
   "outputs": [
    {
     "data": {
      "text/plain": [
       "<PlaintextCorpusReader in 'c:\\\\Users\\\\dmlpz\\\\Corridos'>"
      ]
     },
     "execution_count": 24,
     "metadata": {},
     "output_type": "execute_result"
    }
   ],
   "source": [
    "#exploring corpus\n",
    "path_corridos = os.getcwd()\n",
    "greg_file = 'gregoriocortez_es_corrido.txt'\n",
    "corpus = PlaintextCorpusReader( path_corridos, greg_file)\n",
    "corpus"
   ]
  },
  {
   "cell_type": "code",
   "execution_count": 30,
   "metadata": {},
   "outputs": [
    {
     "name": "stdout",
     "output_type": "stream",
     "text": [
      "Custom stopwords list loaded from doc\n"
     ]
    }
   ],
   "source": [
    "# Load a custom data/stop_words.csv if available\n",
    "# Otherwise, load the nltk stopwords list in English\n",
    "# Create an empty Python list to hold the stopwords\n",
    "stop_words = []\n",
    "# The filename of the custom data/stop_words.csv file\n",
    "stopwords_greg = 'corrido corpus\\gregoriocortez_es_corrido.txt'\n",
    "if os.path.exists(stopwords_greg):\n",
    "    #import csv\n",
    "    with open(stopwords_greg, 'r', encoding=\"utf-8\") as f:\n",
    "        stop_words = list(f)[0]\n",
    "    print('Custom stopwords list loaded from doc')\n",
    "else:\n",
    "    # Load the NLTK stopwords list\n",
    "    from nltk.corpus import stopwords\n",
    "    stop_words = stopwords.words('spanish')\n",
    "    print('NLTK stopwords list loaded')"
   ]
  },
  {
   "cell_type": "code",
   "execution_count": null,
   "metadata": {},
   "outputs": [],
   "source": [
    "import nltk\n",
    "from nltk.corpus import stopwords\n",
    "\n",
    "stops = set(stopwords.words('spanish'))\n",
    "print(stops)"
   ]
  },
  {
   "cell_type": "code",
   "execution_count": 31,
   "metadata": {},
   "outputs": [
    {
     "name": "stdout",
     "output_type": "stream",
     "text": [
      "En el condado El Carmen miren lo que ha sucedido, murió el Cherife Mayor, quedando Román herido.\n",
      "\n"
     ]
    }
   ],
   "source": [
    "print(stop_words)"
   ]
  },
  {
   "cell_type": "markdown",
   "metadata": {},
   "source": [
    "Geography\n"
   ]
  },
  {
   "cell_type": "code",
   "execution_count": 36,
   "metadata": {},
   "outputs": [
    {
     "name": "stdout",
     "output_type": "stream",
     "text": [
      "Collecting geograpy3\n",
      "  Downloading geograpy3-0.2.3-py3-none-any.whl (34 kB)\n",
      "Collecting sphinx-rtd-theme\n",
      "  Downloading sphinx_rtd_theme-1.0.0-py2.py3-none-any.whl (2.8 MB)\n",
      "     ---------------------------------------- 2.8/2.8 MB 10.5 MB/s eta 0:00:00\n",
      "Collecting newspaper3k~=0.2.8\n",
      "  Downloading newspaper3k-0.2.8-py3-none-any.whl (211 kB)\n",
      "     -------------------------------------- 211.1/211.1 kB 6.3 MB/s eta 0:00:00\n",
      "Requirement already satisfied: numpy in c:\\users\\dmlpz\\corridos\\venv\\lib\\site-packages (from geograpy3) (1.23.1)\n",
      "Requirement already satisfied: scikit-learn in c:\\users\\dmlpz\\corridos\\venv\\lib\\site-packages (from geograpy3) (1.1.2)\n",
      "Collecting pylodstorage~=0.1.13\n",
      "  Downloading pylodstorage-0.1.34-py3-none-any.whl (59 kB)\n",
      "     ---------------------------------------- 59.4/59.4 kB 3.1 MB/s eta 0:00:00\n",
      "Requirement already satisfied: pandas in c:\\users\\dmlpz\\corridos\\venv\\lib\\site-packages (from geograpy3) (1.4.3)\n",
      "Requirement already satisfied: nltk in c:\\users\\dmlpz\\corridos\\venv\\lib\\site-packages (from geograpy3) (3.7)\n",
      "Collecting jellyfish\n",
      "  Downloading jellyfish-0.9.0-cp310-cp310-win_amd64.whl (26 kB)\n",
      "Requirement already satisfied: PyYAML>=3.11 in c:\\users\\dmlpz\\corridos\\venv\\lib\\site-packages (from newspaper3k~=0.2.8->geograpy3) (6.0)\n",
      "Collecting lxml>=3.6.0\n",
      "  Downloading lxml-4.9.1-cp310-cp310-win_amd64.whl (3.6 MB)\n",
      "     ---------------------------------------- 3.6/3.6 MB 12.7 MB/s eta 0:00:00\n",
      "Collecting tldextract>=2.0.1\n",
      "  Downloading tldextract-3.3.1-py3-none-any.whl (93 kB)\n",
      "     ---------------------------------------- 93.6/93.6 kB 5.2 MB/s eta 0:00:00\n",
      "Collecting feedfinder2>=0.0.4\n",
      "  Downloading feedfinder2-0.0.4.tar.gz (3.3 kB)\n",
      "  Preparing metadata (setup.py): started\n",
      "  Preparing metadata (setup.py): finished with status 'done'\n",
      "Collecting jieba3k>=0.35.1\n",
      "  Downloading jieba3k-0.35.1.zip (7.4 MB)\n",
      "     ---------------------------------------- 7.4/7.4 MB 12.5 MB/s eta 0:00:00\n",
      "  Preparing metadata (setup.py): started\n",
      "  Preparing metadata (setup.py): finished with status 'done'\n",
      "Requirement already satisfied: python-dateutil>=2.5.3 in c:\\users\\dmlpz\\corridos\\venv\\lib\\site-packages (from newspaper3k~=0.2.8->geograpy3) (2.8.2)\n",
      "Collecting tinysegmenter==0.3\n",
      "  Downloading tinysegmenter-0.3.tar.gz (16 kB)\n",
      "  Preparing metadata (setup.py): started\n",
      "  Preparing metadata (setup.py): finished with status 'done'\n",
      "Requirement already satisfied: requests>=2.10.0 in c:\\users\\dmlpz\\corridos\\venv\\lib\\site-packages (from newspaper3k~=0.2.8->geograpy3) (2.28.1)\n",
      "Collecting beautifulsoup4>=4.4.1\n",
      "  Using cached beautifulsoup4-4.11.1-py3-none-any.whl (128 kB)\n",
      "Requirement already satisfied: Pillow>=3.3.0 in c:\\users\\dmlpz\\corridos\\venv\\lib\\site-packages (from newspaper3k~=0.2.8->geograpy3) (9.2.0)\n",
      "Collecting cssselect>=0.9.2\n",
      "  Downloading cssselect-1.1.0-py2.py3-none-any.whl (16 kB)\n",
      "Collecting feedparser>=5.2.1\n",
      "  Downloading feedparser-6.0.10-py3-none-any.whl (81 kB)\n",
      "     ---------------------------------------- 81.1/81.1 kB 4.4 MB/s eta 0:00:00\n",
      "Requirement already satisfied: regex>=2021.8.3 in c:\\users\\dmlpz\\corridos\\venv\\lib\\site-packages (from nltk->geograpy3) (2022.8.17)\n",
      "Requirement already satisfied: tqdm in c:\\users\\dmlpz\\corridos\\venv\\lib\\site-packages (from nltk->geograpy3) (4.64.0)\n",
      "Requirement already satisfied: click in c:\\users\\dmlpz\\corridos\\venv\\lib\\site-packages (from nltk->geograpy3) (8.1.3)\n",
      "Requirement already satisfied: joblib in c:\\users\\dmlpz\\corridos\\venv\\lib\\site-packages (from nltk->geograpy3) (1.1.0)\n",
      "Collecting SPARQLWrapper\n",
      "  Downloading SPARQLWrapper-2.0.0-py3-none-any.whl (28 kB)\n",
      "Collecting tabulate\n",
      "  Downloading tabulate-0.8.10-py3-none-any.whl (29 kB)\n",
      "Collecting pylatexenc~=2.10\n",
      "  Downloading pylatexenc-2.10.tar.gz (162 kB)\n",
      "     ------------------------------------- 162.6/162.6 kB 10.2 MB/s eta 0:00:00\n",
      "  Preparing metadata (setup.py): started\n",
      "  Preparing metadata (setup.py): finished with status 'done'\n",
      "Collecting jsonpickle\n",
      "  Downloading jsonpickle-2.2.0-py2.py3-none-any.whl (39 kB)\n",
      "Requirement already satisfied: pytz>=2020.1 in c:\\users\\dmlpz\\corridos\\venv\\lib\\site-packages (from pandas->geograpy3) (2022.1)\n",
      "Requirement already satisfied: scipy>=1.3.2 in c:\\users\\dmlpz\\corridos\\venv\\lib\\site-packages (from scikit-learn->geograpy3) (1.9.1)\n",
      "Requirement already satisfied: threadpoolctl>=2.0.0 in c:\\users\\dmlpz\\corridos\\venv\\lib\\site-packages (from scikit-learn->geograpy3) (3.1.0)\n",
      "Collecting sphinx>=1.6\n",
      "  Downloading Sphinx-5.1.1-py3-none-any.whl (3.2 MB)\n",
      "     ---------------------------------------- 3.2/3.2 MB 14.3 MB/s eta 0:00:00\n",
      "Collecting docutils<0.18\n",
      "  Downloading docutils-0.17.1-py2.py3-none-any.whl (575 kB)\n",
      "     ------------------------------------- 575.5/575.5 kB 12.0 MB/s eta 0:00:00\n",
      "Collecting soupsieve>1.2\n",
      "  Using cached soupsieve-2.3.2.post1-py3-none-any.whl (37 kB)\n",
      "Requirement already satisfied: six in c:\\users\\dmlpz\\corridos\\venv\\lib\\site-packages (from feedfinder2>=0.0.4->newspaper3k~=0.2.8->geograpy3) (1.16.0)\n",
      "Collecting sgmllib3k\n",
      "  Downloading sgmllib3k-1.0.0.tar.gz (5.8 kB)\n",
      "  Preparing metadata (setup.py): started\n",
      "  Preparing metadata (setup.py): finished with status 'done'\n",
      "Requirement already satisfied: idna<4,>=2.5 in c:\\users\\dmlpz\\corridos\\venv\\lib\\site-packages (from requests>=2.10.0->newspaper3k~=0.2.8->geograpy3) (3.3)\n",
      "Requirement already satisfied: certifi>=2017.4.17 in c:\\users\\dmlpz\\corridos\\venv\\lib\\site-packages (from requests>=2.10.0->newspaper3k~=0.2.8->geograpy3) (2022.6.15)\n",
      "Requirement already satisfied: urllib3<1.27,>=1.21.1 in c:\\users\\dmlpz\\corridos\\venv\\lib\\site-packages (from requests>=2.10.0->newspaper3k~=0.2.8->geograpy3) (1.26.11)\n",
      "Requirement already satisfied: charset-normalizer<3,>=2 in c:\\users\\dmlpz\\corridos\\venv\\lib\\site-packages (from requests>=2.10.0->newspaper3k~=0.2.8->geograpy3) (2.1.0)\n",
      "Requirement already satisfied: Pygments>=2.0 in c:\\users\\dmlpz\\corridos\\venv\\lib\\site-packages (from sphinx>=1.6->sphinx-rtd-theme->geograpy3) (2.12.0)\n",
      "Collecting sphinxcontrib-devhelp\n",
      "  Downloading sphinxcontrib_devhelp-1.0.2-py2.py3-none-any.whl (84 kB)\n",
      "     ---------------------------------------- 84.7/84.7 kB 5.0 MB/s eta 0:00:00\n",
      "Requirement already satisfied: Jinja2>=2.3 in c:\\users\\dmlpz\\corridos\\venv\\lib\\site-packages (from sphinx>=1.6->sphinx-rtd-theme->geograpy3) (3.1.2)\n",
      "Requirement already satisfied: colorama>=0.3.5 in c:\\users\\dmlpz\\corridos\\venv\\lib\\site-packages (from sphinx>=1.6->sphinx-rtd-theme->geograpy3) (0.4.5)\n",
      "Collecting sphinxcontrib-serializinghtml>=1.1.5\n",
      "  Downloading sphinxcontrib_serializinghtml-1.1.5-py2.py3-none-any.whl (94 kB)\n",
      "     ---------------------------------------- 94.0/94.0 kB 5.2 MB/s eta 0:00:00\n",
      "Collecting alabaster<0.8,>=0.7\n",
      "  Downloading alabaster-0.7.12-py2.py3-none-any.whl (14 kB)\n",
      "Collecting snowballstemmer>=1.1\n",
      "  Downloading snowballstemmer-2.2.0-py2.py3-none-any.whl (93 kB)\n",
      "     ---------------------------------------- 93.0/93.0 kB ? eta 0:00:00\n",
      "Collecting imagesize\n",
      "  Downloading imagesize-1.4.1-py2.py3-none-any.whl (8.8 kB)\n",
      "Collecting sphinxcontrib-htmlhelp>=2.0.0\n",
      "  Downloading sphinxcontrib_htmlhelp-2.0.0-py2.py3-none-any.whl (100 kB)\n",
      "     -------------------------------------- 100.5/100.5 kB 6.0 MB/s eta 0:00:00\n",
      "Collecting sphinxcontrib-qthelp\n",
      "  Downloading sphinxcontrib_qthelp-1.0.3-py2.py3-none-any.whl (90 kB)\n",
      "     ---------------------------------------- 90.6/90.6 kB 5.0 MB/s eta 0:00:00\n",
      "Requirement already satisfied: packaging in c:\\users\\dmlpz\\corridos\\venv\\lib\\site-packages (from sphinx>=1.6->sphinx-rtd-theme->geograpy3) (21.3)\n",
      "Collecting babel>=1.3\n",
      "  Downloading Babel-2.10.3-py3-none-any.whl (9.5 MB)\n",
      "     ---------------------------------------- 9.5/9.5 MB 11.7 MB/s eta 0:00:00\n",
      "Collecting sphinxcontrib-jsmath\n",
      "  Downloading sphinxcontrib_jsmath-1.0.1-py2.py3-none-any.whl (5.1 kB)\n",
      "Collecting sphinxcontrib-applehelp\n",
      "  Downloading sphinxcontrib_applehelp-1.0.2-py2.py3-none-any.whl (121 kB)\n",
      "     -------------------------------------- 121.2/121.2 kB 6.9 MB/s eta 0:00:00\n",
      "Collecting requests-file>=1.4\n",
      "  Downloading requests_file-1.5.1-py2.py3-none-any.whl (3.7 kB)\n",
      "Requirement already satisfied: filelock>=3.0.8 in c:\\users\\dmlpz\\corridos\\venv\\lib\\site-packages (from tldextract>=2.0.1->newspaper3k~=0.2.8->geograpy3) (3.8.0)\n",
      "Collecting rdflib>=6.1.1\n",
      "  Downloading rdflib-6.2.0-py3-none-any.whl (500 kB)\n",
      "     ------------------------------------- 500.3/500.3 kB 10.4 MB/s eta 0:00:00\n",
      "Requirement already satisfied: MarkupSafe>=2.0 in c:\\users\\dmlpz\\corridos\\venv\\lib\\site-packages (from Jinja2>=2.3->sphinx>=1.6->sphinx-rtd-theme->geograpy3) (2.1.1)\n",
      "Requirement already satisfied: pyparsing in c:\\users\\dmlpz\\corridos\\venv\\lib\\site-packages (from rdflib>=6.1.1->SPARQLWrapper->pylodstorage~=0.1.13->geograpy3) (3.0.9)\n",
      "Collecting isodate\n",
      "  Downloading isodate-0.6.1-py2.py3-none-any.whl (41 kB)\n",
      "     ---------------------------------------- 41.7/41.7 kB 2.1 MB/s eta 0:00:00\n",
      "Requirement already satisfied: setuptools in c:\\users\\dmlpz\\corridos\\venv\\lib\\site-packages (from rdflib>=6.1.1->SPARQLWrapper->pylodstorage~=0.1.13->geograpy3) (65.3.0)\n",
      "Building wheels for collected packages: tinysegmenter, feedfinder2, jieba3k, pylatexenc, sgmllib3k\n",
      "  Building wheel for tinysegmenter (setup.py): started\n",
      "  Building wheel for tinysegmenter (setup.py): finished with status 'done'\n",
      "  Created wheel for tinysegmenter: filename=tinysegmenter-0.3-py3-none-any.whl size=13540 sha256=c27fb228855152339bbc01825ee8a2e449a658db6c0eb12fab3db7442a46ef22\n",
      "  Stored in directory: c:\\users\\dmlpz\\appdata\\local\\pip\\cache\\wheels\\c8\\d6\\6c\\384f58df48c00b9a31d638005143b5b3ac62c3d25fb1447f23\n",
      "  Building wheel for feedfinder2 (setup.py): started\n",
      "  Building wheel for feedfinder2 (setup.py): finished with status 'done'\n",
      "  Created wheel for feedfinder2: filename=feedfinder2-0.0.4-py3-none-any.whl size=3341 sha256=b2bfbcc70ec95528e45a6d465e245288d334057ce032b953b5812431989baced\n",
      "  Stored in directory: c:\\users\\dmlpz\\appdata\\local\\pip\\cache\\wheels\\97\\02\\e7\\a1ff1760e12bdbaab0ac824fae5c1bc933e41c4ccd6a8f8edb\n",
      "  Building wheel for jieba3k (setup.py): started\n",
      "  Building wheel for jieba3k (setup.py): finished with status 'done'\n",
      "  Created wheel for jieba3k: filename=jieba3k-0.35.1-py3-none-any.whl size=7398381 sha256=e0065787336fe978e553474104f355f56ad0c9606e1f69697706edb5d36eb140\n",
      "  Stored in directory: c:\\users\\dmlpz\\appdata\\local\\pip\\cache\\wheels\\7a\\c4\\0c\\12a9a314ecac499456c4c3b2fcc2f635a3b45a39dfbd240299\n",
      "  Building wheel for pylatexenc (setup.py): started\n",
      "  Building wheel for pylatexenc (setup.py): finished with status 'done'\n",
      "  Created wheel for pylatexenc: filename=pylatexenc-2.10-py3-none-any.whl size=136820 sha256=a25c037cef6a639d70819836d3e924090243fc5a45d8231296fa0304232016cf\n",
      "  Stored in directory: c:\\users\\dmlpz\\appdata\\local\\pip\\cache\\wheels\\d3\\31\\8b\\e09b0386afd80cfc556c00408c9aeea5c35c4d484a9c762fd5\n",
      "  Building wheel for sgmllib3k (setup.py): started\n",
      "  Building wheel for sgmllib3k (setup.py): finished with status 'done'\n",
      "  Created wheel for sgmllib3k: filename=sgmllib3k-1.0.0-py3-none-any.whl size=6048 sha256=bd09f4a44c4200cc0b34bf5bd13c4fbc9ed36f12612c81de121c61c9aee84415\n",
      "  Stored in directory: c:\\users\\dmlpz\\appdata\\local\\pip\\cache\\wheels\\f0\\69\\93\\a47e9d621be168e9e33c7ce60524393c0b92ae83cf6c6e89c5\n",
      "Successfully built tinysegmenter feedfinder2 jieba3k pylatexenc sgmllib3k\n",
      "Installing collected packages: tinysegmenter, snowballstemmer, sgmllib3k, pylatexenc, jieba3k, alabaster, tabulate, sphinxcontrib-serializinghtml, sphinxcontrib-qthelp, sphinxcontrib-jsmath, sphinxcontrib-htmlhelp, sphinxcontrib-devhelp, sphinxcontrib-applehelp, soupsieve, lxml, jsonpickle, jellyfish, isodate, imagesize, feedparser, docutils, cssselect, babel, sphinx, requests-file, rdflib, beautifulsoup4, tldextract, sphinx-rtd-theme, SPARQLWrapper, feedfinder2, pylodstorage, newspaper3k, geograpy3\n",
      "Successfully installed SPARQLWrapper-2.0.0 alabaster-0.7.12 babel-2.10.3 beautifulsoup4-4.11.1 cssselect-1.1.0 docutils-0.17.1 feedfinder2-0.0.4 feedparser-6.0.10 geograpy3-0.2.3 imagesize-1.4.1 isodate-0.6.1 jellyfish-0.9.0 jieba3k-0.35.1 jsonpickle-2.2.0 lxml-4.9.1 newspaper3k-0.2.8 pylatexenc-2.10 pylodstorage-0.1.34 rdflib-6.2.0 requests-file-1.5.1 sgmllib3k-1.0.0 snowballstemmer-2.2.0 soupsieve-2.3.2.post1 sphinx-5.1.1 sphinx-rtd-theme-1.0.0 sphinxcontrib-applehelp-1.0.2 sphinxcontrib-devhelp-1.0.2 sphinxcontrib-htmlhelp-2.0.0 sphinxcontrib-jsmath-1.0.1 sphinxcontrib-qthelp-1.0.3 sphinxcontrib-serializinghtml-1.1.5 tabulate-0.8.10 tinysegmenter-0.3 tldextract-3.3.1\n",
      "Note: you may need to restart the kernel to use updated packages.\n"
     ]
    }
   ],
   "source": [
    "%pip install geograpy3"
   ]
  },
  {
   "cell_type": "code",
   "execution_count": 47,
   "metadata": {},
   "outputs": [
    {
     "ename": "ArticleException",
     "evalue": "Article `download()` failed with No connection adapters were found for ':/gregoriocortez_es_corrido.txt' on URL :/gregoriocortez_es_corrido.txt",
     "output_type": "error",
     "traceback": [
      "\u001b[1;31m---------------------------------------------------------------------------\u001b[0m",
      "\u001b[1;31mArticleException\u001b[0m                          Traceback (most recent call last)",
      "\u001b[1;32mc:\\Users\\dmlpz\\Corridos\\nltk.ipynb Cell 23\u001b[0m in \u001b[0;36m<cell line: 2>\u001b[1;34m()\u001b[0m\n\u001b[0;32m      <a href='vscode-notebook-cell:/c%3A/Users/dmlpz/Corridos/nltk.ipynb#X32sZmlsZQ%3D%3D?line=0'>1</a>\u001b[0m \u001b[39mimport\u001b[39;00m \u001b[39mgeograpy\u001b[39;00m\n\u001b[1;32m----> <a href='vscode-notebook-cell:/c%3A/Users/dmlpz/Corridos/nltk.ipynb#X32sZmlsZQ%3D%3D?line=1'>2</a>\u001b[0m places \u001b[39m=\u001b[39m geograpy\u001b[39m.\u001b[39;49mget_geoPlace_context(greg_file)\n\u001b[0;32m      <a href='vscode-notebook-cell:/c%3A/Users/dmlpz/Corridos/nltk.ipynb#X32sZmlsZQ%3D%3D?line=2'>3</a>\u001b[0m \u001b[39mprint\u001b[39m(places)\n",
      "File \u001b[1;32mc:\\Users\\dmlpz\\Corridos\\venv\\lib\\site-packages\\geograpy\\__init__.py:24\u001b[0m, in \u001b[0;36mget_geoPlace_context\u001b[1;34m(url, text, debug)\u001b[0m\n\u001b[0;32m      9\u001b[0m \u001b[39mdef\u001b[39;00m \u001b[39mget_geoPlace_context\u001b[39m(url\u001b[39m=\u001b[39m\u001b[39mNone\u001b[39;00m, text\u001b[39m=\u001b[39m\u001b[39mNone\u001b[39;00m,debug\u001b[39m=\u001b[39m\u001b[39mFalse\u001b[39;00m):\n\u001b[0;32m     10\u001b[0m     \u001b[39m'''\u001b[39;00m\n\u001b[0;32m     11\u001b[0m \u001b[39m    Get a place context for a given text with information\u001b[39;00m\n\u001b[0;32m     12\u001b[0m \u001b[39m    about country, region, city and other\u001b[39;00m\n\u001b[1;32m   (...)\u001b[0m\n\u001b[0;32m     22\u001b[0m \u001b[39m            PlaceContext: the place context\u001b[39;00m\n\u001b[0;32m     23\u001b[0m \u001b[39m    '''\u001b[39;00m    \n\u001b[1;32m---> 24\u001b[0m     places\u001b[39m=\u001b[39mget_place_context(url, text, labels\u001b[39m=\u001b[39;49mLabels\u001b[39m.\u001b[39;49mgeo, debug\u001b[39m=\u001b[39;49mdebug)\n\u001b[0;32m     25\u001b[0m     \u001b[39mreturn\u001b[39;00m places\n",
      "File \u001b[1;32mc:\\Users\\dmlpz\\Corridos\\venv\\lib\\site-packages\\geograpy\\__init__.py:44\u001b[0m, in \u001b[0;36mget_place_context\u001b[1;34m(url, text, labels, debug)\u001b[0m\n\u001b[0;32m     28\u001b[0m \u001b[39m'''\u001b[39;00m\n\u001b[0;32m     29\u001b[0m \u001b[39mGet a place context for a given text with information\u001b[39;00m\n\u001b[0;32m     30\u001b[0m \u001b[39mabout country, region, city and other\u001b[39;00m\n\u001b[1;32m   (...)\u001b[0m\n\u001b[0;32m     41\u001b[0m \u001b[39m        PlaceContext: the place context\u001b[39;00m\n\u001b[0;32m     42\u001b[0m \u001b[39m'''\u001b[39;00m\n\u001b[0;32m     43\u001b[0m e \u001b[39m=\u001b[39m Extractor(url\u001b[39m=\u001b[39murl, text\u001b[39m=\u001b[39mtext,debug\u001b[39m=\u001b[39mdebug)\n\u001b[1;32m---> 44\u001b[0m e\u001b[39m.\u001b[39;49mfind_entities(labels\u001b[39m=\u001b[39;49mlabels)\n\u001b[0;32m     45\u001b[0m places\u001b[39m=\u001b[39me\u001b[39m.\u001b[39mplaces\n\u001b[0;32m     46\u001b[0m pc \u001b[39m=\u001b[39m PlaceContext(places)\n",
      "File \u001b[1;32mc:\\Users\\dmlpz\\Corridos\\venv\\lib\\site-packages\\geograpy\\extraction.py:80\u001b[0m, in \u001b[0;36mExtractor.find_entities\u001b[1;34m(self, labels)\u001b[0m\n\u001b[0;32m     70\u001b[0m \u001b[39mdef\u001b[39;00m \u001b[39mfind_entities\u001b[39m(\u001b[39mself\u001b[39m,labels\u001b[39m=\u001b[39mLabels\u001b[39m.\u001b[39mdefault):\n\u001b[0;32m     71\u001b[0m     \u001b[39m'''\u001b[39;00m\n\u001b[0;32m     72\u001b[0m \u001b[39m    Find entities with the given labels set self.places and returns it\u001b[39;00m\n\u001b[0;32m     73\u001b[0m \u001b[39m    Args:\u001b[39;00m\n\u001b[1;32m   (...)\u001b[0m\n\u001b[0;32m     78\u001b[0m \u001b[39m            List of places\u001b[39;00m\n\u001b[0;32m     79\u001b[0m \u001b[39m    '''\u001b[39;00m\n\u001b[1;32m---> 80\u001b[0m     \u001b[39mself\u001b[39;49m\u001b[39m.\u001b[39;49mset_text()\n\u001b[0;32m     82\u001b[0m     text \u001b[39m=\u001b[39m nltk\u001b[39m.\u001b[39mword_tokenize(\u001b[39mself\u001b[39m\u001b[39m.\u001b[39mtext)\n\u001b[0;32m     83\u001b[0m     nes \u001b[39m=\u001b[39m nltk\u001b[39m.\u001b[39mne_chunk(nltk\u001b[39m.\u001b[39mpos_tag(text))\n",
      "File \u001b[1;32mc:\\Users\\dmlpz\\Corridos\\venv\\lib\\site-packages\\geograpy\\extraction.py:47\u001b[0m, in \u001b[0;36mExtractor.set_text\u001b[1;34m(self)\u001b[0m\n\u001b[0;32m     45\u001b[0m a \u001b[39m=\u001b[39m Article(\u001b[39mself\u001b[39m\u001b[39m.\u001b[39murl)\n\u001b[0;32m     46\u001b[0m a\u001b[39m.\u001b[39mdownload()\n\u001b[1;32m---> 47\u001b[0m a\u001b[39m.\u001b[39;49mparse()\n\u001b[0;32m     48\u001b[0m \u001b[39mself\u001b[39m\u001b[39m.\u001b[39mtext \u001b[39m=\u001b[39m a\u001b[39m.\u001b[39mtext\n",
      "File \u001b[1;32mc:\\Users\\dmlpz\\Corridos\\venv\\lib\\site-packages\\newspaper\\article.py:191\u001b[0m, in \u001b[0;36mArticle.parse\u001b[1;34m(self)\u001b[0m\n\u001b[0;32m    190\u001b[0m \u001b[39mdef\u001b[39;00m \u001b[39mparse\u001b[39m(\u001b[39mself\u001b[39m):\n\u001b[1;32m--> 191\u001b[0m     \u001b[39mself\u001b[39;49m\u001b[39m.\u001b[39;49mthrow_if_not_downloaded_verbose()\n\u001b[0;32m    193\u001b[0m     \u001b[39mself\u001b[39m\u001b[39m.\u001b[39mdoc \u001b[39m=\u001b[39m \u001b[39mself\u001b[39m\u001b[39m.\u001b[39mconfig\u001b[39m.\u001b[39mget_parser()\u001b[39m.\u001b[39mfromstring(\u001b[39mself\u001b[39m\u001b[39m.\u001b[39mhtml)\n\u001b[0;32m    194\u001b[0m     \u001b[39mself\u001b[39m\u001b[39m.\u001b[39mclean_doc \u001b[39m=\u001b[39m copy\u001b[39m.\u001b[39mdeepcopy(\u001b[39mself\u001b[39m\u001b[39m.\u001b[39mdoc)\n",
      "File \u001b[1;32mc:\\Users\\dmlpz\\Corridos\\venv\\lib\\site-packages\\newspaper\\article.py:531\u001b[0m, in \u001b[0;36mArticle.throw_if_not_downloaded_verbose\u001b[1;34m(self)\u001b[0m\n\u001b[0;32m    529\u001b[0m     \u001b[39mraise\u001b[39;00m ArticleException(\u001b[39m'\u001b[39m\u001b[39mYou must `download()` an article first!\u001b[39m\u001b[39m'\u001b[39m)\n\u001b[0;32m    530\u001b[0m \u001b[39melif\u001b[39;00m \u001b[39mself\u001b[39m\u001b[39m.\u001b[39mdownload_state \u001b[39m==\u001b[39m ArticleDownloadState\u001b[39m.\u001b[39mFAILED_RESPONSE:\n\u001b[1;32m--> 531\u001b[0m     \u001b[39mraise\u001b[39;00m ArticleException(\u001b[39m'\u001b[39m\u001b[39mArticle `download()` failed with \u001b[39m\u001b[39m%s\u001b[39;00m\u001b[39m on URL \u001b[39m\u001b[39m%s\u001b[39;00m\u001b[39m'\u001b[39m \u001b[39m%\u001b[39m\n\u001b[0;32m    532\u001b[0m           (\u001b[39mself\u001b[39m\u001b[39m.\u001b[39mdownload_exception_msg, \u001b[39mself\u001b[39m\u001b[39m.\u001b[39murl))\n",
      "\u001b[1;31mArticleException\u001b[0m: Article `download()` failed with No connection adapters were found for ':/gregoriocortez_es_corrido.txt' on URL :/gregoriocortez_es_corrido.txt"
     ]
    }
   ],
   "source": [
    "import geograpy\n",
    "places = geograpy.get_geoPlace_context(greg_file)\n",
    "print(places)"
   ]
  },
  {
   "cell_type": "code",
   "execution_count": null,
   "metadata": {},
   "outputs": [],
   "source": []
  }
 ],
 "metadata": {
  "kernelspec": {
   "display_name": "Python 3.10.5 ('venv': venv)",
   "language": "python",
   "name": "python3"
  },
  "language_info": {
   "codemirror_mode": {
    "name": "ipython",
    "version": 3
   },
   "file_extension": ".py",
   "mimetype": "text/x-python",
   "name": "python",
   "nbconvert_exporter": "python",
   "pygments_lexer": "ipython3",
   "version": "3.10.5"
  },
  "orig_nbformat": 4,
  "vscode": {
   "interpreter": {
    "hash": "e528f05ecdbf513f743da5c44906adca99a556c5207201bf3043358644070d32"
   }
  }
 },
 "nbformat": 4,
 "nbformat_minor": 2
}
