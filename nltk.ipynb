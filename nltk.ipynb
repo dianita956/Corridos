{
 "cells": [
  {
   "cell_type": "markdown",
   "metadata": {},
   "source": [
    "NLTK "
   ]
  },
  {
   "cell_type": "code",
   "execution_count": 1,
   "metadata": {},
   "outputs": [
    {
     "name": "stderr",
     "output_type": "stream",
     "text": [
      "[nltk_data] Downloading package punkt to\n",
      "[nltk_data]     C:\\Users\\azg526\\AppData\\Roaming\\nltk_data...\n",
      "[nltk_data]   Package punkt is already up-to-date!\n"
     ]
    },
    {
     "data": {
      "text/plain": [
       "True"
      ]
     },
     "execution_count": 1,
     "metadata": {},
     "output_type": "execute_result"
    }
   ],
   "source": [
    "#%pip install nltk\n",
    "import nltk\n",
    "nltk.download('punkt')"
   ]
  },
  {
   "cell_type": "code",
   "execution_count": 3,
   "metadata": {},
   "outputs": [
    {
     "name": "stdout",
     "output_type": "stream",
     "text": [
      "Requirement already satisfied: vaderSentiment in c:\\users\\azg526\\anaconda3\\envs\\gregcortez\\lib\\site-packages (3.3.2)\n",
      "Requirement already satisfied: requests in c:\\users\\azg526\\anaconda3\\envs\\gregcortez\\lib\\site-packages (from vaderSentiment) (2.28.1)\n",
      "Requirement already satisfied: urllib3<1.27,>=1.21.1 in c:\\users\\azg526\\anaconda3\\envs\\gregcortez\\lib\\site-packages (from requests->vaderSentiment) (1.26.11)\n",
      "Requirement already satisfied: idna<4,>=2.5 in c:\\users\\azg526\\anaconda3\\envs\\gregcortez\\lib\\site-packages (from requests->vaderSentiment) (3.3)\n",
      "Requirement already satisfied: certifi>=2017.4.17 in c:\\users\\azg526\\anaconda3\\envs\\gregcortez\\lib\\site-packages (from requests->vaderSentiment) (2022.6.15.1)\n",
      "Requirement already satisfied: charset-normalizer<3,>=2 in c:\\users\\azg526\\anaconda3\\envs\\gregcortez\\lib\\site-packages (from requests->vaderSentiment) (2.0.4)\n",
      "Note: you may need to restart the kernel to use updated packages.\n"
     ]
    }
   ],
   "source": [
    "%pip install vaderSentiment\n",
    "from vaderSentiment.vaderSentiment import SentimentIntensityAnalyzer\n",
    "\n",
    "# Initialize VADER so we can use it later\n",
    "sa = SentimentIntensityAnalyzer()\n",
    "\n",
    "import re\n",
    "\n",
    "#%pip install numpy"
   ]
  },
  {
   "cell_type": "code",
   "execution_count": 4,
   "metadata": {},
   "outputs": [],
   "source": [
    "#%pip pandas\n",
    "import pandas as pd\n",
    "pd.options.display.max_colwidth = 400"
   ]
  },
  {
   "cell_type": "code",
   "execution_count": 5,
   "metadata": {},
   "outputs": [],
   "source": [
    "# Read in text file\n",
    "text = open(\"corrido corpus\\gregoriocortez_es_corrido.txt\", encoding=\"utf-8\").read()\n",
    "# Replace line breaks with spaces\n",
    "text = text.replace('\\n', ' ')"
   ]
  },
  {
   "cell_type": "code",
   "execution_count": 6,
   "metadata": {},
   "outputs": [
    {
     "data": {
      "text/plain": [
       "['En el condado El Carmen miren lo que ha sucedido, murió el Cherife Mayor, quedando Román herido.',\n",
       " 'Se anduvieron informando como media hora después supieropn que el malhechor era Gregorio Cortez.',\n",
       " 'Ya insortaron a Cortez por toditito el estado, que vivo o muerto se aprehenda proque a various ha matado.',\n",
       " 'Decía Gregorio Cortez con su pistola en la mano: No siento haberlo matado, lo que siento es a mi hermano.',\n",
       " 'Decía Gregorio Cortez con su almu my encendid: No siento haberlo matado, la defensa es permitida.',\n",
       " 'Venían los american mas blancos que una amapola, de miedo que le tenían a Cortez con su pistola.',\n",
       " 'Decían los americanos, decían con timidez: Vamos a seguir la huella que el malhechor es Cortez.',\n",
       " \"Soltaron los perros juanes pa'que siguieran la huella, pero alcanzar a Cortez.\",\n",
       " 'Tiró con rumbo a Gonzales sin ninguna timidez: Síganme, rinches cobardes, yo soy Gregorio Cortez.',\n",
       " 'Se fue de Belmont al rancho, lo alcanzaron a rodear, poquitos más de trescientos, y allí les brincó el corral.',\n",
       " 'Cuando les brincó el corral, según lo que aquí se dice, se agarraron a balazos, y les mató otro cherife.',\n",
       " 'Decía Gregorio Cortez con su pistola en la mano: No corran, rinches cobardes, con un solo mexicano.',\n",
       " 'Salió Gregorio Cortez, salió con rumbo a Laredo, no lo quisieron seguir porque le tuvieron miedo.',\n",
       " \"Decía Gregorio Cortez: Pa' qué se velen de planes?\",\n",
       " 'No me pueden agarrar ni con esos perros juanes.',\n",
       " 'Decían Los americanos: Si lo alcanzamos por derecho myu poquitos volveremos.',\n",
       " 'Allá por El Encinal, según lo que aquí se dice, le formaron un corral y les mató otro cherife.',\n",
       " 'Decía Gregorio Cortez echando muchos balazos: Me ha escapado de aquaceros, contimás de nublinazos.',\n",
       " 'Ya se encontrá a un mexicano, le dice con altivez: Platícame qué hay de nuevo, yo soy Gregorio Cortez.',\n",
       " 'Dicen que por culpa mía han matado mucha gente, pues ya me voy a entregar porque eso no es convieniente.',\n",
       " 'Cortez le dice a Jesús: Oro sí lo vas a ver, anda diles los rinches que vengan a aprehender.',\n",
       " 'Venían todos los rinches, venían que hasta volaban, porque se iban a ganer diez mil pesos que le daban.',\n",
       " 'Cuando rodearon la case Cortez se les presentó: Por la buena sí me llevan proque de otro modo no.',\n",
       " 'Decía el Cheride Mayor como queriendo llorar: Cortez, entrega tus armas, no te vamos a matar.',\n",
       " 'Decía Gregorio Cortez, les gritaba en alta voz: Mis armas no las entrego hasta estar en calaboz.',\n",
       " 'Decía Gregorio Cortez, decía en su voz divina: Mis armas no las entrgo hasta estar en bartolina.',\n",
       " 'Ya agarron a Cortez, ya terminó la cuestion, la pobre de sui familia lo lleva en el corazón.',\n",
       " 'Ya con esta me despido a la sombra de un ciprés, aquí se acaba el corrido de don Gregorio Cortez.']"
      ]
     },
     "execution_count": 6,
     "metadata": {},
     "output_type": "execute_result"
    }
   ],
   "source": [
    "nltk.sent_tokenize(text)\n"
   ]
  },
  {
   "cell_type": "code",
   "execution_count": 7,
   "metadata": {},
   "outputs": [
    {
     "name": "stdout",
     "output_type": "stream",
     "text": [
      "0 En el condado El Carmen miren lo que ha sucedido, murió el Cherife Mayor, quedando Román herido.\n",
      "1 Se anduvieron informando como media hora después supieropn que el malhechor era Gregorio Cortez.\n",
      "2 Ya insortaron a Cortez por toditito el estado, que vivo o muerto se aprehenda proque a various ha matado.\n",
      "3 Decía Gregorio Cortez con su pistola en la mano: No siento haberlo matado, lo que siento es a mi hermano.\n",
      "4 Decía Gregorio Cortez con su almu my encendid: No siento haberlo matado, la defensa es permitida.\n",
      "5 Venían los american mas blancos que una amapola, de miedo que le tenían a Cortez con su pistola.\n",
      "6 Decían los americanos, decían con timidez: Vamos a seguir la huella que el malhechor es Cortez.\n",
      "7 Soltaron los perros juanes pa'que siguieran la huella, pero alcanzar a Cortez.\n",
      "8 Tiró con rumbo a Gonzales sin ninguna timidez: Síganme, rinches cobardes, yo soy Gregorio Cortez.\n",
      "9 Se fue de Belmont al rancho, lo alcanzaron a rodear, poquitos más de trescientos, y allí les brincó el corral.\n",
      "10 Cuando les brincó el corral, según lo que aquí se dice, se agarraron a balazos, y les mató otro cherife.\n",
      "11 Decía Gregorio Cortez con su pistola en la mano: No corran, rinches cobardes, con un solo mexicano.\n",
      "12 Salió Gregorio Cortez, salió con rumbo a Laredo, no lo quisieron seguir porque le tuvieron miedo.\n",
      "13 Decía Gregorio Cortez: Pa' qué se velen de planes?\n",
      "14 No me pueden agarrar ni con esos perros juanes.\n",
      "15 Decían Los americanos: Si lo alcanzamos por derecho myu poquitos volveremos.\n",
      "16 Allá por El Encinal, según lo que aquí se dice, le formaron un corral y les mató otro cherife.\n",
      "17 Decía Gregorio Cortez echando muchos balazos: Me ha escapado de aquaceros, contimás de nublinazos.\n",
      "18 Ya se encontrá a un mexicano, le dice con altivez: Platícame qué hay de nuevo, yo soy Gregorio Cortez.\n",
      "19 Dicen que por culpa mía han matado mucha gente, pues ya me voy a entregar porque eso no es convieniente.\n",
      "20 Cortez le dice a Jesús: Oro sí lo vas a ver, anda diles los rinches que vengan a aprehender.\n",
      "21 Venían todos los rinches, venían que hasta volaban, porque se iban a ganer diez mil pesos que le daban.\n",
      "22 Cuando rodearon la case Cortez se les presentó: Por la buena sí me llevan proque de otro modo no.\n",
      "23 Decía el Cheride Mayor como queriendo llorar: Cortez, entrega tus armas, no te vamos a matar.\n",
      "24 Decía Gregorio Cortez, les gritaba en alta voz: Mis armas no las entrego hasta estar en calaboz.\n",
      "25 Decía Gregorio Cortez, decía en su voz divina: Mis armas no las entrgo hasta estar en bartolina.\n",
      "26 Ya agarron a Cortez, ya terminó la cuestion, la pobre de sui familia lo lleva en el corazón.\n",
      "27 Ya con esta me despido a la sombra de un ciprés, aquí se acaba el corrido de don Gregorio Cortez.\n"
     ]
    }
   ],
   "source": [
    "for number, sentence in enumerate(nltk.sent_tokenize(text)):\n",
    "    print(number, sentence)\n",
    " # Break text into sentences\n",
    "sentences = nltk.sent_tokenize(text)"
   ]
  },
  {
   "cell_type": "code",
   "execution_count": 8,
   "metadata": {},
   "outputs": [],
   "source": [
    "# Break text into sentences\n",
    "sentences = nltk.sent_tokenize(text)"
   ]
  },
  {
   "cell_type": "code",
   "execution_count": 9,
   "metadata": {},
   "outputs": [
    {
     "data": {
      "text/html": [
       "<div>\n",
       "<style scoped>\n",
       "    .dataframe tbody tr th:only-of-type {\n",
       "        vertical-align: middle;\n",
       "    }\n",
       "\n",
       "    .dataframe tbody tr th {\n",
       "        vertical-align: top;\n",
       "    }\n",
       "\n",
       "    .dataframe thead th {\n",
       "        text-align: right;\n",
       "    }\n",
       "</style>\n",
       "<table border=\"1\" class=\"dataframe\">\n",
       "  <thead>\n",
       "    <tr style=\"text-align: right;\">\n",
       "      <th></th>\n",
       "      <th>sentence</th>\n",
       "      <th>sentence_number</th>\n",
       "      <th>sentiment_score</th>\n",
       "    </tr>\n",
       "  </thead>\n",
       "  <tbody>\n",
       "    <tr>\n",
       "      <th>0</th>\n",
       "      <td>En el condado El Carmen miren lo que ha sucedido, murió el Cherife Mayor, quedando Román herido.</td>\n",
       "      <td>1</td>\n",
       "      <td>0.3400</td>\n",
       "    </tr>\n",
       "    <tr>\n",
       "      <th>1</th>\n",
       "      <td>Se anduvieron informando como media hora después supieropn que el malhechor era Gregorio Cortez.</td>\n",
       "      <td>2</td>\n",
       "      <td>0.0000</td>\n",
       "    </tr>\n",
       "    <tr>\n",
       "      <th>2</th>\n",
       "      <td>Ya insortaron a Cortez por toditito el estado, que vivo o muerto se aprehenda proque a various ha matado.</td>\n",
       "      <td>3</td>\n",
       "      <td>0.3400</td>\n",
       "    </tr>\n",
       "    <tr>\n",
       "      <th>3</th>\n",
       "      <td>Decía Gregorio Cortez con su pistola en la mano: No siento haberlo matado, lo que siento es a mi hermano.</td>\n",
       "      <td>4</td>\n",
       "      <td>-0.2960</td>\n",
       "    </tr>\n",
       "    <tr>\n",
       "      <th>4</th>\n",
       "      <td>Decía Gregorio Cortez con su almu my encendid: No siento haberlo matado, la defensa es permitida.</td>\n",
       "      <td>5</td>\n",
       "      <td>-0.2960</td>\n",
       "    </tr>\n",
       "    <tr>\n",
       "      <th>5</th>\n",
       "      <td>Venían los american mas blancos que una amapola, de miedo que le tenían a Cortez con su pistola.</td>\n",
       "      <td>6</td>\n",
       "      <td>0.0000</td>\n",
       "    </tr>\n",
       "    <tr>\n",
       "      <th>6</th>\n",
       "      <td>Decían los americanos, decían con timidez: Vamos a seguir la huella que el malhechor es Cortez.</td>\n",
       "      <td>7</td>\n",
       "      <td>0.0000</td>\n",
       "    </tr>\n",
       "    <tr>\n",
       "      <th>7</th>\n",
       "      <td>Soltaron los perros juanes pa'que siguieran la huella, pero alcanzar a Cortez.</td>\n",
       "      <td>8</td>\n",
       "      <td>0.0000</td>\n",
       "    </tr>\n",
       "    <tr>\n",
       "      <th>8</th>\n",
       "      <td>Tiró con rumbo a Gonzales sin ninguna timidez: Síganme, rinches cobardes, yo soy Gregorio Cortez.</td>\n",
       "      <td>9</td>\n",
       "      <td>-0.5574</td>\n",
       "    </tr>\n",
       "    <tr>\n",
       "      <th>9</th>\n",
       "      <td>Se fue de Belmont al rancho, lo alcanzaron a rodear, poquitos más de trescientos, y allí les brincó el corral.</td>\n",
       "      <td>10</td>\n",
       "      <td>0.0000</td>\n",
       "    </tr>\n",
       "    <tr>\n",
       "      <th>10</th>\n",
       "      <td>Cuando les brincó el corral, según lo que aquí se dice, se agarraron a balazos, y les mató otro cherife.</td>\n",
       "      <td>11</td>\n",
       "      <td>0.0000</td>\n",
       "    </tr>\n",
       "    <tr>\n",
       "      <th>11</th>\n",
       "      <td>Decía Gregorio Cortez con su pistola en la mano: No corran, rinches cobardes, con un solo mexicano.</td>\n",
       "      <td>12</td>\n",
       "      <td>-0.2960</td>\n",
       "    </tr>\n",
       "    <tr>\n",
       "      <th>12</th>\n",
       "      <td>Salió Gregorio Cortez, salió con rumbo a Laredo, no lo quisieron seguir porque le tuvieron miedo.</td>\n",
       "      <td>13</td>\n",
       "      <td>-0.2960</td>\n",
       "    </tr>\n",
       "    <tr>\n",
       "      <th>13</th>\n",
       "      <td>Decía Gregorio Cortez: Pa' qué se velen de planes?</td>\n",
       "      <td>14</td>\n",
       "      <td>0.0000</td>\n",
       "    </tr>\n",
       "    <tr>\n",
       "      <th>14</th>\n",
       "      <td>No me pueden agarrar ni con esos perros juanes.</td>\n",
       "      <td>15</td>\n",
       "      <td>-0.2960</td>\n",
       "    </tr>\n",
       "    <tr>\n",
       "      <th>15</th>\n",
       "      <td>Decían Los americanos: Si lo alcanzamos por derecho myu poquitos volveremos.</td>\n",
       "      <td>16</td>\n",
       "      <td>0.0000</td>\n",
       "    </tr>\n",
       "    <tr>\n",
       "      <th>16</th>\n",
       "      <td>Allá por El Encinal, según lo que aquí se dice, le formaron un corral y les mató otro cherife.</td>\n",
       "      <td>17</td>\n",
       "      <td>0.0000</td>\n",
       "    </tr>\n",
       "    <tr>\n",
       "      <th>17</th>\n",
       "      <td>Decía Gregorio Cortez echando muchos balazos: Me ha escapado de aquaceros, contimás de nublinazos.</td>\n",
       "      <td>18</td>\n",
       "      <td>0.3400</td>\n",
       "    </tr>\n",
       "    <tr>\n",
       "      <th>18</th>\n",
       "      <td>Ya se encontrá a un mexicano, le dice con altivez: Platícame qué hay de nuevo, yo soy Gregorio Cortez.</td>\n",
       "      <td>19</td>\n",
       "      <td>0.0000</td>\n",
       "    </tr>\n",
       "    <tr>\n",
       "      <th>19</th>\n",
       "      <td>Dicen que por culpa mía han matado mucha gente, pues ya me voy a entregar porque eso no es convieniente.</td>\n",
       "      <td>20</td>\n",
       "      <td>-0.2960</td>\n",
       "    </tr>\n",
       "    <tr>\n",
       "      <th>20</th>\n",
       "      <td>Cortez le dice a Jesús: Oro sí lo vas a ver, anda diles los rinches que vengan a aprehender.</td>\n",
       "      <td>21</td>\n",
       "      <td>0.0000</td>\n",
       "    </tr>\n",
       "    <tr>\n",
       "      <th>21</th>\n",
       "      <td>Venían todos los rinches, venían que hasta volaban, porque se iban a ganer diez mil pesos que le daban.</td>\n",
       "      <td>22</td>\n",
       "      <td>0.0000</td>\n",
       "    </tr>\n",
       "    <tr>\n",
       "      <th>22</th>\n",
       "      <td>Cuando rodearon la case Cortez se les presentó: Por la buena sí me llevan proque de otro modo no.</td>\n",
       "      <td>23</td>\n",
       "      <td>0.0000</td>\n",
       "    </tr>\n",
       "    <tr>\n",
       "      <th>23</th>\n",
       "      <td>Decía el Cheride Mayor como queriendo llorar: Cortez, entrega tus armas, no te vamos a matar.</td>\n",
       "      <td>24</td>\n",
       "      <td>-0.2960</td>\n",
       "    </tr>\n",
       "    <tr>\n",
       "      <th>24</th>\n",
       "      <td>Decía Gregorio Cortez, les gritaba en alta voz: Mis armas no las entrego hasta estar en calaboz.</td>\n",
       "      <td>25</td>\n",
       "      <td>-0.2960</td>\n",
       "    </tr>\n",
       "    <tr>\n",
       "      <th>25</th>\n",
       "      <td>Decía Gregorio Cortez, decía en su voz divina: Mis armas no las entrgo hasta estar en bartolina.</td>\n",
       "      <td>26</td>\n",
       "      <td>-0.2960</td>\n",
       "    </tr>\n",
       "    <tr>\n",
       "      <th>26</th>\n",
       "      <td>Ya agarron a Cortez, ya terminó la cuestion, la pobre de sui familia lo lleva en el corazón.</td>\n",
       "      <td>27</td>\n",
       "      <td>0.0000</td>\n",
       "    </tr>\n",
       "    <tr>\n",
       "      <th>27</th>\n",
       "      <td>Ya con esta me despido a la sombra de un ciprés, aquí se acaba el corrido de don Gregorio Cortez.</td>\n",
       "      <td>28</td>\n",
       "      <td>0.0000</td>\n",
       "    </tr>\n",
       "  </tbody>\n",
       "</table>\n",
       "</div>"
      ],
      "text/plain": [
       "                                                                                                          sentence  \\\n",
       "0                 En el condado El Carmen miren lo que ha sucedido, murió el Cherife Mayor, quedando Román herido.   \n",
       "1                 Se anduvieron informando como media hora después supieropn que el malhechor era Gregorio Cortez.   \n",
       "2        Ya insortaron a Cortez por toditito el estado, que vivo o muerto se aprehenda proque a various ha matado.   \n",
       "3        Decía Gregorio Cortez con su pistola en la mano: No siento haberlo matado, lo que siento es a mi hermano.   \n",
       "4                Decía Gregorio Cortez con su almu my encendid: No siento haberlo matado, la defensa es permitida.   \n",
       "5                 Venían los american mas blancos que una amapola, de miedo que le tenían a Cortez con su pistola.   \n",
       "6                  Decían los americanos, decían con timidez: Vamos a seguir la huella que el malhechor es Cortez.   \n",
       "7                                   Soltaron los perros juanes pa'que siguieran la huella, pero alcanzar a Cortez.   \n",
       "8                Tiró con rumbo a Gonzales sin ninguna timidez: Síganme, rinches cobardes, yo soy Gregorio Cortez.   \n",
       "9   Se fue de Belmont al rancho, lo alcanzaron a rodear, poquitos más de trescientos, y allí les brincó el corral.   \n",
       "10        Cuando les brincó el corral, según lo que aquí se dice, se agarraron a balazos, y les mató otro cherife.   \n",
       "11             Decía Gregorio Cortez con su pistola en la mano: No corran, rinches cobardes, con un solo mexicano.   \n",
       "12               Salió Gregorio Cortez, salió con rumbo a Laredo, no lo quisieron seguir porque le tuvieron miedo.   \n",
       "13                                                              Decía Gregorio Cortez: Pa' qué se velen de planes?   \n",
       "14                                                                 No me pueden agarrar ni con esos perros juanes.   \n",
       "15                                    Decían Los americanos: Si lo alcanzamos por derecho myu poquitos volveremos.   \n",
       "16                  Allá por El Encinal, según lo que aquí se dice, le formaron un corral y les mató otro cherife.   \n",
       "17              Decía Gregorio Cortez echando muchos balazos: Me ha escapado de aquaceros, contimás de nublinazos.   \n",
       "18          Ya se encontrá a un mexicano, le dice con altivez: Platícame qué hay de nuevo, yo soy Gregorio Cortez.   \n",
       "19        Dicen que por culpa mía han matado mucha gente, pues ya me voy a entregar porque eso no es convieniente.   \n",
       "20                    Cortez le dice a Jesús: Oro sí lo vas a ver, anda diles los rinches que vengan a aprehender.   \n",
       "21         Venían todos los rinches, venían que hasta volaban, porque se iban a ganer diez mil pesos que le daban.   \n",
       "22               Cuando rodearon la case Cortez se les presentó: Por la buena sí me llevan proque de otro modo no.   \n",
       "23                   Decía el Cheride Mayor como queriendo llorar: Cortez, entrega tus armas, no te vamos a matar.   \n",
       "24                Decía Gregorio Cortez, les gritaba en alta voz: Mis armas no las entrego hasta estar en calaboz.   \n",
       "25                Decía Gregorio Cortez, decía en su voz divina: Mis armas no las entrgo hasta estar en bartolina.   \n",
       "26                    Ya agarron a Cortez, ya terminó la cuestion, la pobre de sui familia lo lleva en el corazón.   \n",
       "27               Ya con esta me despido a la sombra de un ciprés, aquí se acaba el corrido de don Gregorio Cortez.   \n",
       "\n",
       "    sentence_number  sentiment_score  \n",
       "0                 1           0.3400  \n",
       "1                 2           0.0000  \n",
       "2                 3           0.3400  \n",
       "3                 4          -0.2960  \n",
       "4                 5          -0.2960  \n",
       "5                 6           0.0000  \n",
       "6                 7           0.0000  \n",
       "7                 8           0.0000  \n",
       "8                 9          -0.5574  \n",
       "9                10           0.0000  \n",
       "10               11           0.0000  \n",
       "11               12          -0.2960  \n",
       "12               13          -0.2960  \n",
       "13               14           0.0000  \n",
       "14               15          -0.2960  \n",
       "15               16           0.0000  \n",
       "16               17           0.0000  \n",
       "17               18           0.3400  \n",
       "18               19           0.0000  \n",
       "19               20          -0.2960  \n",
       "20               21           0.0000  \n",
       "21               22           0.0000  \n",
       "22               23           0.0000  \n",
       "23               24          -0.2960  \n",
       "24               25          -0.2960  \n",
       "25               26          -0.2960  \n",
       "26               27           0.0000  \n",
       "27               28           0.0000  "
      ]
     },
     "execution_count": 9,
     "metadata": {},
     "output_type": "execute_result"
    }
   ],
   "source": [
    "# Make empty list\n",
    "sentence_scores = []\n",
    "# Get each sentence and sentence number, which is what enumerate does\n",
    "for number, sentence in enumerate(sentences):\n",
    "    # Use VADER to calculate sentiment\n",
    "    scores = sa.polarity_scores(sentence)\n",
    "    # Make dictionary and append it to the previously empty list\n",
    "    sentence_scores.append({'sentence': sentence, 'sentence_number': number+1, 'sentiment_score': scores['compound']})\n",
    "pd.DataFrame(sentence_scores)\n",
    " # Assign DataFrame to variable red_df\n",
    " # 10 most negative sentence\n",
    "greg_df = pd.DataFrame(sentence_scores)\n",
    "greg_df"
   ]
  },
  {
   "cell_type": "code",
   "execution_count": 10,
   "metadata": {},
   "outputs": [
    {
     "data": {
      "text/html": [
       "<div>\n",
       "<style scoped>\n",
       "    .dataframe tbody tr th:only-of-type {\n",
       "        vertical-align: middle;\n",
       "    }\n",
       "\n",
       "    .dataframe tbody tr th {\n",
       "        vertical-align: top;\n",
       "    }\n",
       "\n",
       "    .dataframe thead th {\n",
       "        text-align: right;\n",
       "    }\n",
       "</style>\n",
       "<table border=\"1\" class=\"dataframe\">\n",
       "  <thead>\n",
       "    <tr style=\"text-align: right;\">\n",
       "      <th></th>\n",
       "      <th>sentence</th>\n",
       "      <th>sentence_number</th>\n",
       "      <th>sentiment_score</th>\n",
       "    </tr>\n",
       "  </thead>\n",
       "  <tbody>\n",
       "    <tr>\n",
       "      <th>8</th>\n",
       "      <td>Tiró con rumbo a Gonzales sin ninguna timidez: Síganme, rinches cobardes, yo soy Gregorio Cortez.</td>\n",
       "      <td>9</td>\n",
       "      <td>-0.5574</td>\n",
       "    </tr>\n",
       "    <tr>\n",
       "      <th>25</th>\n",
       "      <td>Decía Gregorio Cortez, decía en su voz divina: Mis armas no las entrgo hasta estar en bartolina.</td>\n",
       "      <td>26</td>\n",
       "      <td>-0.2960</td>\n",
       "    </tr>\n",
       "    <tr>\n",
       "      <th>24</th>\n",
       "      <td>Decía Gregorio Cortez, les gritaba en alta voz: Mis armas no las entrego hasta estar en calaboz.</td>\n",
       "      <td>25</td>\n",
       "      <td>-0.2960</td>\n",
       "    </tr>\n",
       "    <tr>\n",
       "      <th>3</th>\n",
       "      <td>Decía Gregorio Cortez con su pistola en la mano: No siento haberlo matado, lo que siento es a mi hermano.</td>\n",
       "      <td>4</td>\n",
       "      <td>-0.2960</td>\n",
       "    </tr>\n",
       "    <tr>\n",
       "      <th>4</th>\n",
       "      <td>Decía Gregorio Cortez con su almu my encendid: No siento haberlo matado, la defensa es permitida.</td>\n",
       "      <td>5</td>\n",
       "      <td>-0.2960</td>\n",
       "    </tr>\n",
       "    <tr>\n",
       "      <th>23</th>\n",
       "      <td>Decía el Cheride Mayor como queriendo llorar: Cortez, entrega tus armas, no te vamos a matar.</td>\n",
       "      <td>24</td>\n",
       "      <td>-0.2960</td>\n",
       "    </tr>\n",
       "    <tr>\n",
       "      <th>19</th>\n",
       "      <td>Dicen que por culpa mía han matado mucha gente, pues ya me voy a entregar porque eso no es convieniente.</td>\n",
       "      <td>20</td>\n",
       "      <td>-0.2960</td>\n",
       "    </tr>\n",
       "    <tr>\n",
       "      <th>11</th>\n",
       "      <td>Decía Gregorio Cortez con su pistola en la mano: No corran, rinches cobardes, con un solo mexicano.</td>\n",
       "      <td>12</td>\n",
       "      <td>-0.2960</td>\n",
       "    </tr>\n",
       "    <tr>\n",
       "      <th>12</th>\n",
       "      <td>Salió Gregorio Cortez, salió con rumbo a Laredo, no lo quisieron seguir porque le tuvieron miedo.</td>\n",
       "      <td>13</td>\n",
       "      <td>-0.2960</td>\n",
       "    </tr>\n",
       "    <tr>\n",
       "      <th>14</th>\n",
       "      <td>No me pueden agarrar ni con esos perros juanes.</td>\n",
       "      <td>15</td>\n",
       "      <td>-0.2960</td>\n",
       "    </tr>\n",
       "  </tbody>\n",
       "</table>\n",
       "</div>"
      ],
      "text/plain": [
       "                                                                                                     sentence  \\\n",
       "8           Tiró con rumbo a Gonzales sin ninguna timidez: Síganme, rinches cobardes, yo soy Gregorio Cortez.   \n",
       "25           Decía Gregorio Cortez, decía en su voz divina: Mis armas no las entrgo hasta estar en bartolina.   \n",
       "24           Decía Gregorio Cortez, les gritaba en alta voz: Mis armas no las entrego hasta estar en calaboz.   \n",
       "3   Decía Gregorio Cortez con su pistola en la mano: No siento haberlo matado, lo que siento es a mi hermano.   \n",
       "4           Decía Gregorio Cortez con su almu my encendid: No siento haberlo matado, la defensa es permitida.   \n",
       "23              Decía el Cheride Mayor como queriendo llorar: Cortez, entrega tus armas, no te vamos a matar.   \n",
       "19   Dicen que por culpa mía han matado mucha gente, pues ya me voy a entregar porque eso no es convieniente.   \n",
       "11        Decía Gregorio Cortez con su pistola en la mano: No corran, rinches cobardes, con un solo mexicano.   \n",
       "12          Salió Gregorio Cortez, salió con rumbo a Laredo, no lo quisieron seguir porque le tuvieron miedo.   \n",
       "14                                                            No me pueden agarrar ni con esos perros juanes.   \n",
       "\n",
       "    sentence_number  sentiment_score  \n",
       "8                 9          -0.5574  \n",
       "25               26          -0.2960  \n",
       "24               25          -0.2960  \n",
       "3                 4          -0.2960  \n",
       "4                 5          -0.2960  \n",
       "23               24          -0.2960  \n",
       "19               20          -0.2960  \n",
       "11               12          -0.2960  \n",
       "12               13          -0.2960  \n",
       "14               15          -0.2960  "
      ]
     },
     "execution_count": 10,
     "metadata": {},
     "output_type": "execute_result"
    }
   ],
   "source": [
    "# Sort by the column \"sentiment_score\" and slice for first 10 values\n",
    "# 10 negative sentence_scores\n",
    "greg_df.sort_values(by='sentiment_score')[:10]\n"
   ]
  },
  {
   "cell_type": "code",
   "execution_count": 11,
   "metadata": {},
   "outputs": [
    {
     "data": {
      "text/html": [
       "<div>\n",
       "<style scoped>\n",
       "    .dataframe tbody tr th:only-of-type {\n",
       "        vertical-align: middle;\n",
       "    }\n",
       "\n",
       "    .dataframe tbody tr th {\n",
       "        vertical-align: top;\n",
       "    }\n",
       "\n",
       "    .dataframe thead th {\n",
       "        text-align: right;\n",
       "    }\n",
       "</style>\n",
       "<table border=\"1\" class=\"dataframe\">\n",
       "  <thead>\n",
       "    <tr style=\"text-align: right;\">\n",
       "      <th></th>\n",
       "      <th>sentence</th>\n",
       "      <th>sentence_number</th>\n",
       "      <th>sentiment_score</th>\n",
       "    </tr>\n",
       "  </thead>\n",
       "  <tbody>\n",
       "    <tr>\n",
       "      <th>0</th>\n",
       "      <td>En el condado El Carmen miren lo que ha sucedido, murió el Cherife Mayor, quedando Román herido.</td>\n",
       "      <td>1</td>\n",
       "      <td>0.34</td>\n",
       "    </tr>\n",
       "    <tr>\n",
       "      <th>2</th>\n",
       "      <td>Ya insortaron a Cortez por toditito el estado, que vivo o muerto se aprehenda proque a various ha matado.</td>\n",
       "      <td>3</td>\n",
       "      <td>0.34</td>\n",
       "    </tr>\n",
       "    <tr>\n",
       "      <th>17</th>\n",
       "      <td>Decía Gregorio Cortez echando muchos balazos: Me ha escapado de aquaceros, contimás de nublinazos.</td>\n",
       "      <td>18</td>\n",
       "      <td>0.34</td>\n",
       "    </tr>\n",
       "    <tr>\n",
       "      <th>13</th>\n",
       "      <td>Decía Gregorio Cortez: Pa' qué se velen de planes?</td>\n",
       "      <td>14</td>\n",
       "      <td>0.00</td>\n",
       "    </tr>\n",
       "    <tr>\n",
       "      <th>26</th>\n",
       "      <td>Ya agarron a Cortez, ya terminó la cuestion, la pobre de sui familia lo lleva en el corazón.</td>\n",
       "      <td>27</td>\n",
       "      <td>0.00</td>\n",
       "    </tr>\n",
       "    <tr>\n",
       "      <th>22</th>\n",
       "      <td>Cuando rodearon la case Cortez se les presentó: Por la buena sí me llevan proque de otro modo no.</td>\n",
       "      <td>23</td>\n",
       "      <td>0.00</td>\n",
       "    </tr>\n",
       "    <tr>\n",
       "      <th>21</th>\n",
       "      <td>Venían todos los rinches, venían que hasta volaban, porque se iban a ganer diez mil pesos que le daban.</td>\n",
       "      <td>22</td>\n",
       "      <td>0.00</td>\n",
       "    </tr>\n",
       "    <tr>\n",
       "      <th>20</th>\n",
       "      <td>Cortez le dice a Jesús: Oro sí lo vas a ver, anda diles los rinches que vengan a aprehender.</td>\n",
       "      <td>21</td>\n",
       "      <td>0.00</td>\n",
       "    </tr>\n",
       "    <tr>\n",
       "      <th>18</th>\n",
       "      <td>Ya se encontrá a un mexicano, le dice con altivez: Platícame qué hay de nuevo, yo soy Gregorio Cortez.</td>\n",
       "      <td>19</td>\n",
       "      <td>0.00</td>\n",
       "    </tr>\n",
       "    <tr>\n",
       "      <th>16</th>\n",
       "      <td>Allá por El Encinal, según lo que aquí se dice, le formaron un corral y les mató otro cherife.</td>\n",
       "      <td>17</td>\n",
       "      <td>0.00</td>\n",
       "    </tr>\n",
       "  </tbody>\n",
       "</table>\n",
       "</div>"
      ],
      "text/plain": [
       "                                                                                                     sentence  \\\n",
       "0            En el condado El Carmen miren lo que ha sucedido, murió el Cherife Mayor, quedando Román herido.   \n",
       "2   Ya insortaron a Cortez por toditito el estado, que vivo o muerto se aprehenda proque a various ha matado.   \n",
       "17         Decía Gregorio Cortez echando muchos balazos: Me ha escapado de aquaceros, contimás de nublinazos.   \n",
       "13                                                         Decía Gregorio Cortez: Pa' qué se velen de planes?   \n",
       "26               Ya agarron a Cortez, ya terminó la cuestion, la pobre de sui familia lo lleva en el corazón.   \n",
       "22          Cuando rodearon la case Cortez se les presentó: Por la buena sí me llevan proque de otro modo no.   \n",
       "21    Venían todos los rinches, venían que hasta volaban, porque se iban a ganer diez mil pesos que le daban.   \n",
       "20               Cortez le dice a Jesús: Oro sí lo vas a ver, anda diles los rinches que vengan a aprehender.   \n",
       "18     Ya se encontrá a un mexicano, le dice con altivez: Platícame qué hay de nuevo, yo soy Gregorio Cortez.   \n",
       "16             Allá por El Encinal, según lo que aquí se dice, le formaron un corral y les mató otro cherife.   \n",
       "\n",
       "    sentence_number  sentiment_score  \n",
       "0                 1             0.34  \n",
       "2                 3             0.34  \n",
       "17               18             0.34  \n",
       "13               14             0.00  \n",
       "26               27             0.00  \n",
       "22               23             0.00  \n",
       "21               22             0.00  \n",
       "20               21             0.00  \n",
       "18               19             0.00  \n",
       "16               17             0.00  "
      ]
     },
     "execution_count": 11,
     "metadata": {},
     "output_type": "execute_result"
    }
   ],
   "source": [
    "\n",
    " # 10 positive sentence_scores\n",
    " # Sort by the column \"sentiment_score,\" this time in descending order, and slice for first 10 values\n",
    "\n",
    "greg_df.sort_values(by='sentiment_score', ascending=False)[:10]\n",
    " "
   ]
  },
  {
   "cell_type": "code",
   "execution_count": 12,
   "metadata": {},
   "outputs": [
    {
     "data": {
      "image/png": "[encoded data removed]",
      "text/plain": [
       "<Figure size 1000x500 with 1 Axes>"
      ]
     },
     "metadata": {},
     "output_type": "display_data"
    }
   ],
   "source": [
    "## Make a sentiment plot\n",
    "greg_df['sentiment_score'].plot();\n",
    " \n",
    "ax = greg_df['sentiment_score'].plot(x='sentence_number', y='sentiment_score', kind='line',\n",
    "                        figsize=(10,5), rot=90, title='Sentiment in Gregorio Cortez Corrido')"
   ]
  },
  {
   "cell_type": "code",
   "execution_count": 13,
   "metadata": {},
   "outputs": [],
   "source": [
    "#%pip install matplotlib\n",
    "import matplotlib.pyplot as plot"
   ]
  },
  {
   "cell_type": "code",
   "execution_count": 14,
   "metadata": {},
   "outputs": [
    {
     "data": {
      "image/png": "[encoded data removed]",
      "text/plain": [
       "<Figure size 1000x500 with 1 Axes>"
      ]
     },
     "metadata": {},
     "output_type": "display_data"
    }
   ],
   "source": [
    "\n",
    "# Plot a horizontal line at 0\n",
    "plot.axhline(y=0, color='orange', linestyle='-');\n",
    " # Get averages for a rolling window, then plot\n",
    "greg_df.rolling(5)['sentiment_score'].mean().plot(x='sentence_number', y='sentiment_score', kind='line',\n",
    "                        figsize=(10,5), rot=90, title='Sentiment in \"Gregorio Cortez Corrido\"')\n",
    "\n",
    "# Plot a horizontal line at 0\n",
    "plot.axhline(y=0, color='orange', linestyle='-');\n",
    " "
   ]
  },
  {
   "cell_type": "markdown",
   "metadata": {},
   "source": [
    "Word freqencies "
   ]
  },
  {
   "cell_type": "code",
   "execution_count": 15,
   "metadata": {},
   "outputs": [],
   "source": [
    "import os\n",
    "from nltk.corpus.reader.plaintext import PlaintextCorpusReader\n",
    "from nltk.corpus import stopwords\n",
    "from nltk.tokenize import word_tokenize"
   ]
  },
  {
   "cell_type": "code",
   "execution_count": 16,
   "metadata": {},
   "outputs": [
    {
     "data": {
      "text/plain": [
       "<PlaintextCorpusReader in 'c:\\\\Users\\\\azg526\\\\Documents\\\\GitHub\\\\Corridos'>"
      ]
     },
     "execution_count": 16,
     "metadata": {},
     "output_type": "execute_result"
    }
   ],
   "source": [
    "#exploring corpus\n",
    "path_corridos = os.getcwd()\n",
    "greg_file = 'gregoriocortez_es_corrido.txt'\n",
    "corpus = PlaintextCorpusReader( path_corridos, greg_file)\n",
    "corpus"
   ]
  },
  {
   "cell_type": "code",
   "execution_count": 17,
   "metadata": {},
   "outputs": [
    {
     "name": "stdout",
     "output_type": "stream",
     "text": [
      "Custom stopwords list loaded from doc\n"
     ]
    }
   ],
   "source": [
    "# Load a custom data/stop_words.csv if available\n",
    "# Otherwise, load the nltk stopwords list in English\n",
    "# Create an empty Python list to hold the stopwords\n",
    "stop_words = []\n",
    "# The filename of the custom data/stop_words.csv file\n",
    "stopwords_greg = 'corrido corpus\\gregoriocortez_es_corrido.txt'\n",
    "if os.path.exists(stopwords_greg):\n",
    "    #import csv\n",
    "    with open(stopwords_greg, 'r', encoding=\"utf-8\") as f:\n",
    "        stop_words = list(f)[0]\n",
    "    print('Custom stopwords list loaded from doc')\n",
    "else:\n",
    "    # Load the NLTK stopwords list\n",
    "    from nltk.corpus import stopwords\n",
    "    stop_words = stopwords.words('spanish')\n",
    "    print('NLTK stopwords list loaded')"
   ]
  },
  {
   "cell_type": "markdown",
   "metadata": {},
   "source": [
    "import nltk\n",
    "from nltk.corpus import stopwords\n",
    "\n",
    "stops = set(stopwords.words('spanish'))\n",
    "print(stops)"
   ]
  },
  {
   "cell_type": "markdown",
   "metadata": {},
   "source": [
    "print(stop_words)"
   ]
  },
  {
   "cell_type": "markdown",
   "metadata": {},
   "source": [
    "Geography\n"
   ]
  },
  {
   "cell_type": "code",
   "execution_count": 18,
   "metadata": {},
   "outputs": [
    {
     "name": "stdout",
     "output_type": "stream",
     "text": [
      "Requirement already satisfied: geograpy3 in c:\\users\\azg526\\anaconda3\\envs\\gregcortez\\lib\\site-packages (0.2.2)\n",
      "Requirement already satisfied: jellyfish in c:\\users\\azg526\\anaconda3\\envs\\gregcortez\\lib\\site-packages (from geograpy3) (0.9.0)\n",
      "Requirement already satisfied: pandas in c:\\users\\azg526\\anaconda3\\envs\\gregcortez\\lib\\site-packages (from geograpy3) (1.4.3)\n",
      "Requirement already satisfied: numpy in c:\\users\\azg526\\anaconda3\\envs\\gregcortez\\lib\\site-packages (from geograpy3) (1.22.3)\n",
      "Requirement already satisfied: sphinx-rtd-theme in c:\\users\\azg526\\anaconda3\\envs\\gregcortez\\lib\\site-packages (from geograpy3) (0.4.3)\n",
      "Requirement already satisfied: scikit-learn in c:\\users\\azg526\\anaconda3\\envs\\gregcortez\\lib\\site-packages (from geograpy3) (1.1.1)\n",
      "Requirement already satisfied: nltk in c:\\users\\azg526\\anaconda3\\envs\\gregcortez\\lib\\site-packages (from geograpy3) (3.7)\n",
      "Requirement already satisfied: pylodstorage in c:\\users\\azg526\\anaconda3\\envs\\gregcortez\\lib\\site-packages (from geograpy3) (0.2.2)\n",
      "Requirement already satisfied: newspaper3k in c:\\users\\azg526\\anaconda3\\envs\\gregcortez\\lib\\site-packages (from geograpy3) (0.2.8)\n",
      "Requirement already satisfied: tldextract>=2.0.1 in c:\\users\\azg526\\anaconda3\\envs\\gregcortez\\lib\\site-packages (from newspaper3k->geograpy3) (3.2.0)\n",
      "Requirement already satisfied: feedfinder2>=0.0.4 in c:\\users\\azg526\\anaconda3\\envs\\gregcortez\\lib\\site-packages (from newspaper3k->geograpy3) (0.0.4)\n",
      "Requirement already satisfied: lxml>=3.6.0 in c:\\users\\azg526\\anaconda3\\envs\\gregcortez\\lib\\site-packages (from newspaper3k->geograpy3) (4.9.1)\n",
      "Requirement already satisfied: requests>=2.10.0 in c:\\users\\azg526\\anaconda3\\envs\\gregcortez\\lib\\site-packages (from newspaper3k->geograpy3) (2.28.1)\n",
      "Requirement already satisfied: python-dateutil>=2.5.3 in c:\\users\\azg526\\anaconda3\\envs\\gregcortez\\lib\\site-packages (from newspaper3k->geograpy3) (2.8.2)\n",
      "Requirement already satisfied: Pillow>=3.3.0 in c:\\users\\azg526\\anaconda3\\envs\\gregcortez\\lib\\site-packages (from newspaper3k->geograpy3) (9.2.0)\n",
      "Requirement already satisfied: cssselect>=0.9.2 in c:\\users\\azg526\\anaconda3\\envs\\gregcortez\\lib\\site-packages (from newspaper3k->geograpy3) (1.1.0)\n",
      "Requirement already satisfied: beautifulsoup4>=4.4.1 in c:\\users\\azg526\\anaconda3\\envs\\gregcortez\\lib\\site-packages (from newspaper3k->geograpy3) (4.11.1)\n",
      "Requirement already satisfied: PyYAML>=3.11 in c:\\users\\azg526\\anaconda3\\envs\\gregcortez\\lib\\site-packages (from newspaper3k->geograpy3) (6.0)\n",
      "Requirement already satisfied: feedparser>=5.2.1 in c:\\users\\azg526\\anaconda3\\envs\\gregcortez\\lib\\site-packages (from newspaper3k->geograpy3) (6.0.8)\n",
      "Requirement already satisfied: tinysegmenter==0.3 in c:\\users\\azg526\\anaconda3\\envs\\gregcortez\\lib\\site-packages (from newspaper3k->geograpy3) (0.3)\n",
      "Requirement already satisfied: jieba3k>=0.35.1 in c:\\users\\azg526\\anaconda3\\envs\\gregcortez\\lib\\site-packages (from newspaper3k->geograpy3) (0.35.1)\n",
      "Requirement already satisfied: joblib in c:\\users\\azg526\\anaconda3\\envs\\gregcortez\\lib\\site-packages (from nltk->geograpy3) (1.1.0)\n",
      "Requirement already satisfied: tqdm in c:\\users\\azg526\\anaconda3\\envs\\gregcortez\\lib\\site-packages (from nltk->geograpy3) (4.64.0)\n",
      "Requirement already satisfied: click in c:\\users\\azg526\\anaconda3\\envs\\gregcortez\\lib\\site-packages (from nltk->geograpy3) (7.1.2)\n",
      "Requirement already satisfied: regex>=2021.8.3 in c:\\users\\azg526\\anaconda3\\envs\\gregcortez\\lib\\site-packages (from nltk->geograpy3) (2022.7.9)\n",
      "Requirement already satisfied: pytz>=2020.1 in c:\\users\\azg526\\anaconda3\\envs\\gregcortez\\lib\\site-packages (from pandas->geograpy3) (2022.1)\n",
      "Requirement already satisfied: jsonpickle in c:\\users\\azg526\\anaconda3\\envs\\gregcortez\\lib\\site-packages (from pylodstorage->geograpy3) (2.2.0)\n",
      "Requirement already satisfied: tabulate in c:\\users\\azg526\\anaconda3\\envs\\gregcortez\\lib\\site-packages (from pylodstorage->geograpy3) (0.8.10)\n",
      "Requirement already satisfied: SPARQLWrapper in c:\\users\\azg526\\anaconda3\\envs\\gregcortez\\lib\\site-packages (from pylodstorage->geograpy3) (1.8.5)\n",
      "Requirement already satisfied: pylatexenc~=2.10 in c:\\users\\azg526\\anaconda3\\envs\\gregcortez\\lib\\site-packages (from pylodstorage->geograpy3) (2.10)\n",
      "Requirement already satisfied: pygments in c:\\users\\azg526\\anaconda3\\envs\\gregcortez\\lib\\site-packages (from pylodstorage->geograpy3) (2.11.2)\n",
      "Requirement already satisfied: scipy>=1.3.2 in c:\\users\\azg526\\anaconda3\\envs\\gregcortez\\lib\\site-packages (from scikit-learn->geograpy3) (1.7.3)\n",
      "Requirement already satisfied: threadpoolctl>=2.0.0 in c:\\users\\azg526\\anaconda3\\envs\\gregcortez\\lib\\site-packages (from scikit-learn->geograpy3) (2.2.0)\n",
      "Collecting sphinx\n",
      "  Downloading Sphinx-5.1.1-py3-none-any.whl (3.2 MB)\n",
      "     ---------------------------------------- 3.2/3.2 MB 15.4 MB/s eta 0:00:00\n",
      "Requirement already satisfied: soupsieve>1.2 in c:\\users\\azg526\\anaconda3\\envs\\gregcortez\\lib\\site-packages (from beautifulsoup4>=4.4.1->newspaper3k->geograpy3) (2.3.1)\n",
      "Requirement already satisfied: six in c:\\users\\azg526\\anaconda3\\envs\\gregcortez\\lib\\site-packages (from feedfinder2>=0.0.4->newspaper3k->geograpy3) (1.16.0)\n",
      "Requirement already satisfied: sgmllib3k in c:\\users\\azg526\\anaconda3\\envs\\gregcortez\\lib\\site-packages (from feedparser>=5.2.1->newspaper3k->geograpy3) (1.0.0)\n",
      "Requirement already satisfied: urllib3<1.27,>=1.21.1 in c:\\users\\azg526\\anaconda3\\envs\\gregcortez\\lib\\site-packages (from requests>=2.10.0->newspaper3k->geograpy3) (1.26.11)\n",
      "Requirement already satisfied: charset-normalizer<3,>=2 in c:\\users\\azg526\\anaconda3\\envs\\gregcortez\\lib\\site-packages (from requests>=2.10.0->newspaper3k->geograpy3) (2.0.4)\n",
      "Requirement already satisfied: idna<4,>=2.5 in c:\\users\\azg526\\anaconda3\\envs\\gregcortez\\lib\\site-packages (from requests>=2.10.0->newspaper3k->geograpy3) (3.3)\n",
      "Requirement already satisfied: certifi>=2017.4.17 in c:\\users\\azg526\\anaconda3\\envs\\gregcortez\\lib\\site-packages (from requests>=2.10.0->newspaper3k->geograpy3) (2022.6.15.1)\n",
      "Requirement already satisfied: filelock>=3.0.8 in c:\\users\\azg526\\anaconda3\\envs\\gregcortez\\lib\\site-packages (from tldextract>=2.0.1->newspaper3k->geograpy3) (3.6.0)\n",
      "Requirement already satisfied: requests-file>=1.4 in c:\\users\\azg526\\anaconda3\\envs\\gregcortez\\lib\\site-packages (from tldextract>=2.0.1->newspaper3k->geograpy3) (1.5.1)\n",
      "Requirement already satisfied: rdflib>=4.0 in c:\\users\\azg526\\anaconda3\\envs\\gregcortez\\lib\\site-packages (from SPARQLWrapper->pylodstorage->geograpy3) (6.2.0)\n",
      "Collecting alabaster<0.8,>=0.7\n",
      "  Downloading alabaster-0.7.12-py2.py3-none-any.whl (14 kB)\n",
      "Collecting sphinxcontrib-serializinghtml>=1.1.5\n",
      "  Downloading sphinxcontrib_serializinghtml-1.1.5-py2.py3-none-any.whl (94 kB)\n",
      "     ---------------------------------------- 94.0/94.0 kB ? eta 0:00:00\n",
      "Collecting snowballstemmer>=1.1\n",
      "  Downloading snowballstemmer-2.2.0-py2.py3-none-any.whl (93 kB)\n",
      "     ---------------------------------------- 93.0/93.0 kB ? eta 0:00:00\n",
      "Requirement already satisfied: Jinja2>=2.3 in c:\\users\\azg526\\anaconda3\\envs\\gregcortez\\lib\\site-packages (from sphinx->sphinx-rtd-theme->geograpy3) (3.0.3)\n",
      "Collecting sphinxcontrib-applehelp\n",
      "  Downloading sphinxcontrib_applehelp-1.0.2-py2.py3-none-any.whl (121 kB)\n",
      "     -------------------------------------- 121.2/121.2 kB 6.9 MB/s eta 0:00:00\n",
      "Collecting docutils<0.20,>=0.14\n",
      "  Downloading docutils-0.19-py3-none-any.whl (570 kB)\n",
      "     ------------------------------------- 570.5/570.5 kB 37.3 MB/s eta 0:00:00\n",
      "Collecting babel>=1.3\n",
      "  Downloading Babel-2.10.3-py3-none-any.whl (9.5 MB)\n",
      "     ---------------------------------------- 9.5/9.5 MB 17.9 MB/s eta 0:00:00\n",
      "Collecting imagesize\n",
      "  Downloading imagesize-1.4.1-py2.py3-none-any.whl (8.8 kB)\n",
      "Requirement already satisfied: importlib-metadata>=4.4 in c:\\users\\azg526\\anaconda3\\envs\\gregcortez\\lib\\site-packages (from sphinx->sphinx-rtd-theme->geograpy3) (4.11.3)\n",
      "Requirement already satisfied: colorama>=0.3.5 in c:\\users\\azg526\\anaconda3\\envs\\gregcortez\\lib\\site-packages (from sphinx->sphinx-rtd-theme->geograpy3) (0.4.5)\n",
      "Collecting sphinxcontrib-jsmath\n",
      "  Downloading sphinxcontrib_jsmath-1.0.1-py2.py3-none-any.whl (5.1 kB)\n",
      "Collecting sphinxcontrib-qthelp\n",
      "  Downloading sphinxcontrib_qthelp-1.0.3-py2.py3-none-any.whl (90 kB)\n",
      "     ---------------------------------------- 90.6/90.6 kB ? eta 0:00:00\n",
      "Collecting sphinxcontrib-devhelp\n",
      "  Downloading sphinxcontrib_devhelp-1.0.2-py2.py3-none-any.whl (84 kB)\n",
      "     ---------------------------------------- 84.7/84.7 kB 4.7 MB/s eta 0:00:00\n",
      "Collecting sphinxcontrib-htmlhelp>=2.0.0\n",
      "  Downloading sphinxcontrib_htmlhelp-2.0.0-py2.py3-none-any.whl (100 kB)\n",
      "     -------------------------------------- 100.5/100.5 kB 5.6 MB/s eta 0:00:00\n",
      "Requirement already satisfied: packaging in c:\\users\\azg526\\anaconda3\\envs\\gregcortez\\lib\\site-packages (from sphinx->sphinx-rtd-theme->geograpy3) (21.3)\n",
      "Requirement already satisfied: zipp>=0.5 in c:\\users\\azg526\\anaconda3\\envs\\gregcortez\\lib\\site-packages (from importlib-metadata>=4.4->sphinx->sphinx-rtd-theme->geograpy3) (3.8.0)\n",
      "Requirement already satisfied: MarkupSafe>=2.0 in c:\\users\\azg526\\anaconda3\\envs\\gregcortez\\lib\\site-packages (from Jinja2>=2.3->sphinx->sphinx-rtd-theme->geograpy3) (2.1.1)\n",
      "Requirement already satisfied: setuptools in c:\\users\\azg526\\anaconda3\\envs\\gregcortez\\lib\\site-packages (from rdflib>=4.0->SPARQLWrapper->pylodstorage->geograpy3) (63.4.1)\n",
      "Requirement already satisfied: pyparsing in c:\\users\\azg526\\anaconda3\\envs\\gregcortez\\lib\\site-packages (from rdflib>=4.0->SPARQLWrapper->pylodstorage->geograpy3) (3.0.9)\n",
      "Requirement already satisfied: isodate in c:\\users\\azg526\\anaconda3\\envs\\gregcortez\\lib\\site-packages (from rdflib>=4.0->SPARQLWrapper->pylodstorage->geograpy3) (0.6.0)\n",
      "Installing collected packages: snowballstemmer, alabaster, sphinxcontrib-serializinghtml, sphinxcontrib-qthelp, sphinxcontrib-jsmath, sphinxcontrib-htmlhelp, sphinxcontrib-devhelp, sphinxcontrib-applehelp, imagesize, docutils, babel, sphinx\n",
      "Successfully installed alabaster-0.7.12 babel-2.10.3 docutils-0.19 imagesize-1.4.1 snowballstemmer-2.2.0 sphinx-5.1.1 sphinxcontrib-applehelp-1.0.2 sphinxcontrib-devhelp-1.0.2 sphinxcontrib-htmlhelp-2.0.0 sphinxcontrib-jsmath-1.0.1 sphinxcontrib-qthelp-1.0.3 sphinxcontrib-serializinghtml-1.1.5\n",
      "Note: you may need to restart the kernel to use updated packages.\n"
     ]
    }
   ],
   "source": [
    "%pip install geograpy3"
   ]
  },
  {
   "cell_type": "code",
   "execution_count": 29,
   "metadata": {},
   "outputs": [
    {
     "data": {
      "text/plain": [
       "<geograpy.extraction.Extractor at 0x20c4e5d3700>"
      ]
     },
     "execution_count": 29,
     "metadata": {},
     "output_type": "execute_result"
    }
   ],
   "source": [
    "import geograpy\n",
    "from geograpy import extraction\n",
    "places = geograpy.extraction.Extractor(text= '''En el condado El Carmen miren lo que ha sucedido, murió el Cherife Mayor, quedando Román herido.\n",
    "Se anduvieron informando como media hora después supieropn que el malhechor era Gregorio Cortez.\n",
    "Ya insortaron a Cortez por toditito el estado, que vivo o muerto se aprehenda proque a various ha matado.\n",
    "Decía Gregorio Cortez con su pistola en la mano: No siento haberlo matado, lo que siento es a mi hermano.\n",
    "Decía Gregorio Cortez con su almu my encendid: No siento haberlo matado, la defensa es permitida.\n",
    "Venían los american mas blancos que una amapola, de miedo que le tenían a Cortez con su pistola.\n",
    "Decían los americanos, decían con timidez: Vamos a seguir la huella que el malhechor es Cortez.\n",
    "Soltaron los perros juanes pa'que siguieran la huella, pero alcanzar a Cortez.\n",
    "Tiró con rumbo a Gonzales sin ninguna timidez: Síganme, rinches cobardes, yo soy Gregorio Cortez.\n",
    "Se fue de Belmont al rancho, lo alcanzaron a rodear, poquitos más de trescientos, y allí les brincó el corral.\n",
    "Cuando les brincó el corral, según lo que aquí se dice, se agarraron a balazos, y les mató otro cherife.\n",
    "Decía Gregorio Cortez con su pistola en la mano: No corran, rinches cobardes, con un solo mexicano.\n",
    "Salió Gregorio Cortez, salió con rumbo a Laredo, no lo quisieron seguir porque le tuvieron miedo.\n",
    "Decía Gregorio Cortez: Pa' qué se velen de planes? No me pueden agarrar ni con esos perros juanes.\n",
    "Decían Los americanos: Si lo alcanzamos por derecho myu poquitos volveremos.\n",
    "Allá por El Encinal, según lo que aquí se dice, le formaron un corral y les mató otro cherife.\n",
    "Decía Gregorio Cortez echando muchos balazos: Me ha escapado de aquaceros, contimás de nublinazos.\n",
    "Ya se encontrá a un mexicano, le dice con altivez: Platícame qué hay de nuevo, yo soy Gregorio Cortez.\n",
    "Dicen que por culpa mía han matado mucha gente, pues ya me voy a entregar porque eso no es convieniente.\n",
    "Cortez le dice a Jesús: Oro sí lo vas a ver, anda diles los rinches que vengan a aprehender.\n",
    "Venían todos los rinches, venían que hasta volaban, porque se iban a ganer diez mil pesos que le daban.\n",
    "Cuando rodearon la case Cortez se les presentó: Por la buena sí me llevan proque de otro modo no.\n",
    "Decía el Cheride Mayor como queriendo llorar: Cortez, entrega tus armas, no te vamos a matar.\n",
    "Decía Gregorio Cortez, les gritaba en alta voz: Mis armas no las entrego hasta estar en calaboz.\n",
    "Decía Gregorio Cortez, decía en su voz divina: Mis armas no las entrgo hasta estar en bartolina.\n",
    "Ya agarron a Cortez, ya terminó la cuestion, la pobre de sui familia lo lleva en el corazón.\n",
    "Ya con esta me despido a la sombra de un ciprés, aquí se acaba el corrido de don Gregorio Cortez.''')\n",
    "\n",
    "places.find_geoEntities()\n",
    "\n",
    "places\n",
    "\n"
   ]
  },
  {
   "cell_type": "code",
   "execution_count": 31,
   "metadata": {},
   "outputs": [
    {
     "name": "stdout",
     "output_type": "stream",
     "text": [
      "countries=['United States of America', 'Australia', 'Spain', 'Trinidad and Tobago', 'France', 'Philippines', 'Mexico', 'United Kingdom', 'New Zealand']\n",
      "regions=[]\n",
      "cities=['Laredo', 'Belmont', 'Gonzales', 'Cortez', 'En']\n",
      "other=[]\n"
     ]
    }
   ],
   "source": [
    "places = geograpy.get_geoPlace_context(text = text)\n",
    "print(places)"
   ]
  },
  {
   "cell_type": "code",
   "execution_count": 26,
   "metadata": {},
   "outputs": [
    {
     "name": "stdout",
     "output_type": "stream",
     "text": [
      "[]\n",
      "[]\n",
      "['Laredo', 'Belmont', 'Gonzales']\n",
      "[]\n"
     ]
    }
   ],
   "source": [
    "from geograpy import places\n",
    "\n",
    "pc = places.PlaceContext(['Gonzales', 'Laredo', 'Belmont'])\n",
    "\n",
    "pc.set_countries()\n",
    "print (pc.countries) #['United States']\n",
    "\n",
    "pc.set_regions()\n",
    "print(pc.regions) #['Ohio'])\n",
    "\n",
    "pc.set_cities()\n",
    "print(pc.cities) #['Cleveland'])\n",
    "\n",
    "print(pc.address_strings) #['Cleveland, Ohio, United States'])"
   ]
  },
  {
   "cell_type": "code",
   "execution_count": 24,
   "metadata": {},
   "outputs": [
    {
     "name": "stdout",
     "output_type": "stream",
     "text": [
      "Requirement already satisfied: geopy in c:\\users\\azg526\\anaconda3\\envs\\gregcortez\\lib\\site-packages (2.2.0)\n",
      "Requirement already satisfied: geographiclib<2,>=1.49 in c:\\users\\azg526\\anaconda3\\envs\\gregcortez\\lib\\site-packages (from geopy) (1.52)\n",
      "Note: you may need to restart the kernel to use updated packages.\n"
     ]
    }
   ],
   "source": [
    "%pip install geopy\n",
    "from geopy.geocoders import Nominatim\n",
    "import time\n",
    "from pprint import pprint"
   ]
  },
  {
   "cell_type": "code",
   "execution_count": 25,
   "metadata": {},
   "outputs": [],
   "source": [
    "# instantiate a new Nominatim client\n",
    "geolocator = Nominatim(user_agent=\"CorridosMap\")"
   ]
  },
  {
   "cell_type": "markdown",
   "metadata": {},
   "source": [
    "Laredo"
   ]
  },
  {
   "cell_type": "code",
   "execution_count": null,
   "metadata": {},
   "outputs": [],
   "source": [
    "Laredo = \"Laredo, Texas\"\n",
    "Laredo_info = geolocator.geocode(Laredo)\n",
    "Laredo_coordinates = (Laredo_info.latitude, Laredo_info.longitude)\n",
    "pprint(Laredo_info)\n",
    "pprint(Laredo_coordinates)"
   ]
  },
  {
   "cell_type": "markdown",
   "metadata": {},
   "source": [
    "Belmont"
   ]
  },
  {
   "cell_type": "code",
   "execution_count": null,
   "metadata": {},
   "outputs": [],
   "source": [
    "Belmont = \"Belmont, Texas\"\n",
    "Belmont_info = geolocator.geocode(Belmont)\n",
    "Belmont_coordinates = (Belmont_info.latitude, Belmont_info.longitude)\n",
    "pprint(Belmont_info)\n",
    "pprint(Belmont_coordinates)"
   ]
  },
  {
   "cell_type": "markdown",
   "metadata": {},
   "source": [
    "Gonzales, Texas"
   ]
  },
  {
   "cell_type": "code",
   "execution_count": null,
   "metadata": {},
   "outputs": [],
   "source": [
    "Gonzales = \"Gonzales, Texas\"\n",
    "Gonzales_info = geolocator.geocode(Gonzales)\n",
    "Gonzales_coordinates = (Gonzales_info.latitude, Gonzales_info.longitude)\n",
    "pprint(Gonzales_info)\n",
    "pprint(Gonzales_coordinates)"
   ]
  },
  {
   "cell_type": "markdown",
   "metadata": {},
   "source": [
    "All (double check coordinates)"
   ]
  },
  {
   "cell_type": "code",
   "execution_count": null,
   "metadata": {},
   "outputs": [],
   "source": [
    "print(Laredo_coordinates)\n",
    "print(Belmont_coordinates)\n",
    "pprint(Gonzales_coordinates)"
   ]
  },
  {
   "cell_type": "markdown",
   "metadata": {},
   "source": [
    "Measuring Distance"
   ]
  },
  {
   "cell_type": "code",
   "execution_count": null,
   "metadata": {},
   "outputs": [],
   "source": [
    "from geopy import distance\n",
    "print(distance.distance(Laredo_coordinates, Belmont_coordinates, Gonzales_coordinates).miles)\n"
   ]
  },
  {
   "cell_type": "markdown",
   "metadata": {},
   "source": [
    "Mapping GeoPandas\n"
   ]
  },
  {
   "cell_type": "code",
   "execution_count": null,
   "metadata": {},
   "outputs": [],
   "source": [
    "import fiona"
   ]
  },
  {
   "cell_type": "code",
   "execution_count": null,
   "metadata": {},
   "outputs": [],
   "source": [
    "import sys \n",
    "'fiona' in sys.modules"
   ]
  },
  {
   "cell_type": "code",
   "execution_count": null,
   "metadata": {},
   "outputs": [],
   "source": [
    "import geopandas as geopd\n",
    "import pandas as pd\n",
    "import matplotlib.pyplot as plt"
   ]
  },
  {
   "cell_type": "markdown",
   "metadata": {},
   "source": [
    "Creating GeoDataFrame"
   ]
  },
  {
   "cell_type": "code",
   "execution_count": null,
   "metadata": {},
   "outputs": [],
   "source": [
    "GregGeoDF = pd.DataFrame({\n",
    "    'City': ['Laredo', 'Belmont', 'Gonzales'], \n",
    "    'County': ['Webb', 'Midland', 'Gonzales'],\n",
    "    'Latitude':[27.5236998, 31.9803495, 29.4436555, ],\n",
    "    'Longitude':[-99.497352, -102.07359334, -97.5108636]})"
   ]
  },
  {
   "cell_type": "code",
   "execution_count": null,
   "metadata": {},
   "outputs": [],
   "source": [
    "greg_gdf = geopd.GeoDataFrame(\n",
    "    GregGeoDF, geometry=geopd.points_from_xy(GregGeoDF.Longitude, GregGeoDF.Latitude))"
   ]
  },
  {
   "cell_type": "code",
   "execution_count": null,
   "metadata": {},
   "outputs": [],
   "source": [
    "print(greg_gdf.head())\n"
   ]
  },
  {
   "cell_type": "code",
   "execution_count": null,
   "metadata": {},
   "outputs": [],
   "source": [
    "greg_gdf.dtypes"
   ]
  },
  {
   "cell_type": "code",
   "execution_count": null,
   "metadata": {},
   "outputs": [],
   "source": [
    "greg_gdf.plot(marker='o', color = '#00FF00', markersize=5)"
   ]
  },
  {
   "cell_type": "code",
   "execution_count": null,
   "metadata": {},
   "outputs": [],
   "source": [
    "greg_gdf.to_file('el_Corrido_de_Gregorio_Cortez.shp')"
   ]
  }
 ],
 "metadata": {
  "kernelspec": {
   "display_name": "Python 3.10.5 ('venv': venv)",
   "language": "python",
   "name": "python3"
  },
  "language_info": {
   "codemirror_mode": {
    "name": "ipython",
    "version": 3
   },
   "file_extension": ".py",
   "mimetype": "text/x-python",
   "name": "python",
   "nbconvert_exporter": "python",
   "pygments_lexer": "ipython3",
   "version": "3.10.5"
  },
  "vscode": {
   "interpreter": {
    "hash": "e528f05ecdbf513f743da5c44906adca99a556c5207201bf3043358644070d32"
   }
  }
 },
 "nbformat": 4,
 "nbformat_minor": 2
}
