{
 "cells": [
  {
   "cell_type": "code",
   "execution_count": null,
   "metadata": {},
   "outputs": [],
   "source": [
    "import geopandas as geopd\n",
    "import fiona \n",
    "import shapely\n",
    "from shapely.geometry import Point\n",
    "from shapely.wkt import loads\n",
    "from matplotlib.colors import to_hex\n",
    "import matplotlib.pyplot as plot\n",
    "import seaborn \n",
    "#to limit geocoding rate in for loops\n",
    "from time import sleep "
   ]
  }
 ],
 "metadata": {
  "kernelspec": {
   "display_name": "Python 3.10.4 ('gregcortez_nlp')",
   "language": "python",
   "name": "python3"
  },
  "language_info": {
   "name": "python",
   "version": "3.10.4"
  },
  "orig_nbformat": 4,
  "vscode": {
   "interpreter": {
    "hash": "49740947d7d74a22ad4f691a1a22bf09cdbb00df7580bad83ece637f1ae94ca7"
   }
  }
 },
 "nbformat": 4,
 "nbformat_minor": 2
}
