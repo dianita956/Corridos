{
 "cells": [
  {
   "cell_type": "code",
   "execution_count": 32,
   "id": "d06f4599",
   "metadata": {},
   "outputs": [],
   "source": [
    "import csv\n",
    "import requests\n",
    "import geopandas as gpd\n",
    "import pandas as pd\n",
    "import json #javascript object notation to store data outside python. watch videos from Matt Digital Humanities. \n",
    "from bs4 import BeautifulSoup "
   ]
  },
  {
   "attachments": {},
   "cell_type": "markdown",
   "id": "04086688",
   "metadata": {},
   "source": [
    "## Web Scrap and Extract List of municipalities, ghost town, and unicorporated in Texas from Wiki \n",
    "\n",
    "https://en.wikipedia.org/wiki/List_of_municipalities_in_Texas\n"
   ]
  },
  {
   "cell_type": "code",
   "execution_count": 33,
   "id": "88779cc4",
   "metadata": {},
   "outputs": [
    {
     "ename": "AttributeError",
     "evalue": "'NoneType' object has no attribute 'find_all'",
     "output_type": "error",
     "traceback": [
      "\u001b[1;31m---------------------------------------------------------------------------\u001b[0m",
      "\u001b[1;31mAttributeError\u001b[0m                            Traceback (most recent call last)",
      "Cell \u001b[1;32mIn[33], line 39\u001b[0m\n\u001b[0;32m     36\u001b[0m     heading_extract(a,b)\n\u001b[0;32m     37\u001b[0m     table_extraction(a,b)\n\u001b[1;32m---> 39\u001b[0m do_all(\u001b[39m\"\u001b[39;49m\u001b[39mhttps://en.wikipedia.org/wiki/List_of_municipalities_in_Texas\u001b[39;49m\u001b[39m\"\u001b[39;49m,\u001b[39m\"\u001b[39;49m\u001b[39mList of municipalities in Texas\u001b[39;49m\u001b[39m\"\u001b[39;49m)\n",
      "Cell \u001b[1;32mIn[33], line 37\u001b[0m, in \u001b[0;36mdo_all\u001b[1;34m(a, b)\u001b[0m\n\u001b[0;32m     35\u001b[0m \u001b[39mdef\u001b[39;00m \u001b[39mdo_all\u001b[39m(a, b):\n\u001b[0;32m     36\u001b[0m     heading_extract(a,b)\n\u001b[1;32m---> 37\u001b[0m     table_extraction(a,b)\n",
      "Cell \u001b[1;32mIn[33], line 21\u001b[0m, in \u001b[0;36mtable_extraction\u001b[1;34m(a, b)\u001b[0m\n\u001b[0;32m     19\u001b[0m \u001b[39mwith\u001b[39;00m \u001b[39mopen\u001b[39m (file, \u001b[39m\"\u001b[39m\u001b[39ma+\u001b[39m\u001b[39m\"\u001b[39m, encoding\u001b[39m=\u001b[39m\u001b[39m\"\u001b[39m\u001b[39mutf-8\u001b[39m\u001b[39m\"\u001b[39m)\u001b[39mas\u001b[39;00m f: \n\u001b[0;32m     20\u001b[0m     rows\u001b[39m=\u001b[39m\u001b[39mlist\u001b[39m()\n\u001b[1;32m---> 21\u001b[0m     \u001b[39mfor\u001b[39;00m row \u001b[39min\u001b[39;00m table\u001b[39m.\u001b[39;49mfind_all(\u001b[39m\"\u001b[39m\u001b[39mtr\u001b[39m\u001b[39m\"\u001b[39m):   \n\u001b[0;32m     22\u001b[0m         headerString  \u001b[39m=\u001b[39m \u001b[39m\"\u001b[39m\u001b[39m\"\u001b[39m\n\u001b[0;32m     23\u001b[0m         dataString \u001b[39m=\u001b[39m \u001b[39m\"\u001b[39m\u001b[39m\"\u001b[39m\n",
      "\u001b[1;31mAttributeError\u001b[0m: 'NoneType' object has no attribute 'find_all'"
     ]
    }
   ],
   "source": [
    "def heading_extract(a,b):\n",
    "    url= a \n",
    "    file = f\"../corridos/{b}.txt\"\n",
    "    s = requests.get(url)\n",
    "    soup=BeautifulSoup(s.text, \"lxml\")#to tell the program to read the site as HTML (lxml)\n",
    "    #find a specific item from the website to make scrapping easier. \n",
    "    heading = soup.find(\"h1\",{\"id\": 'firstHeading'})\n",
    "    with open(file,\"a+\", encoding='utf-8') as f:\n",
    "             f.write(heading.get_text()+\"\\n\") #type:ignore\n",
    "              \n",
    "#heading_extract()#check file explore\n",
    "#ensure the text file is there and inputting data from the web.\n",
    "def table_extraction(a,b):\n",
    "    url= a \n",
    "    file = f\"../corridos/{b}.txt\"\n",
    "    s = requests.get(url)\n",
    "    soup= BeautifulSoup(s.text, \"lxml\") #to tell the program to read the site as HTML (lxml)\n",
    "    table = soup.find(\"table\", class_=\"wikitable sortable mw-collapsible\")\n",
    "    with open (file, \"a+\", encoding=\"utf-8\")as f: \n",
    "        rows=list()\n",
    "        for row in table.find_all(\"tr\"):   \n",
    "            headerString  = \"\"\n",
    "            dataString = \"\"\n",
    "            for th in row.find_all(\"th\"): \n",
    "                headerString  = headerString+th.get_text(strip=True)+\"|\"\n",
    "                print(headerString)\n",
    "                #ending a line break to organize the txt file\n",
    "            f.write(headerString)\n",
    "            f.write(\"\\n\")\n",
    "            for td in row.find_all(\"td\"):\n",
    "                dataString = dataString+td.get_text(strip=True)+\"|\"\n",
    "                \n",
    "            f.write(dataString)\n",
    "\n",
    "def do_all(a, b):\n",
    "    heading_extract(a,b)\n",
    "    table_extraction(a,b)\n",
    "\n",
    "do_all(\"https://en.wikipedia.org/wiki/List_of_municipalities_in_Texas\",\"List of municipalities in Texas\")"
   ]
  }
 ],
 "metadata": {
  "kernelspec": {
   "display_name": "Greg",
   "language": "python",
   "name": "python3"
  },
  "language_info": {
   "codemirror_mode": {
    "name": "ipython",
    "version": 3
   },
   "file_extension": ".py",
   "mimetype": "text/x-python",
   "name": "python",
   "nbconvert_exporter": "python",
   "pygments_lexer": "ipython3",
   "version": "3.9.13"
  },
  "vscode": {
   "interpreter": {
    "hash": "c33b8046986a03aa44ef4ea500a2630dcd79ff60fec54402ff1309c4dcbd3e63"
   }
  }
 },
 "nbformat": 4,
 "nbformat_minor": 5
}
