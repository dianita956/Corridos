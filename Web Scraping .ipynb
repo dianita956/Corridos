{
 "cells": [
  {
   "cell_type": "code",
   "execution_count": 2,
   "id": "19cc44e0",
   "metadata": {},
   "outputs": [
    {
     "data": {
      "text/plain": [
       "['ner']"
      ]
     },
     "execution_count": 2,
     "metadata": {},
     "output_type": "execute_result"
    }
   ],
   "source": [
    "from shapely.wkt import loads\n",
    "import pandas as pd\n",
    "import spacy\n",
    "from spacy import displacy\n",
    "import nltk\n",
    "nlp = spacy.load(\"en_core_web_lg\", disable=[\"tok2vec\", \"tagger\", \n",
    "                                            \"parser\", \"attribute_ruler\", \"lemmatizer\"])\n",
    "\n",
    "nlp.pipe_names"
   ]
  },
  {
   "cell_type": "code",
   "execution_count": 64,
   "id": "d06f4599",
   "metadata": {},
   "outputs": [],
   "source": [
    "import csv\n",
    "import requests\n",
    "import geopandas as gpd\n",
    "import pandas as pd"
   ]
  },
  {
   "cell_type": "code",
   "execution_count": 127,
   "id": "314ed36d",
   "metadata": {},
   "outputs": [],
   "source": [
    "import json #javascript object notation to store data outside python. watch videos from Matt Digital Humanities. \n",
    "from bs4 import BeautifulSoup "
   ]
  },
  {
   "attachments": {},
   "cell_type": "markdown",
   "id": "04086688",
   "metadata": {},
   "source": [
    "## Web Scrap and Extract List of municipalities, ghost town, and unicorporated in Texas from Wiki \n",
    "\n",
    "https://en.wikipedia.org/wiki/List_of_municipalities_in_Texas\n"
   ]
  },
  {
   "cell_type": "code",
   "execution_count": 139,
   "id": "88779cc4",
   "metadata": {},
   "outputs": [
    {
     "name": "stdout",
     "output_type": "stream",
     "text": [
      "Community|\n",
      "Community|County|\n",
      "Community|County|Population|\n",
      "Community|County|Population|Notes/Refs|\n"
     ]
    }
   ],
   "source": [
    "def heading_extract(a,b):\n",
    "    url= a \n",
    "    file = f\"../corridos/{b}.txt\"\n",
    "    s = requests.get(url)\n",
    "    soup=BeautifulSoup(s.text, \"lxml\")#to tell the program to read the site as HTML (lxml)\n",
    "    #find a specific item from the website to make scrapping easier. \n",
    "    heading = soup.find(\"h1\",{\"id\": 'firstHeading'})\n",
    "    with open(file,\"a+\", encoding='utf-8') as f:\n",
    "             f.write(heading.get_text() + \"\\n\")\n",
    "              \n",
    "#heading_extract()#check file explore\n",
    "#ensure the text file is there and inputting data from the web.\n",
    "\n",
    "def table_extraction(a,b):\n",
    "    url= a \n",
    "    file = f\"../corridos/{b}.txt\"\n",
    "    s = requests.get(url)\n",
    "    soup= BeautifulSoup(s.text, \"lxml\") #to tell the program to read the site as HTML (lxml)\n",
    "    table = soup.find(\"table\", class_=\"wikitable sortable mw-collapsible\")\n",
    "    with open (file, \"a+\", encoding=\"utf-8\")as f: \n",
    "        rows=list()\n",
    "        for row in table.findAll(\"tr\"):   \n",
    "            headerString  = \"\"\n",
    "            dataString = \"\"\n",
    "            for th in row.findAll(\"th\"): \n",
    "                headerString  = headerString+th.get_text(strip=True)+\"|\"\n",
    "                print(headerString)\n",
    "                #ending a line break to organize the txt file\n",
    "            f.write(headerString)\n",
    "            f.write(\"\\n\")\n",
    "            for td in row.findAll(\"td\"):\n",
    "                dataString = dataString+td.get_text(strip=True)+\"|\"\n",
    "                \n",
    "            f.write(dataString)\n",
    "                      \n",
    "#open(\"listofmunicipalitiesinTexasTest.txt\", 'w').close() #to clear text file content. \n",
    "#run only when needed\n",
    "\n",
    "def do_all(a, b):\n",
    "    heading_extract(a,b)\n",
    "    table_extraction(a,b)\n",
    "\n",
    "do_all(\"https://en.wikipedia.org/wiki/List_of_unincorporated_communities_in_Texas\", \"List of unincorporated communities in Texas\")"
   ]
  },
  {
   "attachments": {},
   "cell_type": "markdown",
   "id": "84adb368",
   "metadata": {},
   "source": [
    "Storing data to XML files with no library- tutorial video https://www.youtube.com/watch?v=WiWp2xqKLPo&list=PL2VXyKi-KpYtcluInhPJItpNBKIF3LO2k&index=23 and https://github.com/wjbmattingly/text2xmlnolibs/blob/main/main.py"
   ]
  },
  {
   "attachments": {},
   "cell_type": "markdown",
   "id": "33594807",
   "metadata": {},
   "source": [
    "instead used https://products.aspose.com/cells/python-java/conversion/txt-to-xml/ and https://pypi.org/project/aspose-cells/ "
   ]
  },
  {
   "cell_type": "markdown",
   "id": "a800d0da",
   "metadata": {},
   "source": [
    "import  aspose.cells \n",
    "from aspose.cells import Workbook\n",
    "workbook = Workbook(\"listofmunicipalitiesinTexasTest.txt\")\n",
    "workbook.save(\"texasplaces.xml\")"
   ]
  }
 ],
 "metadata": {
  "kernelspec": {
   "display_name": "Python 3",
   "language": "python",
   "name": "python3"
  },
  "language_info": {
   "codemirror_mode": {
    "name": "ipython",
    "version": 3
   },
   "file_extension": ".py",
   "mimetype": "text/x-python",
   "name": "python",
   "nbconvert_exporter": "python",
   "pygments_lexer": "ipython3",
   "version": "3.10.5 (tags/v3.10.5:f377153, Jun  6 2022, 16:14:13) [MSC v.1929 64 bit (AMD64)]"
  },
  "vscode": {
   "interpreter": {
    "hash": "e39562eedafb2bc4bc2d55a795e43d31f0728c54da22bf2831d65d51d3c6e3cd"
   }
  }
 },
 "nbformat": 4,
 "nbformat_minor": 5
}
