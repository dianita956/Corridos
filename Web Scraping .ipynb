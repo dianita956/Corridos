{
 "cells": [
  {
   "cell_type": "code",
   "execution_count": 2,
   "id": "d06f4599",
   "metadata": {},
   "outputs": [],
   "source": [
    "import csv\n",
    "import requests\n",
    "import geopandas as gpd\n",
    "import pandas as pd\n",
    "import json #javascript object notation to store data outside python. watch videos from Matt Digital Humanities. \n",
    "from bs4 import BeautifulSoup "
   ]
  },
  {
   "attachments": {},
   "cell_type": "markdown",
   "id": "04086688",
   "metadata": {},
   "source": [
    "## Web Scrap and Extract List of municipalities, ghost town, and unicorporated in Texas from Wiki \n",
    "\n",
    "https://en.wikipedia.org/wiki/List_of_municipalities_in_Texas\n"
   ]
  },
  {
   "cell_type": "code",
   "execution_count": 3,
   "id": "88779cc4",
   "metadata": {},
   "outputs": [],
   "source": [
    "'''\n",
    "def heading_extract(a,b):\n",
    "    url= a \n",
    "    file = f\"../corridos/{b}.txt\"\n",
    "    s = requests.get(url)\n",
    "    soup=BeautifulSoup(s.text, \"lxml\")#to tell the program to read the site as HTML (lxml)\n",
    "    #find a specific item from the website to make scrapping easier. \n",
    "    heading = soup.find(\"h1\",{\"id\": 'firstHeading'})\n",
    "    with open(file,\"a+\", encoding='utf-8') as f:\n",
    "            f.write(heading.get_text()+\"\\n\") #type:ignore\n",
    "              \n",
    "#heading_extract()#check file explore\n",
    "#ensure the text file is there and inputting data from the web.\n",
    "'''\n",
    "def table_extraction(a,b):\n",
    "    url= a \n",
    "    file = f\"../corridos/{b}.txt\"\n",
    "    s = requests.get(url)\n",
    "    soup= BeautifulSoup(s.text, \"lxml\") #to tell the program to read the site as HTML (lxml)\n",
    "    table = soup.find(\"table\", class_=\"wikitable sortable\")\n",
    "    with open (file, \"w\", encoding=\"utf-8\")as f: \n",
    "        #rows=list()\n",
    "        #headerString  = \"\"\n",
    "        dataString = \"\"\n",
    "        for row in table.find_all(\"tr\"):   \n",
    "            #for th in row.find_all(\"th\"): \n",
    "                #headerString  = headerString+th.get_text(strip=True)+\"|\"\n",
    "                #print(headerString)\n",
    "                #ending a line break to organize the txt file\n",
    "            for td in row.find_all(\"td\"):\n",
    "                dataString = dataString+td.get_text(strip=True)+\"|\"\n",
    "            dataString=dataString + \"\\n\"\n",
    "        #f.write(headerString)       \n",
    "        f.write(dataString)\n",
    "\n",
    "def do_all(a, b):\n",
    "    #heading_extract(a,b)\n",
    "    table_extraction(a,b)\n",
    "\n",
    "do_all(\"https://en.wikipedia.org/wiki/List_of_municipalities_in_Texas\",\"List of municipalities in Texas\")"
   ]
  }
 ],
 "metadata": {
  "kernelspec": {
   "display_name": "Greg",
   "language": "python",
   "name": "python3"
  },
  "language_info": {
   "codemirror_mode": {
    "name": "ipython",
    "version": 3
   },
   "file_extension": ".py",
   "mimetype": "text/x-python",
   "name": "python",
   "nbconvert_exporter": "python",
   "pygments_lexer": "ipython3",
   "version": "3.9.13 (main, Oct 13 2022, 21:23:06) [MSC v.1916 64 bit (AMD64)]"
  },
  "vscode": {
   "interpreter": {
    "hash": "c33b8046986a03aa44ef4ea500a2630dcd79ff60fec54402ff1309c4dcbd3e63"
   }
  }
 },
 "nbformat": 4,
 "nbformat_minor": 5
}
