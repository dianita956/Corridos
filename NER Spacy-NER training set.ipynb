{
 "cells": [
  {
   "cell_type": "code",
   "execution_count": null,
   "id": "d06f4599",
   "metadata": {},
   "outputs": [],
   "source": [
    "import spacy\n",
    "from spacy.lang.en import English\n",
    "from spacy.pipeline import EntityRuler\n",
    "import json\n",
    "import random"
   ]
  },
  {
   "cell_type": "code",
   "execution_count": null,
   "id": "688d5e0f",
   "metadata": {},
   "outputs": [],
   "source": [
    "def load_data(file):\n",
    "    with open (file, \"r\", encoding='utf-8') as f:\n",
    "        data = json.load(f)\n",
    "    return(data)"
   ]
  },
  {
   "cell_type": "code",
   "execution_count": null,
   "id": "d75f69ac",
   "metadata": {},
   "outputs": [],
   "source": [
    "def save_data(file, data):\n",
    "    with open (file, \"w\", encoding=\"utf-8\") as f:\n",
    "        json.dump(data, f, indent=4)"
   ]
  },
  {
   "cell_type": "code",
   "execution_count": null,
   "id": "c3a6d1e4",
   "metadata": {},
   "outputs": [],
   "source": [
    "tx_places = load_data(\"\")"
   ]
  },
  {
   "cell_type": "code",
   "execution_count": null,
   "id": "f613881c",
   "metadata": {},
   "outputs": [],
   "source": [
    "def test_model(model, text):\n",
    "    doc = nlp(text)\n",
    "    results= []\n",
    "    entities = []\n",
    "    for ent in doc.ents:\n",
    "        txplaces= ((ent.start_char, ent.end_char, ent.label_))\n",
    "        print(txplaces)\n",
    "    return (results)"
   ]
  },
  {
   "cell_type": "code",
   "execution_count": null,
   "id": "993c94f5",
   "metadata": {},
   "outputs": [],
   "source": [
    "nlp = spacy.load(\"tx_ner\")\n",
    "\n",
    "\n",
    "with open(\"./Corridos/list of municipaltities in Texas.txt\" ) as f:\n",
    "    text = f.read()"
   ]
  },
  {
   "cell_type": "code",
   "execution_count": null,
   "id": "126ac33b",
   "metadata": {},
   "outputs": [],
   "source": [
    "quatrains = text.split(\"Quatrain\")[1:]\n",
    "for quatrain in quatrains:\n",
    "    quatrain_num, quatrain_title = quatrain.split(\"\\n\\n\")[0:2]\n",
    "    quatrain_num = quatrain_num.strip()\n",
    "    lines = quatrain.split(\"\\n\\n\")[2:]\n",
    "    hits = []\n",
    "    for line in lines:\n",
    "        line = line.strip()\n",
    "        line = line.replace(\"\\n\", \" \")\n",
    "        results = test_model(nlp, line)\n",
    "        for result in results:\n",
    "            hits.append(result)\n",
    "    ie_data[quatrain_num] = hits\n",
    "\n",
    "save_data(\"./Corridos/corrido_data.json\", ie_data)"
   ]
  },
  {
   "cell_type": "code",
   "execution_count": null,
   "id": "22181ede",
   "metadata": {},
   "outputs": [],
   "source": [
    "#train_data = [(text, {\"entities\": [(start, end, label_)]})] "
   ]
  },
  {
   "cell_type": "code",
   "execution_count": null,
   "id": "19cc44e0",
   "metadata": {},
   "outputs": [],
   "source": [
    "nlp = spacy.load(\"en_core_web_lg\", disable=[\"tok2vec\", \"tagger\", \n",
    "                                            \"parser\", \"attribute_ruler\", \"lemmatizer\"])\n",
    "\n",
    "nlp.pipe_names"
   ]
  },
  {
   "attachments": {},
   "cell_type": "markdown",
   "id": "04086688",
   "metadata": {},
   "source": [
    "## Web Scrap and Extract List of municipalities, ghost town, and unicorporated in Texas from Wiki \n",
    "\n",
    "https://en.wikipedia.org/wiki/List_of_municipalities_in_Texas\n"
   ]
  }
 ],
 "metadata": {
  "kernelspec": {
   "display_name": "Greg",
   "language": "python",
   "name": "python3"
  },
  "language_info": {
   "codemirror_mode": {
    "name": "ipython",
    "version": 3
   },
   "file_extension": ".py",
   "mimetype": "text/x-python",
   "name": "python",
   "nbconvert_exporter": "python",
   "pygments_lexer": "ipython3",
   "version": "3.9.13"
  },
  "vscode": {
   "interpreter": {
    "hash": "c33b8046986a03aa44ef4ea500a2630dcd79ff60fec54402ff1309c4dcbd3e63"
   }
  }
 },
 "nbformat": 4,
 "nbformat_minor": 5
}
