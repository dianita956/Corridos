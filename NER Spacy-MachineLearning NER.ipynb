{
 "cells": [
  {
   "cell_type": "code",
   "execution_count": 1,
   "id": "d06f4599",
   "metadata": {},
   "outputs": [],
   "source": [
    "import spacy\n",
    "from spacy.lang.en import English\n",
    "from spacy.pipeline import EntityRuler\n",
    "import json\n",
    "import random"
   ]
  },
  {
   "cell_type": "code",
   "execution_count": 2,
   "id": "4920138c",
   "metadata": {},
   "outputs": [
    {
     "name": "stdout",
     "output_type": "stream",
     "text": [
      "['tok2vec', 'tagger', 'parser', 'attribute_ruler', 'lemmatizer', 'ner']\n",
      "Karnes GPE\n",
      "two CARDINAL\n",
      "Gregorio Cortez PERSON\n",
      "Cortez ORG\n",
      "Gregorio Cortez PERSON\n",
      "Gregorio Cortez PERSON\n",
      "Americans NORP\n",
      "Cortez ORG\n",
      "Americans NORP\n",
      "Cortez ORG\n",
      "Cortez\n",
      " PRODUCT\n",
      "Gonzales\n",
      " PERSON\n",
      "Gregorio Cortez PERSON\n",
      "Belmont GPE\n",
      "more than three hundred CARDINAL\n",
      "Gregorio Cortez PERSON\n",
      "Mexican NORP\n",
      "Gregorio Cortez PERSON\n",
      "Laredo ORG\n",
      "Gregorio Cortez PERSON\n",
      "Americans NORP\n",
      "El Encinal ORG\n",
      "Gregorio Cortez PERSON\n",
      "Mexican NORP\n",
      "Gregorio Cortez PERSON\n",
      "Cortez ORG\n",
      "Jesús PERSON\n",
      "The thousand dollars MONEY\n",
      "Cortez ORG\n",
      "the Major Sheriff ORG\n",
      "Cortez ORG\n",
      "Gregorio Cortez PERSON\n",
      "Gregorio Cortez PERSON\n",
      "Cortez ORG\n",
      "Cortez ORG\n"
     ]
    }
   ],
   "source": [
    "#rules based ner\n",
    "#1st open txt file from the corridos corpus folder\n",
    "with open (\"../Corridos/corrido corpus/ElCorridodeGregorioCortez_X.txt\", 'r', encoding='utf-8') as f:\n",
    "    text=f.read()#parsing a section of the song to work with.\n",
    "    nlp = spacy.load(\"en_core_web_lg\")\n",
    "    #print(nlp.pipe_names)\n",
    "    doc = nlp(text)\n",
    "    for ent in doc.ents:\n",
    "        print(ent.text, ent.label_)"
   ]
  },
  {
   "cell_type": "code",
   "execution_count": null,
   "id": "98d04c21",
   "metadata": {},
   "outputs": [],
   "source": [
    "tx_municipalities_ner = []\n",
    "#import data: tx_places.json\n",
    "with open (\"./data/TexasMunicipalities.json\", \"r\", encoding=\"utf-8\") as f:\n",
    "    tx_mun = json.load(f)\n",
    "    print(tx_mun)\n",
    "    \n",
    "        "
   ]
  },
  {
   "cell_type": "code",
   "execution_count": null,
   "id": "c022c596",
   "metadata": {},
   "outputs": [],
   "source": []
  }
 ],
 "metadata": {
  "kernelspec": {
   "display_name": "Greg",
   "language": "python",
   "name": "python3"
  },
  "language_info": {
   "codemirror_mode": {
    "name": "ipython",
    "version": 3
   },
   "file_extension": ".py",
   "mimetype": "text/x-python",
   "name": "python",
   "nbconvert_exporter": "python",
   "pygments_lexer": "ipython3",
   "version": "3.9.13"
  },
  "vscode": {
   "interpreter": {
    "hash": "c33b8046986a03aa44ef4ea500a2630dcd79ff60fec54402ff1309c4dcbd3e63"
   }
  }
 },
 "nbformat": 4,
 "nbformat_minor": 5
}
