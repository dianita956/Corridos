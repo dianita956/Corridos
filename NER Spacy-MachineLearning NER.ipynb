{
 "cells": [
  {
   "cell_type": "code",
   "execution_count": null,
   "id": "d06f4599",
   "metadata": {},
   "outputs": [],
   "source": [
    "import spacy\n",
    "from spacy.lang.en import English\n",
    "from spacy.pipeline import EntityRuler\n",
    "import json\n",
    "import random"
   ]
  },
  {
   "cell_type": "code",
   "execution_count": null,
   "id": "4920138c",
   "metadata": {},
   "outputs": [],
   "source": [
    "#1st open txt file from the corridos corpus folder\n",
    "with open (\"../Corridos/corrido corpus/ElCorridodeGregorioCortez_X.txt\", 'r', encoding='utf-8') as f:\n",
    "    text=f.read()#parsing a section of the song to work with.\n",
    "    nlp = spacy.load(\"en_core_web_lg\")\n",
    "    #print(nlp.pipe_names)\n",
    "    doc = nlp(text)\n",
    "    for ent in doc.ents:\n",
    "        print(ent.text, ent.label_)"
   ]
  },
  {
   "cell_type": "code",
   "execution_count": null,
   "id": "98d04c21",
   "metadata": {},
   "outputs": [],
   "source": [
    "#import data: .json\n",
    "file=(\"../Corridos/data/TexasMunicipalities.json\")\n",
    "def load_data(file):\n",
    "    with open (file, \"r\", encoding=\"utf-8\") as json_file:\n",
    "        tx_mun_data = json.load(json_file)\n",
    "    return(tx_mun_data) \n",
    "\n",
    "TRAIN_DATA= load_data(\"../Corridos/data/TexasMunicipalities.json\")\n",
    "print(TRAIN_DATA)"
   ]
  },
  {
   "cell_type": "code",
   "execution_count": null,
   "id": "c022c596",
   "metadata": {},
   "outputs": [],
   "source": [
    "#training model\n",
    "def create_training_data(file, type):\n",
    "    tx_municipalities_data = load_data(file)\n",
    "    patterns=[]\n",
    "    for item in tx_municipalities_data:\n",
    "        pattern = {\n",
    "                    \"label\":type,\n",
    "                    \"pattern\": item\n",
    "                    }\n",
    "        patterns.append(pattern)\n",
    "    return(patterns)\n",
    "\n",
    "\n",
    "def generate_rules(patterns):\n",
    "    nlp=English()\n",
    "    ruler = EntityRuler(nlp)\n",
    "    ruler.add_patterns(patterns)\n",
    "    nlp.add_pipe(\"ruler\")\n",
    "    nlp.to_disk(\"tx_ner\")\n",
    "\n",
    "\n",
    "patterns= create_training_data(\"../Corridos/data/TexasMunicipalities.json\", \"GPE\")\n",
    "generate_rules(patterns)\n",
    "\n",
    "#print(patterns)\n"
   ]
  }
 ],
 "metadata": {
  "kernelspec": {
   "display_name": "Greg",
   "language": "python",
   "name": "python3"
  },
  "language_info": {
   "codemirror_mode": {
    "name": "ipython",
    "version": 3
   },
   "file_extension": ".py",
   "mimetype": "text/x-python",
   "name": "python",
   "nbconvert_exporter": "python",
   "pygments_lexer": "ipython3",
   "version": "3.9.13 (main, Oct 13 2022, 21:23:06) [MSC v.1916 64 bit (AMD64)]"
  },
  "vscode": {
   "interpreter": {
    "hash": "c33b8046986a03aa44ef4ea500a2630dcd79ff60fec54402ff1309c4dcbd3e63"
   }
  }
 },
 "nbformat": 4,
 "nbformat_minor": 5
}
