{
 "cells": [
  {
   "cell_type": "code",
   "execution_count": null,
   "metadata": {},
   "outputs": [],
   "source": [
    "import geopandas as gpd\n",
    "from pyproj import CRS\n",
    "import pandas as pd\n",
    "import numpy as np\n",
    "\n",
    "from geograpy import places\n",
    "import re\n",
    "\n",
    "import geopy\n",
    "from geopy.geocoders import ArcGIS\n",
    "#from geopy.extra.rate_limiter import RateLimiter\n",
    "\n",
    "import shapely\n",
    "from shapely.geometry import Point\n",
    "from shapely.wkt import loads\n",
    "import plotly.express as px \n",
    "\n",
    "import contextily as cx\n",
    "import xyzservices.providers as xyz\n",
    "import matplotlib.pyplot as plt #to make sure there are no errors when plotting a graph\n",
    "import pyproj\n",
    "\n",
    "#import nltk\n",
    "\n",
    "import spacy\n",
    "from spacy import displacy\n",
    "\n",
    "import googlemaps\n",
    "\n",
    "import locationtagger\n",
    "nlp = spacy.load(\"en_core_web_sm\")"
   ]
  },
  {
   "cell_type": "code",
   "execution_count": null,
   "metadata": {},
   "outputs": [],
   "source": [
    "text = \"el_corrido_de_gregorio_cortez_x.txt\"\n",
    "with open(text, 'r', encoding='utf-8') as c:\n",
    "    text = c.read()\n",
    "    \n",
    "def clean_text(text):\n",
    "    cleaned= re.sub(r'[\":;,.“”]', \"\", text)\n",
    "    return(cleaned)\n",
    "text = clean_text(text)\n",
    "#print(text)\n",
    "\n",
    "\n",
    "TxGPE=[]\n",
    "nlp = spacy.load(\"tx_trained_ner\")\n",
    "doc =nlp(text) \n",
    "#print(doc)\n",
    "for ent in doc.ents:\n",
    "    #print(ent.text, ent.label_)\n",
    "    if ent.label_ == \"GPE\":\n",
    "        TxGPE.append(ent.text)\n",
    "print(TxGPE)"
   ]
  },
  {
   "cell_type": "code",
   "execution_count": null,
   "metadata": {},
   "outputs": [],
   "source": [
    "ents = [(e.text, e.start_char, e.end_char, e.label_)for e in doc.ents]\n",
    "print(ents)\n",
    "\n",
    "ents = [(e.text)for e in doc.ents]\n",
    "print(ents)"
   ]
  },
  {
   "cell_type": "code",
   "execution_count": null,
   "metadata": {},
   "outputs": [],
   "source": [
    "displacy.render(doc, style ='ent', jupyter=True, page=True)"
   ]
  },
  {
   "cell_type": "markdown",
   "metadata": {
    "extensions": {
     "jupyter_dashboards": {
      "version": 1,
      "views": {
       "grid_default": {},
       "report_default": {}
      }
     }
    }
   },
   "source": [
    "Geoparsing: Finding places from the corrido lyrics"
   ]
  },
  {
   "cell_type": "code",
   "execution_count": null,
   "metadata": {},
   "outputs": [],
   "source": [
    "df = pd.DataFrame(ents, columns=[\"NER_Places\"])\n",
    "geolocator = ArcGIS(user_agent='CorridosMap')\n",
    "geocode = lambda query: geolocator.geocode(\"%s, Texas\" % query)\n",
    "df['Location'] = df['NER_Places'].apply(geocode)\n",
    "#df['geometry'] = df['NER_Places'].apply(geocode)\n",
    "df"
   ]
  },
  {
   "cell_type": "code",
   "execution_count": null,
   "metadata": {},
   "outputs": [],
   "source": [
    "gdf = gpd.tools.geocode(df.Location, provider='ArcGIS')\n",
    "gdf"
   ]
  },
  {
   "cell_type": "code",
   "execution_count": null,
   "metadata": {},
   "outputs": [],
   "source": [
    "px.set_mapbox_access_token(open(\"mapboxtoken\").read())\n",
    "fig = px.line_mapbox(gdf,\n",
    "                        lat=gdf.geometry.y,\n",
    "                        lon=gdf.geometry.x,\n",
    "                        hover_name=\"address\",\n",
    "                       \n",
    "                        )\n",
    "\n",
    "fig.update_layout(mapbox_style=\"stamen-terrain\", mapbox_zoom=6, mapbox_center_lat = 29,\n",
    "    margin={\"r\":0,\"t\":0,\"l\":0,\"b\":0})\n",
    "\n",
    "\n",
    "\n",
    "fig.show()"
   ]
  },
  {
   "cell_type": "code",
   "execution_count": null,
   "metadata": {},
   "outputs": [],
   "source": [
    "gdf.to_json()"
   ]
  }
 ],
 "metadata": {
  "extensions": {
   "jupyter_dashboards": {
    "activeView": "grid_default",
    "version": 1,
    "views": {
     "grid_default": {
      "cellMargin": 10,
      "defaultCellHeight": 20,
      "maxColumns": 12,
      "name": "grid",
      "type": "grid"
     },
     "report_default": {
      "name": "report",
      "type": "report"
     }
    }
   }
  },
  "kernelspec": {
   "display_name": "base",
   "language": "python",
   "name": "python3"
  },
  "language_info": {
   "codemirror_mode": {
    "name": "ipython",
    "version": 3
   },
   "file_extension": ".py",
   "mimetype": "text/x-python",
   "name": "python",
   "nbconvert_exporter": "python",
   "pygments_lexer": "ipython3",
   "version": "3.9.16"
  },
  "vscode": {
   "interpreter": {
    "hash": "7f40ff472a9a0ca2bfce30638906388c1fcc2e125f59cf1635e8e7322faa5529"
   }
  }
 },
 "nbformat": 4,
 "nbformat_minor": 4
}
