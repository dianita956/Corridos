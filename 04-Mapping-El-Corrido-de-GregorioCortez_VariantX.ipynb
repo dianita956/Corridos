{
 "cells": [
  {
   "cell_type": "code",
   "execution_count": 50,
   "metadata": {},
   "outputs": [],
   "source": [
    "import geopandas as gpd\n",
    "import pandas as pd\n"
   ]
  },
  {
   "cell_type": "code",
   "execution_count": 51,
   "metadata": {},
   "outputs": [],
   "source": [
    "\n",
    "import re\n",
    "\n",
    "from geopy.geocoders import ArcGIS\n",
    "#from geopy.extra.rate_limiter import RateLimiter\n",
    "\n",
    "import plotly.express as px \n",
    "\n",
    "\n",
    "#import nltk\n",
    "\n",
    "import spacy\n",
    "from spacy import displacy\n"
   ]
  },
  {
   "cell_type": "code",
   "execution_count": 6,
   "metadata": {},
   "outputs": [],
   "source": [
    "#nlp = spacy.load(\"en_core_web_lg\")"
   ]
  },
  {
   "cell_type": "code",
   "execution_count": 52,
   "metadata": {},
   "outputs": [
    {
     "name": "stdout",
     "output_type": "stream",
     "text": [
      "['Karnes', 'Gonzales', 'Belmont', 'Laredo', 'Encinal']\n"
     ]
    }
   ],
   "source": [
    "text = \"corrido corpus/ElCorridodeGregorioCortez_X.txt\"\n",
    "with open(text, 'r', encoding='utf-8') as c:\n",
    "    text = c.read()\n",
    "    \n",
    "def clean_text(text):\n",
    "    cleaned= re.sub(r'[\":;,.“”]', \"\", text)\n",
    "    return(cleaned)\n",
    "text = clean_text(text)\n",
    "#print(text)\n",
    "\n",
    "\n",
    "TxGPE=[]\n",
    "nlp = spacy.load(\"tx_ner_model\")\n",
    "doc =nlp(text) \n",
    "#print(doc)\n",
    "for ent in doc.ents:\n",
    "    #print(ent.text, ent.label_)\n",
    "    if ent.label_ == \"GPE\":\n",
    "        TxGPE.append(ent.text)\n",
    "print(TxGPE)"
   ]
  },
  {
   "cell_type": "code",
   "execution_count": 53,
   "metadata": {},
   "outputs": [
    {
     "name": "stdout",
     "output_type": "stream",
     "text": [
      "[('Karnes', 18, 24, 'GPE'), ('Gonzales', 1051, 1059, 'GPE'), ('Belmont', 1140, 1147, 'GPE'), ('Laredo', 1550, 1556, 'GPE'), ('Encinal', 1864, 1871, 'GPE')]\n",
      "['Karnes', 'Gonzales', 'Belmont', 'Laredo', 'Encinal']\n"
     ]
    }
   ],
   "source": [
    "ents = [(e.text, e.start_char, e.end_char, e.label_)for e in doc.ents]\n",
    "print(ents)\n",
    "\n",
    "ents = [(e.text)for e in doc.ents]\n",
    "print(ents)"
   ]
  },
  {
   "cell_type": "code",
   "execution_count": 54,
   "metadata": {},
   "outputs": [
    {
     "data": {
      "text/html": [
       "<span class=\"tex2jax_ignore\"><!DOCTYPE html>\n",
       "<html lang=\"en\">\n",
       "    <head>\n",
       "        <title>displaCy</title>\n",
       "    </head>\n",
       "\n",
       "    <body style=\"font-size: 16px; font-family: -apple-system, BlinkMacSystemFont, 'Segoe UI', Helvetica, Arial, sans-serif, 'Apple Color Emoji', 'Segoe UI Emoji', 'Segoe UI Symbol'; padding: 4rem 2rem; direction: ltr\">\n",
       "<figure style=\"margin-bottom: 6rem\">\n",
       "<div class=\"entities\" style=\"line-height: 2.5; direction: ltr\">In the country of \n",
       "<mark class=\"entity\" style=\"background: #feca74; padding: 0.45em 0.6em; margin: 0 0.25em; line-height: 1; border-radius: 0.35em;\">\n",
       "    Karnes\n",
       "    <span style=\"font-size: 0.8em; font-weight: bold; line-height: 1; border-radius: 0.35em; vertical-align: middle; margin-left: 0.5rem\">GPE</span>\n",
       "</mark>\n",
       " <br>Look what has happened <br>The Major Sheriff died<br>Leaving Román badly wounded<br><br>It must have been two in the <br>afternoon<br>When people arrived<br>They said to one another<br>It is not known who killed him<br><br>They went around asking questions<br>About half an hour afterward <br>They found that the wrongdoer<br>Had been Gregorio Cortez<br><br>Now they have outlawed Cortez<br>Throughout the whole state<br>Let him be taken dead or alive <br>He has killed several men<br><br>They said Gregorio Cortez <br>With his pistol in his hand<br>I don’t regret that I killed him <br>I regret my brother’s death<br><br>Then said Gregorio Cortez <br>And his soul was all aflame <br>I don’t regret that I killed him<br>A man must defend himself<br><br>The Americans were coming <br>They were whiter than a dove <br>From the fear that they had <br>Of Cortez and of his pistol <br><br>Then the Americans said <br>Then they said fearfully<br>Come let us follow the trail<br>The wrongdoer is Cortez<br><br>They set the bloodhounds on him <br>So they could follow his trail <br>But trying to overtake  Cortez<br>Was like following a star <br><br>He struck out for \n",
       "<mark class=\"entity\" style=\"background: #feca74; padding: 0.45em 0.6em; margin: 0 0.25em; line-height: 1; border-radius: 0.35em;\">\n",
       "    Gonzales\n",
       "    <span style=\"font-size: 0.8em; font-weight: bold; line-height: 1; border-radius: 0.35em; vertical-align: middle; margin-left: 0.5rem\">GPE</span>\n",
       "</mark>\n",
       "<br>Without showing any fear<br>Follow me cowardly rangers <br>I am Gregorio Cortez<br><br>From \n",
       "<mark class=\"entity\" style=\"background: #feca74; padding: 0.45em 0.6em; margin: 0 0.25em; line-height: 1; border-radius: 0.35em;\">\n",
       "    Belmont\n",
       "    <span style=\"font-size: 0.8em; font-weight: bold; line-height: 1; border-radius: 0.35em; vertical-align: middle; margin-left: 0.5rem\">GPE</span>\n",
       "</mark>\n",
       " he went to the <br>ranch  <br>They succeeded in surrounding <br>him <br>Quite a few more than three hundred <br>But there he jumped their corral <br><br>When he jumped their corral <br>According to what we hear<br>They got into a gunfight<br>And he killed them another sheriff <br><br>Then said Gregorio Cortez <br>With his pistol in his hand <br>Don’t run you cowardly rangers <br>From just one Mexican<br><br>Gregorio Cortez went out <br>He went towards \n",
       "<mark class=\"entity\" style=\"background: #feca74; padding: 0.45em 0.6em; margin: 0 0.25em; line-height: 1; border-radius: 0.35em;\">\n",
       "    Laredo\n",
       "    <span style=\"font-size: 0.8em; font-weight: bold; line-height: 1; border-radius: 0.35em; vertical-align: middle; margin-left: 0.5rem\">GPE</span>\n",
       "</mark>\n",
       "<br>They decided not to follow <br>Because they were afraid of him<br><br>Then said Gregorio Cortez <br>What is the use of your scheming?<br>You cannot catch me<br>Even with those bloodhounds<br><br>Then the Americans said <br>If we catch you with him what <br>shall we do?<br>If we fight him man to man <br>Very few of us will return<br><br>Over by El \n",
       "<mark class=\"entity\" style=\"background: #feca74; padding: 0.45em 0.6em; margin: 0 0.25em; line-height: 1; border-radius: 0.35em;\">\n",
       "    Encinal\n",
       "    <span style=\"font-size: 0.8em; font-weight: bold; line-height: 1; border-radius: 0.35em; vertical-align: middle; margin-left: 0.5rem\">GPE</span>\n",
       "</mark>\n",
       " <br>According to what we hear <br>They made him a corral <br>And he killed them another sheriff <br><br>Then said Gregorio Cortez <br>Shooting out a lot of bullets<br>I have weathered thunderstorms<br>This little mist doesn’t bother me<br><br>Now he has met a Mexican<br>He says to him haughtily<br>tell me the news<br>I am Gregorio Cortez<br><br>It is said that because of me <br>Many people have been killed<br>I will surrender now<br>Because such things are not right<br><br>Cortez says to Jesús<br>At last you are going to see it<br>Go tell the rangers<br>To come and arrest me<br><br>All the rangers were coming <br>Coming so fast they even flew <br>For they wanted to get <br>The thousand dollars they were <br>offered <br><br>When they surrounded the house <br>Cortez suddenly appeared before<br>\tthem <br>You will take me if I’m willing <br>But not any other way<br><br>Then the Major Sheriff said <br>As if he was going to cry <br>Cortez hand over your weapons<br>We are not going to kill<br><br>Then said Gregorio Cortez<br>Shouting to them in a loud voice<br>I won’t surrender my arms<br>Until I am in a cell<br><br>Then said Gregorio Cortez<br>He said in his godly voice <br>I won’t surrender my arms<br>Until I’m inside a jail<br><br>Now they have taken Cortez<br>Now matters are at an end <br>His poor family<br>Are suffering in their hearts<br><br>Now with this I say farewell <br>In the shade of a cypress tree<br>This is the end of the singing <br>of the ballad of Cortez</div>\n",
       "</figure>\n",
       "</body>\n",
       "</html></span>"
      ],
      "text/plain": [
       "<IPython.core.display.HTML object>"
      ]
     },
     "metadata": {},
     "output_type": "display_data"
    }
   ],
   "source": [
    "displacy.render(doc, style ='ent', jupyter=True, page=True)"
   ]
  },
  {
   "cell_type": "markdown",
   "metadata": {
    "extensions": {
     "jupyter_dashboards": {
      "version": 1,
      "views": {
       "grid_default": {},
       "report_default": {}
      }
     }
    }
   },
   "source": [
    "Geoparsing: Finding places from the corrido lyrics"
   ]
  },
  {
   "cell_type": "code",
   "execution_count": 83,
   "metadata": {},
   "outputs": [
    {
     "data": {
      "text/html": [
       "<div>\n",
       "<style scoped>\n",
       "    .dataframe tbody tr th:only-of-type {\n",
       "        vertical-align: middle;\n",
       "    }\n",
       "\n",
       "    .dataframe tbody tr th {\n",
       "        vertical-align: top;\n",
       "    }\n",
       "\n",
       "    .dataframe thead th {\n",
       "        text-align: right;\n",
       "    }\n",
       "</style>\n",
       "<table border=\"1\" class=\"dataframe\">\n",
       "  <thead>\n",
       "    <tr style=\"text-align: right;\">\n",
       "      <th></th>\n",
       "      <th>NER_Places</th>\n",
       "      <th>Location</th>\n",
       "    </tr>\n",
       "  </thead>\n",
       "  <tbody>\n",
       "    <tr>\n",
       "      <th>0</th>\n",
       "      <td>Karnes</td>\n",
       "      <td>(Karnes County, Texas, (28.90574, -97.8594))</td>\n",
       "    </tr>\n",
       "    <tr>\n",
       "      <th>1</th>\n",
       "      <td>Gonzales</td>\n",
       "      <td>(Gonzales, Texas, (29.5155311, -97.4631481))</td>\n",
       "    </tr>\n",
       "    <tr>\n",
       "      <th>2</th>\n",
       "      <td>Belmont Site, Gonzales County</td>\n",
       "      <td>(Belmont, Texas, (29.5239597, -97.6865508))</td>\n",
       "    </tr>\n",
       "    <tr>\n",
       "      <th>3</th>\n",
       "      <td>Laredo</td>\n",
       "      <td>(Laredo, Texas, (27.5071293, -99.5074957))</td>\n",
       "    </tr>\n",
       "    <tr>\n",
       "      <th>4</th>\n",
       "      <td>Encinal</td>\n",
       "      <td>(Encinal, Texas, (28.041054, -99.354971))</td>\n",
       "    </tr>\n",
       "  </tbody>\n",
       "</table>\n",
       "</div>"
      ],
      "text/plain": [
       "                      NER_Places                                      Location\n",
       "0                         Karnes  (Karnes County, Texas, (28.90574, -97.8594))\n",
       "1                       Gonzales  (Gonzales, Texas, (29.5155311, -97.4631481))\n",
       "2  Belmont Site, Gonzales County   (Belmont, Texas, (29.5239597, -97.6865508))\n",
       "3                         Laredo    (Laredo, Texas, (27.5071293, -99.5074957))\n",
       "4                        Encinal     (Encinal, Texas, (28.041054, -99.354971))"
      ]
     },
     "execution_count": 83,
     "metadata": {},
     "output_type": "execute_result"
    }
   ],
   "source": [
    "df = pd.DataFrame(ents, columns=[\"NER_Places\"])\n",
    "geolocator = ArcGIS(user_agent='CorridosMap')\n",
    "geocode = lambda query: geolocator.geocode(\"%s, Texas\" % query)\n",
    "df['NER_Places'] = df['NER_Places'].replace('Belmont', 'Belmont Site, Gonzales County')\n",
    "df['Location'] = df['NER_Places'].apply(geocode)\n",
    "#df['geometry'] = df['NER_Places'].apply(geocode)\n",
    "df.dtypes\n",
    "df"
   ]
  },
  {
   "cell_type": "code",
   "execution_count": 85,
   "metadata": {},
   "outputs": [
    {
     "data": {
      "text/plain": [
       "0                           Karnes\n",
       "1                         Gonzales\n",
       "2    Belmont Site, Gonzales County\n",
       "3                           Laredo\n",
       "4                          Encinal\n",
       "Name: NER_Places, dtype: object"
      ]
     },
     "execution_count": 85,
     "metadata": {},
     "output_type": "execute_result"
    }
   ],
   "source": [
    "df.NER_Places\n"
   ]
  },
  {
   "cell_type": "code",
   "execution_count": 86,
   "metadata": {},
   "outputs": [
    {
     "data": {
      "text/html": [
       "<div>\n",
       "<style scoped>\n",
       "    .dataframe tbody tr th:only-of-type {\n",
       "        vertical-align: middle;\n",
       "    }\n",
       "\n",
       "    .dataframe tbody tr th {\n",
       "        vertical-align: top;\n",
       "    }\n",
       "\n",
       "    .dataframe thead th {\n",
       "        text-align: right;\n",
       "    }\n",
       "</style>\n",
       "<table border=\"1\" class=\"dataframe\">\n",
       "  <thead>\n",
       "    <tr style=\"text-align: right;\">\n",
       "      <th></th>\n",
       "      <th>geometry</th>\n",
       "      <th>address</th>\n",
       "    </tr>\n",
       "  </thead>\n",
       "  <tbody>\n",
       "    <tr>\n",
       "      <th>0</th>\n",
       "      <td>POINT (-97.90629 28.87919)</td>\n",
       "      <td>Karnes, Texas, United States</td>\n",
       "    </tr>\n",
       "    <tr>\n",
       "      <th>1</th>\n",
       "      <td>POINT (-97.51086 29.44366)</td>\n",
       "      <td>Gonzales, Texas, United States</td>\n",
       "    </tr>\n",
       "    <tr>\n",
       "      <th>2</th>\n",
       "      <td>POINT (-97.68751 29.52411)</td>\n",
       "      <td>Belmont, 78122, Texas, United States</td>\n",
       "    </tr>\n",
       "    <tr>\n",
       "      <th>3</th>\n",
       "      <td>POINT (-99.50745 27.50563)</td>\n",
       "      <td>Laredo, Texas, United States</td>\n",
       "    </tr>\n",
       "    <tr>\n",
       "      <th>4</th>\n",
       "      <td>POINT (-99.35521 28.04063)</td>\n",
       "      <td>Encinal, Texas, United States</td>\n",
       "    </tr>\n",
       "  </tbody>\n",
       "</table>\n",
       "</div>"
      ],
      "text/plain": [
       "                     geometry                               address\n",
       "0  POINT (-97.90629 28.87919)          Karnes, Texas, United States\n",
       "1  POINT (-97.51086 29.44366)        Gonzales, Texas, United States\n",
       "2  POINT (-97.68751 29.52411)  Belmont, 78122, Texas, United States\n",
       "3  POINT (-99.50745 27.50563)          Laredo, Texas, United States\n",
       "4  POINT (-99.35521 28.04063)         Encinal, Texas, United States"
      ]
     },
     "execution_count": 86,
     "metadata": {},
     "output_type": "execute_result"
    }
   ],
   "source": [
    "gdf = gpd.tools.geocode(df.Location)\n",
    "\n",
    "gdf"
   ]
  },
  {
   "cell_type": "code",
   "execution_count": 57,
   "metadata": {},
   "outputs": [
    {
     "data": {
      "text/html": [
       "<div>\n",
       "<style scoped>\n",
       "    .dataframe tbody tr th:only-of-type {\n",
       "        vertical-align: middle;\n",
       "    }\n",
       "\n",
       "    .dataframe tbody tr th {\n",
       "        vertical-align: top;\n",
       "    }\n",
       "\n",
       "    .dataframe thead th {\n",
       "        text-align: right;\n",
       "    }\n",
       "</style>\n",
       "<table border=\"1\" class=\"dataframe\">\n",
       "  <thead>\n",
       "    <tr style=\"text-align: right;\">\n",
       "      <th></th>\n",
       "      <th>geometry</th>\n",
       "      <th>address</th>\n",
       "      <th>lat</th>\n",
       "      <th>lon</th>\n",
       "    </tr>\n",
       "  </thead>\n",
       "  <tbody>\n",
       "    <tr>\n",
       "      <th>0</th>\n",
       "      <td>POINT (-97.90629 28.87919)</td>\n",
       "      <td>Karnes, Texas, United States</td>\n",
       "      <td>28.879186</td>\n",
       "      <td>-97.906289</td>\n",
       "    </tr>\n",
       "    <tr>\n",
       "      <th>1</th>\n",
       "      <td>POINT (-97.51086 29.44366)</td>\n",
       "      <td>Gonzales, Texas, United States</td>\n",
       "      <td>29.443655</td>\n",
       "      <td>-97.510864</td>\n",
       "    </tr>\n",
       "    <tr>\n",
       "      <th>2</th>\n",
       "      <td>POINT (-97.68751 29.52411)</td>\n",
       "      <td>Belmont, 78122, Texas, United States</td>\n",
       "      <td>29.524107</td>\n",
       "      <td>-97.687512</td>\n",
       "    </tr>\n",
       "    <tr>\n",
       "      <th>3</th>\n",
       "      <td>POINT (-99.50745 27.50563)</td>\n",
       "      <td>Laredo, Texas, United States</td>\n",
       "      <td>27.505625</td>\n",
       "      <td>-99.507452</td>\n",
       "    </tr>\n",
       "    <tr>\n",
       "      <th>4</th>\n",
       "      <td>POINT (-99.35521 28.04063)</td>\n",
       "      <td>Encinal, Texas, United States</td>\n",
       "      <td>28.040633</td>\n",
       "      <td>-99.355210</td>\n",
       "    </tr>\n",
       "  </tbody>\n",
       "</table>\n",
       "</div>"
      ],
      "text/plain": [
       "                     geometry                               address  \\\n",
       "0  POINT (-97.90629 28.87919)          Karnes, Texas, United States   \n",
       "1  POINT (-97.51086 29.44366)        Gonzales, Texas, United States   \n",
       "2  POINT (-97.68751 29.52411)  Belmont, 78122, Texas, United States   \n",
       "3  POINT (-99.50745 27.50563)          Laredo, Texas, United States   \n",
       "4  POINT (-99.35521 28.04063)         Encinal, Texas, United States   \n",
       "\n",
       "         lat        lon  \n",
       "0  28.879186 -97.906289  \n",
       "1  29.443655 -97.510864  \n",
       "2  29.524107 -97.687512  \n",
       "3  27.505625 -99.507452  \n",
       "4  28.040633 -99.355210  "
      ]
     },
     "execution_count": 57,
     "metadata": {},
     "output_type": "execute_result"
    }
   ],
   "source": [
    "gdf = gpd.GeoDataFrame(gdf, crs=\"EPSG:4326\")\n",
    "gdf[\"lat\"]=gdf['geometry'].y\n",
    "gdf [\"lon\"] = gdf['geometry'].x\n",
    "\n",
    "gdf"
   ]
  },
  {
   "cell_type": "code",
   "execution_count": 59,
   "metadata": {},
   "outputs": [
    {
     "ename": "ValueError",
     "evalue": "Mime type rendering requires nbformat>=4.2.0 but it is not installed",
     "output_type": "error",
     "traceback": [
      "\u001b[0;31m---------------------------------------------------------------------------\u001b[0m",
      "\u001b[0;31mValueError\u001b[0m                                Traceback (most recent call last)",
      "Cell \u001b[0;32mIn[59], line 12\u001b[0m\n\u001b[1;32m      2\u001b[0m fig \u001b[38;5;241m=\u001b[39m px\u001b[38;5;241m.\u001b[39mline_mapbox(gdf,\n\u001b[1;32m      3\u001b[0m                         lat\u001b[38;5;241m=\u001b[39mgdf\u001b[38;5;241m.\u001b[39mgeometry\u001b[38;5;241m.\u001b[39my,\n\u001b[1;32m      4\u001b[0m                         lon\u001b[38;5;241m=\u001b[39mgdf\u001b[38;5;241m.\u001b[39mgeometry\u001b[38;5;241m.\u001b[39mx,\n\u001b[1;32m      5\u001b[0m                         hover_name\u001b[38;5;241m=\u001b[39m\u001b[38;5;124m\"\u001b[39m\u001b[38;5;124maddress\u001b[39m\u001b[38;5;124m\"\u001b[39m,\n\u001b[1;32m      6\u001b[0m                        \n\u001b[1;32m      7\u001b[0m                         )\n\u001b[1;32m      9\u001b[0m fig\u001b[38;5;241m.\u001b[39mupdate_layout(mapbox_style\u001b[38;5;241m=\u001b[39m\u001b[38;5;124m\"\u001b[39m\u001b[38;5;124mstamen-terrain\u001b[39m\u001b[38;5;124m\"\u001b[39m, mapbox_zoom\u001b[38;5;241m=\u001b[39m\u001b[38;5;241m6\u001b[39m, mapbox_center_lat \u001b[38;5;241m=\u001b[39m \u001b[38;5;241m29\u001b[39m,\n\u001b[1;32m     10\u001b[0m     margin\u001b[38;5;241m=\u001b[39m{\u001b[38;5;124m\"\u001b[39m\u001b[38;5;124mr\u001b[39m\u001b[38;5;124m\"\u001b[39m:\u001b[38;5;241m0\u001b[39m,\u001b[38;5;124m\"\u001b[39m\u001b[38;5;124mt\u001b[39m\u001b[38;5;124m\"\u001b[39m:\u001b[38;5;241m0\u001b[39m,\u001b[38;5;124m\"\u001b[39m\u001b[38;5;124ml\u001b[39m\u001b[38;5;124m\"\u001b[39m:\u001b[38;5;241m0\u001b[39m,\u001b[38;5;124m\"\u001b[39m\u001b[38;5;124mb\u001b[39m\u001b[38;5;124m\"\u001b[39m:\u001b[38;5;241m0\u001b[39m})\n\u001b[0;32m---> 12\u001b[0m \u001b[43mfig\u001b[49m\u001b[38;5;241;43m.\u001b[39;49m\u001b[43mshow\u001b[49m\u001b[43m(\u001b[49m\u001b[43m)\u001b[49m\n",
      "File \u001b[0;32m~/Documents/GitHub/Corridos/.p3venv/lib/python3.9/site-packages/plotly/basedatatypes.py:3410\u001b[0m, in \u001b[0;36mBaseFigure.show\u001b[0;34m(self, *args, **kwargs)\u001b[0m\n\u001b[1;32m   3377\u001b[0m \u001b[38;5;250m\u001b[39m\u001b[38;5;124;03m\"\"\"\u001b[39;00m\n\u001b[1;32m   3378\u001b[0m \u001b[38;5;124;03mShow a figure using either the default renderer(s) or the renderer(s)\u001b[39;00m\n\u001b[1;32m   3379\u001b[0m \u001b[38;5;124;03mspecified by the renderer argument\u001b[39;00m\n\u001b[0;32m   (...)\u001b[0m\n\u001b[1;32m   3406\u001b[0m \u001b[38;5;124;03mNone\u001b[39;00m\n\u001b[1;32m   3407\u001b[0m \u001b[38;5;124;03m\"\"\"\u001b[39;00m\n\u001b[1;32m   3408\u001b[0m \u001b[38;5;28;01mimport\u001b[39;00m \u001b[38;5;21;01mplotly\u001b[39;00m\u001b[38;5;21;01m.\u001b[39;00m\u001b[38;5;21;01mio\u001b[39;00m \u001b[38;5;28;01mas\u001b[39;00m \u001b[38;5;21;01mpio\u001b[39;00m\n\u001b[0;32m-> 3410\u001b[0m \u001b[38;5;28;01mreturn\u001b[39;00m \u001b[43mpio\u001b[49m\u001b[38;5;241;43m.\u001b[39;49m\u001b[43mshow\u001b[49m\u001b[43m(\u001b[49m\u001b[38;5;28;43mself\u001b[39;49m\u001b[43m,\u001b[49m\u001b[43m \u001b[49m\u001b[38;5;241;43m*\u001b[39;49m\u001b[43margs\u001b[49m\u001b[43m,\u001b[49m\u001b[43m \u001b[49m\u001b[38;5;241;43m*\u001b[39;49m\u001b[38;5;241;43m*\u001b[39;49m\u001b[43mkwargs\u001b[49m\u001b[43m)\u001b[49m\n",
      "File \u001b[0;32m~/Documents/GitHub/Corridos/.p3venv/lib/python3.9/site-packages/plotly/io/_renderers.py:394\u001b[0m, in \u001b[0;36mshow\u001b[0;34m(fig, renderer, validate, **kwargs)\u001b[0m\n\u001b[1;32m    389\u001b[0m         \u001b[38;5;28;01mraise\u001b[39;00m \u001b[38;5;167;01mValueError\u001b[39;00m(\n\u001b[1;32m    390\u001b[0m             \u001b[38;5;124m\"\u001b[39m\u001b[38;5;124mMime type rendering requires ipython but it is not installed\u001b[39m\u001b[38;5;124m\"\u001b[39m\n\u001b[1;32m    391\u001b[0m         )\n\u001b[1;32m    393\u001b[0m     \u001b[38;5;28;01mif\u001b[39;00m \u001b[38;5;129;01mnot\u001b[39;00m nbformat \u001b[38;5;129;01mor\u001b[39;00m Version(nbformat\u001b[38;5;241m.\u001b[39m__version__) \u001b[38;5;241m<\u001b[39m Version(\u001b[38;5;124m\"\u001b[39m\u001b[38;5;124m4.2.0\u001b[39m\u001b[38;5;124m\"\u001b[39m):\n\u001b[0;32m--> 394\u001b[0m         \u001b[38;5;28;01mraise\u001b[39;00m \u001b[38;5;167;01mValueError\u001b[39;00m(\n\u001b[1;32m    395\u001b[0m             \u001b[38;5;124m\"\u001b[39m\u001b[38;5;124mMime type rendering requires nbformat>=4.2.0 but it is not installed\u001b[39m\u001b[38;5;124m\"\u001b[39m\n\u001b[1;32m    396\u001b[0m         )\n\u001b[1;32m    398\u001b[0m     ipython_display\u001b[38;5;241m.\u001b[39mdisplay(bundle, raw\u001b[38;5;241m=\u001b[39m\u001b[38;5;28;01mTrue\u001b[39;00m)\n\u001b[1;32m    400\u001b[0m \u001b[38;5;66;03m# external renderers\u001b[39;00m\n",
      "\u001b[0;31mValueError\u001b[0m: Mime type rendering requires nbformat>=4.2.0 but it is not installed"
     ]
    }
   ],
   "source": [
    "px.set_mapbox_access_token(open(\"mapboxtoken\").read())\n",
    "fig = px.line_mapbox(gdf,\n",
    "                        lat=gdf.geometry.y,\n",
    "                        lon=gdf.geometry.x,\n",
    "                        hover_name=\"address\",\n",
    "                       \n",
    "                        )\n",
    "\n",
    "fig.update_layout(mapbox_style=\"stamen-terrain\", mapbox_zoom=6, mapbox_center_lat = 29,\n",
    "    margin={\"r\":0,\"t\":0,\"l\":0,\"b\":0})\n",
    "\n",
    "fig.show()"
   ]
  }
 ],
 "metadata": {
  "extensions": {
   "jupyter_dashboards": {
    "activeView": "grid_default",
    "version": 1,
    "views": {
     "grid_default": {
      "cellMargin": 10,
      "defaultCellHeight": 20,
      "maxColumns": 12,
      "name": "grid",
      "type": "grid"
     },
     "report_default": {
      "name": "report",
      "type": "report"
     }
    }
   }
  },
  "kernelspec": {
   "display_name": "base",
   "language": "python",
   "name": "python3"
  },
  "language_info": {
   "codemirror_mode": {
    "name": "ipython",
    "version": 3
   },
   "file_extension": ".py",
   "mimetype": "text/x-python",
   "name": "python",
   "nbconvert_exporter": "python",
   "pygments_lexer": "ipython3",
   "version": "3.9.6"
  },
  "vscode": {
   "interpreter": {
    "hash": "7f40ff472a9a0ca2bfce30638906388c1fcc2e125f59cf1635e8e7322faa5529"
   }
  }
 },
 "nbformat": 4,
 "nbformat_minor": 4
}
