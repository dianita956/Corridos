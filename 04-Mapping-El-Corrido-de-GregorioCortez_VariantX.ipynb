{
 "cells": [
  {
   "cell_type": "code",
   "execution_count": null,
   "metadata": {},
   "outputs": [],
   "source": [
    "import geopandas as gpd\n",
    "import pandas as pd\n",
    "import matplotlib.pyplot as plt\n",
    "from geodatasets import get_path "
   ]
  },
  {
   "cell_type": "code",
   "execution_count": null,
   "metadata": {},
   "outputs": [],
   "source": [
    "\n",
    "import re\n",
    "\n",
    "from geopy.geocoders import ArcGIS\n",
    "#from geopy.extra.rate_limiter import RateLimiter\n",
    "\n",
    "import plotly.express as px \n",
    "\n",
    "\n",
    "#import nltk\n",
    "\n",
    "import spacy\n",
    "from spacy import displacy\n"
   ]
  },
  {
   "cell_type": "code",
   "execution_count": null,
   "metadata": {},
   "outputs": [],
   "source": [
    "#nlp = spacy.load(\"en_core_web_lg\")"
   ]
  },
  {
   "cell_type": "code",
   "execution_count": null,
   "metadata": {},
   "outputs": [],
   "source": [
    "text = \"corrido corpus/ElCorridodeGregorioCortez_X.txt\"\n",
    "with open(text, 'r', encoding='utf-8') as c:\n",
    "    text = c.read()\n",
    "    \n",
    "def clean_text(text):\n",
    "    cleaned= re.sub(r'[\":;,.“”]', \"\", text)\n",
    "    return(cleaned)\n",
    "text = clean_text(text)\n",
    "#print(text)\n",
    "\n",
    "\n",
    "TxGPE=[]\n",
    "nlp = spacy.load(\"tx_ner_model\")\n",
    "doc =nlp(text) \n",
    "#print(doc)\n",
    "for ent in doc.ents:\n",
    "    #print(ent.text, ent.label_)\n",
    "    if ent.label_ == \"GPE\":\n",
    "        TxGPE.append(ent.text)\n",
    "print(TxGPE)"
   ]
  },
  {
   "cell_type": "code",
   "execution_count": null,
   "metadata": {},
   "outputs": [],
   "source": [
    "ents = [(e.text, e.start_char, e.end_char, e.label_)for e in doc.ents]\n",
    "print(ents)\n",
    "\n",
    "ents = [(e.text)for e in doc.ents]\n",
    "print(ents)"
   ]
  },
  {
   "cell_type": "code",
   "execution_count": null,
   "metadata": {},
   "outputs": [],
   "source": [
    "displacy.render(doc, style ='ent', jupyter=True, page=True)"
   ]
  },
  {
   "cell_type": "markdown",
   "metadata": {
    "extensions": {
     "jupyter_dashboards": {
      "version": 1,
      "views": {
       "grid_default": {},
       "report_default": {}
      }
     }
    }
   },
   "source": [
    "Geoparsing: Finding places from the corrido lyrics"
   ]
  },
  {
   "cell_type": "code",
   "execution_count": null,
   "metadata": {},
   "outputs": [],
   "source": [
    "df = pd.DataFrame(ents, columns=[\"NER_Places\"])\n",
    "geolocator = ArcGIS(user_agent='CorridosMap')\n",
    "geocode = lambda query: geolocator.geocode(\"%s, Texas\" % query)\n",
    "df['NER_Places'] = df['NER_Places'].replace('Belmont', 'Belmont Site, Gonzales County')\n",
    "df['Location'] = df['NER_Places'].apply(geocode)\n",
    "#df['geometry'] = df['NER_Places'].apply(geocode)\n",
    "df.dtypes\n",
    "df"
   ]
  },
  {
   "cell_type": "code",
   "execution_count": null,
   "metadata": {},
   "outputs": [],
   "source": [
    "df.NER_Places"
   ]
  },
  {
   "cell_type": "code",
   "execution_count": null,
   "metadata": {},
   "outputs": [],
   "source": [
    "gdf = geopandas.GeoDataFrame(\n",
    "    df, geometry=geopandas.points_from_xy(df.Longitude, df.Latitude), crs=\"EPSG:4326\"\n",
    ")"
   ]
  },
  {
   "cell_type": "code",
   "execution_count": null,
   "metadata": {},
   "outputs": [],
   "source": [
    "gdf = gpd.tools.geocode(df.Location)\n",
    "\n",
    "gdf"
   ]
  },
  {
   "cell_type": "code",
   "execution_count": null,
   "metadata": {},
   "outputs": [],
   "source": [
    "gdf = gpd.GeoDataFrame(gdf, crs=\"EPSG:4326\")\n",
    "gdf[\"lat\"]=gdf['geometry'].y\n",
    "gdf [\"lon\"] = gdf['geometry'].x\n",
    "\n",
    "gdf"
   ]
  },
  {
   "cell_type": "code",
   "execution_count": null,
   "metadata": {},
   "outputs": [],
   "source": [
    "px.set_mapbox_access_token(open(\"mapboxtoken\").read())\n",
    "fig = px.line_mapbox(gdf,\n",
    "                        lat=gdf.geometry.y,\n",
    "                        lon=gdf.geometry.x,\n",
    "                        hover_name=\"address\",\n",
    "            \n",
    "                        )\n",
    "\n",
    "fig.update_layout(mapbox_style=\"open-street-map\", mapbox_zoom=6, mapbox_center_lat = 29,\n",
    "    margin={\"r\":0,\"t\":0,\"l\":0,\"b\":0})\n",
    "\n",
    "fig.show()"
   ]
  }
 ],
 "metadata": {
  "extensions": {
   "jupyter_dashboards": {
    "activeView": "grid_default",
    "version": 1,
    "views": {
     "grid_default": {
      "cellMargin": 10,
      "defaultCellHeight": 20,
      "maxColumns": 12,
      "name": "grid",
      "type": "grid"
     },
     "report_default": {
      "name": "report",
      "type": "report"
     }
    }
   }
  },
  "kernelspec": {
   "display_name": ".p3venv",
   "language": "python",
   "name": "python3"
  },
  "language_info": {
   "codemirror_mode": {
    "name": "ipython",
    "version": 3
   },
   "file_extension": ".py",
   "mimetype": "text/x-python",
   "name": "python",
   "nbconvert_exporter": "python",
   "pygments_lexer": "ipython3",
   "version": "3.9.6"
  }
 },
 "nbformat": 4,
 "nbformat_minor": 4
}
