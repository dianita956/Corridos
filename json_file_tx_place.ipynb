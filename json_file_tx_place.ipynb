{
 "cells": [
  {
   "cell_type": "code",
   "execution_count": null,
   "metadata": {},
   "outputs": [],
   "source": [
    "import json\n",
    "\n",
    "def write_json(data, filename=\"tx_places_test.json\"): #passing data to the file\n",
    "    with open(filename, \"w\") as f:\n",
    "        json.dump(data, f, indent=4)\n",
    "\n",
    "with open(\"tx_places.json\", \"r\") as json_file: #append the data file\n",
    "    data = json.load(json_file)\n",
    "    temp = data[\"places\"]\n",
    "    y = {\"Municipality\" : \"El Paso\",\n",
    "            \"Designation\" : \"city\",\n",
    "            \"Primary County\": \"El Paso\", \n",
    "            \"Secondary County(ies)\" : \" \"}\n",
    "\n",
    "\n",
    "    temp.append(y)\n",
    "\n",
    "write_json(data)\n"
   ]
  },
  {
   "cell_type": "code",
   "execution_count": 7,
   "metadata": {},
   "outputs": [
    {
     "name": "stdout",
     "output_type": "stream",
     "text": [
      "1221\n"
     ]
    }
   ],
   "source": [
    "import json\n",
    "#file to convert\n",
    "file=\"../Corridos/List of municipalities in Texas.txt\" \n",
    "#create a list to store data\n",
    "dictionary= {}\n",
    "places = []\n",
    "#read file\n",
    "with open(file) as f:\n",
    "    for d in f:\n",
    "        #print(d)\n",
    "        #read lines from file, creating vars based on position and indicator of info needed\n",
    "        rank, municipality, designation, county, county2, data = d.strip().split(\"|\", 5)\n",
    "       \n",
    "        x={\n",
    "            \"Municipality\": municipality,\n",
    "            \"Designation\": designation,\n",
    "            \"Primary County\": county,\n",
    "            \"Secondary County(ies)\": county2\n",
    "        }\n",
    "        places.append(x)\n",
    "\n",
    "\n",
    "print(len(places))\n",
    "#create json output file\n",
    "out_file = open(\"../Corridos/data/tx_places.json\", \"w\")\n",
    "json.dump(dictionary, out_file, indent=4) \n",
    "out_file.close()\n",
    "\n",
    "#run code\n"
   ]
  },
  {
   "cell_type": "code",
   "execution_count": null,
   "metadata": {},
   "outputs": [],
   "source": [
    "print(places)"
   ]
  }
 ],
 "metadata": {
  "kernelspec": {
   "display_name": "Greg",
   "language": "python",
   "name": "python3"
  },
  "language_info": {
   "codemirror_mode": {
    "name": "ipython",
    "version": 3
   },
   "file_extension": ".py",
   "mimetype": "text/x-python",
   "name": "python",
   "nbconvert_exporter": "python",
   "pygments_lexer": "ipython3",
   "version": "3.9.13"
  },
  "orig_nbformat": 4,
  "vscode": {
   "interpreter": {
    "hash": "c33b8046986a03aa44ef4ea500a2630dcd79ff60fec54402ff1309c4dcbd3e63"
   }
  }
 },
 "nbformat": 4,
 "nbformat_minor": 2
}
