{
 "cells": [
  {
   "cell_type": "code",
   "execution_count": 102,
   "metadata": {},
   "outputs": [
    {
     "ename": "ValueError",
     "evalue": "too many values to unpack (expected 5)",
     "output_type": "error",
     "traceback": [
      "\u001b[1;31m---------------------------------------------------------------------------\u001b[0m",
      "\u001b[1;31mValueError\u001b[0m                                Traceback (most recent call last)",
      "Cell \u001b[1;32mIn[102], line 12\u001b[0m\n\u001b[0;32m      8\u001b[0m \u001b[39mwith\u001b[39;00m \u001b[39mopen\u001b[39m(file, encoding\u001b[39m=\u001b[39m\u001b[39m'\u001b[39m\u001b[39mutf-8\u001b[39m\u001b[39m'\u001b[39m) \u001b[39mas\u001b[39;00m f:\n\u001b[0;32m      9\u001b[0m     \u001b[39mfor\u001b[39;00m d \u001b[39min\u001b[39;00m f:\n\u001b[0;32m     10\u001b[0m         \u001b[39m#print(d)\u001b[39;00m\n\u001b[0;32m     11\u001b[0m         \u001b[39m#read lines from file, creating vars based on position and indicator of info needed\u001b[39;00m\n\u001b[1;32m---> 12\u001b[0m         rank, municipality, designation, county, county2 \u001b[39m=\u001b[39m d\u001b[39m.\u001b[39mstrip(\u001b[39m\"\u001b[39m\u001b[39m \u001b[39m\u001b[39m\"\u001b[39m)\u001b[39m.\u001b[39msplit(\u001b[39m\"\u001b[39m\u001b[39m|\u001b[39m\u001b[39m\"\u001b[39m, \u001b[39m5\u001b[39m)\n\u001b[0;32m     13\u001b[0m         x\u001b[39m=\u001b[39m{\n\u001b[0;32m     14\u001b[0m             \u001b[39m\"\u001b[39m\u001b[39mMunicipality\u001b[39m\u001b[39m\"\u001b[39m: municipality,\n\u001b[0;32m     15\u001b[0m             \u001b[39m#\"Designation\": designation,\u001b[39;00m\n\u001b[0;32m     16\u001b[0m             \u001b[39m\"\u001b[39m\u001b[39mPrimary County\u001b[39m\u001b[39m\"\u001b[39m: county,\n\u001b[0;32m     17\u001b[0m             \u001b[39m\"\u001b[39m\u001b[39mSecondary County(ies)\u001b[39m\u001b[39m\"\u001b[39m: county2\n\u001b[0;32m     18\u001b[0m         }\n\u001b[0;32m     19\u001b[0m         municipalitylist\u001b[39m.\u001b[39mappend(x)\n",
      "\u001b[1;31mValueError\u001b[0m: too many values to unpack (expected 5)"
     ]
    }
   ],
   "source": [
    "import json\n",
    "#file to convert\n",
    "file= (\"../Corridos/List of municipalities in Texas.txt\")\n",
    "#create a list to store data\n",
    "dictionary= {}\n",
    "municipalitylist = []\n",
    "#read file\n",
    "with open(file, encoding='utf-8') as f:\n",
    "    for d in f:\n",
    "        #print(d)\n",
    "        #read lines from file, creating vars based on position and indicator of info needed\n",
    "        rank, municipality, designation, county, county2 = d.strip(\" \").split(\"|\", 5)\n",
    "        x={\n",
    "            \"Municipality\": municipality,\n",
    "            #\"Designation\": designation,\n",
    "            \"Primary County\": county,\n",
    "            \"Secondary County(ies)\": county2\n",
    "        }\n",
    "        municipalitylist.append(x)\n",
    "        #print(municipalitylist)\n",
    "\n",
    "\n",
    "dictionary[\"List of Municipalities\"] = municipalitylist\n",
    "\n",
    "#print(municipalitylist)\n",
    "#print(dictionary)\n",
    "\n",
    "#print(len(dictionary))\n",
    "#create json output file\n",
    "out_file = open(\"../Corridos/data/TexasMunicipalities.json\", \"w\")\n",
    "json.dump(dictionary, out_file, indent=4) \n",
    "out_file.close()\n",
    "\n",
    "#run code"
   ]
  },
  {
   "cell_type": "code",
   "execution_count": 16,
   "metadata": {},
   "outputs": [
    {
     "name": "stdout",
     "output_type": "stream",
     "text": [
      "1\n"
     ]
    }
   ],
   "source": [
    "import json\n",
    "#file to convert\n",
    "file=\"../Corridos/List of ghost towns in Texas.txt\" \n",
    "#create a list to store data\n",
    "dictionary= {}\n",
    "ghosttownlist = []\n",
    "#read file\n",
    "with open(file) as f:\n",
    "    for d in f:\n",
    "        #print(d)\n",
    "        #read lines from file, creating vars based on position and indicator of info needed\n",
    "        name, maincounty, other = d.strip().split(\"|\", 2)\n",
    "       \n",
    "        x={\n",
    "            \"Name\":name,\n",
    "            \"County\":maincounty\n",
    "        }\n",
    "        ghosttownlist.append(x)\n",
    "\n",
    "dictionary[\"ghost town\"] = ghosttownlist\n",
    "\n",
    "print(len(dictionary))\n",
    "#create json output file\n",
    "out_file = open(\"../Corridos/data/TexasGhostTowns.json\", \"w\")\n",
    "json.dump(dictionary, out_file, indent=4) \n",
    "out_file.close()\n",
    "\n",
    "#run code"
   ]
  },
  {
   "cell_type": "code",
   "execution_count": 17,
   "metadata": {},
   "outputs": [
    {
     "name": "stdout",
     "output_type": "stream",
     "text": [
      "1\n"
     ]
    }
   ],
   "source": [
    "import json\n",
    "#file to convert\n",
    "file=\"../Corridos/List of unincorporated communities in Texas.txt\" \n",
    "#create a list to store data\n",
    "dictionary= {}\n",
    "unincorparatedcommunitieslist = []\n",
    "#read file\n",
    "with open(file) as f:\n",
    "    for d in f:\n",
    "        #print(d)\n",
    "        #read lines from file, creating vars based on position and indicator of info needed\n",
    "        name, county, other = d.strip().split(\"|\", 2)\n",
    "       \n",
    "        x={\n",
    "            \"Community Name\":name,\n",
    "            \"County\": county\n",
    "        }\n",
    "        unincorparatedcommunitieslist.append(x)\n",
    "\n",
    "dictionary[\"unincorparated communities\"] = unincorparatedcommunitieslist\n",
    "\n",
    "print(len(dictionary))\n",
    "#create json output file\n",
    "out_file = open(\"../Corridos/data/TexasInuncorparatedCommunities.json\", \"w\")\n",
    "json.dump(dictionary, out_file, indent=4) \n",
    "out_file.close()\n",
    "\n",
    "#run code"
   ]
  }
 ],
 "metadata": {
  "kernelspec": {
   "display_name": "Greg",
   "language": "python",
   "name": "python3"
  },
  "language_info": {
   "codemirror_mode": {
    "name": "ipython",
    "version": 3
   },
   "file_extension": ".py",
   "mimetype": "text/x-python",
   "name": "python",
   "nbconvert_exporter": "python",
   "pygments_lexer": "ipython3",
   "version": "3.9.13 (main, Oct 13 2022, 21:23:06) [MSC v.1916 64 bit (AMD64)]"
  },
  "orig_nbformat": 4,
  "vscode": {
   "interpreter": {
    "hash": "c33b8046986a03aa44ef4ea500a2630dcd79ff60fec54402ff1309c4dcbd3e63"
   }
  }
 },
 "nbformat": 4,
 "nbformat_minor": 2
}
