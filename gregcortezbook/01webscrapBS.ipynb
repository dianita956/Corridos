{
  "cells": [
    {
      "cell_type": "markdown",
      "metadata": {},
      "source": [
        "# Web Scraping Wiki tables with Beautiful Soup \n",
        "\n",
        "Web Scrap and extracting list of municipalities, ghost towns, and unincorporated places in Texas.\n",
        "\n",
        "## prerequisite"
      ],
      "id": "7027c0f0"
    },
    {
      "cell_type": "code",
      "metadata": {},
      "source": [
        "#import csv\n",
        "import requests\n",
        "#import geopandas as gpd\n",
        "#import pandas as pd\n",
        "import json #javascript object notation to store data outside python. watch videos from Matt Digital Humanities. \n",
        "from bs4 import BeautifulSoup "
      ],
      "id": "2588138e",
      "execution_count": null,
      "outputs": []
    },
    {
      "cell_type": "code",
      "metadata": {},
      "source": [
        "# List of Municipalities in Texas \n",
        "def table_extraction(a,b):\n",
        "    url= a \n",
        "    file = f\"../corridos/{b}.txt\"\n",
        "    s = requests.get(url)\n",
        "    soup= BeautifulSoup(s.text, \"lxml\") #to tell the program to read the site as HTML (lxml)\n",
        "    table = soup.find(\"table\", class_=\"wikitable sortable\")\n",
        "    with open (file, \"w\", encoding=\"utf-8\")as f: \n",
        "        #rows=list()\n",
        "        #headerString  = \"\"\n",
        "        dataString = \"\"\n",
        "        for row in table.find_all(\"tr\"):   \n",
        "            #for th in row.find_all(\"th\"): \n",
        "                #headerString  = headerString+th.get_text(strip=True)+\"|\"\n",
        "                #print(headerString)\n",
        "                #ending a line break to organize the txt file\n",
        "            for td in row.find_all(\"td\"):\n",
        "                dataString = dataString+td.get_text(strip=True)+\"|\"\n",
        "            dataString=dataString + \"\\n\"\n",
        "        #f.write(headerString)       \n",
        "        f.write(dataString)\n",
        "\n",
        "def do_all(a, b):\n",
        "    table_extraction(a,b)\n",
        "\n",
        "do_all(\"https://en.wikipedia.org/wiki/List_of_municipalities_in_Texas\",\"List of municipalities in Texas\")"
      ],
      "id": "0795b5de",
      "execution_count": null,
      "outputs": []
    }
  ],
  "metadata": {
    "kernelspec": {
      "name": "python3",
      "language": "python",
      "display_name": "Python 3 (ipykernel)"
    }
  },
  "nbformat": 4,
  "nbformat_minor": 5
}