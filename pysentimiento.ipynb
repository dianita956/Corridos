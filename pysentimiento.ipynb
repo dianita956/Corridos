{
 "cells": [
  {
   "cell_type": "code",
   "execution_count": 1,
   "metadata": {},
   "outputs": [
    {
     "name": "stdout",
     "output_type": "stream",
     "text": [
      "Requirement already satisfied: pysentimiento in c:\\users\\dmlpz\\corridos\\venv\\lib\\site-packages (0.2.5)\n",
      "Requirement already satisfied: transformers in c:\\users\\dmlpz\\corridos\\venv\\lib\\site-packages (from pysentimiento) (4.21.2)\n",
      "Requirement already satisfied: sklearn in c:\\users\\dmlpz\\corridos\\venv\\lib\\site-packages (from pysentimiento) (0.0)\n",
      "Requirement already satisfied: datasets in c:\\users\\dmlpz\\corridos\\venv\\lib\\site-packages (from pysentimiento) (2.4.0)\n",
      "Requirement already satisfied: emoji in c:\\users\\dmlpz\\corridos\\venv\\lib\\site-packages (from pysentimiento) (2.0.0)\n",
      "Requirement already satisfied: torch in c:\\users\\dmlpz\\corridos\\venv\\lib\\site-packages (from pysentimiento) (1.12.1)\n",
      "Requirement already satisfied: dill<0.3.6 in c:\\users\\dmlpz\\corridos\\venv\\lib\\site-packages (from datasets->pysentimiento) (0.3.5.1)\n",
      "Requirement already satisfied: responses<0.19 in c:\\users\\dmlpz\\corridos\\venv\\lib\\site-packages (from datasets->pysentimiento) (0.18.0)\n",
      "Requirement already satisfied: packaging in c:\\users\\dmlpz\\corridos\\venv\\lib\\site-packages (from datasets->pysentimiento) (21.3)\n",
      "Requirement already satisfied: pyarrow>=6.0.0 in c:\\users\\dmlpz\\corridos\\venv\\lib\\site-packages (from datasets->pysentimiento) (9.0.0)\n",
      "Requirement already satisfied: tqdm>=4.62.1 in c:\\users\\dmlpz\\corridos\\venv\\lib\\site-packages (from datasets->pysentimiento) (4.64.0)\n",
      "Requirement already satisfied: xxhash in c:\\users\\dmlpz\\corridos\\venv\\lib\\site-packages (from datasets->pysentimiento) (3.0.0)\n",
      "Requirement already satisfied: multiprocess in c:\\users\\dmlpz\\corridos\\venv\\lib\\site-packages (from datasets->pysentimiento) (0.70.13)\n",
      "Requirement already satisfied: numpy>=1.17 in c:\\users\\dmlpz\\corridos\\venv\\lib\\site-packages (from datasets->pysentimiento) (1.23.1)\n",
      "Requirement already satisfied: aiohttp in c:\\users\\dmlpz\\corridos\\venv\\lib\\site-packages (from datasets->pysentimiento) (3.8.1)\n",
      "Requirement already satisfied: fsspec[http]>=2021.11.1 in c:\\users\\dmlpz\\corridos\\venv\\lib\\site-packages (from datasets->pysentimiento) (2022.8.2)\n",
      "Requirement already satisfied: pandas in c:\\users\\dmlpz\\corridos\\venv\\lib\\site-packages (from datasets->pysentimiento) (1.4.3)\n",
      "Requirement already satisfied: requests>=2.19.0 in c:\\users\\dmlpz\\corridos\\venv\\lib\\site-packages (from datasets->pysentimiento) (2.28.1)\n",
      "Requirement already satisfied: huggingface-hub<1.0.0,>=0.1.0 in c:\\users\\dmlpz\\corridos\\venv\\lib\\site-packages (from datasets->pysentimiento) (0.9.1)\n",
      "Requirement already satisfied: scikit-learn in c:\\users\\dmlpz\\corridos\\venv\\lib\\site-packages (from sklearn->pysentimiento) (1.1.2)\n",
      "Requirement already satisfied: typing-extensions in c:\\users\\dmlpz\\corridos\\venv\\lib\\site-packages (from torch->pysentimiento) (4.3.0)\n",
      "Requirement already satisfied: tokenizers!=0.11.3,<0.13,>=0.11.1 in c:\\users\\dmlpz\\corridos\\venv\\lib\\site-packages (from transformers->pysentimiento) (0.12.1)\n",
      "Requirement already satisfied: filelock in c:\\users\\dmlpz\\corridos\\venv\\lib\\site-packages (from transformers->pysentimiento) (3.8.0)\n",
      "Requirement already satisfied: pyyaml>=5.1 in c:\\users\\dmlpz\\corridos\\venv\\lib\\site-packages (from transformers->pysentimiento) (6.0)\n",
      "Requirement already satisfied: regex!=2019.12.17 in c:\\users\\dmlpz\\corridos\\venv\\lib\\site-packages (from transformers->pysentimiento) (2022.8.17)\n",
      "Requirement already satisfied: aiosignal>=1.1.2 in c:\\users\\dmlpz\\corridos\\venv\\lib\\site-packages (from aiohttp->datasets->pysentimiento) (1.2.0)\n",
      "Requirement already satisfied: yarl<2.0,>=1.0 in c:\\users\\dmlpz\\corridos\\venv\\lib\\site-packages (from aiohttp->datasets->pysentimiento) (1.8.1)\n",
      "Requirement already satisfied: multidict<7.0,>=4.5 in c:\\users\\dmlpz\\corridos\\venv\\lib\\site-packages (from aiohttp->datasets->pysentimiento) (6.0.2)\n",
      "Requirement already satisfied: attrs>=17.3.0 in c:\\users\\dmlpz\\corridos\\venv\\lib\\site-packages (from aiohttp->datasets->pysentimiento) (22.1.0)\n",
      "Requirement already satisfied: async-timeout<5.0,>=4.0.0a3 in c:\\users\\dmlpz\\corridos\\venv\\lib\\site-packages (from aiohttp->datasets->pysentimiento) (4.0.2)\n",
      "Requirement already satisfied: frozenlist>=1.1.1 in c:\\users\\dmlpz\\corridos\\venv\\lib\\site-packages (from aiohttp->datasets->pysentimiento) (1.3.1)\n",
      "Requirement already satisfied: charset-normalizer<3.0,>=2.0 in c:\\users\\dmlpz\\corridos\\venv\\lib\\site-packages (from aiohttp->datasets->pysentimiento) (2.1.0)\n",
      "Requirement already satisfied: pyparsing!=3.0.5,>=2.0.2 in c:\\users\\dmlpz\\corridos\\venv\\lib\\site-packages (from packaging->datasets->pysentimiento) (3.0.9)\n",
      "Requirement already satisfied: urllib3<1.27,>=1.21.1 in c:\\users\\dmlpz\\corridos\\venv\\lib\\site-packages (from requests>=2.19.0->datasets->pysentimiento) (1.26.11)\n",
      "Requirement already satisfied: idna<4,>=2.5 in c:\\users\\dmlpz\\corridos\\venv\\lib\\site-packages (from requests>=2.19.0->datasets->pysentimiento) (3.3)\n",
      "Requirement already satisfied: certifi>=2017.4.17 in c:\\users\\dmlpz\\corridos\\venv\\lib\\site-packages (from requests>=2.19.0->datasets->pysentimiento) (2022.6.15)\n",
      "Requirement already satisfied: colorama in c:\\users\\dmlpz\\corridos\\venv\\lib\\site-packages (from tqdm>=4.62.1->datasets->pysentimiento) (0.4.5)\n",
      "Requirement already satisfied: python-dateutil>=2.8.1 in c:\\users\\dmlpz\\corridos\\venv\\lib\\site-packages (from pandas->datasets->pysentimiento) (2.8.2)\n",
      "Requirement already satisfied: pytz>=2020.1 in c:\\users\\dmlpz\\corridos\\venv\\lib\\site-packages (from pandas->datasets->pysentimiento) (2022.1)\n",
      "Requirement already satisfied: scipy>=1.3.2 in c:\\users\\dmlpz\\corridos\\venv\\lib\\site-packages (from scikit-learn->sklearn->pysentimiento) (1.9.1)\n",
      "Requirement already satisfied: threadpoolctl>=2.0.0 in c:\\users\\dmlpz\\corridos\\venv\\lib\\site-packages (from scikit-learn->sklearn->pysentimiento) (3.1.0)\n",
      "Requirement already satisfied: joblib>=1.0.0 in c:\\users\\dmlpz\\corridos\\venv\\lib\\site-packages (from scikit-learn->sklearn->pysentimiento) (1.1.0)\n",
      "Requirement already satisfied: six>=1.5 in c:\\users\\dmlpz\\corridos\\venv\\lib\\site-packages (from python-dateutil>=2.8.1->pandas->datasets->pysentimiento) (1.16.0)\n",
      "Note: you may need to restart the kernel to use updated packages.\n"
     ]
    },
    {
     "ename": "TypeError",
     "evalue": "'module' object is not callable",
     "output_type": "error",
     "traceback": [
      "\u001b[1;31m---------------------------------------------------------------------------\u001b[0m",
      "\u001b[1;31mTypeError\u001b[0m                                 Traceback (most recent call last)",
      "\u001b[1;32mc:\\Users\\dmlpz\\Corridos\\pysentimiento.ipynb Cell 1\u001b[0m in \u001b[0;36m<cell line: 3>\u001b[1;34m()\u001b[0m\n\u001b[0;32m      <a href='vscode-notebook-cell:/c%3A/Users/dmlpz/Corridos/pysentimiento.ipynb#W0sZmlsZQ%3D%3D?line=0'>1</a>\u001b[0m get_ipython()\u001b[39m.\u001b[39mrun_line_magic(\u001b[39m'\u001b[39m\u001b[39mpip\u001b[39m\u001b[39m'\u001b[39m, \u001b[39m'\u001b[39m\u001b[39minstall pysentimiento --upgrade\u001b[39m\u001b[39m'\u001b[39m)\n\u001b[0;32m      <a href='vscode-notebook-cell:/c%3A/Users/dmlpz/Corridos/pysentimiento.ipynb#W0sZmlsZQ%3D%3D?line=1'>2</a>\u001b[0m \u001b[39mfrom\u001b[39;00m \u001b[39mpysentimiento\u001b[39;00m \u001b[39mimport\u001b[39;00m analyzer\n\u001b[1;32m----> <a href='vscode-notebook-cell:/c%3A/Users/dmlpz/Corridos/pysentimiento.ipynb#W0sZmlsZQ%3D%3D?line=2'>3</a>\u001b[0m ana \u001b[39m=\u001b[39m analyzer(task\u001b[39m=\u001b[39;49m\u001b[39m\"\u001b[39;49m\u001b[39msentiment\u001b[39;49m\u001b[39m\"\u001b[39;49m, lang\u001b[39m=\u001b[39;49m\u001b[39m\"\u001b[39;49m\u001b[39mes\u001b[39;49m\u001b[39m\"\u001b[39;49m)\n",
      "\u001b[1;31mTypeError\u001b[0m: 'module' object is not callable"
     ]
    }
   ],
   "source": [
    "%pip install pysentimiento --upgrade\n",
    "from pysentimiento import analyzer\n",
    "ana = analyzer(task=\"sentiment\", lang=\"es\")"
   ]
  }
 ],
 "metadata": {
  "kernelspec": {
   "display_name": "Python 3.10.5 ('venv': venv)",
   "language": "python",
   "name": "python3"
  },
  "language_info": {
   "codemirror_mode": {
    "name": "ipython",
    "version": 3
   },
   "file_extension": ".py",
   "mimetype": "text/x-python",
   "name": "python",
   "nbconvert_exporter": "python",
   "pygments_lexer": "ipython3",
   "version": "3.10.5"
  },
  "orig_nbformat": 4,
  "vscode": {
   "interpreter": {
    "hash": "e528f05ecdbf513f743da5c44906adca99a556c5207201bf3043358644070d32"
   }
  }
 },
 "nbformat": 4,
 "nbformat_minor": 2
}
