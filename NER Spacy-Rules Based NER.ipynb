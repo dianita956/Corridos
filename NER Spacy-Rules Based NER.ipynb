{
 "cells": [
  {
   "cell_type": "code",
   "execution_count": 1,
   "id": "d06f4599",
   "metadata": {},
   "outputs": [],
   "source": [
    "import spacy\n",
    "from spacy.lang.en import English\n",
    "from spacy.pipeline import EntityRuler\n",
    "import json\n",
    "import random"
   ]
  },
  {
   "cell_type": "code",
   "execution_count": 5,
   "id": "4920138c",
   "metadata": {},
   "outputs": [
    {
     "name": "stdout",
     "output_type": "stream",
     "text": [
      "['In the country of Karnes, \\n', 'Look what has happened; \\n', 'The Major Sheriff died,\\n', 'Leaving Román badly wounded.\\n']\n"
     ]
    }
   ],
   "source": [
    "#rules based ner\n",
    "#1st open txt file from the corridos corpus folder\n",
    "with open (\"../Corridos/corrido corpus/ElCorridodeGregorioCortez_X.txt\", 'r', encoding='utf-8') as f:\n",
    "    text=f.readlines()[0:4] #parsing a section of the song to work with.\n",
    "    print(text)"
   ]
  },
  {
   "cell_type": "code",
   "execution_count": 30,
   "id": "98d04c21",
   "metadata": {},
   "outputs": [
    {
     "name": "stdout",
     "output_type": "stream",
     "text": [
      "places\n"
     ]
    }
   ],
   "source": [
    "tx_municipalities_ner = []\n",
    "#import data: tx_places.json\n",
    "with open (\"./data/tx_places.json\", \"r\", encoding=\"utf-8\") as f:\n",
    "    tx_places = json.load(f)\n",
    "    for mun in tx_places: \n",
    "        mun_names = mun.split() #municipalities (mun)\n",
    "        for mun_name in mun_names:\n",
    "            if \"{\" !=mun_name and \"}\":\n",
    "                mun_name = mun_name.replace(\"{}\", \"\")\n",
    "                print(mun_name)\n",
    "        "
   ]
  },
  {
   "cell_type": "code",
   "execution_count": 22,
   "id": "6961bc38",
   "metadata": {},
   "outputs": [
    {
     "name": "stdout",
     "output_type": "stream",
     "text": [
      "In the country of Karnes\n",
      "['In', 'the', 'country', 'of', 'Karnes']\n",
      "Look what has happened\n",
      "['Look', 'what', 'has', 'happened']\n",
      "The Major Sheriff died\n",
      "['The', 'Major', 'Sheriff', 'died']\n",
      "Leaving Román badly wounded\n",
      "['Leaving', 'Román', 'badly', 'wounded']\n"
     ]
    }
   ],
   "source": [
    "#break down the text by segement by segement\n",
    "for segment in text:\n",
    "    segment = segment.strip()\n",
    "    #segment = segment.lower()\n",
    "    segment = segment.replace(\"\\n\", \" \")\n",
    "    #print(segment)\n",
    "\n",
    "#remove all puncation for the text\n",
    "    punc = '''!()-[]{};:'\"\\,<>./?@#$%^&*_~''' \n",
    "# Removing punctuations in string\n",
    "# Using loop + punctuation string\n",
    "    for ele in segment:\n",
    "        if ele in punc:\n",
    "            segment = segment.replace(ele, \"\")\n",
    "    print (segment)\n",
    "    #convert segment into a list of words\n",
    "    words =segment.split()\n",
    "    print(words)\n",
    "\n",
    "    for word in words:\n",
    "        if word in tx_places:\n",
    "            print(word)"
   ]
  }
 ],
 "metadata": {
  "kernelspec": {
   "display_name": "Greg",
   "language": "python",
   "name": "python3"
  },
  "language_info": {
   "codemirror_mode": {
    "name": "ipython",
    "version": 3
   },
   "file_extension": ".py",
   "mimetype": "text/x-python",
   "name": "python",
   "nbconvert_exporter": "python",
   "pygments_lexer": "ipython3",
   "version": "3.9.13"
  },
  "vscode": {
   "interpreter": {
    "hash": "c33b8046986a03aa44ef4ea500a2630dcd79ff60fec54402ff1309c4dcbd3e63"
   }
  }
 },
 "nbformat": 4,
 "nbformat_minor": 5
}
