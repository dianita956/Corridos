{
 "cells": [
  {
   "cell_type": "code",
   "execution_count": 2,
   "id": "d06f4599",
   "metadata": {},
   "outputs": [],
   "source": [
    "import spacy \n",
    "from spacy.lang.en import English\n",
    "from spacy.pipeline import EntityRuler\n",
    "import json\n",
    "import random"
   ]
  },
  {
   "cell_type": "code",
   "execution_count": 3,
   "id": "6167a678",
   "metadata": {},
   "outputs": [
    {
     "name": "stdout",
     "output_type": "stream",
     "text": [
      "GPE\n",
      "../Corridos/data/TexasMunicipalitiesData.json\n",
      "None\n"
     ]
    },
    {
     "ename": "AttributeError",
     "evalue": "'NoneType' object has no attribute 'items'",
     "output_type": "error",
     "traceback": [
      "\u001b[1;31m---------------------------------------------------------------------------\u001b[0m",
      "\u001b[1;31mAttributeError\u001b[0m                            Traceback (most recent call last)",
      "Cell \u001b[1;32mIn[3], line 35\u001b[0m\n\u001b[0;32m     32\u001b[0m         \u001b[39m#print(patterns)\u001b[39;00m\n\u001b[0;32m     33\u001b[0m         \u001b[39mreturn\u001b[39;00m(patterns)\n\u001b[1;32m---> 35\u001b[0m create_training_data(\u001b[39m'\u001b[39;49m\u001b[39m../Corridos/data/TexasMunicipalitiesData.json\u001b[39;49m\u001b[39m'\u001b[39;49m, \u001b[39m'\u001b[39;49m\u001b[39mGPE\u001b[39;49m\u001b[39m'\u001b[39;49m)\n",
      "Cell \u001b[1;32mIn[3], line 15\u001b[0m, in \u001b[0;36mcreate_training_data\u001b[1;34m(file, type)\u001b[0m\n\u001b[0;32m     13\u001b[0m \u001b[39mprint\u001b[39m(data)\n\u001b[0;32m     14\u001b[0m patterns\u001b[39m=\u001b[39m[]\n\u001b[1;32m---> 15\u001b[0m \u001b[39mfor\u001b[39;00m key, value \u001b[39min\u001b[39;00m data\u001b[39m.\u001b[39;49mitems():\n\u001b[0;32m     16\u001b[0m     \u001b[39mprint\u001b[39m(key, value)\n\u001b[0;32m     17\u001b[0m     \u001b[39mif\u001b[39;00m \u001b[39many\u001b[39m(d\u001b[39m.\u001b[39mget(\u001b[39m\"\u001b[39m\u001b[39mMunicipality\u001b[39m\u001b[39m\"\u001b[39m)\u001b[39m==\u001b[39m\u001b[39m'\u001b[39m\u001b[39mKarnes\u001b[39m\u001b[39m'\u001b[39m \u001b[39mfor\u001b[39;00m d \u001b[39min\u001b[39;00m value): \n",
      "\u001b[1;31mAttributeError\u001b[0m: 'NoneType' object has no attribute 'items'"
     ]
    }
   ],
   "source": [
    "def load_data(file):\n",
    "    with open(file, 'r', encoding='utf-8') as f:\n",
    "        json.load(f) \n",
    "    \n",
    "def save_data (file, data):\n",
    "    with open (file, \"w\", encoding='utf-8') as f:\n",
    "       data = json.dump(data, f, indent=4)\n",
    "       print(data)\n",
    "       \n",
    "def create_training_data(file, type):\n",
    "    print(type)\n",
    "    print(file)\n",
    "    data = load_data(file)\n",
    "    print(data)\n",
    "    patterns=[]\n",
    "    for key, value in data.items():\n",
    "        print(key, value)\n",
    "        if any(d.get(\"Municipality\")=='Karnes' for d in value): \n",
    "            print(\"found\") \n",
    "        if not any(d.get(\"Municipality\")=='Karnes' for d in value):\n",
    "            #print('not found')\n",
    "            if any(d.get(\"Primary County\")=='Karnes' for d in value): \n",
    "                print(\"found in pc\")\n",
    "        \n",
    "        #print(item)\n",
    "        #print(data)\n",
    "        pattern = {\n",
    "                \"label\":type,\n",
    "                \"pattern\": value\n",
    "                }\n",
    "        #print(pattern)\n",
    "        patterns.append(pattern)\n",
    "        #print(patterns)\n",
    "        return(patterns)\n",
    "\n",
    "create_training_data('../Corridos/data/TexasMunicipalitiesData.json', 'GPE')\n"
   ]
  }
 ],
 "metadata": {
  "kernelspec": {
   "display_name": "Greg",
   "language": "python",
   "name": "python3"
  },
  "language_info": {
   "codemirror_mode": {
    "name": "ipython",
    "version": 3
   },
   "file_extension": ".py",
   "mimetype": "text/x-python",
   "name": "python",
   "nbconvert_exporter": "python",
   "pygments_lexer": "ipython3",
   "version": "3.9.13"
  },
  "vscode": {
   "interpreter": {
    "hash": "c33b8046986a03aa44ef4ea500a2630dcd79ff60fec54402ff1309c4dcbd3e63"
   }
  }
 },
 "nbformat": 4,
 "nbformat_minor": 5
}
