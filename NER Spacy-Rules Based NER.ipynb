{
 "cells": [
  {
   "cell_type": "code",
   "execution_count": 1,
   "id": "d06f4599",
   "metadata": {},
   "outputs": [],
   "source": [
    "import spacy\n",
    "from spacy.lang.en import English\n",
    "from spacy.pipeline import EntityRuler\n",
    "import json\n",
    "import random"
   ]
  },
  {
   "cell_type": "code",
   "execution_count": 17,
   "id": "1bbb8361",
   "metadata": {},
   "outputs": [
    {
     "name": "stdout",
     "output_type": "stream",
     "text": [
      "found in Texas Municipalities.json\n"
     ]
    }
   ],
   "source": [
    "def load_data(file):\n",
    "    #print(file)\n",
    "    with open(file, \"r\", encoding=\"utf-8\") as f:\n",
    "        data = json.load(f)\n",
    "        #print(data)\n",
    "        return(data)\n",
    "\n",
    "def save_data (file, data):\n",
    "    with open (file, \"w\", encoding='utf-8') as f:\n",
    "        #print(file) \n",
    "        json.dump(data, f, indent=4)\n",
    "        #print(data)\n",
    "\n",
    "#training model\n",
    "def create_training_data(file, type):\n",
    "    #print(type)\n",
    "    data = load_data(file)\n",
    "    #print(data) #texamunicipalities.json file\n",
    "    patterns=[]\n",
    "    for K, V in data.items():\n",
    "        if any(d.get(\"Municipality\")=='Karnes' for d in V): \n",
    "            print(\"found\") \n",
    "        if not any(d.get(\"Municipality\")=='Karnes' for d in V):\n",
    "            #print('not found')\n",
    "            if any(d.get(\"Primary County\")=='Karnes' for d in V): \n",
    "                print(\"found in Texas Municipalities.json\")\n",
    "        \n",
    "        #print(item)\n",
    "        #print(data)\n",
    "            pattern = {\n",
    "                    \"label\":type,\n",
    "                    \"pattern\": K\n",
    "                    }\n",
    "            #print(pattern)\n",
    "            patterns.append(pattern)\n",
    "            #print(patterns)\n",
    "        return(patterns)\n",
    "\n",
    "\n",
    "def generate_rules(patterns):\n",
    "    nlp = English()\n",
    "    ruler = EntityRuler(nlp)\n",
    "    ruler.add_patterns(patterns)\n",
    "    nlp.add_pipe('ner')\n",
    "    nlp.initialize()\n",
    "    nlp.to_disk(\"../Corridos/tx_ner/\")\n",
    "\n",
    "def test_model(model, text):\n",
    "    doc = nlp(text)\n",
    "    #print(doc) #doc is el corrido de gregorio cortez_x variant file \n",
    "    results = []\n",
    "    for ent in doc.ents:\n",
    "        print(ent)\n",
    "        results.append(ent.text)\n",
    "        #print(results)\n",
    "    return(results)\n",
    "\n",
    "patterns = create_training_data(\"../Corridos/data/TexasMunicipalities.json\", \"GPE\")\n",
    "generate_rules(patterns)\n",
    "#print (patterns)\n",
    "\n",
    "nlp = spacy.load(\"tx_ner\")\n",
    "ie_data = {}\n",
    "with open (\"../Corridos/corrido corpus\\ElCorridodeGregorioCortez_X.txt\", \"r\", encoding='utf-8')as f:\n",
    "    text = f.read()\n",
    "    #print(text)\n",
    "\n",
    "    corridos = text.split('\\n')\n",
    "    #print(corridos)\n",
    "    for corrido in corridos:\n",
    "        corrido_num = corrido.split(\"\\n\")\n",
    "        corrido_num = corrido_num.sort()\n",
    "        segments = corrido.split(\"\\n\\n\")\n",
    "        hits = []\n",
    "        for segment in segments:\n",
    "            segment = segment.strip()\n",
    "            segment = segment.replace(\"\\n\", \" \")\n",
    "            results = test_model(nlp, segment)\n",
    "            for result in results:\n",
    "                hits.append(result)\n",
    "        ie_data[corrido_num] = hits\n",
    "        #print(ie_data)\n",
    "\n",
    "save_data(\"../Corridos/data/TexasMunicipalitiesData.json\", ie_data)\n"
   ]
  },
  {
   "cell_type": "code",
   "execution_count": null,
   "id": "4920138c",
   "metadata": {},
   "outputs": [],
   "source": [
    "#rules based ner\n",
    "#1st open txt file from the corridos corpus folder\n",
    "with open (\"../Corridos/corrido corpus/ElCorridodeGregorioCortez_X.txt\", 'r', encoding='utf-8') as f:\n",
    "    text=f.read().split(\"\\n\") #parsing a section of the song to work with.\n",
    "    print(text)\n",
    "    "
   ]
  },
  {
   "cell_type": "code",
   "execution_count": null,
   "id": "98d04c21",
   "metadata": {},
   "outputs": [],
   "source": [
    "tx_municipalities_ner = []\n",
    "#import data: tx_places.json\n",
    "with open (\"./data/TexasMunicipalities.json\", \"r\", encoding=\"utf-8\") as f:\n",
    "    tx_mun = json.load(f)\n",
    "    print(tx_mun)\n",
    "    \n",
    "        "
   ]
  },
  {
   "cell_type": "code",
   "execution_count": null,
   "id": "6961bc38",
   "metadata": {},
   "outputs": [],
   "source": [
    "#break down the text by segement by segement\n",
    "for segment in text:\n",
    "    segment = segment.strip()\n",
    "    #segment = segment.lower()\n",
    "    segment = segment.replace(\"\\n\", \" \")\n",
    "    #print(segment)\n",
    "\n",
    "#remove all puncation for the text\n",
    "    punc = '''!()-[]{};:'\"\\,<>./?@#$%^&*_~''' \n",
    "# Removing punctuations in string\n",
    "# Using loop + punctuation string\n",
    "    for ele in segment:\n",
    "        if ele in punc:\n",
    "            segment = segment.replace(ele, \"\")\n",
    "    print (segment)\n",
    "#convert segment into a list of words\n",
    "    words =segment.split()\n",
    "    #print(words)\n",
    "    i=0\n",
    "    for word in words:\n",
    "        if word in tx_mun:\n",
    "            if words[i-1][0].isupper():\n",
    "                print(f\"Found Municipalities): {words[i-1]} {word}\")\n",
    "            else:\n",
    "                print(f\"Found Municipalities: {word}\")"
   ]
  },
  {
   "cell_type": "code",
   "execution_count": null,
   "id": "c022c596",
   "metadata": {},
   "outputs": [],
   "source": []
  }
 ],
 "metadata": {
  "kernelspec": {
   "display_name": "Python 3 (ipykernel)",
   "language": "python",
   "name": "python3"
  },
  "language_info": {
   "codemirror_mode": {
    "name": "ipython",
    "version": 3
   },
   "file_extension": ".py",
   "mimetype": "text/x-python",
   "name": "python",
   "nbconvert_exporter": "python",
   "pygments_lexer": "ipython3",
   "version": "3.9.13"
  },
  "vscode": {
   "interpreter": {
    "hash": "c33b8046986a03aa44ef4ea500a2630dcd79ff60fec54402ff1309c4dcbd3e63"
   }
  }
 },
 "nbformat": 4,
 "nbformat_minor": 5
}
