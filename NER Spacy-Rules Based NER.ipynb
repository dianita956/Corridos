{
 "cells": [
  {
   "cell_type": "code",
   "execution_count": 1,
   "id": "d06f4599",
   "metadata": {},
   "outputs": [
    {
     "name": "stdout",
     "output_type": "stream",
     "text": [
      "hello, installed\n"
     ]
    }
   ],
   "source": [
    "import spacy\n",
    "from spacy.lang.en import English\n",
    "from spacy.pipeline import EntityRuler\n",
    "import json\n",
    "import random\n",
    "print(\"hello, installed\")"
   ]
  },
  {
   "cell_type": "code",
   "execution_count": 2,
   "id": "6167a678",
   "metadata": {},
   "outputs": [],
   "source": [
    "def load_data(file):\n",
    "    #print(file)\n",
    "    with open(file, \"r\", encoding=\"utf-8\") as f:\n",
    "        data = json.load(f)\n",
    "    #print(data)\n",
    "    return(data)"
   ]
  },
  {
   "cell_type": "code",
   "execution_count": 3,
   "id": "acda96d9",
   "metadata": {},
   "outputs": [],
   "source": [
    "def save_data (file, data):\n",
    "    with open (file, \"w\", encoding='utf-8') as f:\n",
    "        print(file) \n",
    "        json.dump(data, f, indent=4)\n",
    "        print(data)"
   ]
  },
  {
   "cell_type": "code",
   "execution_count": 6,
   "id": "880674f8",
   "metadata": {},
   "outputs": [],
   "source": [
    "#training model\n",
    "def create_training_data(file, type):\n",
    "    #print(type) #GPE\n",
    "    data = load_data(file)\n",
    "    print(data) #texamunicipalities.json file\n",
    "    patterns=[]\n",
    "    for K, V in data.items():\n",
    "        if any(d.get(\"Municipality\")=='Karnes' for d in V): \n",
    "            print(\"found\") \n",
    "        if not any(d.get(\"Municipality\")=='Karnes' for d in V):\n",
    "            #print('not found')\n",
    "            if any(d.get(\"Primary County\")=='Karnes' for d in V): \n",
    "                print(\"found in Texas Municipalities.json\")\n",
    "        #print(item)\n",
    "        #print(data)\n",
    "            pattern = {\n",
    "                    \"label\":type,\n",
    "                    \"pattern\": K\n",
    "                    }\n",
    "            #print(pattern)\n",
    "            patterns.append(pattern)\n",
    "            print(patterns)\n",
    "            #return(patterns)\n"
   ]
  }
 ],
 "metadata": {
  "kernelspec": {
   "display_name": "Python 3 (ipykernel)",
   "language": "python",
   "name": "python3"
  },
  "language_info": {
   "codemirror_mode": {
    "name": "ipython",
    "version": 3
   },
   "file_extension": ".py",
   "mimetype": "text/x-python",
   "name": "python",
   "nbconvert_exporter": "python",
   "pygments_lexer": "ipython3",
   "version": "3.9.15"
  },
  "vscode": {
   "interpreter": {
    "hash": "c33b8046986a03aa44ef4ea500a2630dcd79ff60fec54402ff1309c4dcbd3e63"
   }
  }
 },
 "nbformat": 4,
 "nbformat_minor": 5
}
