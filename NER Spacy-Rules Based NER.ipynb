{
 "cells": [
  {
   "cell_type": "code",
   "execution_count": 1,
   "id": "d06f4599",
   "metadata": {},
   "outputs": [],
   "source": [
    "import spacy\n",
    "from spacy.lang.en import English\n",
    "from spacy.pipeline import EntityRuler\n",
    "import json\n",
    "import random"
   ]
  },
  {
   "cell_type": "code",
   "execution_count": 7,
   "id": "6167a678",
   "metadata": {},
   "outputs": [],
   "source": [
    "file=(\"../Corridos/data/TexasMunicipalities.json\")\n",
    "\n",
    "def load_data(file):\n",
    "    with open(file, \"r\", encoding=\"utf-8\") as f:\n",
    "        print(file)  \n",
    "        \n",
    "def save_data (file, data):\n",
    "    with open (file, \"w\", encoding='utf-8') as f:\n",
    "        json.dump(data, f, indent=4)\n",
    "\n",
    "#training model\n",
    "def create_training_data(file, type):\n",
    "    print(type) #GPE\n",
    "    data = load_data(file)\n",
    "    print(data) #texamunicipalities.json file\n",
    "    patterns = []\n",
    "    for Value in data():\n",
    "        if any(d.get(\"Municipality\")=='Karnes' for d in V): \n",
    "            print(\"found\") \n",
    "        if not any(d.get(\"Municipality\")=='Karnes' for d in V):\n",
    "            #print('not found')\n",
    "            if any(d.get(\"Primary County\")=='Karnes' for d in V): \n",
    "                print(\"found in Texas Municipalities.json\")\n",
    "            pattern = {\n",
    "                    \"label\":type,\n",
    "                    \"pattern\": K\n",
    "                    }\n",
    "            print(pattern)\n",
    "        patterns.append(pattern)\n",
    "        return(patterns)\n"
   ]
  }
 ],
 "metadata": {
  "kernelspec": {
   "display_name": "base",
   "language": "python",
   "name": "python3"
  },
  "language_info": {
   "codemirror_mode": {
    "name": "ipython",
    "version": 3
   },
   "file_extension": ".py",
   "mimetype": "text/x-python",
   "name": "python",
   "nbconvert_exporter": "python",
   "pygments_lexer": "ipython3",
   "version": "3.9.12 (main, Apr  4 2022, 05:22:27) [MSC v.1916 64 bit (AMD64)]"
  },
  "vscode": {
   "interpreter": {
    "hash": "7f40ff472a9a0ca2bfce30638906388c1fcc2e125f59cf1635e8e7322faa5529"
   }
  }
 },
 "nbformat": 4,
 "nbformat_minor": 5
}
