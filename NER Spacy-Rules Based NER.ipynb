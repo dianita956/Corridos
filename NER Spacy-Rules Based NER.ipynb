{
 "cells": [
  {
   "cell_type": "code",
   "execution_count": 1,
   "id": "d06f4599",
   "metadata": {},
   "outputs": [],
   "source": [
    "import spacy\n",
    "from spacy.lang.en import English\n",
    "from spacy.pipeline import EntityRuler\n",
    "import json\n",
    "import random"
   ]
  },
  {
   "cell_type": "code",
   "execution_count": 1,
   "id": "050abc10",
   "metadata": {},
   "outputs": [],
   "source": [
    "file = \"../Corridos/data/TexasMunicipalitiesData.json\"\n",
    "text = \"../Corridos/corrido corpus/ElCorridodeGregorioCortez_X.txt\""
   ]
  },
  {
   "cell_type": "code",
   "execution_count": 5,
   "id": "6167a678",
   "metadata": {},
   "outputs": [],
   "source": [
    "def load_data(file):\n",
    "    print(file)\n",
    "    with open(file, \"r\", encoding=\"utf-8\") as f:\n",
    "        data = json.load(f)\n",
    "        print(data)\n",
    "        return(data)"
   ]
  },
  {
   "cell_type": "code",
   "execution_count": null,
   "id": "acda96d9",
   "metadata": {},
   "outputs": [],
   "source": [
    "# \n",
    "def save_data (file, data):\n",
    "    with open (file, \"w\", encoding='utf-8') as f:\n",
    "        #print(file) \n",
    "        json.dump(data, f, indent=4)\n",
    "        #print(data)"
   ]
  },
  {
   "cell_type": "code",
   "execution_count": null,
   "id": "880674f8",
   "metadata": {},
   "outputs": [],
   "source": [
    "#training model\n",
    "def create_training_data(file, type):\n",
    "    #print(type) #GPE\n",
    "    data = load_data(file)\n",
    "    print(data) #texamunicipalities.json file\n",
    "    patterns=[]\n",
    "    for K, V in data.items():\n",
    "        if any(d.get(\"Municipality\")=='Karnes' for d in V): \n",
    "            print(\"found\") \n",
    "        if not any(d.get(\"Municipality\")=='Karnes' for d in V):\n",
    "            #print('not found')\n",
    "            if any(d.get(\"Primary County\")=='Karnes' for d in V): \n",
    "                print(\"found in Texas Municipalities.json\")\n",
    "        #print(item)\n",
    "        #print(data)\n",
    "            pattern = {\n",
    "                    \"label\":type,\n",
    "                    \"pattern\": K\n",
    "                    }\n",
    "            #print(pattern)\n",
    "            patterns.append(pattern)\n",
    "    print(patterns)\n",
    "        #return(patterns)\n"
   ]
  }
 ],
 "metadata": {
  "kernelspec": {
   "display_name": "venv",
   "language": "python",
   "name": "python3"
  },
  "language_info": {
   "codemirror_mode": {
    "name": "ipython",
    "version": 3
   },
   "file_extension": ".py",
   "mimetype": "text/x-python",
   "name": "python",
   "nbconvert_exporter": "python",
   "pygments_lexer": "ipython3",
   "version": "3.10.5 (tags/v3.10.5:f377153, Jun  6 2022, 16:14:13) [MSC v.1929 64 bit (AMD64)]"
  },
  "vscode": {
   "interpreter": {
    "hash": "e528f05ecdbf513f743da5c44906adca99a556c5207201bf3043358644070d32"
   }
  }
 },
 "nbformat": 4,
 "nbformat_minor": 5
}
