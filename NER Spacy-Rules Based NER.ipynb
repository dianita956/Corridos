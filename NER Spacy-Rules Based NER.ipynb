{
 "cells": [
  {
   "cell_type": "code",
   "execution_count": 6,
   "id": "d06f4599",
   "metadata": {},
   "outputs": [],
   "source": [
    "import spacy \n",
    "from spacy.lang.en import English\n",
    "from spacy.pipeline import EntityRuler\n",
    "import json\n",
    "import random"
   ]
  },
  {
   "cell_type": "code",
   "execution_count": 34,
   "id": "6167a678",
   "metadata": {},
   "outputs": [
    {
     "name": "stdout",
     "output_type": "stream",
     "text": [
      "GPE\n",
      "../Corridos/data/TexasMunicipalitiesData.json\n"
     ]
    },
    {
     "ename": "AttributeError",
     "evalue": "'str' object has no attribute 'keys'",
     "output_type": "error",
     "traceback": [
      "\u001b[1;31m---------------------------------------------------------------------------\u001b[0m",
      "\u001b[1;31mAttributeError\u001b[0m                            Traceback (most recent call last)",
      "Cell \u001b[1;32mIn[34], line 37\u001b[0m\n\u001b[0;32m     34\u001b[0m             \u001b[39m#print(patterns)\u001b[39;00m\n\u001b[0;32m     35\u001b[0m         \u001b[39mreturn\u001b[39;00m(patterns)\n\u001b[1;32m---> 37\u001b[0m create_training_data(\u001b[39m'\u001b[39;49m\u001b[39m../Corridos/data/TexasMunicipalitiesData.json\u001b[39;49m\u001b[39m'\u001b[39;49m, \u001b[39m'\u001b[39;49m\u001b[39mGPE\u001b[39;49m\u001b[39m'\u001b[39;49m)\n",
      "Cell \u001b[1;32mIn[34], line 17\u001b[0m, in \u001b[0;36mcreate_training_data\u001b[1;34m(file, type)\u001b[0m\n\u001b[0;32m     15\u001b[0m data \u001b[39m=\u001b[39m load_data(file)\n\u001b[0;32m     16\u001b[0m patterns\u001b[39m=\u001b[39m[]\n\u001b[1;32m---> 17\u001b[0m \u001b[39mfor\u001b[39;00m key, value \u001b[39min\u001b[39;00m data\u001b[39m.\u001b[39;49mkeys():\n\u001b[0;32m     18\u001b[0m     \u001b[39mprint\u001b[39m(key, value)\n\u001b[0;32m     19\u001b[0m     \u001b[39mif\u001b[39;00m \u001b[39many\u001b[39m(d\u001b[39m.\u001b[39mget(\u001b[39m\"\u001b[39m\u001b[39mMunicipality\u001b[39m\u001b[39m\"\u001b[39m)\u001b[39m==\u001b[39m\u001b[39m'\u001b[39m\u001b[39mKarnes\u001b[39m\u001b[39m'\u001b[39m \u001b[39mfor\u001b[39;00m d \u001b[39min\u001b[39;00m key): \n",
      "\u001b[1;31mAttributeError\u001b[0m: 'str' object has no attribute 'keys'"
     ]
    }
   ],
   "source": [
    "file='../Corridos/data/TexasMunicipalities.json' \n",
    "\n",
    "def load_data(file):\n",
    "    with open(file, \"r\", encoding=\"utf-8\") as f:\n",
    "        return(file)  \n",
    "        \n",
    "def save_data (file, data):\n",
    "    with open (file, \"w\", encoding='utf-8') as f:\n",
    "        json.dump(data, f, indent=4)\n",
    "       \n",
    "\n",
    "def create_training_data(file, type):\n",
    "    print(type)\n",
    "    print(file)\n",
    "    data = load_data(file)\n",
    "    patterns=[]\n",
    "    for key, value in data.keys():\n",
    "        print(key, value)\n",
    "        if any(d.get(\"Municipality\")=='Karnes' for d in key): \n",
    "            print(\"found\") \n",
    "        if not any(d.get(\"Municipality\")=='Karnes' for d in key):\n",
    "            #print('not found')\n",
    "            if any(d.get(\"Primary County\")=='Karnes' for d in key): \n",
    "                print(\"found in pc\")\n",
    "        \n",
    "        #print(item)\n",
    "        #print(data)\n",
    "            pattern = {\n",
    "                    \"label\":type,\n",
    "                    \"pattern\": key\n",
    "                    }\n",
    "            #print(pattern)\n",
    "            patterns.append(pattern)\n",
    "            #print(patterns)\n",
    "        return(patterns)\n",
    "\n",
    "create_training_data('../Corridos/data/TexasMunicipalitiesData.json', 'GPE')\n"
   ]
  }
 ],
 "metadata": {
  "kernelspec": {
   "display_name": "Greg",
   "language": "python",
   "name": "python3"
  },
  "language_info": {
   "codemirror_mode": {
    "name": "ipython",
    "version": 3
   },
   "file_extension": ".py",
   "mimetype": "text/x-python",
   "name": "python",
   "nbconvert_exporter": "python",
   "pygments_lexer": "ipython3",
   "version": "3.9.13"
  },
  "vscode": {
   "interpreter": {
    "hash": "c33b8046986a03aa44ef4ea500a2630dcd79ff60fec54402ff1309c4dcbd3e63"
   }
  }
 },
 "nbformat": 4,
 "nbformat_minor": 5
}
