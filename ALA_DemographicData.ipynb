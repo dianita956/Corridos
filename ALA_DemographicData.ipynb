{
 "cells": [
  {
   "cell_type": "code",
   "execution_count": 4,
   "metadata": {},
   "outputs": [],
   "source": [
    "import pandas as pd\n",
    "import requests\n",
    "from census import Census\n",
    "from us import states"
   ]
  },
  {
   "cell_type": "code",
   "execution_count": 5,
   "metadata": {},
   "outputs": [],
   "source": [
    "api_key = open('census_api_key.txt').read().strip()\n",
    "c=Census(api_key)"
   ]
  },
  {
   "cell_type": "code",
   "execution_count": 6,
   "metadata": {},
   "outputs": [],
   "source": [
    "# Full API variable list available here https://api.census.gov/data/2016/acs/acs5/variables/\n",
    "categories = [\n",
    "     'NAME', # county name\n",
    "     'B01001_001E', # Total population\n",
    "     'B15002_001E', # Total population 25 and over\n",
    "     'B19013_001E', # Median income\n",
    "     'B25077_001E', # Median home value\n",
    "     'B15011_001E', # Total population age 25+ years with a bachelor's degree or higher\n",
    "     'B03002_003E', # Not Hispanic or Latino!!White alone\n",
    "     'B03002_004E', # Not Hispanic or Latino!!Black or African American alone\n",
    "     'B02001_004E', # American Indian and Alaska Native Alone\n",
    "     'B03002_006E', # Not Hispanic or Latino!!Asian alone\n",
    "     'B03002_007E', # Not Hispanic or Latino!!Native Hawaiian and Other Pacific Islander alone\n",
    "     'B03002_008E', # Not Hispanic or Latino!!Some other race alone\n",
    "     'B03002_009E', # Not Hispanic or Latino!!Two or more races\n",
    "     'B03002_012E', # Hispanic or Latino\n",
    "]"
   ]
  },
  {
   "cell_type": "code",
   "execution_count": 7,
   "metadata": {},
   "outputs": [],
   "source": [
    "#Function to run API scraper:\n",
    "\n",
    "def get_acs_data(state_code, county_code, timeperiod, city, metro_area):\n",
    "    results = c.acs5.state_county_tract(\n",
    "        categories,\n",
    "        state_code,\n",
    "        county_code, \n",
    "        Census.ALL,\n",
    "        year = timeperiod\n",
    "    )\n",
    "\n",
    "    return [ {\n",
    "        'geoid': res['state'] + res['county'] + res['tract'],\n",
    "        'name': res['NAME'],\n",
    "        'total_population': res['B01001_001E'],\n",
    "        'total_population_25_over': res['B15002_001E'],\n",
    "        'median_income': res['B19013_001E'],\n",
    "        'median_home_value': res['B25077_001E'],\n",
    "        'educational_attainment': res['B15011_001E'],\n",
    "        'white_alone': res['B03002_003E'],\n",
    "        'black_alone': res['B03002_004E'],\n",
    "        'native_alone': res['B02001_004E'],\n",
    "        'asian_alone': res['B03002_006E'],\n",
    "        'native_hawaiian_pacific_islander': res['B03002_007E'],\n",
    "        'some_other_race_alone': res['B03002_008E'],\n",
    "        'two_or_more': res['B03002_009E'],\n",
    "        'hispanic_or_latino': res['B03002_012E'],\n",
    "        'city': city,\n",
    "        'metro_area': metro_area\n",
    "    } for res in results ]"
   ]
  },
  {
   "cell_type": "code",
   "execution_count": 20,
   "metadata": {},
   "outputs": [
    {
     "data": {
      "text/html": [
       "<div>\n",
       "<style scoped>\n",
       "    .dataframe tbody tr th:only-of-type {\n",
       "        vertical-align: middle;\n",
       "    }\n",
       "\n",
       "    .dataframe tbody tr th {\n",
       "        vertical-align: top;\n",
       "    }\n",
       "\n",
       "    .dataframe thead th {\n",
       "        text-align: right;\n",
       "    }\n",
       "</style>\n",
       "<table border=\"1\" class=\"dataframe\">\n",
       "  <thead>\n",
       "    <tr style=\"text-align: right;\">\n",
       "      <th></th>\n",
       "      <th>metro_code</th>\n",
       "      <th>metro_area_name</th>\n",
       "      <th>full_county_geocode</th>\n",
       "      <th>state_code</th>\n",
       "      <th>county_code</th>\n",
       "      <th>county_name</th>\n",
       "      <th>city</th>\n",
       "      <th>state</th>\n",
       "    </tr>\n",
       "  </thead>\n",
       "  <tbody>\n",
       "    <tr>\n",
       "      <th>0</th>\n",
       "      <td>41700.0</td>\n",
       "      <td>San Antonio-New Braunfels, TX (Metropolitan St...</td>\n",
       "      <td>48013</td>\n",
       "      <td>NaN</td>\n",
       "      <td>NaN</td>\n",
       "      <td>Atascosa, TX</td>\n",
       "      <td>NaN</td>\n",
       "      <td>NaN</td>\n",
       "    </tr>\n",
       "    <tr>\n",
       "      <th>1</th>\n",
       "      <td>41700.0</td>\n",
       "      <td>San Antonio-New Braunfels, TX (Metropolitan St...</td>\n",
       "      <td>48019</td>\n",
       "      <td>NaN</td>\n",
       "      <td>NaN</td>\n",
       "      <td>Bandera, TX</td>\n",
       "      <td>NaN</td>\n",
       "      <td>NaN</td>\n",
       "    </tr>\n",
       "    <tr>\n",
       "      <th>2</th>\n",
       "      <td>41700.0</td>\n",
       "      <td>San Antonio-New Braunfels, TX (Metropolitan St...</td>\n",
       "      <td>48029</td>\n",
       "      <td>NaN</td>\n",
       "      <td>NaN</td>\n",
       "      <td>Bexar, TX</td>\n",
       "      <td>NaN</td>\n",
       "      <td>NaN</td>\n",
       "    </tr>\n",
       "    <tr>\n",
       "      <th>3</th>\n",
       "      <td>41700.0</td>\n",
       "      <td>San Antonio-New Braunfels, TX (Metropolitan St...</td>\n",
       "      <td>48091</td>\n",
       "      <td>NaN</td>\n",
       "      <td>NaN</td>\n",
       "      <td>Comal, TX</td>\n",
       "      <td>NaN</td>\n",
       "      <td>NaN</td>\n",
       "    </tr>\n",
       "    <tr>\n",
       "      <th>4</th>\n",
       "      <td>41700.0</td>\n",
       "      <td>San Antonio-New Braunfels, TX (Metropolitan St...</td>\n",
       "      <td>48187</td>\n",
       "      <td>NaN</td>\n",
       "      <td>NaN</td>\n",
       "      <td>Guadalupe, TX</td>\n",
       "      <td>NaN</td>\n",
       "      <td>NaN</td>\n",
       "    </tr>\n",
       "  </tbody>\n",
       "</table>\n",
       "</div>"
      ],
      "text/plain": [
       "   metro_code                                    metro_area_name  \\\n",
       "0     41700.0  San Antonio-New Braunfels, TX (Metropolitan St...   \n",
       "1     41700.0  San Antonio-New Braunfels, TX (Metropolitan St...   \n",
       "2     41700.0  San Antonio-New Braunfels, TX (Metropolitan St...   \n",
       "3     41700.0  San Antonio-New Braunfels, TX (Metropolitan St...   \n",
       "4     41700.0  San Antonio-New Braunfels, TX (Metropolitan St...   \n",
       "\n",
       "  full_county_geocode state_code county_code    county_name  city  state  \n",
       "0               48013        NaN         NaN   Atascosa, TX   NaN    NaN  \n",
       "1               48019        NaN         NaN    Bandera, TX   NaN    NaN  \n",
       "2               48029        NaN         NaN      Bexar, TX   NaN    NaN  \n",
       "3               48091        NaN         NaN      Comal, TX   NaN    NaN  \n",
       "4               48187        NaN         NaN  Guadalupe, TX   NaN    NaN  "
      ]
     },
     "execution_count": 20,
     "metadata": {},
     "output_type": "execute_result"
    }
   ],
   "source": [
    "metro_area_counties = pd.read_csv(\n",
    "    '../Corridos/metrolist.csv',\n",
    "    dtype = {\n",
    "        \"full_county_geocode\": str,\n",
    "        \"state_code\": str,\n",
    "        \"county_code\": str\n",
    "    }\n",
    ")\n",
    "\n",
    "metro_area_counties.head()"
   ]
  },
  {
   "cell_type": "code",
   "execution_count": 26,
   "metadata": {},
   "outputs": [],
   "source": [
    "census_data = []\n",
    "for index, county in metro_area_counties.iterrows():\n",
    "    #print(county[\"county_name\"])\n",
    "    \n",
    "    census_data += get_acs_data(\n",
    "        county[\"state_code\"], \n",
    "        county[\"county_code\"], \n",
    "        2017, \n",
    "        county[\"city\"], \n",
    "        county[\"metro_area_name\"]\n",
    "    )\n",
    "\n",
    "census_data = pd.DataFrame(census_data)"
   ]
  },
  {
   "cell_type": "code",
   "execution_count": 22,
   "metadata": {},
   "outputs": [
    {
     "ename": "AttributeError",
     "evalue": "'list' object has no attribute 'head'",
     "output_type": "error",
     "traceback": [
      "\u001b[1;31m---------------------------------------------------------------------------\u001b[0m",
      "\u001b[1;31mAttributeError\u001b[0m                            Traceback (most recent call last)",
      "\u001b[1;32mc:\\Users\\azg526\\Documents\\GitHub\\Corridos\\ALA_DemographicData.ipynb Cell 7\u001b[0m in \u001b[0;36m<cell line: 1>\u001b[1;34m()\u001b[0m\n\u001b[1;32m----> <a href='vscode-notebook-cell:/c%3A/Users/azg526/Documents/GitHub/Corridos/ALA_DemographicData.ipynb#X10sZmlsZQ%3D%3D?line=0'>1</a>\u001b[0m census_data\u001b[39m.\u001b[39;49mhead()\n",
      "\u001b[1;31mAttributeError\u001b[0m: 'list' object has no attribute 'head'"
     ]
    }
   ],
   "source": [
    "census_data.head()"
   ]
  }
 ],
 "metadata": {
  "kernelspec": {
   "display_name": "Python 3.9.13 ('demographic')",
   "language": "python",
   "name": "python3"
  },
  "language_info": {
   "codemirror_mode": {
    "name": "ipython",
    "version": 3
   },
   "file_extension": ".py",
   "mimetype": "text/x-python",
   "name": "python",
   "nbconvert_exporter": "python",
   "pygments_lexer": "ipython3",
   "version": "3.9.13"
  },
  "orig_nbformat": 4,
  "vscode": {
   "interpreter": {
    "hash": "9ecf18d53cae98c37020dd5ce4595a279f827d5b2719221b0f896ca92da171e2"
   }
  }
 },
 "nbformat": 4,
 "nbformat_minor": 2
}
