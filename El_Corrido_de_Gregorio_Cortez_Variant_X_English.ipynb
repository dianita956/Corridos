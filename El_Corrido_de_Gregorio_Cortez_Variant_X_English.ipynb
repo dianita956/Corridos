{
 "cells": [
  {
   "cell_type": "markdown",
   "metadata": {
    "extensions": {
     "jupyter_dashboards": {
      "version": 1,
      "views": {
       "grid_default": {},
       "report_default": {}
      }
     }
    }
   },
   "source": [
    "# El corrido de Gregorio Cortez\n",
    "\n",
    "## Mapping the manhunt of Rio Grande border folk hero Gregorio Cortez:  the largest manhunt in U.S. history.\n",
    "\n",
    "### June 14, 1901 to June 22, 1901\n",
    "\n",
    "### based on lyrics from the Corrido de Gregorio Cortez (variant x english translation by Americo Paredes)\n",
    "\n",
    "#### project author Diane Lopez"
   ]
  },
  {
   "cell_type": "code",
   "execution_count": 43,
   "metadata": {},
   "outputs": [],
   "source": [
    "import voila\n",
    "import geopandas as gpd\n",
    "\n",
    "import geograpy\n",
    "from geograpy import extraction\n",
    "from geograpy import places\n",
    "import re\n",
    "from geograpy.labels import Labels\n",
    "#from geograpy import geograpy-nltk\n",
    "\n",
    "import geopy\n",
    "from geopy.geocoders import Nominatim\n",
    "from geopy.extra.rate_limiter import RateLimiter\n",
    "import time\n",
    "\n",
    "import pandas as pd\n",
    "import numpy as np\n",
    "\n",
    "import shapely\n",
    "from shapely.geometry import Point\n",
    "\n",
    "import contextily as ctx\n",
    "import matplotlib.pyplot as plt #to make sure there are no errors when plotting a graph\n",
    "import plotly.express as px\n",
    "import plotly.graph_objects as go\n",
    "\n",
    "#from mordecai import Geoparser\n",
    "import nltk\n",
    "\n",
    "import spacy\n",
    "from spacy import displacy\n",
    "#from spacy.lang.en import English\n",
    "#from spacy.lang.es import Spanish\n",
    "#from spacy.pipeline import EntityRuler\n",
    "#from spacy.tokens import Doc\n",
    "#from spacy.training import Example\n",
    "#from spacy.language import Language\n",
    "\n",
    "import json\n",
    "import random\n",
    "\n",
    "import locationtagger\n",
    "nlp = spacy.load(\"en_core_web_sm\")"
   ]
  },
  {
   "cell_type": "code",
   "execution_count": 23,
   "metadata": {},
   "outputs": [
    {
     "name": "stdout",
     "output_type": "stream",
     "text": [
      "['Karnes', 'Gonzales', 'Belmont', 'Laredo', 'Encinal']\n"
     ]
    }
   ],
   "source": [
    "\n",
    "text = \"corrido corpus\\ElCorridodeGregorioCortez_X.txt\"\n",
    "with open(text, 'r', encoding='utf-8') as c:\n",
    "    text = c.read()\n",
    "    \n",
    "def clean_text(text):\n",
    "    cleaned= re.sub(r'[\":;,.“”]', \"\", text)\n",
    "    return(cleaned)\n",
    "text = clean_text(text)\n",
    "#print(text)\n",
    "\n",
    "\n",
    "TxGPE=[]\n",
    "nlp = spacy.load(\"tx_ner_model\")\n",
    "doc =nlp(text) \n",
    "#print(doc)\n",
    "for ent in doc.ents:\n",
    "    #print(ent.text, ent.label_)\n",
    "    if ent.label_ == \"GPE\":\n",
    "        TxGPE.append(ent.text)\n",
    "print(TxGPE)"
   ]
  },
  {
   "cell_type": "code",
   "execution_count": 24,
   "metadata": {},
   "outputs": [
    {
     "name": "stdout",
     "output_type": "stream",
     "text": [
      "[('Karnes', 18, 24, 'GPE'), ('Gonzales', 1051, 1059, 'GPE'), ('Belmont', 1140, 1147, 'GPE'), ('Laredo', 1550, 1556, 'GPE'), ('Encinal', 1864, 1871, 'GPE')]\n",
      "['Karnes', 'Gonzales', 'Belmont', 'Laredo', 'Encinal']\n"
     ]
    }
   ],
   "source": [
    "ents = [(e.text, e.start_char, e.end_char, e.label_)for e in doc.ents]\n",
    "print(ents)\n",
    "\n",
    "ents = [(e.text)for e in doc.ents]\n",
    "print(ents)"
   ]
  },
  {
   "cell_type": "code",
   "execution_count": 5,
   "metadata": {},
   "outputs": [
    {
     "data": {
      "text/html": [
       "<span class=\"tex2jax_ignore\"><!DOCTYPE html>\n",
       "<html lang=\"en\">\n",
       "    <head>\n",
       "        <title>displaCy</title>\n",
       "    </head>\n",
       "\n",
       "    <body style=\"font-size: 16px; font-family: -apple-system, BlinkMacSystemFont, 'Segoe UI', Helvetica, Arial, sans-serif, 'Apple Color Emoji', 'Segoe UI Emoji', 'Segoe UI Symbol'; padding: 4rem 2rem; direction: ltr\">\n",
       "<figure style=\"margin-bottom: 6rem\">\n",
       "<div class=\"entities\" style=\"line-height: 2.5; direction: ltr\">In the country of \n",
       "<mark class=\"entity\" style=\"background: #feca74; padding: 0.45em 0.6em; margin: 0 0.25em; line-height: 1; border-radius: 0.35em;\">\n",
       "    Karnes\n",
       "    <span style=\"font-size: 0.8em; font-weight: bold; line-height: 1; border-radius: 0.35em; vertical-align: middle; margin-left: 0.5rem\">GPE</span>\n",
       "</mark>\n",
       " </br>Look what has happened </br>The Major Sheriff died</br>Leaving Román badly wounded</br></br>It must have been two in the </br>afternoon</br>When people arrived</br>They said to one another</br>It is not known who killed him</br></br>They went around asking questions</br>About half an hour afterward </br>They found that the wrongdoer</br>Had been Gregorio Cortez</br></br>Now they have outlawed Cortez</br>Throughout the whole state</br>Let him be taken dead or alive </br>He has killed several men</br></br>They said Gregorio Cortez </br>With his pistol in his hand</br>I don’t regret that I killed him </br>I regret my brother’s death</br></br>Then said Gregorio Cortez </br>And his soul was all aflame </br>I don’t regret that I killed him</br>A man must defend himself</br></br>The Americans were coming </br>They were whiter than a dove </br>From the fear that they had </br>Of Cortez and of his pistol </br></br>Then the Americans said </br>Then they said fearfully</br>Come let us follow the trail</br>The wrongdoer is Cortez</br></br>They set the bloodhounds on him </br>So they could follow his trail </br>But trying to overtake  Cortez</br>Was like following a star </br></br>He struck out for \n",
       "<mark class=\"entity\" style=\"background: #feca74; padding: 0.45em 0.6em; margin: 0 0.25em; line-height: 1; border-radius: 0.35em;\">\n",
       "    Gonzales\n",
       "    <span style=\"font-size: 0.8em; font-weight: bold; line-height: 1; border-radius: 0.35em; vertical-align: middle; margin-left: 0.5rem\">GPE</span>\n",
       "</mark>\n",
       "</br>Without showing any fear</br>Follow me cowardly rangers </br>I am Gregorio Cortez</br></br>From \n",
       "<mark class=\"entity\" style=\"background: #feca74; padding: 0.45em 0.6em; margin: 0 0.25em; line-height: 1; border-radius: 0.35em;\">\n",
       "    Belmont\n",
       "    <span style=\"font-size: 0.8em; font-weight: bold; line-height: 1; border-radius: 0.35em; vertical-align: middle; margin-left: 0.5rem\">GPE</span>\n",
       "</mark>\n",
       " he went to the </br>ranch  </br>They succeeded in surrounding </br>him </br>Quite a few more than three hundred </br>But there he jumped their corral </br></br>When he jumped their corral </br>According to what we hear</br>They got into a gunfight</br>And he killed them another sheriff </br></br>Then said Gregorio Cortez </br>With his pistol in his hand </br>Don’t run you cowardly rangers </br>From just one Mexican</br></br>Gregorio Cortez went out </br>He went towards \n",
       "<mark class=\"entity\" style=\"background: #feca74; padding: 0.45em 0.6em; margin: 0 0.25em; line-height: 1; border-radius: 0.35em;\">\n",
       "    Laredo\n",
       "    <span style=\"font-size: 0.8em; font-weight: bold; line-height: 1; border-radius: 0.35em; vertical-align: middle; margin-left: 0.5rem\">GPE</span>\n",
       "</mark>\n",
       "</br>They decided not to follow </br>Because they were afraid of him</br></br>Then said Gregorio Cortez </br>What is the use of your scheming?</br>You cannot catch me</br>Even with those bloodhounds</br></br>Then the Americans said </br>If we catch you with him what </br>shall we do?</br>If we fight him man to man </br>Very few of us will return</br></br>Over by El \n",
       "<mark class=\"entity\" style=\"background: #feca74; padding: 0.45em 0.6em; margin: 0 0.25em; line-height: 1; border-radius: 0.35em;\">\n",
       "    Encinal\n",
       "    <span style=\"font-size: 0.8em; font-weight: bold; line-height: 1; border-radius: 0.35em; vertical-align: middle; margin-left: 0.5rem\">GPE</span>\n",
       "</mark>\n",
       " </br>According to what we hear </br>They made him a corral </br>And he killed them another sheriff </br></br>Then said Gregorio Cortez </br>Shooting out a lot of bullets</br>I have weathered thunderstorms</br>This little mist doesn’t bother me</br></br>Now he has met a Mexican</br>He says to him haughtily</br>tell me the news</br>I am Gregorio Cortez</br></br>It is said that because of me </br>Many people have been killed</br>I will surrender now</br>Because such things are not right</br></br>Cortez says to Jesús</br>At last you are going to see it</br>Go tell the rangers</br>To come and arrest me</br></br>All the rangers were coming </br>Coming so fast they even flew </br>For they wanted to get </br>The thousand dollars they were </br>offered </br></br>When they surrounded the house </br>Cortez suddenly appeared before</br>\tthem </br>You will take me if I’m willing </br>But not any other way</br></br>Then the Major Sheriff said </br>As if he was going to cry </br>Cortez hand over your weapons</br>We are not going to kill</br></br>Then said Gregorio Cortez</br>Shouting to them in a loud voice</br>I won’t surrender my arms</br>Until I am in a cell</br></br>Then said Gregorio Cortez</br>He said in his godly voice </br>I won’t surrender my arms</br>Until I’m inside a jail</br></br>Now they have taken Cortez</br>Now matters are at an end </br>His poor family</br>Are suffering in their hearts</br></br>Now with this I say farewell </br>In the shade of a cypress tree</br>This the end of the singing </br>Of the ballad of Cortez</div>\n",
       "</figure>\n",
       "</body>\n",
       "</html></span>"
      ],
      "text/plain": [
       "<IPython.core.display.HTML object>"
      ]
     },
     "metadata": {},
     "output_type": "display_data"
    }
   ],
   "source": [
    "displacy.render(doc, style ='ent', jupyter=True, page=True)"
   ]
  },
  {
   "cell_type": "markdown",
   "metadata": {
    "extensions": {
     "jupyter_dashboards": {
      "version": 1,
      "views": {
       "grid_default": {},
       "report_default": {}
      }
     }
    }
   },
   "source": [
    "Geoparsing: Finding places from the corrido lyrics"
   ]
  },
  {
   "cell_type": "code",
   "execution_count": 22,
   "metadata": {
    "extensions": {
     "jupyter_dashboards": {
      "version": 1,
      "views": {
       "grid_default": {},
       "report_default": {}
      }
     }
    }
   },
   "outputs": [
    {
     "name": "stdout",
     "output_type": "stream",
     "text": [
      "[]\n",
      "[]\n",
      "['Laredo', 'Belmont', 'Gonzales', 'Encinal', 'Karnes']\n",
      "['Laredo', 'Belmont', 'Gonzales', 'Encinal', 'Karnes']\n"
     ]
    }
   ],
   "source": [
    "pc = places.PlaceContext(ents)\n",
    "\n",
    "pc.set_countries()\n",
    "print (pc.countries) #['United States']\n",
    "\n",
    "pc.set_regions()\n",
    "print(pc.regions) #['Texas'])\n",
    "\n",
    "pc.set_cities()\n",
    "print(pc.cities) #['Brownsville'])\n",
    "\n",
    "#print(pc.address_strings) #['Brownsville','Texas, United States'])\n",
    "print(pc.cities[0:5])"
   ]
  },
  {
   "cell_type": "markdown",
   "metadata": {
    "extensions": {
     "jupyter_dashboards": {
      "version": 1,
      "views": {
       "grid_default": {},
       "report_default": {}
      }
     }
    }
   },
   "source": [
    "need to know the country code https://en.wikipedia.org/wiki/ISO_3166-1_alpha-2#Current_codes"
   ]
  },
  {
   "cell_type": "markdown",
   "metadata": {
    "extensions": {
     "jupyter_dashboards": {
      "version": 1,
      "views": {
       "grid_default": {},
       "report_default": {}
      }
     }
    }
   },
   "source": [
    "Setting Geometry- https://geopandas.org/en/stable/docs/reference/api/geopandas.GeoDataFrame.set_geometry.html#\n",
    "\n",
    "Creating a GeoDataFrame from a DataFrame with coordinates https://geopandas.org/en/stable/gallery/create_geopandas_from_pandas.html"
   ]
  },
  {
   "attachments": {},
   "cell_type": "markdown",
   "metadata": {},
   "source": [
    "Pandas Dataframe"
   ]
  },
  {
   "cell_type": "code",
   "execution_count": 83,
   "metadata": {},
   "outputs": [
    {
     "data": {
      "text/html": [
       "<div>\n",
       "<style scoped>\n",
       "    .dataframe tbody tr th:only-of-type {\n",
       "        vertical-align: middle;\n",
       "    }\n",
       "\n",
       "    .dataframe tbody tr th {\n",
       "        vertical-align: top;\n",
       "    }\n",
       "\n",
       "    .dataframe thead th {\n",
       "        text-align: right;\n",
       "    }\n",
       "</style>\n",
       "<table border=\"1\" class=\"dataframe\">\n",
       "  <thead>\n",
       "    <tr style=\"text-align: right;\">\n",
       "      <th></th>\n",
       "      <th>NER Places</th>\n",
       "    </tr>\n",
       "  </thead>\n",
       "  <tbody>\n",
       "    <tr>\n",
       "      <th>0</th>\n",
       "      <td>Karnes</td>\n",
       "    </tr>\n",
       "    <tr>\n",
       "      <th>1</th>\n",
       "      <td>Gonzales</td>\n",
       "    </tr>\n",
       "    <tr>\n",
       "      <th>2</th>\n",
       "      <td>Belmont</td>\n",
       "    </tr>\n",
       "    <tr>\n",
       "      <th>3</th>\n",
       "      <td>Laredo</td>\n",
       "    </tr>\n",
       "    <tr>\n",
       "      <th>4</th>\n",
       "      <td>Encinal</td>\n",
       "    </tr>\n",
       "  </tbody>\n",
       "</table>\n",
       "</div>"
      ],
      "text/plain": [
       "  NER Places\n",
       "0     Karnes\n",
       "1   Gonzales\n",
       "2    Belmont\n",
       "3     Laredo\n",
       "4    Encinal"
      ]
     },
     "execution_count": 83,
     "metadata": {},
     "output_type": "execute_result"
    }
   ],
   "source": [
    "df = pd.DataFrame(ents, columns=[\"NER Places\"])\n",
    "df.head()\n"
   ]
  },
  {
   "attachments": {},
   "cell_type": "markdown",
   "metadata": {
    "extensions": {
     "jupyter_dashboards": {
      "version": 1,
      "views": {
       "grid_default": {},
       "report_default": {}
      }
     }
    }
   },
   "source": [
    "NER Places Geolocation "
   ]
  },
  {
   "cell_type": "code",
   "execution_count": 84,
   "metadata": {
    "extensions": {
     "jupyter_dashboards": {
      "version": 1,
      "views": {
       "grid_default": {},
       "report_default": {}
      }
     }
    }
   },
   "outputs": [
    {
     "data": {
      "text/html": [
       "<div>\n",
       "<style scoped>\n",
       "    .dataframe tbody tr th:only-of-type {\n",
       "        vertical-align: middle;\n",
       "    }\n",
       "\n",
       "    .dataframe tbody tr th {\n",
       "        vertical-align: top;\n",
       "    }\n",
       "\n",
       "    .dataframe thead th {\n",
       "        text-align: right;\n",
       "    }\n",
       "</style>\n",
       "<table border=\"1\" class=\"dataframe\">\n",
       "  <thead>\n",
       "    <tr style=\"text-align: right;\">\n",
       "      <th></th>\n",
       "      <th>NER Places</th>\n",
       "      <th>Location</th>\n",
       "    </tr>\n",
       "  </thead>\n",
       "  <tbody>\n",
       "    <tr>\n",
       "      <th>0</th>\n",
       "      <td>Karnes</td>\n",
       "      <td>(Karnes County, Texas, United States, (28.8791...</td>\n",
       "    </tr>\n",
       "    <tr>\n",
       "      <th>1</th>\n",
       "      <td>Gonzales</td>\n",
       "      <td>(Gonzales County, Texas, United States, (29.44...</td>\n",
       "    </tr>\n",
       "    <tr>\n",
       "      <th>2</th>\n",
       "      <td>Belmont</td>\n",
       "      <td>(Belmont, Molsheim, Bas-Rhin, Grand Est, Franc...</td>\n",
       "    </tr>\n",
       "    <tr>\n",
       "      <th>3</th>\n",
       "      <td>Laredo</td>\n",
       "      <td>(Laredo, Webb County, Texas, United States, (2...</td>\n",
       "    </tr>\n",
       "    <tr>\n",
       "      <th>4</th>\n",
       "      <td>Encinal</td>\n",
       "      <td>(Encinal, La Salle County, Texas, United State...</td>\n",
       "    </tr>\n",
       "  </tbody>\n",
       "</table>\n",
       "</div>"
      ],
      "text/plain": [
       "  NER Places                                           Location\n",
       "0     Karnes  (Karnes County, Texas, United States, (28.8791...\n",
       "1   Gonzales  (Gonzales County, Texas, United States, (29.44...\n",
       "2    Belmont  (Belmont, Molsheim, Bas-Rhin, Grand Est, Franc...\n",
       "3     Laredo  (Laredo, Webb County, Texas, United States, (2...\n",
       "4    Encinal  (Encinal, La Salle County, Texas, United State..."
      ]
     },
     "execution_count": 84,
     "metadata": {},
     "output_type": "execute_result"
    }
   ],
   "source": [
    "geolocator = Nominatim(user_agent=\"https://nominatim.openstreetmap.org/search?place=hamlet\")\n",
    "\n",
    "geocode = RateLimiter(geolocator.geocode, min_delay_seconds=1)\n",
    "\n",
    "df['Location'] = df['NER Places'].apply(geocode)\n",
    "\n",
    "df.head()"
   ]
  },
  {
   "cell_type": "code",
   "execution_count": null,
   "metadata": {
    "extensions": {
     "jupyter_dashboards": {
      "version": 1,
      "views": {
       "grid_default": {},
       "report_default": {}
      }
     }
    }
   },
   "outputs": [],
   "source": [
    "laredo_info = geolocator.geocode(laredo)\n",
    "laredo_lat = (laredo_info.latitude) \n",
    "laredo_long= (laredo_info.longitude)\n",
    "print(laredo_info)\n",
    "print(laredo_long,',', laredo_lat)"
   ]
  },
  {
   "cell_type": "markdown",
   "metadata": {
    "extensions": {
     "jupyter_dashboards": {
      "version": 1,
      "views": {
       "grid_default": {},
       "report_default": {}
      }
     }
    }
   },
   "source": [
    "Belmont, Tejas/Texas"
   ]
  },
  {
   "cell_type": "code",
   "execution_count": null,
   "metadata": {
    "extensions": {
     "jupyter_dashboards": {
      "version": 1,
      "views": {
       "grid_default": {},
       "report_default": {}
      }
     }
    }
   },
   "outputs": [],
   "source": [
    "belmont='Belmont, Gonzales County,Texas'\n",
    "#belmont=pc.cities[1]\n",
    "belmont_info=geolocator.geocode(belmont)\n",
    "belmont_lat = (belmont_info.latitude)\n",
    "belmont_long= (belmont_info.longitude)\n",
    "print(belmont_info)\n",
    "print(belmont_long,',', belmont_lat)"
   ]
  },
  {
   "cell_type": "markdown",
   "metadata": {
    "extensions": {
     "jupyter_dashboards": {
      "version": 1,
      "views": {
       "grid_default": {},
       "report_default": {}
      }
     }
    }
   },
   "source": [
    "Gonzales, Tejas"
   ]
  },
  {
   "cell_type": "code",
   "execution_count": null,
   "metadata": {
    "extensions": {
     "jupyter_dashboards": {
      "version": 1,
      "views": {
       "grid_default": {},
       "report_default": {}
      }
     }
    }
   },
   "outputs": [],
   "source": [
    "\n",
    "#gonzales='Gonzales,Texas'\n",
    "gonzales=pc.cities[2]\n",
    "gonzales_info=geolocator.geocode(gonzales)\n",
    "gonzales_lat = (gonzales_info.latitude) \n",
    "gonzales_long =(gonzales_info.longitude)\n",
    "#gonzales=gonzales_info, gonzales_coordinates\n",
    "print(gonzales_lat, ',', gonzales_long)\n",
    "print(gonzales_info)"
   ]
  },
  {
   "cell_type": "code",
   "execution_count": null,
   "metadata": {
    "extensions": {
     "jupyter_dashboards": {
      "version": 1,
      "views": {
       "grid_default": {},
       "report_default": {}
      }
     }
    }
   },
   "outputs": [],
   "source": [
    "greg_gpd = gpd.GeoDataFrame(\n",
    "    nerPlaces, geometry=gpd.points_from_xy(nerPlaces.Longitude, nerPlaces.Latitude),  crs=\"EPSG:4326\")"
   ]
  },
  {
   "cell_type": "markdown",
   "metadata": {
    "extensions": {
     "jupyter_dashboards": {
      "version": 1,
      "views": {
       "grid_default": {},
       "report_default": {}
      }
     }
    }
   },
   "source": [
    "figure out later shapely 2.0 "
   ]
  },
  {
   "cell_type": "code",
   "execution_count": null,
   "metadata": {
    "extensions": {
     "jupyter_dashboards": {
      "version": 1,
      "views": {
       "grid_default": {},
       "report_default": {}
      }
     }
    }
   },
   "outputs": [],
   "source": [
    "print(greg_gpd.head())\n",
    "#greg_gpd.plot()"
   ]
  },
  {
   "cell_type": "code",
   "execution_count": null,
   "metadata": {
    "extensions": {
     "jupyter_dashboards": {
      "version": 1,
      "views": {
       "grid_default": {},
       "report_default": {}
      }
     }
    }
   },
   "outputs": [],
   "source": [
    "#greg_gpd_basemap, greg_gpd_extent = ctx.bounds2img(*greg_gpd.total_bounds, zoom=10,   \n",
    "                                            #source=ctx.providers.OpenStreetMap.Mapnik )"
   ]
  },
  {
   "cell_type": "code",
   "execution_count": null,
   "metadata": {
    "extensions": {
     "jupyter_dashboards": {
      "version": 1,
      "views": {
       "grid_default": {},
       "report_default": {}
      }
     }
    },
    "scrolled": true
   },
   "outputs": [],
   "source": [
    "px.set_mapbox_access_token(open(\"mapboxtoken\").read())\n",
    "\n",
    "fig = px.scatter_mapbox(greg_gpd, \n",
    "                        color='Place',\n",
    "                        animation_group='Place',\n",
    "                        animation_frame=['Gonzales', 'Belmont', 'Laredo'],\n",
    "                        lat=greg_gpd.geometry.y, \n",
    "                        lon=greg_gpd.geometry.x, \n",
    "                        hover_name='Place',\n",
    "                        size='Latitude',\n",
    "                        zoom=5,\n",
    "                        width=500,\n",
    "                        height=500,\n",
    "                        title=(\"Gregorio Cortez on the run (June 14 to 22, 1901)\"),\n",
    "                        mapbox_style='carto-positron'                               \n",
    "                        )\n",
    "\n",
    "fig.show()"
   ]
  },
  {
   "cell_type": "code",
   "execution_count": null,
   "metadata": {},
   "outputs": [],
   "source": [
    "greg_gpd.to_json()"
   ]
  },
  {
   "cell_type": "code",
   "execution_count": null,
   "metadata": {},
   "outputs": [],
   "source": [
    "import os\n",
    "greg_gpd.to_file(r\"C:\\Users\\dmlpz\\Corridos\", driver=\"GeoJSON\")"
   ]
  },
  {
   "cell_type": "code",
   "execution_count": null,
   "metadata": {},
   "outputs": [],
   "source": [
    "fig.write_html(\"../corridos/gregmap.html\")"
   ]
  }
 ],
 "metadata": {
  "extensions": {
   "jupyter_dashboards": {
    "activeView": "grid_default",
    "version": 1,
    "views": {
     "grid_default": {
      "cellMargin": 10,
      "defaultCellHeight": 20,
      "maxColumns": 12,
      "name": "grid",
      "type": "grid"
     },
     "report_default": {
      "name": "report",
      "type": "report"
     }
    }
   }
  },
  "kernelspec": {
   "display_name": "Greg",
   "language": "python",
   "name": "python3"
  },
  "language_info": {
   "codemirror_mode": {
    "name": "ipython",
    "version": 3
   },
   "file_extension": ".py",
   "mimetype": "text/x-python",
   "name": "python",
   "nbconvert_exporter": "python",
   "pygments_lexer": "ipython3",
   "version": "3.9.16"
  },
  "vscode": {
   "interpreter": {
    "hash": "c33b8046986a03aa44ef4ea500a2630dcd79ff60fec54402ff1309c4dcbd3e63"
   }
  }
 },
 "nbformat": 4,
 "nbformat_minor": 2
}
