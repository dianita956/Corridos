{
 "cells": [
  {
   "cell_type": "markdown",
   "metadata": {
    "extensions": {
     "jupyter_dashboards": {
      "version": 1,
      "views": {
       "grid_default": {},
       "report_default": {}
      }
     }
    }
   },
   "source": [
    "# El corrido de Gregorio Cortez\n",
    "\n",
    "## Mapping the manhunt of Rio Grande border folk hero Gregorio Cortez:  the largest manhunt in U.S. history.\n",
    "\n",
    "### June 14, 1901 to June 22, 1901\n",
    "\n",
    "### based on lyrics from the Corrido de Gregorio Cortez (variant x english translation by Americo Paredes)\n",
    "\n",
    "#### project author Diane López "
   ]
  },
  {
   "cell_type": "code",
   "execution_count": 1,
   "metadata": {},
   "outputs": [],
   "source": [
    "import geopandas as gpd\n",
    "import pandas as pd\n",
    "import numpy as np\n",
    "\n",
    "from geograpy import places\n",
    "import re\n",
    "\n",
    "import geopy\n",
    "from geopy.geocoders import ArcGIS\n",
    "#from geopy.extra.rate_limiter import RateLimiter\n",
    "\n",
    "import shapely\n",
    "from shapely.geometry import Point\n",
    "from shapely.wkt import loads\n",
    "import shapely.wkt\n",
    "from shapely import wkt\n",
    "\n",
    "import contextily as cx\n",
    "import matplotlib.pyplot as plt #to make sure there are no errors when plotting a graph\n",
    "import pyproj\n",
    "\n",
    "#import nltk\n",
    "\n",
    "import spacy\n",
    "from spacy import displacy\n",
    "\n",
    "import locationtagger\n",
    "nlp = spacy.load(\"en_core_web_sm\")"
   ]
  },
  {
   "cell_type": "code",
   "execution_count": 2,
   "metadata": {},
   "outputs": [
    {
     "name": "stdout",
     "output_type": "stream",
     "text": [
      "['Karnes', 'Gonzales', 'Belmont', 'Laredo', 'Encinal']\n"
     ]
    }
   ],
   "source": [
    "text = \"corrido corpus\\ElCorridodeGregorioCortez_X.txt\"\n",
    "with open(text, 'r', encoding='utf-8') as c:\n",
    "    text = c.read()\n",
    "    \n",
    "def clean_text(text):\n",
    "    cleaned= re.sub(r'[\":;,.“”]', \"\", text)\n",
    "    return(cleaned)\n",
    "text = clean_text(text)\n",
    "#print(text)\n",
    "\n",
    "\n",
    "TxGPE=[]\n",
    "nlp = spacy.load(\"tx_trained_ner\")\n",
    "doc =nlp(text) \n",
    "#print(doc)\n",
    "for ent in doc.ents:\n",
    "    #print(ent.text, ent.label_)\n",
    "    if ent.label_ == \"GPE\":\n",
    "        TxGPE.append(ent.text)\n",
    "print(TxGPE)"
   ]
  },
  {
   "cell_type": "code",
   "execution_count": 3,
   "metadata": {},
   "outputs": [
    {
     "name": "stdout",
     "output_type": "stream",
     "text": [
      "[('Karnes', 18, 24, 'GPE'), ('Gonzales', 1051, 1059, 'GPE'), ('Belmont', 1140, 1147, 'GPE'), ('Laredo', 1550, 1556, 'GPE'), ('Encinal', 1864, 1871, 'GPE')]\n",
      "['Karnes', 'Gonzales', 'Belmont', 'Laredo', 'Encinal']\n"
     ]
    }
   ],
   "source": [
    "ents = [(e.text, e.start_char, e.end_char, e.label_)for e in doc.ents]\n",
    "print(ents)\n",
    "\n",
    "ents = [(e.text)for e in doc.ents]\n",
    "print(ents)"
   ]
  },
  {
   "cell_type": "code",
   "execution_count": 4,
   "metadata": {},
   "outputs": [
    {
     "data": {
      "text/html": [
       "<span class=\"tex2jax_ignore\"><!DOCTYPE html>\n",
       "<html lang=\"en\">\n",
       "    <head>\n",
       "        <title>displaCy</title>\n",
       "    </head>\n",
       "\n",
       "    <body style=\"font-size: 16px; font-family: -apple-system, BlinkMacSystemFont, 'Segoe UI', Helvetica, Arial, sans-serif, 'Apple Color Emoji', 'Segoe UI Emoji', 'Segoe UI Symbol'; padding: 4rem 2rem; direction: ltr\">\n",
       "<figure style=\"margin-bottom: 6rem\">\n",
       "<div class=\"entities\" style=\"line-height: 2.5; direction: ltr\">In the country of \n",
       "<mark class=\"entity\" style=\"background: #feca74; padding: 0.45em 0.6em; margin: 0 0.25em; line-height: 1; border-radius: 0.35em;\">\n",
       "    Karnes\n",
       "    <span style=\"font-size: 0.8em; font-weight: bold; line-height: 1; border-radius: 0.35em; vertical-align: middle; margin-left: 0.5rem\">GPE</span>\n",
       "</mark>\n",
       " </br>Look what has happened </br>The Major Sheriff died</br>Leaving Román badly wounded</br></br>It must have been two in the </br>afternoon</br>When people arrived</br>They said to one another</br>It is not known who killed him</br></br>They went around asking questions</br>About half an hour afterward </br>They found that the wrongdoer</br>Had been Gregorio Cortez</br></br>Now they have outlawed Cortez</br>Throughout the whole state</br>Let him be taken dead or alive </br>He has killed several men</br></br>They said Gregorio Cortez </br>With his pistol in his hand</br>I don’t regret that I killed him </br>I regret my brother’s death</br></br>Then said Gregorio Cortez </br>And his soul was all aflame </br>I don’t regret that I killed him</br>A man must defend himself</br></br>The Americans were coming </br>They were whiter than a dove </br>From the fear that they had </br>Of Cortez and of his pistol </br></br>Then the Americans said </br>Then they said fearfully</br>Come let us follow the trail</br>The wrongdoer is Cortez</br></br>They set the bloodhounds on him </br>So they could follow his trail </br>But trying to overtake  Cortez</br>Was like following a star </br></br>He struck out for \n",
       "<mark class=\"entity\" style=\"background: #feca74; padding: 0.45em 0.6em; margin: 0 0.25em; line-height: 1; border-radius: 0.35em;\">\n",
       "    Gonzales\n",
       "    <span style=\"font-size: 0.8em; font-weight: bold; line-height: 1; border-radius: 0.35em; vertical-align: middle; margin-left: 0.5rem\">GPE</span>\n",
       "</mark>\n",
       "</br>Without showing any fear</br>Follow me cowardly rangers </br>I am Gregorio Cortez</br></br>From \n",
       "<mark class=\"entity\" style=\"background: #feca74; padding: 0.45em 0.6em; margin: 0 0.25em; line-height: 1; border-radius: 0.35em;\">\n",
       "    Belmont\n",
       "    <span style=\"font-size: 0.8em; font-weight: bold; line-height: 1; border-radius: 0.35em; vertical-align: middle; margin-left: 0.5rem\">GPE</span>\n",
       "</mark>\n",
       " he went to the </br>ranch  </br>They succeeded in surrounding </br>him </br>Quite a few more than three hundred </br>But there he jumped their corral </br></br>When he jumped their corral </br>According to what we hear</br>They got into a gunfight</br>And he killed them another sheriff </br></br>Then said Gregorio Cortez </br>With his pistol in his hand </br>Don’t run you cowardly rangers </br>From just one Mexican</br></br>Gregorio Cortez went out </br>He went towards \n",
       "<mark class=\"entity\" style=\"background: #feca74; padding: 0.45em 0.6em; margin: 0 0.25em; line-height: 1; border-radius: 0.35em;\">\n",
       "    Laredo\n",
       "    <span style=\"font-size: 0.8em; font-weight: bold; line-height: 1; border-radius: 0.35em; vertical-align: middle; margin-left: 0.5rem\">GPE</span>\n",
       "</mark>\n",
       "</br>They decided not to follow </br>Because they were afraid of him</br></br>Then said Gregorio Cortez </br>What is the use of your scheming?</br>You cannot catch me</br>Even with those bloodhounds</br></br>Then the Americans said </br>If we catch you with him what </br>shall we do?</br>If we fight him man to man </br>Very few of us will return</br></br>Over by El \n",
       "<mark class=\"entity\" style=\"background: #feca74; padding: 0.45em 0.6em; margin: 0 0.25em; line-height: 1; border-radius: 0.35em;\">\n",
       "    Encinal\n",
       "    <span style=\"font-size: 0.8em; font-weight: bold; line-height: 1; border-radius: 0.35em; vertical-align: middle; margin-left: 0.5rem\">GPE</span>\n",
       "</mark>\n",
       " </br>According to what we hear </br>They made him a corral </br>And he killed them another sheriff </br></br>Then said Gregorio Cortez </br>Shooting out a lot of bullets</br>I have weathered thunderstorms</br>This little mist doesn’t bother me</br></br>Now he has met a Mexican</br>He says to him haughtily</br>tell me the news</br>I am Gregorio Cortez</br></br>It is said that because of me </br>Many people have been killed</br>I will surrender now</br>Because such things are not right</br></br>Cortez says to Jesús</br>At last you are going to see it</br>Go tell the rangers</br>To come and arrest me</br></br>All the rangers were coming </br>Coming so fast they even flew </br>For they wanted to get </br>The thousand dollars they were </br>offered </br></br>When they surrounded the house </br>Cortez suddenly appeared before</br>\tthem </br>You will take me if I’m willing </br>But not any other way</br></br>Then the Major Sheriff said </br>As if he was going to cry </br>Cortez hand over your weapons</br>We are not going to kill</br></br>Then said Gregorio Cortez</br>Shouting to them in a loud voice</br>I won’t surrender my arms</br>Until I am in a cell</br></br>Then said Gregorio Cortez</br>He said in his godly voice </br>I won’t surrender my arms</br>Until I’m inside a jail</br></br>Now they have taken Cortez</br>Now matters are at an end </br>His poor family</br>Are suffering in their hearts</br></br>Now with this I say farewell </br>In the shade of a cypress tree</br>This the end of the singing </br>Of the ballad of Cortez</div>\n",
       "</figure>\n",
       "</body>\n",
       "</html></span>"
      ],
      "text/plain": [
       "<IPython.core.display.HTML object>"
      ]
     },
     "metadata": {},
     "output_type": "display_data"
    }
   ],
   "source": [
    "displacy.render(doc, style ='ent', jupyter=True, page=True)"
   ]
  },
  {
   "cell_type": "markdown",
   "metadata": {
    "extensions": {
     "jupyter_dashboards": {
      "version": 1,
      "views": {
       "grid_default": {},
       "report_default": {}
      }
     }
    }
   },
   "source": [
    "Geoparsing: Finding places from the corrido lyrics"
   ]
  },
  {
   "cell_type": "code",
   "execution_count": 5,
   "metadata": {
    "extensions": {
     "jupyter_dashboards": {
      "version": 1,
      "views": {
       "grid_default": {},
       "report_default": {}
      }
     }
    }
   },
   "outputs": [
    {
     "name": "stdout",
     "output_type": "stream",
     "text": [
      "[]\n",
      "[]\n",
      "['Laredo', 'Belmont', 'Gonzales', 'Encinal', 'Karnes']\n"
     ]
    }
   ],
   "source": [
    "pc = places.PlaceContext(ents)\n",
    "\n",
    "pc.set_countries()\n",
    "print (pc.countries) #['United States']\n",
    "\n",
    "pc.set_regions()\n",
    "print(pc.regions) #['Texas'])\n",
    "\n",
    "pc.set_cities()\n",
    "print(pc.cities) #['Brownsville'])\n",
    "\n",
    "#print(pc.address_strings) #['Brownsville','Texas, United States'])\n",
    "#print(pc.cities[0:5])"
   ]
  },
  {
   "cell_type": "markdown",
   "metadata": {},
   "source": [
    "Pandas Dataframe\n",
    "NER Places Geolocation "
   ]
  },
  {
   "cell_type": "code",
   "execution_count": 6,
   "metadata": {},
   "outputs": [
    {
     "data": {
      "text/html": [
       "<div>\n",
       "<style scoped>\n",
       "    .dataframe tbody tr th:only-of-type {\n",
       "        vertical-align: middle;\n",
       "    }\n",
       "\n",
       "    .dataframe tbody tr th {\n",
       "        vertical-align: top;\n",
       "    }\n",
       "\n",
       "    .dataframe thead th {\n",
       "        text-align: right;\n",
       "    }\n",
       "</style>\n",
       "<table border=\"1\" class=\"dataframe\">\n",
       "  <thead>\n",
       "    <tr style=\"text-align: right;\">\n",
       "      <th></th>\n",
       "      <th>NER_Places</th>\n",
       "      <th>Location</th>\n",
       "    </tr>\n",
       "  </thead>\n",
       "  <tbody>\n",
       "    <tr>\n",
       "      <th>0</th>\n",
       "      <td>Karnes</td>\n",
       "      <td>(Karnes County, Texas, (28.905630820000056, -9...</td>\n",
       "    </tr>\n",
       "    <tr>\n",
       "      <th>1</th>\n",
       "      <td>Gonzales</td>\n",
       "      <td>(Gonzales, Texas, (29.500150000000076, -97.452...</td>\n",
       "    </tr>\n",
       "    <tr>\n",
       "      <th>2</th>\n",
       "      <td>Belmont</td>\n",
       "      <td>(Belmont, Texas, (29.52287000000007, -97.68328...</td>\n",
       "    </tr>\n",
       "    <tr>\n",
       "      <th>3</th>\n",
       "      <td>Laredo</td>\n",
       "      <td>(Laredo, Texas, (27.530920000000037, -99.50230...</td>\n",
       "    </tr>\n",
       "    <tr>\n",
       "      <th>4</th>\n",
       "      <td>Encinal</td>\n",
       "      <td>(Encinal, Texas, (28.046230000000037, -99.3566...</td>\n",
       "    </tr>\n",
       "  </tbody>\n",
       "</table>\n",
       "</div>"
      ],
      "text/plain": [
       "  NER_Places                                           Location\n",
       "0     Karnes  (Karnes County, Texas, (28.905630820000056, -9...\n",
       "1   Gonzales  (Gonzales, Texas, (29.500150000000076, -97.452...\n",
       "2    Belmont  (Belmont, Texas, (29.52287000000007, -97.68328...\n",
       "3     Laredo  (Laredo, Texas, (27.530920000000037, -99.50230...\n",
       "4    Encinal  (Encinal, Texas, (28.046230000000037, -99.3566..."
      ]
     },
     "execution_count": 6,
     "metadata": {},
     "output_type": "execute_result"
    }
   ],
   "source": [
    "df = pd.DataFrame(ents, columns=[\"NER_Places\"])\n",
    "geolocator = ArcGIS(user_agent='CorridosMap')\n",
    "geocode = lambda query: geolocator.geocode(\"%s, Texas\" % query)\n",
    "df['Location'] = df['NER_Places'].apply(geocode)\n",
    "df"
   ]
  },
  {
   "cell_type": "code",
   "execution_count": 7,
   "metadata": {},
   "outputs": [
    {
     "data": {
      "text/html": [
       "<div>\n",
       "<style scoped>\n",
       "    .dataframe tbody tr th:only-of-type {\n",
       "        vertical-align: middle;\n",
       "    }\n",
       "\n",
       "    .dataframe tbody tr th {\n",
       "        vertical-align: top;\n",
       "    }\n",
       "\n",
       "    .dataframe thead th {\n",
       "        text-align: right;\n",
       "    }\n",
       "</style>\n",
       "<table border=\"1\" class=\"dataframe\">\n",
       "  <thead>\n",
       "    <tr style=\"text-align: right;\">\n",
       "      <th></th>\n",
       "      <th>geometry</th>\n",
       "      <th>address</th>\n",
       "    </tr>\n",
       "  </thead>\n",
       "  <tbody>\n",
       "    <tr>\n",
       "      <th>0</th>\n",
       "      <td>POINT (-97.85942 28.90563)</td>\n",
       "      <td>Karnes County, Texas</td>\n",
       "    </tr>\n",
       "    <tr>\n",
       "      <th>1</th>\n",
       "      <td>POINT (-97.45223 29.50015)</td>\n",
       "      <td>Gonzales, Texas</td>\n",
       "    </tr>\n",
       "    <tr>\n",
       "      <th>2</th>\n",
       "      <td>POINT (-97.68329 29.52287)</td>\n",
       "      <td>Belmont, Texas</td>\n",
       "    </tr>\n",
       "    <tr>\n",
       "      <th>3</th>\n",
       "      <td>POINT (-99.50231 27.53092)</td>\n",
       "      <td>Laredo, Texas</td>\n",
       "    </tr>\n",
       "    <tr>\n",
       "      <th>4</th>\n",
       "      <td>POINT (-99.35670 28.04623)</td>\n",
       "      <td>Encinal, Texas</td>\n",
       "    </tr>\n",
       "  </tbody>\n",
       "</table>\n",
       "</div>"
      ],
      "text/plain": [
       "                     geometry               address\n",
       "0  POINT (-97.85942 28.90563)  Karnes County, Texas\n",
       "1  POINT (-97.45223 29.50015)       Gonzales, Texas\n",
       "2  POINT (-97.68329 29.52287)        Belmont, Texas\n",
       "3  POINT (-99.50231 27.53092)         Laredo, Texas\n",
       "4  POINT (-99.35670 28.04623)        Encinal, Texas"
      ]
     },
     "execution_count": 7,
     "metadata": {},
     "output_type": "execute_result"
    }
   ],
   "source": [
    "gpd = gpd.tools.geocode(df.Location, provider='ArcGIS')\n",
    "gpd"
   ]
  },
  {
   "cell_type": "code",
   "execution_count": 9,
   "metadata": {},
   "outputs": [
    {
     "data": {
      "text/plain": [
       "<Geographic 2D CRS: EPSG:4326>\n",
       "Name: WGS 84\n",
       "Axis Info [ellipsoidal]:\n",
       "- Lat[north]: Geodetic latitude (degree)\n",
       "- Lon[east]: Geodetic longitude (degree)\n",
       "Area of Use:\n",
       "- name: World.\n",
       "- bounds: (-180.0, -90.0, 180.0, 90.0)\n",
       "Datum: World Geodetic System 1984 ensemble\n",
       "- Ellipsoid: WGS 84\n",
       "- Prime Meridian: Greenwich"
      ]
     },
     "execution_count": 9,
     "metadata": {},
     "output_type": "execute_result"
    }
   ],
   "source": [
    "gpd.crs"
   ]
  },
  {
   "cell_type": "code",
   "execution_count": 12,
   "metadata": {},
   "outputs": [
    {
     "ename": "CRSError",
     "evalue": "The WKT could not be parsed. OGR Error code 6",
     "output_type": "error",
     "traceback": [
      "\u001b[1;31m---------------------------------------------------------------------------\u001b[0m",
      "\u001b[1;31mCPLE_BaseError\u001b[0m                            Traceback (most recent call last)",
      "File \u001b[1;32mrasterio\\crs.pyx:775\u001b[0m, in \u001b[0;36mrasterio.crs.CRS.from_user_input\u001b[1;34m()\u001b[0m\n",
      "File \u001b[1;32mrasterio\\_err.pyx:209\u001b[0m, in \u001b[0;36mrasterio._err.exc_wrap_ogrerr\u001b[1;34m()\u001b[0m\n",
      "\u001b[1;31mCPLE_BaseError\u001b[0m: OGR Error code 6",
      "\nDuring handling of the above exception, another exception occurred:\n",
      "\u001b[1;31mCRSError\u001b[0m                                  Traceback (most recent call last)",
      "Cell \u001b[1;32mIn[12], line 4\u001b[0m\n\u001b[0;32m      1\u001b[0m ax \u001b[39m=\u001b[39m gpd\u001b[39m.\u001b[39mplot(color\u001b[39m=\u001b[39m\u001b[39m\"\u001b[39m\u001b[39mred\u001b[39m\u001b[39m\"\u001b[39m, figsize\u001b[39m=\u001b[39m(\u001b[39m10\u001b[39m,\u001b[39m10\u001b[39m))\n\u001b[0;32m      3\u001b[0m \u001b[39m#cx.add_basemap(ax, crs=gpd.crs)\u001b[39;00m\n\u001b[1;32m----> 4\u001b[0m cx\u001b[39m.\u001b[39;49madd_basemap(ax, crs\u001b[39m=\u001b[39;49m\u001b[39m\"\u001b[39;49m\u001b[39mEPSG:4326\u001b[39;49m\u001b[39m\"\u001b[39;49m, source\u001b[39m=\u001b[39;49mcx\u001b[39m.\u001b[39;49mproviders\u001b[39m.\u001b[39;49mOpenStreetMap\u001b[39m.\u001b[39;49mMapnik, zoom\u001b[39m=\u001b[39;49m\u001b[39m12\u001b[39;49m)\n\u001b[0;32m      5\u001b[0m cx\u001b[39m.\u001b[39madd_basemap(ax, crs\u001b[39m=\u001b[39mgpd\u001b[39m.\u001b[39mcrs, source\u001b[39m=\u001b[39mcx\u001b[39m.\u001b[39mproviders\u001b[39m.\u001b[39mStamen\u001b[39m.\u001b[39mTonerLabels, zoom\u001b[39m=\u001b[39m\u001b[39m10\u001b[39m)\n\u001b[0;32m      7\u001b[0m ax\u001b[39m.\u001b[39mtick_params(left \u001b[39m=\u001b[39m \u001b[39mFalse\u001b[39;00m, right \u001b[39m=\u001b[39m \u001b[39mFalse\u001b[39;00m , labelleft \u001b[39m=\u001b[39m \u001b[39mFalse\u001b[39;00m ,labelbottom \u001b[39m=\u001b[39m \u001b[39mFalse\u001b[39;00m, bottom \u001b[39m=\u001b[39m \u001b[39mFalse\u001b[39;00m)\n",
      "File \u001b[1;32mc:\\Users\\dmlpz\\anaconda3\\lib\\site-packages\\contextily\\plotting.py:117\u001b[0m, in \u001b[0;36madd_basemap\u001b[1;34m(ax, zoom, source, interpolation, attribution, attribution_size, reset_extent, crs, resampling, **extra_imshow_args)\u001b[0m\n\u001b[0;32m    115\u001b[0m \u001b[39m# Convert extent from `crs` into WM for tile query\u001b[39;00m\n\u001b[0;32m    116\u001b[0m \u001b[39mif\u001b[39;00m crs \u001b[39mis\u001b[39;00m \u001b[39mnot\u001b[39;00m \u001b[39mNone\u001b[39;00m:\n\u001b[1;32m--> 117\u001b[0m     left, right, bottom, top \u001b[39m=\u001b[39m _reproj_bb(\n\u001b[0;32m    118\u001b[0m         left, right, bottom, top, crs, {\u001b[39m\"\u001b[39;49m\u001b[39minit\u001b[39;49m\u001b[39m\"\u001b[39;49m: \u001b[39m\"\u001b[39;49m\u001b[39mepsg:3857\u001b[39;49m\u001b[39m\"\u001b[39;49m}\n\u001b[0;32m    119\u001b[0m     )\n\u001b[0;32m    120\u001b[0m \u001b[39m# Download image\u001b[39;00m\n\u001b[0;32m    121\u001b[0m image, extent \u001b[39m=\u001b[39m bounds2img(\n\u001b[0;32m    122\u001b[0m     left, bottom, right, top, zoom\u001b[39m=\u001b[39mzoom, source\u001b[39m=\u001b[39msource, ll\u001b[39m=\u001b[39m\u001b[39mFalse\u001b[39;00m\n\u001b[0;32m    123\u001b[0m )\n",
      "File \u001b[1;32mc:\\Users\\dmlpz\\anaconda3\\lib\\site-packages\\contextily\\plotting.py:207\u001b[0m, in \u001b[0;36m_reproj_bb\u001b[1;34m(left, right, bottom, top, s_crs, t_crs)\u001b[0m\n\u001b[0;32m    206\u001b[0m \u001b[39mdef\u001b[39;00m \u001b[39m_reproj_bb\u001b[39m(left, right, bottom, top, s_crs, t_crs):\n\u001b[1;32m--> 207\u001b[0m     n_l, n_b, n_r, n_t \u001b[39m=\u001b[39m transform_bounds(s_crs, t_crs, left, bottom, right, top)\n\u001b[0;32m    208\u001b[0m     \u001b[39mreturn\u001b[39;00m n_l, n_r, n_b, n_t\n",
      "File \u001b[1;32mc:\\Users\\dmlpz\\anaconda3\\lib\\site-packages\\rasterio\\warp.py:147\u001b[0m, in \u001b[0;36mtransform_bounds\u001b[1;34m(src_crs, dst_crs, left, bottom, right, top, densify_pts)\u001b[0m\n\u001b[0;32m    113\u001b[0m \u001b[39mdef\u001b[39;00m \u001b[39mtransform_bounds\u001b[39m(\n\u001b[0;32m    114\u001b[0m         src_crs,\n\u001b[0;32m    115\u001b[0m         dst_crs,\n\u001b[1;32m   (...)\u001b[0m\n\u001b[0;32m    119\u001b[0m         top,\n\u001b[0;32m    120\u001b[0m         densify_pts\u001b[39m=\u001b[39m\u001b[39m21\u001b[39m):\n\u001b[0;32m    121\u001b[0m     \u001b[39m\"\"\"Transform bounds from src_crs to dst_crs.\u001b[39;00m\n\u001b[0;32m    122\u001b[0m \n\u001b[0;32m    123\u001b[0m \u001b[39m    Optionally densifying the edges (to account for nonlinear transformations\u001b[39;00m\n\u001b[1;32m   (...)\u001b[0m\n\u001b[0;32m    145\u001b[0m \u001b[39m        Outermost coordinates in target coordinate reference system.\u001b[39;00m\n\u001b[0;32m    146\u001b[0m \u001b[39m    \"\"\"\u001b[39;00m\n\u001b[1;32m--> 147\u001b[0m     src_crs \u001b[39m=\u001b[39m CRS\u001b[39m.\u001b[39;49mfrom_user_input(src_crs)\n\u001b[0;32m    148\u001b[0m     dst_crs \u001b[39m=\u001b[39m CRS\u001b[39m.\u001b[39mfrom_user_input(dst_crs)\n\u001b[0;32m    149\u001b[0m     \u001b[39mreturn\u001b[39;00m _transform_bounds(\n\u001b[0;32m    150\u001b[0m         src_crs,\n\u001b[0;32m    151\u001b[0m         dst_crs,\n\u001b[1;32m   (...)\u001b[0m\n\u001b[0;32m    156\u001b[0m         densify_pts,\n\u001b[0;32m    157\u001b[0m     )\n",
      "File \u001b[1;32mrasterio\\crs.pyx:777\u001b[0m, in \u001b[0;36mrasterio.crs.CRS.from_user_input\u001b[1;34m()\u001b[0m\n",
      "\u001b[1;31mCRSError\u001b[0m: The WKT could not be parsed. OGR Error code 6"
     ]
    },
    {
     "data": {
      "image/png": "[encoded data removed]",
      "text/plain": [
       "<Figure size 1000x1000 with 1 Axes>"
      ]
     },
     "metadata": {},
     "output_type": "display_data"
    }
   ],
   "source": [
    "ax = gpd.plot(color=\"red\", figsize=(10,10))\n",
    "\n",
    "#cx.add_basemap(ax, crs=gpd.crs)\n",
    "cx.add_basemap(ax, crs=\"EPSG:4326\", source=cx.providers.OpenStreetMap.Mapnik, zoom=12)\n",
    "cx.add_basemap(ax, crs=gpd.crs, source=cx.providers.Stamen.TonerLabels, zoom=10)\n",
    "\n",
    "ax.tick_params(left = False, right = False , labelleft = False ,labelbottom = False, bottom = False)\n"
   ]
  },
  {
   "cell_type": "code",
   "execution_count": null,
   "metadata": {},
   "outputs": [],
   "source": []
  }
 ],
 "metadata": {
  "extensions": {
   "jupyter_dashboards": {
    "activeView": "grid_default",
    "version": 1,
    "views": {
     "grid_default": {
      "cellMargin": 10,
      "defaultCellHeight": 20,
      "maxColumns": 12,
      "name": "grid",
      "type": "grid"
     },
     "report_default": {
      "name": "report",
      "type": "report"
     }
    }
   }
  },
  "kernelspec": {
   "display_name": "base",
   "language": "python",
   "name": "python3"
  },
  "language_info": {
   "codemirror_mode": {
    "name": "ipython",
    "version": 3
   },
   "file_extension": ".py",
   "mimetype": "text/x-python",
   "name": "python",
   "nbconvert_exporter": "python",
   "pygments_lexer": "ipython3",
   "version": "3.9.16"
  },
  "vscode": {
   "interpreter": {
    "hash": "7f40ff472a9a0ca2bfce30638906388c1fcc2e125f59cf1635e8e7322faa5529"
   }
  }
 },
 "nbformat": 4,
 "nbformat_minor": 4
}
