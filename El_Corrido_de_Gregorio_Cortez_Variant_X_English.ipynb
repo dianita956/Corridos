{
 "cells": [
  {
   "cell_type": "markdown",
   "metadata": {
    "extensions": {
     "jupyter_dashboards": {
      "version": 1,
      "views": {
       "grid_default": {},
       "report_default": {}
      }
     }
    }
   },
   "source": [
    "# El corrido de Gregorio Cortez\n",
    "\n",
    "## Mapping the manhunt of Rio Grande border folk hero Gregorio Cortez:  the largest manhunt in U.S. history.\n",
    "\n",
    "### June 14, 1901 to June 22, 1901\n",
    "\n",
    "### based on lyrics from the Corrido de Gregorio Cortez (variant x english translation by Americo Paredes)\n",
    "\n",
    "#### project author Diane Lopez"
   ]
  },
  {
   "cell_type": "code",
   "execution_count": 1,
   "metadata": {},
   "outputs": [],
   "source": [
    "import voila\n",
    "import geopandas as gpd\n",
    "\n",
    "import geograpy\n",
    "from geograpy import extraction\n",
    "from geograpy import places\n",
    "import re\n",
    "from geograpy.labels import Labels\n",
    "#from geograpy import geograpy-nltk\n",
    "\n",
    "import geopy\n",
    "from geopy.geocoders import Nominatim\n",
    "import time\n",
    "\n",
    "import pandas as pd\n",
    "import numpy as np\n",
    "\n",
    "import shapely\n",
    "from shapely.geometry import Point\n",
    "\n",
    "import contextily as ctx\n",
    "import matplotlib.pyplot as plt #to make sure there are no errors when plotting a graph\n",
    "import plotly.express as px\n",
    "import plotly.graph_objects as go\n",
    "\n",
    "#from mordecai import Geoparser\n",
    "import nltk\n",
    "\n",
    "import spacy\n",
    "from spacy import displacy\n",
    "from spacy.lang.en import English\n",
    "from spacy.lang.es import Spanish\n",
    "from spacy.pipeline import EntityRuler\n",
    "from spacy.tokens import Doc\n",
    "#from spacy.training import Example\n",
    "from spacy.language import Language\n",
    "#! python -m spacy download en_core_web_sm \n",
    "nlp = spacy.load(\"en_core_web_lg\")\n",
    "\n",
    "import json\n",
    "import random"
   ]
  },
  {
   "cell_type": "code",
   "execution_count": 4,
   "metadata": {},
   "outputs": [
    {
     "ename": "TypeError",
     "evalue": "Model() takes exactly 1 positional argument (0 given)",
     "output_type": "error",
     "traceback": [
      "\u001b[1;31m---------------------------------------------------------------------------\u001b[0m",
      "\u001b[1;31mTypeError\u001b[0m                                 Traceback (most recent call last)",
      "Cell \u001b[1;32mIn[4], line 13\u001b[0m\n\u001b[0;32m      9\u001b[0m \u001b[39m#print(text)\u001b[39;00m\n\u001b[0;32m     12\u001b[0m TxGPE\u001b[39m=\u001b[39m[]\n\u001b[1;32m---> 13\u001b[0m nlp \u001b[39m=\u001b[39m spacy\u001b[39m.\u001b[39;49mload(\u001b[39m\"\u001b[39;49m\u001b[39mtx_ner_model\u001b[39;49m\u001b[39m\"\u001b[39;49m)\n\u001b[0;32m     14\u001b[0m doc \u001b[39m=\u001b[39mnlp(text) \n\u001b[0;32m     15\u001b[0m \u001b[39m#print(doc)\u001b[39;00m\n",
      "File \u001b[1;32m~\\AppData\\Roaming\\Python\\Python39\\site-packages\\spacy\\__init__.py:30\u001b[0m, in \u001b[0;36mload\u001b[1;34m(name, **overrides)\u001b[0m\n\u001b[0;32m     28\u001b[0m \u001b[39mif\u001b[39;00m depr_path \u001b[39mnot\u001b[39;00m \u001b[39min\u001b[39;00m (\u001b[39mTrue\u001b[39;00m, \u001b[39mFalse\u001b[39;00m, \u001b[39mNone\u001b[39;00m):\n\u001b[0;32m     29\u001b[0m     warnings\u001b[39m.\u001b[39mwarn(Warnings\u001b[39m.\u001b[39mW001\u001b[39m.\u001b[39mformat(path\u001b[39m=\u001b[39mdepr_path), \u001b[39mDeprecationWarning\u001b[39;00m)\n\u001b[1;32m---> 30\u001b[0m \u001b[39mreturn\u001b[39;00m util\u001b[39m.\u001b[39mload_model(name, \u001b[39m*\u001b[39m\u001b[39m*\u001b[39moverrides)\n",
      "File \u001b[1;32m~\\AppData\\Roaming\\Python\\Python39\\site-packages\\spacy\\util.py:172\u001b[0m, in \u001b[0;36mload_model\u001b[1;34m(name, **overrides)\u001b[0m\n\u001b[0;32m    170\u001b[0m         \u001b[39mreturn\u001b[39;00m load_model_from_package(name, \u001b[39m*\u001b[39m\u001b[39m*\u001b[39moverrides)\n\u001b[0;32m    171\u001b[0m     \u001b[39mif\u001b[39;00m Path(name)\u001b[39m.\u001b[39mexists():  \u001b[39m# path to model data directory\u001b[39;00m\n\u001b[1;32m--> 172\u001b[0m         \u001b[39mreturn\u001b[39;00m load_model_from_path(Path(name), \u001b[39m*\u001b[39m\u001b[39m*\u001b[39moverrides)\n\u001b[0;32m    173\u001b[0m \u001b[39melif\u001b[39;00m \u001b[39mhasattr\u001b[39m(name, \u001b[39m\"\u001b[39m\u001b[39mexists\u001b[39m\u001b[39m\"\u001b[39m):  \u001b[39m# Path or Path-like to model data\u001b[39;00m\n\u001b[0;32m    174\u001b[0m     \u001b[39mreturn\u001b[39;00m load_model_from_path(name, \u001b[39m*\u001b[39m\u001b[39m*\u001b[39moverrides)\n",
      "File \u001b[1;32m~\\AppData\\Roaming\\Python\\Python39\\site-packages\\spacy\\util.py:222\u001b[0m, in \u001b[0;36mload_model_from_path\u001b[1;34m(model_path, meta, **overrides)\u001b[0m\n\u001b[0;32m    220\u001b[0m         component \u001b[39m=\u001b[39m nlp\u001b[39m.\u001b[39mcreate_pipe(factory, config\u001b[39m=\u001b[39mconfig)\n\u001b[0;32m    221\u001b[0m         nlp\u001b[39m.\u001b[39madd_pipe(component, name\u001b[39m=\u001b[39mname)\n\u001b[1;32m--> 222\u001b[0m \u001b[39mreturn\u001b[39;00m nlp\u001b[39m.\u001b[39;49mfrom_disk(model_path, exclude\u001b[39m=\u001b[39;49mdisable)\n",
      "File \u001b[1;32m~\\AppData\\Roaming\\Python\\Python39\\site-packages\\spacy\\language.py:974\u001b[0m, in \u001b[0;36mLanguage.from_disk\u001b[1;34m(self, path, exclude, disable)\u001b[0m\n\u001b[0;32m    971\u001b[0m \u001b[39mif\u001b[39;00m \u001b[39mnot\u001b[39;00m (path \u001b[39m/\u001b[39m \u001b[39m\"\u001b[39m\u001b[39mvocab\u001b[39m\u001b[39m\"\u001b[39m)\u001b[39m.\u001b[39mexists() \u001b[39mand\u001b[39;00m \u001b[39m\"\u001b[39m\u001b[39mvocab\u001b[39m\u001b[39m\"\u001b[39m \u001b[39mnot\u001b[39;00m \u001b[39min\u001b[39;00m exclude:\n\u001b[0;32m    972\u001b[0m     \u001b[39m# Convert to list here in case exclude is (default) tuple\u001b[39;00m\n\u001b[0;32m    973\u001b[0m     exclude \u001b[39m=\u001b[39m \u001b[39mlist\u001b[39m(exclude) \u001b[39m+\u001b[39m [\u001b[39m\"\u001b[39m\u001b[39mvocab\u001b[39m\u001b[39m\"\u001b[39m]\n\u001b[1;32m--> 974\u001b[0m util\u001b[39m.\u001b[39;49mfrom_disk(path, deserializers, exclude)\n\u001b[0;32m    975\u001b[0m \u001b[39mself\u001b[39m\u001b[39m.\u001b[39m_path \u001b[39m=\u001b[39m path\n\u001b[0;32m    976\u001b[0m \u001b[39mreturn\u001b[39;00m \u001b[39mself\u001b[39m\n",
      "File \u001b[1;32m~\\AppData\\Roaming\\Python\\Python39\\site-packages\\spacy\\util.py:690\u001b[0m, in \u001b[0;36mfrom_disk\u001b[1;34m(path, readers, exclude)\u001b[0m\n\u001b[0;32m    687\u001b[0m \u001b[39mfor\u001b[39;00m key, reader \u001b[39min\u001b[39;00m readers\u001b[39m.\u001b[39mitems():\n\u001b[0;32m    688\u001b[0m     \u001b[39m# Split to support file names like meta.json\u001b[39;00m\n\u001b[0;32m    689\u001b[0m     \u001b[39mif\u001b[39;00m key\u001b[39m.\u001b[39msplit(\u001b[39m\"\u001b[39m\u001b[39m.\u001b[39m\u001b[39m\"\u001b[39m)[\u001b[39m0\u001b[39m] \u001b[39mnot\u001b[39;00m \u001b[39min\u001b[39;00m exclude:\n\u001b[1;32m--> 690\u001b[0m         reader(path \u001b[39m/\u001b[39;49m key)\n\u001b[0;32m    691\u001b[0m \u001b[39mreturn\u001b[39;00m path\n",
      "File \u001b[1;32m~\\AppData\\Roaming\\Python\\Python39\\site-packages\\spacy\\language.py:968\u001b[0m, in \u001b[0;36mLanguage.from_disk.<locals>.<lambda>\u001b[1;34m(p, proc)\u001b[0m\n\u001b[0;32m    966\u001b[0m     \u001b[39mif\u001b[39;00m \u001b[39mnot\u001b[39;00m \u001b[39mhasattr\u001b[39m(proc, \u001b[39m\"\u001b[39m\u001b[39mfrom_disk\u001b[39m\u001b[39m\"\u001b[39m):\n\u001b[0;32m    967\u001b[0m         \u001b[39mcontinue\u001b[39;00m\n\u001b[1;32m--> 968\u001b[0m     deserializers[name] \u001b[39m=\u001b[39m \u001b[39mlambda\u001b[39;00m p, proc\u001b[39m=\u001b[39mproc: proc\u001b[39m.\u001b[39;49mfrom_disk(\n\u001b[0;32m    969\u001b[0m         p, exclude\u001b[39m=\u001b[39;49m[\u001b[39m\"\u001b[39;49m\u001b[39mvocab\u001b[39;49m\u001b[39m\"\u001b[39;49m]\n\u001b[0;32m    970\u001b[0m     )\n\u001b[0;32m    971\u001b[0m \u001b[39mif\u001b[39;00m \u001b[39mnot\u001b[39;00m (path \u001b[39m/\u001b[39m \u001b[39m\"\u001b[39m\u001b[39mvocab\u001b[39m\u001b[39m\"\u001b[39m)\u001b[39m.\u001b[39mexists() \u001b[39mand\u001b[39;00m \u001b[39m\"\u001b[39m\u001b[39mvocab\u001b[39m\u001b[39m\"\u001b[39m \u001b[39mnot\u001b[39;00m \u001b[39min\u001b[39;00m exclude:\n\u001b[0;32m    972\u001b[0m     \u001b[39m# Convert to list here in case exclude is (default) tuple\u001b[39;00m\n\u001b[0;32m    973\u001b[0m     exclude \u001b[39m=\u001b[39m \u001b[39mlist\u001b[39m(exclude) \u001b[39m+\u001b[39m [\u001b[39m\"\u001b[39m\u001b[39mvocab\u001b[39m\u001b[39m\"\u001b[39m]\n",
      "File \u001b[1;32m~\\AppData\\Roaming\\Python\\Python39\\site-packages\\spacy\\syntax\\nn_parser.pyx:669\u001b[0m, in \u001b[0;36mspacy.syntax.nn_parser.Parser.from_disk\u001b[1;34m()\u001b[0m\n",
      "File \u001b[1;32m~\\AppData\\Roaming\\Python\\Python39\\site-packages\\spacy\\syntax\\nn_parser.pyx:56\u001b[0m, in \u001b[0;36mspacy.syntax.nn_parser.Parser.Model\u001b[1;34m()\u001b[0m\n",
      "\u001b[1;31mTypeError\u001b[0m: Model() takes exactly 1 positional argument (0 given)"
     ]
    }
   ],
   "source": [
    "text = \"corrido corpus\\ElCorridodeGregorioCortez_X.txt\"\n",
    "with open(text, 'r', encoding='utf-8') as c:\n",
    "    text = c.read()\n",
    "    \n",
    "def clean_text(text):\n",
    "    cleaned= re.sub(r'[\":;,.“”]', \"\", text)\n",
    "    return(cleaned)\n",
    "text = clean_text(text)\n",
    "#print(text)\n",
    "\n",
    "\n",
    "TxGPE=[]\n",
    "nlp = spacy.load(\"tx_ner_model\")\n",
    "doc =nlp(text) \n",
    "#print(doc)\n",
    "for ent in doc.ents:\n",
    "    #print(ent.text, ent.label_)\n",
    "    if ent.label_ == \"GPE\":\n",
    "        TxGPE.append(ent.text)\n",
    "#print(TxGPE)"
   ]
  },
  {
   "cell_type": "code",
   "execution_count": null,
   "metadata": {},
   "outputs": [],
   "source": [
    "spacy.displacy.render(doc, style ='ent')"
   ]
  },
  {
   "cell_type": "markdown",
   "metadata": {
    "extensions": {
     "jupyter_dashboards": {
      "version": 1,
      "views": {
       "grid_default": {},
       "report_default": {}
      }
     }
    }
   },
   "source": [
    "Geoparsing: Finding places from the corrido lyrics"
   ]
  },
  {
   "cell_type": "code",
   "execution_count": null,
   "metadata": {},
   "outputs": [],
   "source": [
    "ents = [(e.text, e.start_char, e.end_char, e.label_)for e in doc.ents]\n",
    "\n",
    "listents = ' '.join(map(str, ents))\n",
    "print(listents)"
   ]
  },
  {
   "cell_type": "code",
   "execution_count": null,
   "metadata": {
    "extensions": {
     "jupyter_dashboards": {
      "version": 1,
      "views": {
       "grid_default": {},
       "report_default": {}
      }
     }
    }
   },
   "outputs": [],
   "source": [
    "LOC = extraction.Extractor(text=listents)\n",
    "LOC.find_geoEntities()"
   ]
  },
  {
   "cell_type": "code",
   "execution_count": null,
   "metadata": {
    "extensions": {
     "jupyter_dashboards": {
      "version": 1,
      "views": {
       "grid_default": {},
       "report_default": {}
      }
     }
    }
   },
   "outputs": [],
   "source": [
    "pc = places.PlaceContext(listents)\n",
    "\n",
    "pc.set_countries()\n",
    "print (pc.countries) #['United States']\n",
    "\n",
    "pc.set_regions()\n",
    "print(pc.regions) #['Texas'])\n",
    "\n",
    "pc.set_cities()\n",
    "print(pc.cities) #['Brownsville'])\n",
    "\n",
    "print(pc.address_strings) #['Brownsville','Texas, United States'])"
   ]
  },
  {
   "cell_type": "markdown",
   "metadata": {
    "extensions": {
     "jupyter_dashboards": {
      "version": 1,
      "views": {
       "grid_default": {},
       "report_default": {}
      }
     }
    }
   },
   "source": [
    "Laredo, Tejas"
   ]
  },
  {
   "cell_type": "code",
   "execution_count": null,
   "metadata": {
    "extensions": {
     "jupyter_dashboards": {
      "version": 1,
      "views": {
       "grid_default": {},
       "report_default": {}
      }
     }
    }
   },
   "outputs": [],
   "source": [
    "geolocator = Nominatim(user_agent=\"CorridosMap\")"
   ]
  },
  {
   "cell_type": "code",
   "execution_count": null,
   "metadata": {
    "extensions": {
     "jupyter_dashboards": {
      "version": 1,
      "views": {
       "grid_default": {},
       "report_default": {}
      }
     }
    }
   },
   "outputs": [],
   "source": [
    "laredo=pc.cities[0]\n",
    "print (laredo)"
   ]
  },
  {
   "cell_type": "markdown",
   "metadata": {
    "extensions": {
     "jupyter_dashboards": {
      "version": 1,
      "views": {
       "grid_default": {},
       "report_default": {}
      }
     }
    }
   },
   "source": [
    "need to know the country code https://en.wikipedia.org/wiki/ISO_3166-1_alpha-2#Current_codes"
   ]
  },
  {
   "cell_type": "code",
   "execution_count": null,
   "metadata": {
    "extensions": {
     "jupyter_dashboards": {
      "version": 1,
      "views": {
       "grid_default": {},
       "report_default": {}
      }
     }
    }
   },
   "outputs": [],
   "source": [
    "laredo_info = geolocator.geocode(laredo)\n",
    "laredo_lat = (laredo_info.latitude) \n",
    "laredo_long= (laredo_info.longitude)\n",
    "print(laredo_info)\n",
    "print(laredo_long,',', laredo_lat)"
   ]
  },
  {
   "cell_type": "markdown",
   "metadata": {
    "extensions": {
     "jupyter_dashboards": {
      "version": 1,
      "views": {
       "grid_default": {},
       "report_default": {}
      }
     }
    }
   },
   "source": [
    "Belmont, Tejas/Texas"
   ]
  },
  {
   "cell_type": "code",
   "execution_count": null,
   "metadata": {
    "extensions": {
     "jupyter_dashboards": {
      "version": 1,
      "views": {
       "grid_default": {},
       "report_default": {}
      }
     }
    }
   },
   "outputs": [],
   "source": [
    "belmont='Belmont, Gonzales County,Texas'\n",
    "#belmont=pc.cities[1]\n",
    "belmont_info=geolocator.geocode(belmont)\n",
    "belmont_lat = (belmont_info.latitude)\n",
    "belmont_long= (belmont_info.longitude)\n",
    "print(belmont_info)\n",
    "print(belmont_long,',', belmont_lat)"
   ]
  },
  {
   "cell_type": "markdown",
   "metadata": {
    "extensions": {
     "jupyter_dashboards": {
      "version": 1,
      "views": {
       "grid_default": {},
       "report_default": {}
      }
     }
    }
   },
   "source": [
    "Gonzales, Tejas"
   ]
  },
  {
   "cell_type": "code",
   "execution_count": null,
   "metadata": {
    "extensions": {
     "jupyter_dashboards": {
      "version": 1,
      "views": {
       "grid_default": {},
       "report_default": {}
      }
     }
    }
   },
   "outputs": [],
   "source": [
    "\n",
    "#gonzales='Gonzales,Texas'\n",
    "gonzales=pc.cities[2]\n",
    "gonzales_info=geolocator.geocode(gonzales)\n",
    "gonzales_lat = (gonzales_info.latitude) \n",
    "gonzales_long =(gonzales_info.longitude)\n",
    "#gonzales=gonzales_info, gonzales_coordinates\n",
    "print(gonzales_lat, ',', gonzales_long)\n",
    "print(gonzales_info)"
   ]
  },
  {
   "cell_type": "markdown",
   "metadata": {
    "extensions": {
     "jupyter_dashboards": {
      "version": 1,
      "views": {
       "grid_default": {},
       "report_default": {}
      }
     }
    }
   },
   "source": [
    "dataframe"
   ]
  },
  {
   "cell_type": "code",
   "execution_count": null,
   "metadata": {
    "extensions": {
     "jupyter_dashboards": {
      "version": 1,
      "views": {
       "grid_default": {},
       "report_default": {}
      }
     }
    }
   },
   "outputs": [],
   "source": [
    "greg = pd.DataFrame({'Place':[gonzales, 'Belmont', laredo], 'State': ['Texas', 'Texas', 'Texas'], \n",
    "'Latitude':[gonzales_lat, belmont_lat, laredo_lat], 'Longitude': [gonzales_long, belmont_long, laredo_long]})"
   ]
  },
  {
   "cell_type": "code",
   "execution_count": null,
   "metadata": {
    "extensions": {
     "jupyter_dashboards": {
      "version": 1,
      "views": {
       "grid_default": {},
       "report_default": {}
      }
     }
    },
    "scrolled": false
   },
   "outputs": [],
   "source": [
    "greg.head()"
   ]
  },
  {
   "cell_type": "markdown",
   "metadata": {
    "extensions": {
     "jupyter_dashboards": {
      "version": 1,
      "views": {
       "grid_default": {},
       "report_default": {}
      }
     }
    }
   },
   "source": [
    "Setting Geometry- https://geopandas.org/en/stable/docs/reference/api/geopandas.GeoDataFrame.set_geometry.html#\n",
    "\n",
    "Creating a GeoDataFrame from a DataFrame with coordinates https://geopandas.org/en/stable/gallery/create_geopandas_from_pandas.html"
   ]
  },
  {
   "cell_type": "code",
   "execution_count": null,
   "metadata": {
    "extensions": {
     "jupyter_dashboards": {
      "version": 1,
      "views": {
       "grid_default": {},
       "report_default": {}
      }
     }
    }
   },
   "outputs": [],
   "source": [
    "greg_gpd = gpd.GeoDataFrame(\n",
    "    greg, geometry=gpd.points_from_xy(greg.Longitude, greg.Latitude),  crs=\"EPSG:4326\")"
   ]
  },
  {
   "cell_type": "markdown",
   "metadata": {
    "extensions": {
     "jupyter_dashboards": {
      "version": 1,
      "views": {
       "grid_default": {},
       "report_default": {}
      }
     }
    }
   },
   "source": [
    "figure out later shapely 2.0 "
   ]
  },
  {
   "cell_type": "code",
   "execution_count": null,
   "metadata": {
    "extensions": {
     "jupyter_dashboards": {
      "version": 1,
      "views": {
       "grid_default": {},
       "report_default": {}
      }
     }
    }
   },
   "outputs": [],
   "source": [
    "print(greg_gpd.head())\n",
    "#greg_gpd.plot()"
   ]
  },
  {
   "cell_type": "code",
   "execution_count": null,
   "metadata": {
    "extensions": {
     "jupyter_dashboards": {
      "version": 1,
      "views": {
       "grid_default": {},
       "report_default": {}
      }
     }
    }
   },
   "outputs": [],
   "source": [
    "#greg_gpd_basemap, greg_gpd_extent = ctx.bounds2img(*greg_gpd.total_bounds, zoom=10,   \n",
    "                                            #source=ctx.providers.OpenStreetMap.Mapnik )"
   ]
  },
  {
   "cell_type": "code",
   "execution_count": null,
   "metadata": {
    "extensions": {
     "jupyter_dashboards": {
      "version": 1,
      "views": {
       "grid_default": {},
       "report_default": {}
      }
     }
    },
    "scrolled": true
   },
   "outputs": [],
   "source": [
    "px.set_mapbox_access_token(open(\"mapboxtoken\").read())\n",
    "\n",
    "fig = px.scatter_mapbox(greg_gpd, \n",
    "                        color='Place',\n",
    "                        animation_group='Place',\n",
    "                        animation_frame=['Gonzales', 'Belmont', 'Laredo'],\n",
    "                        lat=greg_gpd.geometry.y, \n",
    "                        lon=greg_gpd.geometry.x, \n",
    "                        hover_name='Place',\n",
    "                        size='Latitude',\n",
    "                        zoom=5,\n",
    "                        width=500,\n",
    "                        height=500,\n",
    "                        title=(\"Gregorio Cortez on the run (June 14 to 22, 1901)\"),\n",
    "                        mapbox_style='carto-positron'                               \n",
    "                        )\n",
    "\n",
    "fig.show()"
   ]
  },
  {
   "cell_type": "code",
   "execution_count": null,
   "metadata": {},
   "outputs": [],
   "source": [
    "greg_gpd.to_json()"
   ]
  },
  {
   "cell_type": "code",
   "execution_count": null,
   "metadata": {},
   "outputs": [],
   "source": [
    "import os\n",
    "greg_gpd.to_file(r\"C:\\Users\\dmlpz\\Corridos\", driver=\"GeoJSON\")"
   ]
  },
  {
   "cell_type": "code",
   "execution_count": null,
   "metadata": {},
   "outputs": [],
   "source": [
    "fig.write_html(\"../corridos/gregmap.html\")"
   ]
  }
 ],
 "metadata": {
  "extensions": {
   "jupyter_dashboards": {
    "activeView": "grid_default",
    "version": 1,
    "views": {
     "grid_default": {
      "cellMargin": 10,
      "defaultCellHeight": 20,
      "maxColumns": 12,
      "name": "grid",
      "type": "grid"
     },
     "report_default": {
      "name": "report",
      "type": "report"
     }
    }
   }
  },
  "kernelspec": {
   "display_name": "Greg",
   "language": "python",
   "name": "python3"
  },
  "language_info": {
   "codemirror_mode": {
    "name": "ipython",
    "version": 3
   },
   "file_extension": ".py",
   "mimetype": "text/x-python",
   "name": "python",
   "nbconvert_exporter": "python",
   "pygments_lexer": "ipython3",
   "version": "3.9.13"
  },
  "vscode": {
   "interpreter": {
    "hash": "c33b8046986a03aa44ef4ea500a2630dcd79ff60fec54402ff1309c4dcbd3e63"
   }
  }
 },
 "nbformat": 4,
 "nbformat_minor": 2
}
