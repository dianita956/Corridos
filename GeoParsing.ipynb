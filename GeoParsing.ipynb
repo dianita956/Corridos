{
 "cells": [
  {
   "cell_type": "code",
   "execution_count": 16,
   "metadata": {},
   "outputs": [],
   "source": [
    "import geopy\n",
    "from geopy.geocoders import Nominatim\n",
    "from geopy.extra.rate_limiter import RateLimiter\n",
    "\n",
    "import geopandas as gpd \n",
    "import pandas as pd \n",
    "import numpy as np"
   ]
  },
  {
   "cell_type": "code",
   "execution_count": 52,
   "metadata": {},
   "outputs": [
    {
     "data": {
      "text/html": [
       "<div>\n",
       "<style scoped>\n",
       "    .dataframe tbody tr th:only-of-type {\n",
       "        vertical-align: middle;\n",
       "    }\n",
       "\n",
       "    .dataframe tbody tr th {\n",
       "        vertical-align: top;\n",
       "    }\n",
       "\n",
       "    .dataframe thead th {\n",
       "        text-align: right;\n",
       "    }\n",
       "</style>\n",
       "<table border=\"1\" class=\"dataframe\">\n",
       "  <thead>\n",
       "    <tr style=\"text-align: right;\">\n",
       "      <th></th>\n",
       "      <th>NER Places</th>\n",
       "      <th>Location</th>\n",
       "    </tr>\n",
       "  </thead>\n",
       "  <tbody>\n",
       "    <tr>\n",
       "      <th>0</th>\n",
       "      <td>Laredo</td>\n",
       "      <td>(Laredo, Webb County, Texas, United States, (2...</td>\n",
       "    </tr>\n",
       "    <tr>\n",
       "      <th>1</th>\n",
       "      <td>Belmont</td>\n",
       "      <td>(Belmont, Molsheim, Bas-Rhin, Grand Est, Franc...</td>\n",
       "    </tr>\n",
       "    <tr>\n",
       "      <th>2</th>\n",
       "      <td>Gonzales</td>\n",
       "      <td>(Gonzales County, Texas, United States, (29.44...</td>\n",
       "    </tr>\n",
       "    <tr>\n",
       "      <th>3</th>\n",
       "      <td>Encinal</td>\n",
       "      <td>(Encinal, La Salle County, Texas, United State...</td>\n",
       "    </tr>\n",
       "    <tr>\n",
       "      <th>4</th>\n",
       "      <td>Karnes</td>\n",
       "      <td>(Karnes County, Texas, United States, (28.8791...</td>\n",
       "    </tr>\n",
       "  </tbody>\n",
       "</table>\n",
       "</div>"
      ],
      "text/plain": [
       "  NER Places                                           Location\n",
       "0     Laredo  (Laredo, Webb County, Texas, United States, (2...\n",
       "1    Belmont  (Belmont, Molsheim, Bas-Rhin, Grand Est, Franc...\n",
       "2   Gonzales  (Gonzales County, Texas, United States, (29.44...\n",
       "3    Encinal  (Encinal, La Salle County, Texas, United State...\n",
       "4     Karnes  (Karnes County, Texas, United States, (28.8791..."
      ]
     },
     "execution_count": 52,
     "metadata": {},
     "output_type": "execute_result"
    }
   ],
   "source": [
    "df = pd.DataFrame({'NER Places': ['Laredo', 'Belmont', 'Gonzales', 'Encinal', 'Karnes']})\n",
    "\n",
    "geolocator = Nominatim(user_agent='CorridosMap')\n",
    "geocode = RateLimiter(geolocator.geocode, min_delay_seconds=1)\n",
    "\n",
    "#geolocator.geocode(\"Texas, United States\")\n",
    "\n",
    "df['Location'] = df['NER Places'].apply(geocode)\n",
    "\n",
    "df\n"
   ]
  },
  {
   "cell_type": "code",
   "execution_count": 35,
   "metadata": {},
   "outputs": [
    {
     "name": "stdout",
     "output_type": "stream",
     "text": [
      "Texas, United States\n"
     ]
    }
   ],
   "source": [
    "geolocator = Nominatim(user_agent='CorridosMap')\n",
    "texas = geolocator.geocode(\"Texas\")\n",
    "print(texas)"
   ]
  },
  {
   "cell_type": "code",
   "execution_count": null,
   "metadata": {},
   "outputs": [],
   "source": [
    "laredo_info = geolocator.geocode(laredo)\n",
    "laredo_lat = (laredo_info.latitude) \n",
    "laredo_long= (laredo_info.longitude)\n",
    "print(laredo_info)\n",
    "print(laredo_long,',', laredo_lat)"
   ]
  }
 ],
 "metadata": {
  "kernelspec": {
   "display_name": "Greg",
   "language": "python",
   "name": "python3"
  },
  "language_info": {
   "codemirror_mode": {
    "name": "ipython",
    "version": 3
   },
   "file_extension": ".py",
   "mimetype": "text/x-python",
   "name": "python",
   "nbconvert_exporter": "python",
   "pygments_lexer": "ipython3",
   "version": "3.9.16"
  },
  "orig_nbformat": 4,
  "vscode": {
   "interpreter": {
    "hash": "c33b8046986a03aa44ef4ea500a2630dcd79ff60fec54402ff1309c4dcbd3e63"
   }
  }
 },
 "nbformat": 4,
 "nbformat_minor": 2
}
