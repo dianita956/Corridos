{
 "cells": [
  {
   "cell_type": "code",
   "execution_count": null,
   "metadata": {},
   "outputs": [],
   "source": [
    "import json \n",
    "import geopy\n",
    "from geopy.geocoders import Nominatim\n",
    "from geopy.geocoders import ArcGIS\n",
    "from geopy.extra.rate_limiter import RateLimiter\n",
    "\n",
    "import geopandas as gpd\n",
    "import pandas as pd \n",
    "import numpy as np\n",
    "import plotly.express as px \n",
    "from shapely.geometry import LineString\n",
    "\n",
    "import matplotlib.pyplot as plt #to make sure there are no errors when plotting a graph\n",
    "import pyproj\n",
    "import contextily as cx\n",
    "\n",
    "import branca\n",
    "import jinja2\n",
    "import requests\n",
    "import folium\n"
   ]
  },
  {
   "cell_type": "code",
   "execution_count": null,
   "metadata": {},
   "outputs": [],
   "source": [
    "df = pd.DataFrame({'NER Places': ['Laredo', 'Belmont', 'Gonzales', 'Encinal', 'Karnes']})\n",
    "\n",
    "df = pd.DataFrame(df, columns=[\"NER Places\"])\n",
    "geolocator = ArcGIS(user_agent='CorridosMap')\n",
    "geocode = lambda query: geolocator.geocode(\"%s, Texas\" % query)\n",
    "df['Location'] = df['NER Places'].apply(geocode)\n",
    "\n",
    "df"
   ]
  },
  {
   "cell_type": "code",
   "execution_count": null,
   "metadata": {},
   "outputs": [],
   "source": [
    "gdf = gpd.tools.geocode(df.Location, provider='ArcGIS')\n",
    "gdf.type"
   ]
  },
  {
   "cell_type": "code",
   "execution_count": null,
   "metadata": {},
   "outputs": [],
   "source": [
    "gdf.crs\n",
    "gdf = gpd.GeoDataFrame(df)\n",
    "gdf"
   ]
  },
  {
   "cell_type": "code",
   "execution_count": null,
   "metadata": {},
   "outputs": [],
   "source": [
    "gdf = gpd.tools.geocode(df.Location, provider='ArcGIS')\n",
    "gdf"
   ]
  },
  {
   "cell_type": "code",
   "execution_count": null,
   "metadata": {},
   "outputs": [],
   "source": [
    "greg_data_geojon = gdf.to_json()\n",
    "greg_data_geojon"
   ]
  },
  {
   "cell_type": "code",
   "execution_count": null,
   "metadata": {},
   "outputs": [],
   "source": [
    "ax = gpd.plot(color=\"red\", figsize=(10,10))\n",
    "\n",
    "#cx.add_basemap(ax, crs=gpd.crs)\n",
    "cx.add_basemap(ax, crs=gpd.crs, \n",
    "                    source=cx.providers.OpenStreetMap.Mapnik, \n",
    "                    zoom=18)\n",
    "cx.add_basemap(ax, crs=gpd.crs, \n",
    "                    source=cx.providers.Stamen.TonerLabels, \n",
    "                    zoom=16)\n",
    "\n",
    "ax.tick_params(left = False, \n",
    "                    right = False, \n",
    "                    labelleft = False, \n",
    "                    labelbottom = False, \n",
    "                    bottom = False)\n"
   ]
  },
  {
   "cell_type": "code",
   "execution_count": 18,
   "metadata": {},
   "outputs": [
    {
     "ename": "AttributeError",
     "evalue": "type object 'map' has no attribute 'geojson'",
     "output_type": "error",
     "traceback": [
      "\u001b[1;31m---------------------------------------------------------------------------\u001b[0m",
      "\u001b[1;31mAttributeError\u001b[0m                            Traceback (most recent call last)",
      "Cell \u001b[1;32mIn[18], line 6\u001b[0m\n\u001b[0;32m      3\u001b[0m df \u001b[39m=\u001b[39m px\u001b[39m.\u001b[39mdata\u001b[39m.\u001b[39melection()\n\u001b[0;32m      5\u001b[0m \u001b[39m# prep geometry\u001b[39;00m\n\u001b[1;32m----> 6\u001b[0m gdf \u001b[39m=\u001b[39m gpd\u001b[39m.\u001b[39mGeoDataFrame\u001b[39m.\u001b[39mfrom_features(\u001b[39mmap\u001b[39;49m\u001b[39m.\u001b[39;49mgeojson)\n\u001b[0;32m      7\u001b[0m gdf \u001b[39m=\u001b[39m gdf\u001b[39m.\u001b[39mjoin(\n\u001b[0;32m      8\u001b[0m     gdf[\u001b[39m\"\u001b[39m\u001b[39mgeometry\u001b[39m\u001b[39m\"\u001b[39m]\u001b[39m.\u001b[39mcentroid\u001b[39m.\u001b[39mapply(\u001b[39mlambda\u001b[39;00m g: pd\u001b[39m.\u001b[39mSeries({\u001b[39m\"\u001b[39m\u001b[39mlon\u001b[39m\u001b[39m\"\u001b[39m: g\u001b[39m.\u001b[39mx, \u001b[39m\"\u001b[39m\u001b[39mlat\u001b[39m\u001b[39m\"\u001b[39m: g\u001b[39m.\u001b[39my}))\n\u001b[0;32m      9\u001b[0m )\n\u001b[0;32m     11\u001b[0m \u001b[39m# plot circles at various lat / lon\u001b[39;00m\n",
      "\u001b[1;31mAttributeError\u001b[0m: type object 'map' has no attribute 'geojson'"
     ]
    }
   ],
   "source": [
    "\n",
    "accessToken = \"pk.eyJ1Ijoib2tpZWJ1YmJhIiwiYSI6ImNpdHZscGs3ajAwNXYyb284bW4ydWUzbGsifQ.1PoNrSP0F65WolWgqKhV4g\"\n",
    "style = \"mapbox://styles/mapbox/streets-v9\"\n",
    "df = px.data.election()\n",
    "\n",
    "# prep geometry\n",
    "gdf = gpd.GeoDataFrame.from_features(map.geojson)\n",
    "gdf = gdf.join(\n",
    "    gdf[\"geometry\"].centroid.apply(lambda g: pd.Series({\"lon\": g.x, \"lat\": g.y}))\n",
    ")\n",
    "\n",
    "# plot circles at various lat / lon\n",
    "fig = px.scatter_mapbox(\n",
    "    df.merge(gdf, on=\"district\"), lat=\"lat\", lon=\"lon\", size=\"total\"\n",
    ")\n",
    "fig.update_layout(mapbox={\"style\": style, \"accesstoken\": accessToken})\n",
    "# fig.update_layout(mapbox_style=\"carto-positron\")\n",
    "\n",
    "gdf_ = gdf.set_crs(\"epsg:4326\").sample(1)\n",
    "utm = gdf_.estimate_utm_crs()\n",
    "gdf_ = gdf_.to_crs(utm)\n",
    "b = 10000\n",
    "m = b // 10\n",
    "p = gdf_.centroid.values[0]\n",
    "arrow = LineString(\n",
    "    [p, (p.x + b, p.y), (p.x + b - m, p.y - m), (p.x + b - m, p.y + m), (p.x + b, p.y)]\n",
    ")\n",
    "\n",
    "\n",
    "def geojson(shape, utm, label=None):\n",
    "    gdf_ = gpd.GeoDataFrame(geometry=[shape], crs=utm).to_crs(\"epsg:4386\")\n",
    "    if label:\n",
    "        gdf_ = gdf_.assign(label=label)\n",
    "    return gdf_.__geo_interface__\n",
    "\n",
    "\n",
    "# add circle geometry as layer to mapbox figure\n",
    "fig.update_layout(\n",
    "    mapbox={\n",
    "        \"layers\": [\n",
    "            {\n",
    "                \"source\": geojson(p.buffer(b), utm),\n",
    "                \"color\": \"PaleTurquoise\",\n",
    "                \"type\": \"fill\",\n",
    "                \"opacity\": 0.5,\n",
    "            },\n",
    "            {\n",
    "                \"source\": geojson(p.buffer(m), utm),\n",
    "                \"color\": \"red\",\n",
    "                \"type\": \"fill\",\n",
    "                \"opacity\": 0.5,\n",
    "            },\n",
    "            {\n",
    "                \"source\": geojson(arrow, utm),\n",
    "                \"color\": \"blue\",\n",
    "                \"type\": \"line\",\n",
    "                \"opacity\": 0.5,\n",
    "            },\n",
    "            {\n",
    "                \"source\": geojson(LineString([p, (p.x + b, p.y)]), utm, label=\"1000m\"),\n",
    "                \"type\": \"symbol\",\n",
    "                \"symbol\": {\n",
    "                    \"text\": \"{label}\",\n",
    "                    \"textfont\": {\"size\": 12},\n",
    "                    \"placement\": \"line-center\",\n",
    "                },\n",
    "            },\n",
    "        ]\n",
    "    }\n",
    ")\n",
    "\n"
   ]
  },
  {
   "cell_type": "code",
   "execution_count": 16,
   "metadata": {},
   "outputs": [
    {
     "ename": "NameError",
     "evalue": "name 'Tkinter' is not defined",
     "output_type": "error",
     "traceback": [
      "\u001b[1;31m---------------------------------------------------------------------------\u001b[0m",
      "\u001b[1;31mNameError\u001b[0m                                 Traceback (most recent call last)",
      "Cell \u001b[1;32mIn[16], line 3\u001b[0m\n\u001b[0;32m      1\u001b[0m \u001b[39mimport\u001b[39;00m \u001b[39mtkinter\u001b[39;00m\n\u001b[1;32m----> 3\u001b[0m main_window\u001b[39m=\u001b[39mTkinter\u001b[39m.\u001b[39mTk()\n\u001b[0;32m      4\u001b[0m text_widget \u001b[39m=\u001b[39m Tkinter\u001b[39m.\u001b[39mText(main_window)\n\u001b[0;32m      5\u001b[0m text_widget\u001b[39m.\u001b[39minsert(\u001b[39m'\u001b[39m\u001b[39minsert\u001b[39m\u001b[39m'\u001b[39m,\u001b[39m\"\u001b[39m\u001b[39mtext  message will display here\u001b[39m\u001b[39m\"\u001b[39m)\n",
      "\u001b[1;31mNameError\u001b[0m: name 'Tkinter' is not defined"
     ]
    }
   ],
   "source": [
    "import tkinter\n",
    "\n",
    "main_window=Tkinter.Tk()\n",
    "text_widget = Tkinter.Text(main_window)\n",
    "text_widget.insert('insert',\"text  message will display here\")\n",
    "text_widget.pack(anchor = \"w\", padx = 50, pady = 50)\n",
    "\n",
    "main_window.mainloop()\n"
   ]
  }
 ],
 "metadata": {
  "kernelspec": {
   "display_name": "base",
   "language": "python",
   "name": "python3"
  },
  "language_info": {
   "codemirror_mode": {
    "name": "ipython",
    "version": 3
   },
   "file_extension": ".py",
   "mimetype": "text/x-python",
   "name": "python",
   "nbconvert_exporter": "python",
   "pygments_lexer": "ipython3",
   "version": "3.9.16"
  },
  "vscode": {
   "interpreter": {
    "hash": "7f40ff472a9a0ca2bfce30638906388c1fcc2e125f59cf1635e8e7322faa5529"
   }
  }
 },
 "nbformat": 4,
 "nbformat_minor": 2
}
