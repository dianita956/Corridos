{
 "cells": [
  {
   "cell_type": "raw",
   "metadata": {},
   "source": [
    "---\n",
    "title: Book test\n",
    "author: Diane Lopez\n",
    "data: \"Jan 2023\"\n",
    "format:\n",
    "  html:\n",
    "    code-fold: true"
   ]
  },
  {
   "cell_type": "code",
   "execution_count": null,
   "metadata": {},
   "outputs": [],
   "source": [
    "import geopy\n",
    "from geopy.geocoders import Nominatim\n",
    "from geopy.geocoders import ArcGIS\n",
    "from geopy.extra.rate_limiter import RateLimiter\n",
    "\n",
    "import geopandas \n",
    "import pandas as pd \n",
    "import numpy as np\n",
    "\n",
    "import matplotlib.pyplot as plt #to make sure there are no errors when plotting a graph\n",
    "import pyproj\n",
    "import contextily as cx\n",
    "\n",
    "import branca\n",
    "import jinja2\n",
    "import requests\n",
    "#import folium\n"
   ]
  },
  {
   "cell_type": "code",
   "execution_count": null,
   "metadata": {},
   "outputs": [],
   "source": [
    "df = pd.DataFrame({'NER Places': ['Laredo', 'Belmont', 'Gonzales', 'Encinal', 'Karnes']})\n",
    "\n",
    "df = pd.DataFrame(df, columns=[\"NER Places\"])\n",
    "geolocator = ArcGIS(user_agent='CorridosMap')\n",
    "geocode = lambda query: geolocator.geocode(\"%s, Texas\" % query)\n",
    "df['Location'] = df['NER Places'].apply(geocode)\n",
    "\n",
    "df"
   ]
  },
  {
   "cell_type": "code",
   "execution_count": null,
   "metadata": {},
   "outputs": [],
   "source": [
    "gpd = geopandas.tools.geocode(df.Location, provider='ArcGIS')\n",
    "gpd.type"
   ]
  },
  {
   "cell_type": "code",
   "execution_count": null,
   "metadata": {},
   "outputs": [],
   "source": [
    "gpd.crs\n",
    "gpd = geopandas.GeoDataFrame(df)\n",
    "gpd"
   ]
  },
  {
   "cell_type": "code",
   "execution_count": null,
   "metadata": {},
   "outputs": [],
   "source": [
    "gpd = geopandas.tools.geocode(df.Location, provider='ArcGIS')\n",
    "gpd"
   ]
  },
  {
   "cell_type": "code",
   "execution_count": null,
   "metadata": {},
   "outputs": [],
   "source": [
    "ax = gpd.plot(color=\"red\", figsize=(10,10))\n",
    "\n",
    "#cx.add_basemap(ax, crs=gpd.crs)\n",
    "cx.add_basemap(ax, crs=gpd.crs, \n",
    "                    source=cx.providers.OpenStreetMap.Mapnik, \n",
    "                    zoom=18)\n",
    "cx.add_basemap(ax, crs=gpd.crs, \n",
    "                    source=cx.providers.Stamen.TonerLabels, \n",
    "                    zoom=16)\n",
    "\n",
    "ax.tick_params(left = False, \n",
    "                    right = False, \n",
    "                    labelleft = False, \n",
    "                    labelbottom = False, \n",
    "                    bottom = False)\n"
   ]
  }
 ],
 "metadata": {
  "kernelspec": {
   "display_name": "base",
   "language": "python",
   "name": "python3"
  },
  "language_info": {
   "codemirror_mode": {
    "name": "ipython",
    "version": 3
   },
   "file_extension": ".py",
   "mimetype": "text/x-python",
   "name": "python",
   "nbconvert_exporter": "python",
   "pygments_lexer": "ipython3",
   "version": "3.9.12 (main, Apr  4 2022, 05:22:27) [MSC v.1916 64 bit (AMD64)]"
  },
  "vscode": {
   "interpreter": {
    "hash": "7f40ff472a9a0ca2bfce30638906388c1fcc2e125f59cf1635e8e7322faa5529"
   }
  }
 },
 "nbformat": 4,
 "nbformat_minor": 2
}
