{
 "cells": [
  {
   "cell_type": "code",
   "execution_count": 4,
   "metadata": {},
   "outputs": [],
   "source": [
    "import geopy\n",
    "from geopy.geocoders import Nominatim\n",
    "from geopy.geocoders import ArcGIS\n",
    "from geopy.extra.rate_limiter import RateLimiter\n",
    "\n",
    "import geopandas \n",
    "import pandas as pd \n",
    "import numpy as np\n",
    "\n",
    "import matplotlib.pyplot as plt #to make sure there are no errors when plotting a graph\n",
    "import pyproj\n",
    "import contextily as cx\n",
    "\n",
    "import branca\n",
    "import jinja2\n",
    "import requests\n",
    "#import folium\n"
   ]
  },
  {
   "cell_type": "code",
   "execution_count": null,
   "metadata": {},
   "outputs": [],
   "source": [
    "df = pd.DataFrame({'NER Places': ['Laredo', 'Belmont', 'Gonzales', 'Encinal', 'Karnes']})\n",
    "\n",
    "df = pd.DataFrame(df, columns=[\"NER Places\"])\n",
    "geolocator = ArcGIS(user_agent='CorridosMap')\n",
    "geocode = lambda query: geolocator.geocode(\"%s, Texas\" % query)\n",
    "df['Location'] = df['NER Places'].apply(geocode)\n",
    "\n",
    "df"
   ]
  },
  {
   "cell_type": "code",
   "execution_count": null,
   "metadata": {},
   "outputs": [],
   "source": [
    "gpd = geopandas.tools.geocode(df.Location, provider='ArcGIS')\n",
    "gpd.type"
   ]
  },
  {
   "cell_type": "code",
   "execution_count": null,
   "metadata": {},
   "outputs": [],
   "source": [
    "gpd.crs\n",
    "gpd = geopandas.GeoDataFrame(df)\n",
    "gpd"
   ]
  },
  {
   "cell_type": "code",
   "execution_count": null,
   "metadata": {},
   "outputs": [],
   "source": [
    "gpd = geopandas.tools.geocode(df.Location, provider='ArcGIS')\n",
    "gpd"
   ]
  },
  {
   "cell_type": "code",
   "execution_count": null,
   "metadata": {},
   "outputs": [],
   "source": [
    "# Create a geometry list from the GeoDataFrame\n",
    "geo_df_list = [[point.xy[1][0], point.xy[0][0]] for point in gpd.geometry]\n",
    "\n",
    "# Iterate through list and add a marker for each volcano, color-coded by its type.\n",
    "i = 0\n",
    "for coordinates in geo_df_list:\n",
    "    # assign a color marker for the type of volcano, Strato being the most common\n",
    "    if gpd.geometry[i] == \"Karnes County, Texas\":\n",
    "        type_color = \"green\"\n",
    "    elif gpd.geometry[i] == \"Gonzales, Texas\":\n",
    "        type_color = \"blue\"\n",
    "    elif gpd.geometry[i] == \"Belmont, Texas\":\n",
    "        type_color = \"orange\"\n",
    "    elif gpd.geometry[i] == \"Laredo, Texas\":\n",
    "        type_color = \"pink\"\n",
    "    else:\n",
    "        type_color = \"purple\"\n",
    "\n",
    "    # Place the markers with the popup labels and data"
   ]
  },
  {
   "cell_type": "code",
   "execution_count": null,
   "metadata": {},
   "outputs": [],
   "source": [
    "ax = gpd.plot(color=\"red\", figsize=(10,10))\n",
    "\n",
    "#cx.add_basemap(ax, crs=gpd.crs)\n",
    "cx.add_basemap(ax, crs=gpd.crs, source=cx.providers.Stamen.TonerLite, zoom=12)\n",
    "cx.add_basemap(ax, crs=gpd.crs, source=cx.providers.Stamen.TonerLabels, zoom=10)\n",
    "\n"
   ]
  }
 ],
 "metadata": {
  "kernelspec": {
   "display_name": "book",
   "language": "python",
   "name": "python3"
  },
  "language_info": {
   "codemirror_mode": {
    "name": "ipython",
    "version": 3
   },
   "file_extension": ".py",
   "mimetype": "text/x-python",
   "name": "python",
   "nbconvert_exporter": "python",
   "pygments_lexer": "ipython3",
   "version": "3.7.16"
  },
  "orig_nbformat": 4,
  "vscode": {
   "interpreter": {
    "hash": "39193e918e4e39b11bfdb7fec5a8924590b20005b86d18df0c7e182bc83f9a54"
   }
  }
 },
 "nbformat": 4,
 "nbformat_minor": 2
}
