{
  "cells": [
    {
      "cell_type": "raw",
      "metadata": {},
      "source": [
        "---\n",
        "title-block-banner: false\n",
        "format: html\n",
        "date-modified: last-modified\n",
        "theme:\n",
        "  light: flatly\n",
        "  dark: darkly\n",
        "title: El corrido de Gregorio Cortez\n",
        "author: Diane Lopez\n",
        "date: '2023-01-28'\n",
        "toc: true\n",
        "number-sections: true\n",
        "code-fold: true\n",
        "project:\n",
        "  type: website\n",
        "  output-dir: docs\n",
        "---"
      ],
      "id": "e4452959"
    },
    {
      "cell_type": "markdown",
      "metadata": {},
      "source": [
        "<p>\n",
        "El Corrido de Gregorio Cortez: \n",
        "the largest manhunt in U.S. history from June 14, 1901 to June 22, 1901</p>\n",
        "\n",
        "<p>Based on lyrics from the Corrido de Gregorio Cortez: Variant X English translation by Américo Parede</p>\n",
        "\n",
        "## Packages and Libraries used\n"
      ],
      "id": "3f20a7f0"
    },
    {
      "cell_type": "code",
      "metadata": {},
      "source": [
        "import geopandas as gpd\n",
        "import pandas as pd\n",
        "import numpy as np\n",
        "\n",
        "from geograpy import places\n",
        "import re\n",
        "\n",
        "import geopy\n",
        "from geopy.geocoders import ArcGIS\n",
        "#from geopy.extra.rate_limiter import RateLimiter\n",
        "\n",
        "import shapely\n",
        "from shapely.geometry import Point\n",
        "from shapely.wkt import loads\n",
        "\n",
        "import contextily as cx\n",
        "import matplotlib.pyplot as plt #to make sure there are no errors when plotting a graph\n",
        "import pyproj\n",
        "import plotly.express as px \n",
        "\n",
        "import spacy\n",
        "from spacy import displacy\n",
        "\n",
        "import locationtagger\n",
        "nlp = spacy.load(\"en_core_web_sm\")\n",
        "\n",
        "import branca\n",
        "import jinja2\n",
        "import requests\n",
        "import folium"
      ],
      "id": "fe8c00a6",
      "execution_count": null,
      "outputs": []
    },
    {
      "cell_type": "markdown",
      "metadata": {},
      "source": [
        "## NER: Finding Places within the lyrics \n",
        "<p> We will be searching for Name Entity locations with the use of a customized pipeline and trained data of Texas municipalities, unincorporated communities, and ghost towns.</p> \n",
        "<p>For trained data, list of Ghost towns, municipalities, and unincorporated places in Texas can be found here [dianita.956/Corridos](https://github.com/dianita956/Corridos)</p>\n"
      ],
      "id": "43e63d9a"
    },
    {
      "cell_type": "code",
      "metadata": {},
      "source": [
        "text = \"corrido corpus\\ElCorridodeGregorioCortez_X.txt\"\n",
        "with open(text, 'r', encoding='utf-8') as c:\n",
        "    text = c.read()\n",
        "    \n",
        "def clean_text(text):\n",
        "    cleaned= re.sub(r'[\":;,.“”]', \"\", text)\n",
        "    return(cleaned)\n",
        "text = clean_text(text)\n",
        "#print(text)\n",
        "\n",
        "\n",
        "TxGPE=[]\n",
        "nlp = spacy.load(\"tx_trained_ner\")\n",
        "doc =nlp(text) \n",
        "#print(doc)\n",
        "for ent in doc.ents:\n",
        "    #print(ent.text, ent.label_)\n",
        "    if ent.label_ == \"GPE\":\n",
        "        TxGPE.append(ent.text)\n",
        "print(TxGPE)"
      ],
      "id": "ddcb6818",
      "execution_count": null,
      "outputs": []
    },
    {
      "cell_type": "code",
      "metadata": {},
      "source": [
        "ents = [(e.text, e.start_char, e.end_char, e.label_)for e in doc.ents]\n",
        "print(ents)\n",
        "\n",
        "ents = [(e.text)for e in doc.ents]\n",
        "print(ents)"
      ],
      "id": "05761ac1",
      "execution_count": null,
      "outputs": []
    },
    {
      "cell_type": "code",
      "metadata": {},
      "source": [
        "displacy.render(doc, style ='ent', jupyter=True, page=True)"
      ],
      "id": "df9e3f8e",
      "execution_count": null,
      "outputs": []
    },
    {
      "cell_type": "markdown",
      "metadata": {},
      "source": [
        "## Geoparsing: Places into geographic identifiers\n"
      ],
      "id": "b39c0329"
    },
    {
      "cell_type": "code",
      "metadata": {},
      "source": [
        "df = pd.DataFrame(ents, columns=[\"NER_Places\"])\n",
        "geolocator = ArcGIS(user_agent='CorridosMap')\n",
        "geocode = lambda query: geolocator.geocode(\"%s, Texas\" % query)\n",
        "df['Location'] = df['NER_Places'].apply(geocode)\n",
        "df"
      ],
      "id": "20855458",
      "execution_count": null,
      "outputs": []
    },
    {
      "cell_type": "code",
      "metadata": {},
      "source": [
        "gdf = gpd.tools.geocode(df.Location, provider='ArcGIS')\n",
        "gdf"
      ],
      "id": "a28e35b6",
      "execution_count": null,
      "outputs": []
    },
    {
      "cell_type": "markdown",
      "metadata": {},
      "source": [
        "## Plotly: Mapping Places\n"
      ],
      "id": "52d2576e"
    },
    {
      "cell_type": "code",
      "metadata": {},
      "source": [
        "px.set_mapbox_access_token(open(\"mapboxtoken\").read())\n",
        "fig = px.line_mapbox(gdf,\n",
        "                        lat=gdf.geometry.y,\n",
        "                        lon=gdf.geometry.x,\n",
        "                        hover_name=\"address\",\n",
        "                        )\n",
        "\n",
        "fig.update_layout(mapbox_style=\"stamen-terrain\", mapbox_zoom=6, mapbox_center_lat = 29,\n",
        "    margin={\"r\":0,\"t\":0,\"l\":0,\"b\":0})\n",
        "\n",
        "fig.show()"
      ],
      "id": "af9cd134",
      "execution_count": null,
      "outputs": []
    },
    {
      "cell_type": "markdown",
      "metadata": {},
      "source": [
        "## Resources {.appendix}\n"
      ],
      "id": "b4436062"
    }
  ],
  "metadata": {
    "kernelspec": {
      "name": "python3",
      "language": "python",
      "display_name": "Python 3 (ipykernel)"
    }
  },
  "nbformat": 4,
  "nbformat_minor": 5
}