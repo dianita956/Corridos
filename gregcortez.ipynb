{
  "cells": [
    {
      "cell_type": "raw",
      "metadata": {},
      "source": [
        "---\n",
        "title: Mapping El Corrido de Gregorio Cortez\n",
        "author: Diane López\n",
        "affiliation-title: The University of Texas at San Antonio\n",
        "date: 'January 30, 2023'\n",
        "format:\n",
        "  html:\n",
        "    code-fold: true\n",
        "    page-layout: full\n",
        "    title-block-banner: true\n",
        "    date-modified: last-modified\n",
        "---"
      ],
      "id": "acfa9d07"
    },
    {
      "cell_type": "markdown",
      "metadata": {},
      "source": [
        "<p>\n",
        "El Corrido de Gregorio Cortez: \n",
        "the largest manhunt in U.S. history from June 14, 1901 to June 22, 1901</p>\n",
        "\n",
        "<p>Based on lyrics from the Corrido de Gregorio Cortez: Variant X English translation by Américo Parede</p>\n",
        "\n",
        "<h4>Packages and Libraries used</h4>\n"
      ],
      "id": "329421ea"
    },
    {
      "cell_type": "code",
      "metadata": {},
      "source": [
        "import geopandas as gpd\n",
        "import pandas as pd\n",
        "import numpy as np\n",
        "\n",
        "from geograpy import places\n",
        "import re\n",
        "\n",
        "import geopy\n",
        "from geopy.geocoders import ArcGIS\n",
        "#from geopy.extra.rate_limiter import RateLimiter\n",
        "\n",
        "import shapely\n",
        "from shapely.geometry import Point\n",
        "from shapely.wkt import loads\n",
        "\n",
        "import contextily as cx\n",
        "import matplotlib.pyplot as plt #to make sure there are no errors when plotting a graph\n",
        "import pyproj\n",
        "import plotly.express as px \n",
        "\n",
        "import spacy\n",
        "from spacy import displacy\n",
        "\n",
        "import locationtagger\n",
        "nlp = spacy.load(\"en_core_web_sm\")\n",
        "\n",
        "import branca\n",
        "import jinja2\n",
        "import requests\n",
        "import folium"
      ],
      "id": "9994134e",
      "execution_count": null,
      "outputs": []
    },
    {
      "cell_type": "markdown",
      "metadata": {},
      "source": [
        "<h4>NER: Finding Places within the lyrics</h4>\n",
        "<p> We will be searching for Name Entity locations with the use of customized pipeline and trained data of Texas municipalities, unincorporated communities, and ghost towns.</p> \n",
        "<p>For trained data, list of Ghost towns, municipalities, and unincorporated places in Texas can be found here [dianita.956/Corridos](https://github.com/dianita956/Corridos)</p>\n"
      ],
      "id": "6ed2713c"
    },
    {
      "cell_type": "code",
      "metadata": {},
      "source": [
        "text = \"corrido corpus\\ElCorridodeGregorioCortez_X.txt\"\n",
        "with open(text, 'r', encoding='utf-8') as c:\n",
        "    text = c.read()\n",
        "    \n",
        "def clean_text(text):\n",
        "    cleaned= re.sub(r'[\":;,.“”]', \"\", text)\n",
        "    return(cleaned)\n",
        "text = clean_text(text)\n",
        "#print(text)\n",
        "\n",
        "\n",
        "TxGPE=[]\n",
        "nlp = spacy.load(\"tx_trained_ner\")\n",
        "doc =nlp(text) \n",
        "#print(doc)\n",
        "for ent in doc.ents:\n",
        "    #print(ent.text, ent.label_)\n",
        "    if ent.label_ == \"GPE\":\n",
        "        TxGPE.append(ent.text)\n",
        "print(TxGPE)"
      ],
      "id": "91eb4586",
      "execution_count": null,
      "outputs": []
    },
    {
      "cell_type": "code",
      "metadata": {},
      "source": [
        "ents = [(e.text, e.label_)for e in doc.ents]\n",
        "print(ents)"
      ],
      "id": "70e80a6f",
      "execution_count": null,
      "outputs": []
    },
    {
      "cell_type": "code",
      "metadata": {},
      "source": [
        "displacy.render(doc, style ='ent', jupyter=True, page=True)"
      ],
      "id": "a7f8dfec",
      "execution_count": null,
      "outputs": []
    },
    {
      "cell_type": "markdown",
      "metadata": {},
      "source": [
        "<h4> Geoparsing: Places into geographic identifiers</h4>\n"
      ],
      "id": "74b755a1"
    },
    {
      "cell_type": "code",
      "metadata": {},
      "source": [
        "df = pd.DataFrame(ents, columns=[\"NER_Places\"])\n",
        "geolocator = ArcGIS(user_agent='CorridosMap')\n",
        "geocode = lambda query: geolocator.geocode(\"%s, Texas\" % query)\n",
        "df['Location'] = df['NER_Places'].apply(geocode)\n",
        "df"
      ],
      "id": "b380ab94",
      "execution_count": null,
      "outputs": []
    },
    {
      "cell_type": "code",
      "metadata": {},
      "source": [
        "gdf = gpd.tools.geocode(df.Location, provider='ArcGIS')\n",
        "gdf"
      ],
      "id": "2949cb4e",
      "execution_count": null,
      "outputs": []
    },
    {
      "cell_type": "markdown",
      "metadata": {},
      "source": [
        "<h4>Plotly: Mapping Places</h4>\n"
      ],
      "id": "b61018f7"
    },
    {
      "cell_type": "code",
      "metadata": {},
      "source": [
        "px.set_mapbox_access_token(open(\"mapboxtoken\").read())\n",
        "fig = px.line_mapbox(gdf,\n",
        "                        lat=gdf.geometry.y,\n",
        "                        lon=gdf.geometry.x,\n",
        "                        hover_name=\"address\",\n",
        "                        )\n",
        "\n",
        "fig.update_layout(mapbox_style=\"stamen-terrain\", mapbox_zoom=6, mapbox_center_lat = 29,\n",
        "    margin={\"r\":0,\"t\":0,\"l\":0,\"b\":0})\n",
        "\n",
        "fig.show()"
      ],
      "id": "31854511",
      "execution_count": null,
      "outputs": []
    },
    {
      "cell_type": "markdown",
      "metadata": {},
      "source": [
        "## Resources {.appendix}\n"
      ],
      "id": "66ec46c4"
    }
  ],
  "metadata": {
    "kernelspec": {
      "name": "python3",
      "language": "python",
      "display_name": "Python 3 (ipykernel)"
    }
  },
  "nbformat": 4,
  "nbformat_minor": 5
}