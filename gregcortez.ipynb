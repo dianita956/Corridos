{
  "cells": [
    {
      "cell_type": "raw",
      "metadata": {},
      "source": [
        "---\n",
        "title: Mapping El Corrido de Gregorio Cortez\n",
        "author: Diane Lopez\n",
        "date: 'January 28, 2023'\n",
        "format:\n",
        "  html:\n",
        "    code-fold: true\n",
        "---"
      ],
      "id": "c76962e5"
    },
    {
      "cell_type": "code",
      "metadata": {},
      "source": [
        "import geopandas as gpd\n",
        "import pandas as pd\n",
        "import numpy as np\n",
        "\n",
        "from geograpy import places\n",
        "import re\n",
        "\n",
        "import geopy\n",
        "from geopy.geocoders import ArcGIS\n",
        "#from geopy.extra.rate_limiter import RateLimiter\n",
        "\n",
        "import shapely\n",
        "from shapely.geometry import Point\n",
        "from shapely.wkt import loads\n",
        "\n",
        "import contextily as cx\n",
        "import matplotlib.pyplot as plt #to make sure there are no errors when plotting a graph\n",
        "import pyproj\n",
        "\n",
        "#import nltk\n",
        "\n",
        "import spacy\n",
        "from spacy import displacy\n",
        "\n",
        "import locationtagger\n",
        "nlp = spacy.load(\"en_core_web_sm\")\n",
        "\n",
        "import branca\n",
        "import jinja2\n",
        "import requests\n",
        "import folium"
      ],
      "id": "c0c8515d",
      "execution_count": null,
      "outputs": []
    }
  ],
  "metadata": {
    "kernelspec": {
      "name": "python3",
      "language": "python",
      "display_name": "Python 3 (ipykernel)"
    }
  },
  "nbformat": 4,
  "nbformat_minor": 5
}