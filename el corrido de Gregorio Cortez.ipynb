{
 "cells": [
  {
   "cell_type": "code",
   "execution_count": null,
   "id": "b4324576",
   "metadata": {},
   "outputs": [],
   "source": [
    "! pip install vaderSentiment\n",
    "from vaderSentiment import SentimentIntensityAnalyzer\n",
    "\n",
    "# Initialize VADER so we can use it later\n",
    "sa = SentimentIntensityAnalyzer()\n",
    "import pandas as pd\n",
    "pd.options.display.max_colwidth = 400\n",
    "\n",
    "! pip install nltk\n",
    "import nltk\n",
    "nltk.download('punkt')\n",
    "!python -m spacy download es_core_news_md\n",
    "import spacy\n",
    "\n",
    "import re\n",
    "\n",
    "!pip install numpy\n",
    "\n",
    "!pip install matplotlib\n",
    "import matplotlib.pyplot as plot\n",
    "import numpy as np\n"
   ]
  },
  {
   "cell_type": "code",
   "execution_count": null,
   "id": "2838389e",
   "metadata": {},
   "outputs": [],
   "source": [
    "nlp = spacy.load('es_core_news_md')"
   ]
  },
  {
   "cell_type": "code",
   "execution_count": null,
   "id": "d20afcad",
   "metadata": {},
   "outputs": [],
   "source": [
    "#import text\n",
    "\n",
    "with open('gregoriocortez_es_corrido.txt', 'r', encoding='utf-8') as c:\n",
    "    text = c.read()\n",
    "  #text = re.sub('\\n(.)', r'\\1', text)\n",
    "  #print(text)"
   ]
  },
  {
   "cell_type": "code",
   "execution_count": null,
   "id": "7e9cf09f",
   "metadata": {
    "scrolled": true
   },
   "outputs": [],
   "source": [
    "#creating a doc container\n",
    "\n",
    "doc = nlp(text)\n",
    "#print(doc)\n",
    "for sent in doc.sents:\n",
    "    print(sent)"
   ]
  },
  {
   "cell_type": "markdown",
   "id": "493154f9",
   "metadata": {},
   "source": [
    "NLTK "
   ]
  },
  {
   "cell_type": "code",
   "execution_count": null,
   "id": "019b1ff0",
   "metadata": {
    "scrolled": true
   },
   "outputs": [],
   "source": [
    "#Let’s move forward with just one of these sentences. Let’s try and grab index 0 in this attribute.\n",
    "#sentences = list(doc.sents)\n",
    "#print (sentences)\n",
    "nltk.sent_tokenize(text)\n",
    "for number, sentence in enumerate(nltk.sent_tokenize(text)):\n",
    "    print(number, sentence)\n",
    " # Break text into sentences\n",
    "sentences = nltk.sent_tokenize(text)"
   ]
  },
  {
   "cell_type": "code",
   "execution_count": null,
   "id": "0ebd2b03",
   "metadata": {},
   "outputs": [],
   "source": [
    "# Make empty list\n",
    "sentence_scores = []\n",
    "# Get each sentence and sentence number, which is what enumerate does\n",
    "for number, sentence in enumerate(sentences):\n",
    "    # Use VADER to calculate sentiment\n",
    "    scores = sa.polarity_scores(sentence)\n",
    "    # Make dictionary and append it to the previously empty list\n",
    "    sentence_scores.append({'sentence': sentence, 'sentence_number': number+1, 'sentiment_score': scores['compound']})\n",
    "pd.DataFrame(sentence_scores)\n",
    " # Assign DataFrame to variable red_df\n",
    " # 10 most negative sentence\n",
    "greg_df = pd.DataFrame(sentence_scores)\n",
    "greg_df"
   ]
  },
  {
   "cell_type": "code",
   "execution_count": null,
   "id": "9f322d17",
   "metadata": {},
   "outputs": [],
   "source": [
    "# Sort by the column \"sentiment_score\" and slice for first 10 values\n",
    "# 10 negative sentence_scores\n",
    "greg_df.sort_values(by='sentiment_score')[:10]\n"
   ]
  },
  {
   "cell_type": "code",
   "execution_count": null,
   "id": "74e9652f",
   "metadata": {},
   "outputs": [],
   "source": [
    "\n",
    " # 10 positive sentence_scores\n",
    " # Sort by the column \"sentiment_score,\" this time in descending order, and slice for first 10 values\n",
    "\n",
    "greg_df.sort_values(by='sentiment_score', ascending=False)[:10]\n",
    " "
   ]
  },
  {
   "cell_type": "code",
   "execution_count": null,
   "id": "f52ddb0e",
   "metadata": {
    "scrolled": true
   },
   "outputs": [],
   "source": [
    "## Make a sentiment plot\n",
    "greg_df['sentiment_score'].plot();\n",
    " \n",
    "ax = greg_df['sentiment_score'].plot(x='sentence_number', y='sentiment_score', kind='line',\n",
    "                        figsize=(10,5), rot=90, title='Sentiment in Gregorio Cortez Corrido')"
   ]
  },
  {
   "cell_type": "code",
   "execution_count": null,
   "id": "7d33620e",
   "metadata": {},
   "outputs": [],
   "source": [
    "\n",
    "# Plot a horizontal line at 0\n",
    "plot.axhline(y=0, color='orange', linestyle='-');\n",
    " # Get averages for a rolling window, then plot\n",
    "greg_df.rolling(5)['sentiment_score'].mean().plot(x='sentence_number', y='sentiment_score', kind='line',\n",
    "                        figsize=(10,5), rot=90, title='Sentiment in \"Gregorio Cortez Corrido\"')\n",
    "\n",
    "# Plot a horizontal line at 0\n",
    "plot.axhline(y=0, color='orange', linestyle='-');\n",
    " "
   ]
  },
  {
   "cell_type": "markdown",
   "id": "64fc8c72",
   "metadata": {},
   "source": [
    "Topic Modeling "
   ]
  },
  {
   "cell_type": "code",
   "execution_count": null,
   "id": "e75cacf3",
   "metadata": {},
   "outputs": [],
   "source": []
  }
 ],
 "metadata": {
  "kernelspec": {
   "display_name": "Python 3 (ipykernel)",
   "language": "python",
   "name": "python3"
  },
  "language_info": {
   "codemirror_mode": {
    "name": "ipython",
    "version": 3
   },
   "file_extension": ".py",
   "mimetype": "text/x-python",
   "name": "python",
   "nbconvert_exporter": "python",
   "pygments_lexer": "ipython3",
   "version": "3.10.5"
  }
 },
 "nbformat": 4,
 "nbformat_minor": 5
}
