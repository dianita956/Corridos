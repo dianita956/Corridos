{
 "cells": [
  {
   "cell_type": "code",
   "execution_count": null,
   "id": "b4324576",
   "metadata": {},
   "outputs": [],
   "source": [
    "%pip install vaderSentiment\n",
    "from vaderSentiment import SentimentIntensityAnalyzer\n",
    "\n",
    "# Initialize VADER so we can use it later\n",
    "sa = SentimentIntensityAnalyzer()\n",
    "\n",
    "import re\n",
    "\n",
    "%pip install numpy"
   ]
  },
  {
   "cell_type": "code",
   "execution_count": null,
   "id": "0243b156",
   "metadata": {},
   "outputs": [],
   "source": [
    "%pip pandas\n",
    "import pandas as pd"
   ]
  },
  {
   "cell_type": "code",
   "execution_count": null,
   "id": "e8cc5600",
   "metadata": {},
   "outputs": [],
   "source": [
    "import numpy as np"
   ]
  },
  {
   "cell_type": "code",
   "execution_count": null,
   "id": "2838389e",
   "metadata": {},
   "outputs": [],
   "source": [
    "%pip install spacy\n",
    "import spacy"
   ]
  },
  {
   "cell_type": "code",
   "execution_count": null,
   "id": "d20afcad",
   "metadata": {},
   "outputs": [],
   "source": [
    "#import text\n",
    "with open('corrido corpus\\gregoriocortez_es_corrido.txt', 'r', encoding='utf-8') as c:\n",
    "  text = c.read()\n",
    "  #text = re.sub('\\n(.)', r'\\1', text)\n",
    "  print(text)"
   ]
  },
  {
   "cell_type": "code",
   "execution_count": null,
   "id": "7e9cf09f",
   "metadata": {
    "scrolled": true
   },
   "outputs": [],
   "source": [
    "#creating a doc container\n",
    "#nlp = spacy.load('es_core_news_md')\n",
    "import spacy \n",
    "\n",
    "nlp_es = spacy.load(\"es_core_news_sm\")\n",
    "nlp_en = spacy.load(\"en_core_web_sm\")\n",
    "\n",
    "\n",
    "doc = nlp_es(text)\n",
    "#print(doc)\n",
    "for sent in doc.sents:\n",
    "    print(sent)"
   ]
  },
  {
   "cell_type": "code",
   "execution_count": null,
   "id": "ffd4f61c",
   "metadata": {},
   "outputs": [],
   "source": [
    "from spacy import displacy\n",
    "sentence_spans = list(doc.sents)\n",
    "spacy.displacy.render(sentence_spans, style=\"dep\")"
   ]
  },
  {
   "cell_type": "code",
   "execution_count": null,
   "id": "d422d4f8",
   "metadata": {},
   "outputs": [],
   "source": [
    "spacy.displacy.render(doc, style=\"ent\")"
   ]
  },
  {
   "cell_type": "code",
   "execution_count": null,
   "id": "3848a681",
   "metadata": {},
   "outputs": [],
   "source": [
    "doc.user_data['title'] = \"el corrido de Gregorio Cortez\"\n",
    "spacy.displacy.render(doc, style=\"ent\")"
   ]
  },
  {
   "cell_type": "code",
   "execution_count": null,
   "id": "2a3518c5",
   "metadata": {},
   "outputs": [],
   "source": [
    "from spacy.tokens import Span\n",
    "\n",
    "doc.spans[\"sc\"] = [\n",
    "    Span(doc, 6, 10, \"LOC\" ),\n",
    "    Span(doc, 6, 9, \"PER\"),\n",
    "]\n",
    "\n",
    "displacy.render(doc, style=\"span\")"
   ]
  },
  {
   "cell_type": "code",
   "execution_count": null,
   "id": "535cd8e6",
   "metadata": {},
   "outputs": [],
   "source": [
    "from mordecai import Geoparser \n",
    "geo = Geoparser()\n",
    "geo.geoparese(doc)"
   ]
  }
 ],
 "metadata": {
  "kernelspec": {
   "display_name": "Python 3.10.5 ('venv': venv)",
   "language": "python",
   "name": "python3"
  },
  "language_info": {
   "codemirror_mode": {
    "name": "ipython",
    "version": 3
   },
   "file_extension": ".py",
   "mimetype": "text/x-python",
   "name": "python",
   "nbconvert_exporter": "python",
   "pygments_lexer": "ipython3",
   "version": "3.10.5"
  },
  "vscode": {
   "interpreter": {
    "hash": "e528f05ecdbf513f743da5c44906adca99a556c5207201bf3043358644070d32"
   }
  }
 },
 "nbformat": 4,
 "nbformat_minor": 5
}
