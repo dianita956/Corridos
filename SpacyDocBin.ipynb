{
  "cells": [
    {
      "cell_type": "markdown",
      "metadata": {
        "colab_type": "text",
        "id": "view-in-github"
      },
      "source": [
        "<a href=\"https://colab.research.google.com/github/dianita956/Corridos/blob/main/SpacyDocBin.ipynb\" target=\"_parent\"><img src=\"https://colab.research.google.com/assets/colab-badge.svg\" alt=\"Open In Colab\"/></a>"
      ]
    },
    {
      "cell_type": "markdown",
      "metadata": {
        "id": "OT2HhvRmZmrU"
      },
      "source": [
        "#downloading and importing spacy and spanish model medium"
      ]
    },
    {
      "cell_type": "code",
      "execution_count": null,
      "metadata": {
        "colab": {
          "base_uri": "https://localhost:8080/"
        },
        "id": "JcXibgAAYdID",
        "outputId": "c2a3bb0d-33eb-436c-ce42-b85f991bbf65"
      },
      "outputs": [],
      "source": [
        "!python -m spacy download es_core_news_md\n",
        "import spacy "
      ]
    },
    {
      "cell_type": "code",
      "execution_count": null,
      "metadata": {
        "id": "maB3MQ_UZCZG"
      },
      "outputs": [],
      "source": [
        "nlp = spacy.load('es_core_news_md')"
      ]
    },
    {
      "cell_type": "code",
      "execution_count": null,
      "metadata": {
        "id": "pisSqtZU6Exy"
      },
      "outputs": [],
      "source": [
        "import re"
      ]
    },
    {
      "cell_type": "markdown",
      "metadata": {
        "id": "YIdN4D0MaF8-"
      },
      "source": [
        "#import text \n"
      ]
    },
    {
      "cell_type": "code",
      "execution_count": null,
      "metadata": {
        "colab": {
          "base_uri": "https://localhost:8080/"
        },
        "id": "acFfaWWJaV2l",
        "outputId": "0fd0017a-00a0-45e4-c976-5c3965759ce2"
      },
      "outputs": [],
      "source": [
        "with open('la toma de Matamoros.txt', 'r') as c:\n",
        "  text = c.read()\n",
        "  text = re.sub('\\n(.)', r'\\1', text)\n",
        "  print(text)"
      ]
    },
    {
      "cell_type": "markdown",
      "metadata": {
        "id": "vvwTAc86h5qP"
      },
      "source": [
        "#creating a doc container"
      ]
    },
    {
      "cell_type": "code",
      "execution_count": null,
      "metadata": {
        "colab": {
          "base_uri": "https://localhost:8080/"
        },
        "id": "vvEDBWtrh4dO",
        "outputId": "f5a58b1a-967f-448b-eed3-a82486e20572"
      },
      "outputs": [],
      "source": [
        "doc = nlp(text)\n",
        "print(doc)"
      ]
    },
    {
      "cell_type": "code",
      "execution_count": null,
      "metadata": {
        "colab": {
          "base_uri": "https://localhost:8080/"
        },
        "id": "q_trD955iHb8",
        "outputId": "5a0b5371-a3df-4d6e-a588-f1fe24104ff1"
      },
      "outputs": [],
      "source": [
        "#the doc contain will contain additional information (metadata or attribute). examing the length of the doc object and the text object\n",
        "print(len(doc))\n",
        "print(len(text))"
      ]
    },
    {
      "cell_type": "code",
      "execution_count": null,
      "metadata": {
        "colab": {
          "base_uri": "https://localhost:8080/"
        },
        "id": "7nZTAWZQisny",
        "outputId": "d4a86391-e2cd-4758-a22f-425e7e260bf4"
      },
      "outputs": [],
      "source": [
        "for token in text[:10]:\n",
        "  print(token)"
      ]
    },
    {
      "cell_type": "code",
      "execution_count": null,
      "metadata": {
        "colab": {
          "base_uri": "https://localhost:8080/"
        },
        "id": "uqA7Kzjmi3oP",
        "outputId": "518f4d67-671c-4ab3-d948-acb5399a7d32"
      },
      "outputs": [],
      "source": [
        "for token in doc [:len(doc)]:\n",
        "  print(token)"
      ]
    },
    {
      "cell_type": "code",
      "execution_count": null,
      "metadata": {
        "colab": {
          "base_uri": "https://localhost:8080/"
        },
        "id": "vLWREHy0jAQ8",
        "outputId": "b07d0a1c-2687-46cf-b499-44201b058e9f"
      },
      "outputs": [],
      "source": [
        "for token in text.split()[:10]:\n",
        "    print (token)"
      ]
    },
    {
      "cell_type": "code",
      "execution_count": null,
      "metadata": {
        "id": "qU9YHUusjOJd"
      },
      "outputs": [],
      "source": [
        "words = text.split()[:10]"
      ]
    },
    {
      "cell_type": "code",
      "execution_count": null,
      "metadata": {
        "colab": {
          "base_uri": "https://localhost:8080/"
        },
        "id": "dBxY7B-9jVhh",
        "outputId": "a17abd5e-7668-4f6a-bcf5-1728ff1a2d62"
      },
      "outputs": [],
      "source": [
        "i=5\n",
        "for token in doc[i:8]:\n",
        "  print(f\"SpaCy Token {i}: \\n{token}\\nWord Split{i}:\\n{words[i]}\\n\\n\")\n",
        "  i=i+1"
      ]
    },
    {
      "cell_type": "markdown",
      "metadata": {
        "id": "O_nZxONBkQ6g"
      },
      "source": [
        "#sentence boundary detection(sb)\n"
      ]
    },
    {
      "cell_type": "code",
      "execution_count": null,
      "metadata": {
        "colab": {
          "base_uri": "https://localhost:8080/"
        },
        "id": "VejLMyzdkV_l",
        "outputId": "6cc6d931-7ca6-4440-9c0f-72dd20a27361"
      },
      "outputs": [],
      "source": [
        "for sent in doc.sents:\n",
        "  print(sent)"
      ]
    },
    {
      "cell_type": "code",
      "execution_count": null,
      "metadata": {
        "colab": {
          "base_uri": "https://localhost:8080/"
        },
        "id": "pBi8Dg6QkmAp",
        "outputId": "e930565c-06f7-4251-9424-89038ca859c1"
      },
      "outputs": [],
      "source": [
        "#Let’s move forward with just one of these sentences. Let’s try and grab index 0 in this attribute.\n",
        "sentence1 = list(doc.sents)[0]\n",
        "print (sentence1)"
      ]
    },
    {
      "cell_type": "markdown",
      "metadata": {
        "id": "x-0FBh_ik6-R"
      },
      "source": [
        "#token attributes\n",
        "\n",
        "from Intro to spacy 3 by Matt...(cita later)\n",
        "The token object contains a lot of different attributes that are VITAL do performing NLP in spaCy. We will be working with a few of them, such as:\n",
        "\n",
        ".text\n",
        "\n",
        ".head\n",
        "\n",
        ".left_edge\n",
        "\n",
        ".right_edge\n",
        "\n",
        ".ent_type_\n",
        "\n",
        ".iob_\n",
        "\n",
        ".lemma_\n",
        "\n",
        ".morph\n",
        "\n",
        ".pos_\n",
        "\n",
        ".dep_\n",
        "\n",
        ".lang_\n",
        "\n",
        "I will briefly describe these here and show you how to grab each one and what they look like. We will be exploring each of these attributes more deeply in this chapter and future chapters. To demonstrate each of these attributes, we will use one token, “States” which is part of a sequence of tokens that make up “The United States of America”"
      ]
    },
    {
      "cell_type": "code",
      "execution_count": null,
      "metadata": {
        "colab": {
          "base_uri": "https://localhost:8080/"
        },
        "id": "oiudYKHdAK1_",
        "outputId": "7cd6a5e2-902b-4d16-9061-670984ef1490"
      },
      "outputs": [],
      "source": [
        "sentence1"
      ]
    },
    {
      "cell_type": "code",
      "execution_count": null,
      "metadata": {
        "colab": {
          "base_uri": "https://localhost:8080/"
        },
        "id": "KPARsIFuk9dM",
        "outputId": "4c5b8cfe-a9c1-45c3-dfe4-6dbac71e3a58"
      },
      "outputs": [],
      "source": [
        "token2 = sentence1[17]\n",
        "print (token2)"
      ]
    },
    {
      "cell_type": "code",
      "execution_count": null,
      "metadata": {
        "colab": {
          "base_uri": "https://localhost:8080/",
          "height": 35
        },
        "id": "mg-c1idqlOP6",
        "outputId": "16f392f2-fdf8-4873-df04-5dacbeda3a39"
      },
      "outputs": [],
      "source": [
        "#text\n",
        "token2.text"
      ]
    },
    {
      "cell_type": "code",
      "execution_count": null,
      "metadata": {
        "colab": {
          "base_uri": "https://localhost:8080/"
        },
        "id": "AlRTA6ZQleQk",
        "outputId": "c39a4ed6-1d67-4f44-d0be-e62a638bbb2f"
      },
      "outputs": [],
      "source": [
        "#head\n",
        "token2.head"
      ]
    },
    {
      "cell_type": "code",
      "execution_count": null,
      "metadata": {
        "colab": {
          "base_uri": "https://localhost:8080/"
        },
        "id": "a3ThHpATlgjd",
        "outputId": "91308ee5-e87a-4dc5-d15d-588e7f4455cc"
      },
      "outputs": [],
      "source": [
        "#left edge\n",
        "token2.left_edge"
      ]
    },
    {
      "cell_type": "code",
      "execution_count": null,
      "metadata": {
        "colab": {
          "base_uri": "https://localhost:8080/"
        },
        "id": "XX3qj7Golssa",
        "outputId": "3ed56daf-4923-49b8-d276-6e0412352d1d"
      },
      "outputs": [],
      "source": [
        "#right edge\n",
        "token2.right_edge"
      ]
    },
    {
      "cell_type": "code",
      "execution_count": null,
      "metadata": {
        "colab": {
          "base_uri": "https://localhost:8080/"
        },
        "id": "tfAtCjrDl6s7",
        "outputId": "11aac017-9974-4b1c-e40f-fb93b7c86e53"
      },
      "outputs": [],
      "source": [
        "#entity type\n",
        "token2.ent_type"
      ]
    },
    {
      "cell_type": "code",
      "execution_count": null,
      "metadata": {
        "colab": {
          "base_uri": "https://localhost:8080/",
          "height": 35
        },
        "id": "iMLtCwqQmDnl",
        "outputId": "23559c1f-cb60-4448-b315-3c3361aa837c"
      },
      "outputs": [],
      "source": [
        "token2.ent_type_"
      ]
    },
    {
      "cell_type": "code",
      "execution_count": null,
      "metadata": {
        "colab": {
          "base_uri": "https://localhost:8080/",
          "height": 35
        },
        "id": "XnAip2u1mdD8",
        "outputId": "3355f8c9-7799-4ad9-a247-308de08f3abc"
      },
      "outputs": [],
      "source": [
        "#ent IOB; '''IOB code of named entity tag. “B” means the token begins an entity,\n",
        "#“I” means it is inside an entity, \n",
        "#“O” means it is outside an entity, and \"\" means no entity tag is set.''' \n",
        "token2.ent_iob_"
      ]
    },
    {
      "cell_type": "code",
      "execution_count": null,
      "metadata": {
        "colab": {
          "base_uri": "https://localhost:8080/",
          "height": 35
        },
        "id": "VNqLPqO7m44D",
        "outputId": "3de1188b-5cf3-4890-b2e6-51a44678374b"
      },
      "outputs": [],
      "source": [
        "#lemma\n",
        "token2.lemma_"
      ]
    },
    {
      "cell_type": "code",
      "execution_count": null,
      "metadata": {
        "colab": {
          "base_uri": "https://localhost:8080/",
          "height": 35
        },
        "id": "hlZkClvNm_sr",
        "outputId": "188a815e-71b9-442a-cd35-32cacc79039c"
      },
      "outputs": [],
      "source": [
        "sentence1[12].lemma_"
      ]
    },
    {
      "cell_type": "code",
      "execution_count": null,
      "metadata": {
        "colab": {
          "base_uri": "https://localhost:8080/"
        },
        "id": "slpPvyx5pdNR",
        "outputId": "4855973a-e0be-46d8-b7e3-8fada094d7a6"
      },
      "outputs": [],
      "source": [
        "#morphological analysis \n",
        "sentence1[12].morph"
      ]
    },
    {
      "cell_type": "code",
      "execution_count": null,
      "metadata": {
        "colab": {
          "base_uri": "https://localhost:8080/",
          "height": 35
        },
        "id": "UBT-QcF9p-py",
        "outputId": "d848f9a8-2927-41b3-c3c6-0e6003a5fd12"
      },
      "outputs": [],
      "source": [
        "#part of speech\n",
        "token2.pos_"
      ]
    },
    {
      "cell_type": "code",
      "execution_count": null,
      "metadata": {
        "colab": {
          "base_uri": "https://localhost:8080/",
          "height": 35
        },
        "id": "PNI1Cw2RqDXU",
        "outputId": "c9f46e56-5c42-4f0a-c006-c8cf9adea957"
      },
      "outputs": [],
      "source": [
        "#syntactic dependency\n",
        "token2.dep_"
      ]
    },
    {
      "cell_type": "code",
      "execution_count": null,
      "metadata": {
        "colab": {
          "base_uri": "https://localhost:8080/",
          "height": 35
        },
        "id": "VMecC3oXqJwZ",
        "outputId": "ce31f256-ff94-4d49-d825-3dbae777a7dd"
      },
      "outputs": [],
      "source": [
        "#language\n",
        "token2.lang_"
      ]
    },
    {
      "cell_type": "markdown",
      "metadata": {
        "id": "nWh9L43mqSD3"
      },
      "source": [
        "#Part of Speech tagging \n",
        "In the field of computational linguistics, understanding parts-of-speech is essential. SpaCy offers an easy way to parse a text and identify its parts of speech. Below, we will iterate across each token (word or punctuation) in the text and identify its part of speech."
      ]
    },
    {
      "cell_type": "code",
      "execution_count": null,
      "metadata": {
        "colab": {
          "base_uri": "https://localhost:8080/"
        },
        "id": "gpcJKtVVqbQe",
        "outputId": "40709dff-b52d-4ec4-c261-c4857bfbd870"
      },
      "outputs": [],
      "source": [
        "for token in sentence1:\n",
        "    print (token.text, token.pos_, token.dep_)"
      ]
    },
    {
      "cell_type": "code",
      "execution_count": null,
      "metadata": {
        "colab": {
          "base_uri": "https://localhost:8080/",
          "height": 703
        },
        "id": "EqvkTnO6qkgP",
        "outputId": "48bfe3d8-8e9e-421b-c522-0c20e398730c"
      },
      "outputs": [],
      "source": [
        "import spacy\n",
        "from spacy import displacy\n",
        "displacy.render(sentence1, style=\"dep\", jupyter=True, options={})"
      ]
    },
    {
      "cell_type": "code",
      "execution_count": null,
      "metadata": {
        "colab": {
          "base_uri": "https://localhost:8080/",
          "height": 122
        },
        "id": "K4GkvTr5t6gX",
        "outputId": "c210efb9-3197-4a5f-9cbf-83d633b3b57f"
      },
      "outputs": [],
      "source": [
        "\n",
        "displacy.render(sentence1, style=\"ent\", jupyter=True)"
      ]
    },
    {
      "cell_type": "markdown",
      "metadata": {
        "id": "oqeATc5iu-g6"
      },
      "source": [
        "#named entity recogniton"
      ]
    },
    {
      "cell_type": "code",
      "execution_count": null,
      "metadata": {
        "colab": {
          "base_uri": "https://localhost:8080/"
        },
        "id": "UGsK511GvBnZ",
        "outputId": "5a29e805-b758-4d86-e24d-c169dac80b67"
      },
      "outputs": [],
      "source": [
        "for ent in doc.ents:\n",
        "    print (ent.text, ent.label_)"
      ]
    },
    {
      "cell_type": "code",
      "execution_count": null,
      "metadata": {
        "colab": {
          "base_uri": "https://localhost:8080/",
          "height": 1000
        },
        "id": "vIwNtwgAvJWm",
        "outputId": "77e5c380-54a2-4f4c-9a34-8f80ac96c7bd"
      },
      "outputs": [],
      "source": [
        "displacy.render(doc, style=\"ent\", jupyter=True)"
      ]
    },
    {
      "cell_type": "markdown",
      "metadata": {
        "id": "zyeNWTiqv_Gq"
      },
      "source": [
        "#Word Vectors\n",
        "REsources\n",
        "https://pypi.org/project/PyDictionary/"
      ]
    },
    {
      "cell_type": "code",
      "execution_count": null,
      "metadata": {
        "colab": {
          "base_uri": "https://localhost:8080/"
        },
        "id": "H00KEpH8xBHq",
        "outputId": "0898ef82-0243-46ac-cb4a-838410aeff7b"
      },
      "outputs": [],
      "source": [
        "!pip install PyDictionary\n",
        "from PyDictionary import PyDictionary"
      ]
    },
    {
      "cell_type": "code",
      "execution_count": null,
      "metadata": {
        "colab": {
          "base_uri": "https://localhost:8080/",
          "height": 218
        },
        "id": "TfC9l-TAwERU",
        "outputId": "f994a52f-6d00-451b-a010-5d7994f6ec49"
      },
      "outputs": [],
      "source": [
        "dictionary=PyDictionary()\n",
        "\n",
        "words  = [\"cantar\", \"vida\"]\n",
        "for word in words:\n",
        "    syns = dictionary.synonym(word)\n",
        "    print (f\"{word}: {syns[0:5]}\\n\")"
      ]
    }
  ],
  "metadata": {
    "colab": {
      "authorship_tag": "ABX9TyOtEj+jPABLA/YY6wmRkuOH",
      "collapsed_sections": [],
      "include_colab_link": true,
      "name": "SpacyDocBin.ipynb",
      "provenance": []
    },
    "kernelspec": {
      "display_name": "Python 3.10.5 ('venv': venv)",
      "language": "python",
      "name": "python3"
    },
    "language_info": {
      "name": "python",
      "version": "3.10.5"
    },
    "vscode": {
      "interpreter": {
        "hash": "e528f05ecdbf513f743da5c44906adca99a556c5207201bf3043358644070d32"
      }
    }
  },
  "nbformat": 4,
  "nbformat_minor": 0
}
