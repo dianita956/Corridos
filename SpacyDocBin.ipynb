{
  "nbformat": 4,
  "nbformat_minor": 0,
  "metadata": {
    "colab": {
      "name": "SpacyDocBin.ipynb",
      "provenance": [],
      "collapsed_sections": [],
      "authorship_tag": "ABX9TyOtEj+jPABLA/YY6wmRkuOH",
      "include_colab_link": true
    },
    "kernelspec": {
      "name": "python3",
      "display_name": "Python 3"
    },
    "language_info": {
      "name": "python"
    }
  },
  "cells": [
    {
      "cell_type": "markdown",
      "metadata": {
        "id": "view-in-github",
        "colab_type": "text"
      },
      "source": [
        "<a href=\"https://colab.research.google.com/github/dianita956/Corridos/blob/main/SpacyDocBin.ipynb\" target=\"_parent\"><img src=\"https://colab.research.google.com/assets/colab-badge.svg\" alt=\"Open In Colab\"/></a>"
      ]
    },
    {
      "cell_type": "markdown",
      "source": [
        "#downloading and importing spacy and spanish model medium"
      ],
      "metadata": {
        "id": "OT2HhvRmZmrU"
      }
    },
    {
      "cell_type": "code",
      "execution_count": 4,
      "metadata": {
        "colab": {
          "base_uri": "https://localhost:8080/"
        },
        "id": "JcXibgAAYdID",
        "outputId": "c2a3bb0d-33eb-436c-ce42-b85f991bbf65"
      },
      "outputs": [
        {
          "output_type": "stream",
          "name": "stdout",
          "text": [
            "2022-08-11 14:54:20.258995: E tensorflow/stream_executor/cuda/cuda_driver.cc:271] failed call to cuInit: CUDA_ERROR_NO_DEVICE: no CUDA-capable device is detected\n",
            "Looking in indexes: https://pypi.org/simple, https://us-python.pkg.dev/colab-wheels/public/simple/\n",
            "Collecting es-core-news-md==3.4.0\n",
            "  Downloading https://github.com/explosion/spacy-models/releases/download/es_core_news_md-3.4.0/es_core_news_md-3.4.0-py3-none-any.whl (42.3 MB)\n",
            "\u001b[K     |████████████████████████████████| 42.3 MB 1.4 MB/s \n",
            "\u001b[?25hRequirement already satisfied: spacy<3.5.0,>=3.4.0 in /usr/local/lib/python3.7/dist-packages (from es-core-news-md==3.4.0) (3.4.1)\n",
            "Requirement already satisfied: setuptools in /usr/local/lib/python3.7/dist-packages (from spacy<3.5.0,>=3.4.0->es-core-news-md==3.4.0) (57.4.0)\n",
            "Requirement already satisfied: requests<3.0.0,>=2.13.0 in /usr/local/lib/python3.7/dist-packages (from spacy<3.5.0,>=3.4.0->es-core-news-md==3.4.0) (2.23.0)\n",
            "Requirement already satisfied: numpy>=1.15.0 in /usr/local/lib/python3.7/dist-packages (from spacy<3.5.0,>=3.4.0->es-core-news-md==3.4.0) (1.21.6)\n",
            "Requirement already satisfied: packaging>=20.0 in /usr/local/lib/python3.7/dist-packages (from spacy<3.5.0,>=3.4.0->es-core-news-md==3.4.0) (21.3)\n",
            "Requirement already satisfied: pydantic!=1.8,!=1.8.1,<1.10.0,>=1.7.4 in /usr/local/lib/python3.7/dist-packages (from spacy<3.5.0,>=3.4.0->es-core-news-md==3.4.0) (1.9.1)\n",
            "Requirement already satisfied: spacy-loggers<2.0.0,>=1.0.0 in /usr/local/lib/python3.7/dist-packages (from spacy<3.5.0,>=3.4.0->es-core-news-md==3.4.0) (1.0.3)\n",
            "Requirement already satisfied: pathy>=0.3.5 in /usr/local/lib/python3.7/dist-packages (from spacy<3.5.0,>=3.4.0->es-core-news-md==3.4.0) (0.6.2)\n",
            "Requirement already satisfied: jinja2 in /usr/local/lib/python3.7/dist-packages (from spacy<3.5.0,>=3.4.0->es-core-news-md==3.4.0) (2.11.3)\n",
            "Requirement already satisfied: typing-extensions<4.2.0,>=3.7.4 in /usr/local/lib/python3.7/dist-packages (from spacy<3.5.0,>=3.4.0->es-core-news-md==3.4.0) (4.1.1)\n",
            "Requirement already satisfied: preshed<3.1.0,>=3.0.2 in /usr/local/lib/python3.7/dist-packages (from spacy<3.5.0,>=3.4.0->es-core-news-md==3.4.0) (3.0.6)\n",
            "Requirement already satisfied: cymem<2.1.0,>=2.0.2 in /usr/local/lib/python3.7/dist-packages (from spacy<3.5.0,>=3.4.0->es-core-news-md==3.4.0) (2.0.6)\n",
            "Requirement already satisfied: tqdm<5.0.0,>=4.38.0 in /usr/local/lib/python3.7/dist-packages (from spacy<3.5.0,>=3.4.0->es-core-news-md==3.4.0) (4.64.0)\n",
            "Requirement already satisfied: srsly<3.0.0,>=2.4.3 in /usr/local/lib/python3.7/dist-packages (from spacy<3.5.0,>=3.4.0->es-core-news-md==3.4.0) (2.4.4)\n",
            "Requirement already satisfied: spacy-legacy<3.1.0,>=3.0.9 in /usr/local/lib/python3.7/dist-packages (from spacy<3.5.0,>=3.4.0->es-core-news-md==3.4.0) (3.0.9)\n",
            "Requirement already satisfied: thinc<8.2.0,>=8.1.0 in /usr/local/lib/python3.7/dist-packages (from spacy<3.5.0,>=3.4.0->es-core-news-md==3.4.0) (8.1.0)\n",
            "Requirement already satisfied: wasabi<1.1.0,>=0.9.1 in /usr/local/lib/python3.7/dist-packages (from spacy<3.5.0,>=3.4.0->es-core-news-md==3.4.0) (0.10.1)\n",
            "Requirement already satisfied: catalogue<2.1.0,>=2.0.6 in /usr/local/lib/python3.7/dist-packages (from spacy<3.5.0,>=3.4.0->es-core-news-md==3.4.0) (2.0.8)\n",
            "Requirement already satisfied: typer<0.5.0,>=0.3.0 in /usr/local/lib/python3.7/dist-packages (from spacy<3.5.0,>=3.4.0->es-core-news-md==3.4.0) (0.4.2)\n",
            "Requirement already satisfied: langcodes<4.0.0,>=3.2.0 in /usr/local/lib/python3.7/dist-packages (from spacy<3.5.0,>=3.4.0->es-core-news-md==3.4.0) (3.3.0)\n",
            "Requirement already satisfied: murmurhash<1.1.0,>=0.28.0 in /usr/local/lib/python3.7/dist-packages (from spacy<3.5.0,>=3.4.0->es-core-news-md==3.4.0) (1.0.7)\n",
            "Requirement already satisfied: zipp>=0.5 in /usr/local/lib/python3.7/dist-packages (from catalogue<2.1.0,>=2.0.6->spacy<3.5.0,>=3.4.0->es-core-news-md==3.4.0) (3.8.1)\n",
            "Requirement already satisfied: pyparsing!=3.0.5,>=2.0.2 in /usr/local/lib/python3.7/dist-packages (from packaging>=20.0->spacy<3.5.0,>=3.4.0->es-core-news-md==3.4.0) (3.0.9)\n",
            "Requirement already satisfied: smart-open<6.0.0,>=5.2.1 in /usr/local/lib/python3.7/dist-packages (from pathy>=0.3.5->spacy<3.5.0,>=3.4.0->es-core-news-md==3.4.0) (5.2.1)\n",
            "Requirement already satisfied: idna<3,>=2.5 in /usr/local/lib/python3.7/dist-packages (from requests<3.0.0,>=2.13.0->spacy<3.5.0,>=3.4.0->es-core-news-md==3.4.0) (2.10)\n",
            "Requirement already satisfied: urllib3!=1.25.0,!=1.25.1,<1.26,>=1.21.1 in /usr/local/lib/python3.7/dist-packages (from requests<3.0.0,>=2.13.0->spacy<3.5.0,>=3.4.0->es-core-news-md==3.4.0) (1.24.3)\n",
            "Requirement already satisfied: chardet<4,>=3.0.2 in /usr/local/lib/python3.7/dist-packages (from requests<3.0.0,>=2.13.0->spacy<3.5.0,>=3.4.0->es-core-news-md==3.4.0) (3.0.4)\n",
            "Requirement already satisfied: certifi>=2017.4.17 in /usr/local/lib/python3.7/dist-packages (from requests<3.0.0,>=2.13.0->spacy<3.5.0,>=3.4.0->es-core-news-md==3.4.0) (2022.6.15)\n",
            "Requirement already satisfied: blis<0.8.0,>=0.7.8 in /usr/local/lib/python3.7/dist-packages (from thinc<8.2.0,>=8.1.0->spacy<3.5.0,>=3.4.0->es-core-news-md==3.4.0) (0.7.8)\n",
            "Requirement already satisfied: click<9.0.0,>=7.1.1 in /usr/local/lib/python3.7/dist-packages (from typer<0.5.0,>=0.3.0->spacy<3.5.0,>=3.4.0->es-core-news-md==3.4.0) (7.1.2)\n",
            "Requirement already satisfied: MarkupSafe>=0.23 in /usr/local/lib/python3.7/dist-packages (from jinja2->spacy<3.5.0,>=3.4.0->es-core-news-md==3.4.0) (2.0.1)\n",
            "Installing collected packages: es-core-news-md\n",
            "Successfully installed es-core-news-md-3.4.0\n",
            "\u001b[38;5;2m✔ Download and installation successful\u001b[0m\n",
            "You can now load the package via spacy.load('es_core_news_md')\n"
          ]
        }
      ],
      "source": [
        "!python -m spacy download es_core_news_md\n",
        "import spacy "
      ]
    },
    {
      "cell_type": "code",
      "source": [
        "nlp = spacy.load('es_core_news_md')"
      ],
      "metadata": {
        "id": "maB3MQ_UZCZG"
      },
      "execution_count": 5,
      "outputs": []
    },
    {
      "cell_type": "code",
      "source": [
        "import re"
      ],
      "metadata": {
        "id": "pisSqtZU6Exy"
      },
      "execution_count": 72,
      "outputs": []
    },
    {
      "cell_type": "markdown",
      "source": [
        "#import text \n"
      ],
      "metadata": {
        "id": "YIdN4D0MaF8-"
      }
    },
    {
      "cell_type": "code",
      "source": [
        "with open('la toma de Matamoros.txt', 'r') as c:\n",
        "  text = c.read()\n",
        "  text = re.sub('\\n(.)', r'\\1', text)\n",
        "  print(text)"
      ],
      "metadata": {
        "colab": {
          "base_uri": "https://localhost:8080/"
        },
        "id": "acFfaWWJaV2l",
        "outputId": "0fd0017a-00a0-45e4-c976-5c3965759ce2"
      },
      "execution_count": 77,
      "outputs": [
        {
          "output_type": "stream",
          "name": "stdout",
          "text": [
            "Voy a cantar estos versos,pongan mucha atención todos,voy a cantar la tragediade la Heroica Matamoros.\n",
            "Dia martes tres de juniode mil novecientos trece,a las diez de la mañanaLucio Blanco se aparece.\n",
            "Pues traía miles de hombres,bien armados y valientespara tomar esa plaza yhacer correr a las gentes.\n",
            "La gente de Matamorosya resuelta toda estabaa defender a su puebloaunque la vida costara.\n",
            "Por hojas sueltas pidieronla plaza al Mayor Ramos,diciendo: -Si no la entregande todos modos entramos. -\n",
            "Cuando estas hojas llegarona manos del Mayor Ramos,sonriendo dijo al enviado:-La plaza no la entregamos.\n",
            "Pues decía el Mayor Ramos,lo mismo que Barragán:-Lo que es Carranza no ganay si no ya lo verán.\n",
            "Ya la hora se llegó,pues ya se le cumple el plazo,por dondequiera se oíala bala y el cañonazo.\n",
            "La gente de Matamorosmuy contenta se quedabacuando vino la noticiaque Blanco se retiraba.\n",
            "Pero un repique oportuno,que no saben quién lo dio,alentó a los carrancistasy Blanco se devolvió.\n",
            "Para las tres de la tardehabía muertos y heridos,y los soldados de línease iban a Estados Unidos.\n",
            "El empuje fue terrible,la defensa por demás;eran pocos los de adentro,los de afuera muchos más.\n",
            "Los valientes voluntariosde López y Chazarretase salían de las trincherasa tirar a la banqueta.\n",
            "A las diez de la mañanaalgunas casas quemaron,pero éstas fueron venganzasque llegando consumaron.\n",
            "Agarraron prisionerosa unos niños que pelearon,y otro día en el Pariána las seis los fusilaron.\n",
            "Pues lo niños que pelearoncon bastante decisiónal enemigo causaronbastante admiración.\n",
            "Pero un antiguo artilleroque era también gobiernista,a ese no le hicieron nada,lo defendió un carrancista.\n",
            "Pero a Antonio Chazarretale tocó muy mala suerte,lo cogieron prisioneroy fue sentenciado a muerte.\n",
            "Las gentes de Matamorosperdieron toda esperanzaal oír que por las callesgritan que viva Carranza.\n",
            "Las gentes de Matamorosen Texas aventurando,dicen que no han de volvermientras Lucio tenga el mando.\n",
            "Ya con ésta me despido,me compadezco de todos,y con tristeza les digoque perdimos Matamoros.\n",
            "\n"
          ]
        }
      ]
    },
    {
      "cell_type": "markdown",
      "source": [
        "#creating a doc container"
      ],
      "metadata": {
        "id": "vvwTAc86h5qP"
      }
    },
    {
      "cell_type": "code",
      "source": [
        "doc = nlp(text)\n",
        "print(doc)"
      ],
      "metadata": {
        "colab": {
          "base_uri": "https://localhost:8080/"
        },
        "id": "vvEDBWtrh4dO",
        "outputId": "f5a58b1a-967f-448b-eed3-a82486e20572"
      },
      "execution_count": 78,
      "outputs": [
        {
          "output_type": "stream",
          "name": "stdout",
          "text": [
            "Voy a cantar estos versos,pongan mucha atención todos,voy a cantar la tragediade la Heroica Matamoros.\n",
            "Dia martes tres de juniode mil novecientos trece,a las diez de la mañanaLucio Blanco se aparece.\n",
            "Pues traía miles de hombres,bien armados y valientespara tomar esa plaza yhacer correr a las gentes.\n",
            "La gente de Matamorosya resuelta toda estabaa defender a su puebloaunque la vida costara.\n",
            "Por hojas sueltas pidieronla plaza al Mayor Ramos,diciendo: -Si no la entregande todos modos entramos. -\n",
            "Cuando estas hojas llegarona manos del Mayor Ramos,sonriendo dijo al enviado:-La plaza no la entregamos.\n",
            "Pues decía el Mayor Ramos,lo mismo que Barragán:-Lo que es Carranza no ganay si no ya lo verán.\n",
            "Ya la hora se llegó,pues ya se le cumple el plazo,por dondequiera se oíala bala y el cañonazo.\n",
            "La gente de Matamorosmuy contenta se quedabacuando vino la noticiaque Blanco se retiraba.\n",
            "Pero un repique oportuno,que no saben quién lo dio,alentó a los carrancistasy Blanco se devolvió.\n",
            "Para las tres de la tardehabía muertos y heridos,y los soldados de línease iban a Estados Unidos.\n",
            "El empuje fue terrible,la defensa por demás;eran pocos los de adentro,los de afuera muchos más.\n",
            "Los valientes voluntariosde López y Chazarretase salían de las trincherasa tirar a la banqueta.\n",
            "A las diez de la mañanaalgunas casas quemaron,pero éstas fueron venganzasque llegando consumaron.\n",
            "Agarraron prisionerosa unos niños que pelearon,y otro día en el Pariána las seis los fusilaron.\n",
            "Pues lo niños que pelearoncon bastante decisiónal enemigo causaronbastante admiración.\n",
            "Pero un antiguo artilleroque era también gobiernista,a ese no le hicieron nada,lo defendió un carrancista.\n",
            "Pero a Antonio Chazarretale tocó muy mala suerte,lo cogieron prisioneroy fue sentenciado a muerte.\n",
            "Las gentes de Matamorosperdieron toda esperanzaal oír que por las callesgritan que viva Carranza.\n",
            "Las gentes de Matamorosen Texas aventurando,dicen que no han de volvermientras Lucio tenga el mando.\n",
            "Ya con ésta me despido,me compadezco de todos,y con tristeza les digoque perdimos Matamoros.\n",
            "\n"
          ]
        }
      ]
    },
    {
      "cell_type": "code",
      "source": [
        "#the doc contain will contain additional information (metadata or attribute). examing the length of the doc object and the text object\n",
        "print(len(doc))\n",
        "print(len(text))"
      ],
      "metadata": {
        "colab": {
          "base_uri": "https://localhost:8080/"
        },
        "id": "q_trD955iHb8",
        "outputId": "5a0b5371-a3df-4d6e-a588-f1fe24104ff1"
      },
      "execution_count": 79,
      "outputs": [
        {
          "output_type": "stream",
          "name": "stdout",
          "text": [
            "399\n",
            "2049\n"
          ]
        }
      ]
    },
    {
      "cell_type": "code",
      "source": [
        "for token in text[:10]:\n",
        "  print(token)"
      ],
      "metadata": {
        "colab": {
          "base_uri": "https://localhost:8080/"
        },
        "id": "7nZTAWZQisny",
        "outputId": "d4a86391-e2cd-4758-a22f-425e7e260bf4"
      },
      "execution_count": 97,
      "outputs": [
        {
          "output_type": "stream",
          "name": "stdout",
          "text": [
            "V\n",
            "o\n",
            "y\n",
            " \n",
            "a\n",
            " \n",
            "c\n",
            "a\n",
            "n\n",
            "t\n"
          ]
        }
      ]
    },
    {
      "cell_type": "code",
      "source": [
        "for token in doc [:len(doc)]:\n",
        "  print(token)"
      ],
      "metadata": {
        "colab": {
          "base_uri": "https://localhost:8080/"
        },
        "id": "uqA7Kzjmi3oP",
        "outputId": "518f4d67-671c-4ab3-d948-acb5399a7d32"
      },
      "execution_count": 99,
      "outputs": [
        {
          "output_type": "stream",
          "name": "stdout",
          "text": [
            "Voy\n",
            "a\n",
            "cantar\n",
            "estos\n",
            "versos\n",
            ",\n",
            "pongan\n",
            "mucha\n",
            "atención\n",
            "todos\n",
            ",\n",
            "voy\n",
            "a\n",
            "cantar\n",
            "la\n",
            "tragediade\n",
            "la\n",
            "Heroica\n",
            "Matamoros\n",
            ".\n",
            "\n",
            "\n",
            "Dia\n",
            "martes\n",
            "tres\n",
            "de\n",
            "juniode\n",
            "mil\n",
            "novecientos\n",
            "trece\n",
            ",\n",
            "a\n",
            "las\n",
            "diez\n",
            "de\n",
            "la\n",
            "mañanaLucio\n",
            "Blanco\n",
            "se\n",
            "aparece\n",
            ".\n",
            "\n",
            "\n",
            "Pues\n",
            "traía\n",
            "miles\n",
            "de\n",
            "hombres\n",
            ",\n",
            "bien\n",
            "armados\n",
            "y\n",
            "valientespara\n",
            "tomar\n",
            "esa\n",
            "plaza\n",
            "yhacer\n",
            "correr\n",
            "a\n",
            "las\n",
            "gentes\n",
            ".\n",
            "\n",
            "\n",
            "La\n",
            "gente\n",
            "de\n",
            "Matamorosya\n",
            "resuelta\n",
            "toda\n",
            "estabaa\n",
            "defender\n",
            "a\n",
            "su\n",
            "puebloaunque\n",
            "la\n",
            "vida\n",
            "costara\n",
            ".\n",
            "\n",
            "\n",
            "Por\n",
            "hojas\n",
            "sueltas\n",
            "pidieronla\n",
            "plaza\n",
            "al\n",
            "Mayor\n",
            "Ramos\n",
            ",\n",
            "diciendo\n",
            ":\n",
            "-Si\n",
            "no\n",
            "la\n",
            "entregande\n",
            "todos\n",
            "modos\n",
            "entramos\n",
            ".\n",
            "-\n",
            "\n",
            "\n",
            "Cuando\n",
            "estas\n",
            "hojas\n",
            "llegarona\n",
            "manos\n",
            "del\n",
            "Mayor\n",
            "Ramos\n",
            ",\n",
            "sonriendo\n",
            "dijo\n",
            "al\n",
            "enviado:-La\n",
            "plaza\n",
            "no\n",
            "la\n",
            "entregamos\n",
            ".\n",
            "\n",
            "\n",
            "Pues\n",
            "decía\n",
            "el\n",
            "Mayor\n",
            "Ramos\n",
            ",\n",
            "lo\n",
            "mismo\n",
            "que\n",
            "Barragán:-Lo\n",
            "que\n",
            "es\n",
            "Carranza\n",
            "no\n",
            "ganay\n",
            "si\n",
            "no\n",
            "ya\n",
            "lo\n",
            "verán\n",
            ".\n",
            "\n",
            "\n",
            "Ya\n",
            "la\n",
            "hora\n",
            "se\n",
            "llegó\n",
            ",\n",
            "pues\n",
            "ya\n",
            "se\n",
            "le\n",
            "cumple\n",
            "el\n",
            "plazo\n",
            ",\n",
            "por\n",
            "dondequiera\n",
            "se\n",
            "oíala\n",
            "bala\n",
            "y\n",
            "el\n",
            "cañonazo\n",
            ".\n",
            "\n",
            "\n",
            "La\n",
            "gente\n",
            "de\n",
            "Matamorosmuy\n",
            "contenta\n",
            "se\n",
            "quedabacuando\n",
            "vino\n",
            "la\n",
            "noticiaque\n",
            "Blanco\n",
            "se\n",
            "retiraba\n",
            ".\n",
            "\n",
            "\n",
            "Pero\n",
            "un\n",
            "repique\n",
            "oportuno\n",
            ",\n",
            "que\n",
            "no\n",
            "saben\n",
            "quién\n",
            "lo\n",
            "dio\n",
            ",\n",
            "alentó\n",
            "a\n",
            "los\n",
            "carrancistasy\n",
            "Blanco\n",
            "se\n",
            "devolvió\n",
            ".\n",
            "\n",
            "\n",
            "Para\n",
            "las\n",
            "tres\n",
            "de\n",
            "la\n",
            "tardehabía\n",
            "muertos\n",
            "y\n",
            "heridos\n",
            ",\n",
            "y\n",
            "los\n",
            "soldados\n",
            "de\n",
            "línease\n",
            "iban\n",
            "a\n",
            "Estados\n",
            "Unidos\n",
            ".\n",
            "\n",
            "\n",
            "El\n",
            "empuje\n",
            "fue\n",
            "terrible\n",
            ",\n",
            "la\n",
            "defensa\n",
            "por\n",
            "demás;eran\n",
            "pocos\n",
            "los\n",
            "de\n",
            "adentro\n",
            ",\n",
            "los\n",
            "de\n",
            "afuera\n",
            "muchos\n",
            "más\n",
            ".\n",
            "\n",
            "\n",
            "Los\n",
            "valientes\n",
            "voluntariosde\n",
            "López\n",
            "y\n",
            "Chazarretase\n",
            "salían\n",
            "de\n",
            "las\n",
            "trincherasa\n",
            "tirar\n",
            "a\n",
            "la\n",
            "banqueta\n",
            ".\n",
            "\n",
            "\n",
            "A\n",
            "las\n",
            "diez\n",
            "de\n",
            "la\n",
            "mañanaalgunas\n",
            "casas\n",
            "quemaron\n",
            ",\n",
            "pero\n",
            "éstas\n",
            "fueron\n",
            "venganzasque\n",
            "llegando\n",
            "consumaron\n",
            ".\n",
            "\n",
            "\n",
            "Agarraron\n",
            "prisionerosa\n",
            "unos\n",
            "niños\n",
            "que\n",
            "pelearon\n",
            ",\n",
            "y\n",
            "otro\n",
            "día\n",
            "en\n",
            "el\n",
            "Pariána\n",
            "las\n",
            "seis\n",
            "los\n",
            "fusilaron\n",
            ".\n",
            "\n",
            "\n",
            "Pues\n",
            "lo\n",
            "niños\n",
            "que\n",
            "pelearoncon\n",
            "bastante\n",
            "decisiónal\n",
            "enemigo\n",
            "causaronbastante\n",
            "admiración\n",
            ".\n",
            "\n",
            "\n",
            "Pero\n",
            "un\n",
            "antiguo\n",
            "artilleroque\n",
            "era\n",
            "también\n",
            "gobiernista\n",
            ",\n",
            "a\n",
            "ese\n",
            "no\n",
            "le\n",
            "hicieron\n",
            "nada\n",
            ",\n",
            "lo\n",
            "defendió\n",
            "un\n",
            "carrancista\n",
            ".\n",
            "\n",
            "\n",
            "Pero\n",
            "a\n",
            "Antonio\n",
            "Chazarretale\n",
            "tocó\n",
            "muy\n",
            "mala\n",
            "suerte\n",
            ",\n",
            "lo\n",
            "cogieron\n",
            "prisioneroy\n",
            "fue\n",
            "sentenciado\n",
            "a\n",
            "muerte\n",
            ".\n",
            "\n",
            "\n",
            "Las\n",
            "gentes\n",
            "de\n",
            "Matamorosperdieron\n",
            "toda\n",
            "esperanzaal\n",
            "oír\n",
            "que\n",
            "por\n",
            "las\n",
            "callesgritan\n",
            "que\n",
            "viva\n",
            "Carranza\n",
            ".\n",
            "\n",
            "\n",
            "Las\n",
            "gentes\n",
            "de\n",
            "Matamorosen\n",
            "Texas\n",
            "aventurando\n",
            ",\n",
            "dicen\n",
            "que\n",
            "no\n",
            "han\n",
            "de\n",
            "volvermientras\n",
            "Lucio\n",
            "tenga\n",
            "el\n",
            "mando\n",
            ".\n",
            "\n",
            "\n",
            "Ya\n",
            "con\n",
            "ésta\n",
            "me\n",
            "despido\n",
            ",\n",
            "me\n",
            "compadezco\n",
            "de\n",
            "todos\n",
            ",\n",
            "y\n",
            "con\n",
            "tristeza\n",
            "les\n",
            "digoque\n",
            "perdimos\n",
            "Matamoros\n",
            ".\n",
            "\n",
            "\n"
          ]
        }
      ]
    },
    {
      "cell_type": "code",
      "source": [
        "for token in text.split()[:10]:\n",
        "    print (token)"
      ],
      "metadata": {
        "colab": {
          "base_uri": "https://localhost:8080/"
        },
        "id": "vLWREHy0jAQ8",
        "outputId": "b07d0a1c-2687-46cf-b499-44201b058e9f"
      },
      "execution_count": 82,
      "outputs": [
        {
          "output_type": "stream",
          "name": "stdout",
          "text": [
            "Voy\n",
            "a\n",
            "cantar\n",
            "estos\n",
            "versos,pongan\n",
            "mucha\n",
            "atención\n",
            "todos,voy\n",
            "a\n",
            "cantar\n"
          ]
        }
      ]
    },
    {
      "cell_type": "code",
      "source": [
        "words = text.split()[:10]"
      ],
      "metadata": {
        "id": "qU9YHUusjOJd"
      },
      "execution_count": 83,
      "outputs": []
    },
    {
      "cell_type": "code",
      "source": [
        "i=5\n",
        "for token in doc[i:8]:\n",
        "  print(f\"SpaCy Token {i}: \\n{token}\\nWord Split{i}:\\n{words[i]}\\n\\n\")\n",
        "  i=i+1"
      ],
      "metadata": {
        "colab": {
          "base_uri": "https://localhost:8080/"
        },
        "id": "dBxY7B-9jVhh",
        "outputId": "a17abd5e-7668-4f6a-bcf5-1728ff1a2d62"
      },
      "execution_count": 84,
      "outputs": [
        {
          "output_type": "stream",
          "name": "stdout",
          "text": [
            "SpaCy Token 5: \n",
            ",\n",
            "Word Split5:\n",
            "mucha\n",
            "\n",
            "\n",
            "SpaCy Token 6: \n",
            "pongan\n",
            "Word Split6:\n",
            "atención\n",
            "\n",
            "\n",
            "SpaCy Token 7: \n",
            "mucha\n",
            "Word Split7:\n",
            "todos,voy\n",
            "\n",
            "\n"
          ]
        }
      ]
    },
    {
      "cell_type": "markdown",
      "source": [
        "#sentence boundary detection(sb)\n"
      ],
      "metadata": {
        "id": "O_nZxONBkQ6g"
      }
    },
    {
      "cell_type": "code",
      "source": [
        "for sent in doc.sents:\n",
        "  print(sent)"
      ],
      "metadata": {
        "colab": {
          "base_uri": "https://localhost:8080/"
        },
        "id": "VejLMyzdkV_l",
        "outputId": "6cc6d931-7ca6-4440-9c0f-72dd20a27361"
      },
      "execution_count": 85,
      "outputs": [
        {
          "output_type": "stream",
          "name": "stdout",
          "text": [
            "Voy a cantar estos versos,pongan mucha atención todos,voy a cantar la tragediade la Heroica Matamoros.\n",
            "\n",
            "Dia martes tres de juniode mil novecientos trece,a las diez de la mañanaLucio Blanco se aparece.\n",
            "\n",
            "Pues traía miles de hombres,bien armados y valientespara tomar esa plaza yhacer correr a las gentes.\n",
            "\n",
            "La gente de Matamorosya resuelta toda estabaa defender a su puebloaunque la vida costara.\n",
            "\n",
            "Por hojas sueltas pidieronla plaza al Mayor Ramos,diciendo: -Si no la entregande todos modos entramos.\n",
            "-\n",
            "Cuando estas hojas llegarona manos del Mayor Ramos,sonriendo dijo al enviado:-La plaza no la entregamos.\n",
            "\n",
            "Pues decía el Mayor Ramos,lo mismo que Barragán:-Lo que es Carranza no ganay si no ya lo verán.\n",
            "\n",
            "Ya la hora se llegó,pues ya se le cumple el plazo,por dondequiera se oíala bala y el cañonazo.\n",
            "\n",
            "La gente de Matamorosmuy contenta se quedabacuando vino la noticiaque Blanco se retiraba.\n",
            "\n",
            "Pero un repique oportuno,que no saben quién lo dio,alentó a los carrancistasy Blanco se devolvió.\n",
            "\n",
            "Para las tres de la tardehabía muertos y heridos,y los soldados de línease iban a Estados Unidos.\n",
            "\n",
            "El empuje fue terrible,la defensa por demás;eran pocos los de adentro,los de afuera muchos más.\n",
            "\n",
            "Los valientes voluntariosde López y Chazarretase salían de las trincherasa tirar a la banqueta.\n",
            "\n",
            "A las diez de la mañanaalgunas casas quemaron,pero éstas fueron venganzasque llegando consumaron.\n",
            "\n",
            "Agarraron prisionerosa unos niños que pelearon,y otro día en el Pariána las seis los fusilaron.\n",
            "\n",
            "Pues lo niños que pelearoncon bastante decisiónal enemigo causaronbastante admiración.\n",
            "\n",
            "Pero un antiguo artilleroque era también gobiernista,a ese no le hicieron nada,lo defendió un carrancista.\n",
            "\n",
            "Pero a Antonio Chazarretale tocó muy mala suerte,lo cogieron prisioneroy fue sentenciado a muerte.\n",
            "\n",
            "Las gentes de Matamorosperdieron toda esperanzaal oír que por las callesgritan que viva Carranza.\n",
            "\n",
            "Las gentes de Matamorosen Texas aventurando,dicen que no han de volvermientras Lucio tenga el mando.\n",
            "\n",
            "Ya con ésta me despido,me compadezco de todos,y con tristeza les digoque perdimos Matamoros.\n",
            "\n"
          ]
        }
      ]
    },
    {
      "cell_type": "code",
      "source": [
        "#Let’s move forward with just one of these sentences. Let’s try and grab index 0 in this attribute.\n",
        "sentence1 = list(doc.sents)[0]\n",
        "print (sentence1)"
      ],
      "metadata": {
        "colab": {
          "base_uri": "https://localhost:8080/"
        },
        "id": "pBi8Dg6QkmAp",
        "outputId": "e930565c-06f7-4251-9424-89038ca859c1"
      },
      "execution_count": 86,
      "outputs": [
        {
          "output_type": "stream",
          "name": "stdout",
          "text": [
            "Voy a cantar estos versos,pongan mucha atención todos,voy a cantar la tragediade la Heroica Matamoros.\n",
            "\n"
          ]
        }
      ]
    },
    {
      "cell_type": "markdown",
      "source": [
        "#token attributes\n",
        "\n",
        "from Intro to spacy 3 by Matt...(cita later)\n",
        "The token object contains a lot of different attributes that are VITAL do performing NLP in spaCy. We will be working with a few of them, such as:\n",
        "\n",
        ".text\n",
        "\n",
        ".head\n",
        "\n",
        ".left_edge\n",
        "\n",
        ".right_edge\n",
        "\n",
        ".ent_type_\n",
        "\n",
        ".iob_\n",
        "\n",
        ".lemma_\n",
        "\n",
        ".morph\n",
        "\n",
        ".pos_\n",
        "\n",
        ".dep_\n",
        "\n",
        ".lang_\n",
        "\n",
        "I will briefly describe these here and show you how to grab each one and what they look like. We will be exploring each of these attributes more deeply in this chapter and future chapters. To demonstrate each of these attributes, we will use one token, “States” which is part of a sequence of tokens that make up “The United States of America”"
      ],
      "metadata": {
        "id": "x-0FBh_ik6-R"
      }
    },
    {
      "cell_type": "code",
      "source": [
        "sentence1"
      ],
      "metadata": {
        "colab": {
          "base_uri": "https://localhost:8080/"
        },
        "id": "oiudYKHdAK1_",
        "outputId": "7cd6a5e2-902b-4d16-9061-670984ef1490"
      },
      "execution_count": 100,
      "outputs": [
        {
          "output_type": "execute_result",
          "data": {
            "text/plain": [
              "Voy a cantar estos versos,pongan mucha atención todos,voy a cantar la tragediade la Heroica Matamoros."
            ]
          },
          "metadata": {},
          "execution_count": 100
        }
      ]
    },
    {
      "cell_type": "code",
      "source": [
        "token2 = sentence1[17]\n",
        "print (token2)"
      ],
      "metadata": {
        "colab": {
          "base_uri": "https://localhost:8080/"
        },
        "id": "KPARsIFuk9dM",
        "outputId": "4c5b8cfe-a9c1-45c3-dfe4-6dbac71e3a58"
      },
      "execution_count": 112,
      "outputs": [
        {
          "output_type": "stream",
          "name": "stdout",
          "text": [
            "Heroica\n"
          ]
        }
      ]
    },
    {
      "cell_type": "code",
      "source": [
        "#text\n",
        "token2.text"
      ],
      "metadata": {
        "colab": {
          "base_uri": "https://localhost:8080/",
          "height": 35
        },
        "id": "mg-c1idqlOP6",
        "outputId": "16f392f2-fdf8-4873-df04-5dacbeda3a39"
      },
      "execution_count": 115,
      "outputs": [
        {
          "output_type": "execute_result",
          "data": {
            "text/plain": [
              "'Heroica'"
            ],
            "application/vnd.google.colaboratory.intrinsic+json": {
              "type": "string"
            }
          },
          "metadata": {},
          "execution_count": 115
        }
      ]
    },
    {
      "cell_type": "code",
      "source": [
        "#head\n",
        "token2.head"
      ],
      "metadata": {
        "colab": {
          "base_uri": "https://localhost:8080/"
        },
        "id": "AlRTA6ZQleQk",
        "outputId": "c39a4ed6-1d67-4f44-d0be-e62a638bbb2f"
      },
      "execution_count": 116,
      "outputs": [
        {
          "output_type": "execute_result",
          "data": {
            "text/plain": [
              "cantar"
            ]
          },
          "metadata": {},
          "execution_count": 116
        }
      ]
    },
    {
      "cell_type": "code",
      "source": [
        "#left edge\n",
        "token2.left_edge"
      ],
      "metadata": {
        "colab": {
          "base_uri": "https://localhost:8080/"
        },
        "id": "a3ThHpATlgjd",
        "outputId": "91308ee5-e87a-4dc5-d15d-588e7f4455cc"
      },
      "execution_count": 114,
      "outputs": [
        {
          "output_type": "execute_result",
          "data": {
            "text/plain": [
              "la"
            ]
          },
          "metadata": {},
          "execution_count": 114
        }
      ]
    },
    {
      "cell_type": "code",
      "source": [
        "#right edge\n",
        "token2.right_edge"
      ],
      "metadata": {
        "colab": {
          "base_uri": "https://localhost:8080/"
        },
        "id": "XX3qj7Golssa",
        "outputId": "3ed56daf-4923-49b8-d276-6e0412352d1d"
      },
      "execution_count": 113,
      "outputs": [
        {
          "output_type": "execute_result",
          "data": {
            "text/plain": [
              "Matamoros"
            ]
          },
          "metadata": {},
          "execution_count": 113
        }
      ]
    },
    {
      "cell_type": "code",
      "source": [
        "#entity type\n",
        "token2.ent_type"
      ],
      "metadata": {
        "colab": {
          "base_uri": "https://localhost:8080/"
        },
        "id": "tfAtCjrDl6s7",
        "outputId": "11aac017-9974-4b1c-e40f-fb93b7c86e53"
      },
      "execution_count": 117,
      "outputs": [
        {
          "output_type": "execute_result",
          "data": {
            "text/plain": [
              "7654241940133152407"
            ]
          },
          "metadata": {},
          "execution_count": 117
        }
      ]
    },
    {
      "cell_type": "code",
      "source": [
        "token2.ent_type_"
      ],
      "metadata": {
        "colab": {
          "base_uri": "https://localhost:8080/",
          "height": 35
        },
        "id": "iMLtCwqQmDnl",
        "outputId": "23559c1f-cb60-4448-b315-3c3361aa837c"
      },
      "execution_count": 118,
      "outputs": [
        {
          "output_type": "execute_result",
          "data": {
            "text/plain": [
              "'MISC'"
            ],
            "application/vnd.google.colaboratory.intrinsic+json": {
              "type": "string"
            }
          },
          "metadata": {},
          "execution_count": 118
        }
      ]
    },
    {
      "cell_type": "code",
      "source": [
        "#ent IOB; '''IOB code of named entity tag. “B” means the token begins an entity,\n",
        "#“I” means it is inside an entity, \n",
        "#“O” means it is outside an entity, and \"\" means no entity tag is set.''' \n",
        "token2.ent_iob_"
      ],
      "metadata": {
        "colab": {
          "base_uri": "https://localhost:8080/",
          "height": 35
        },
        "id": "XnAip2u1mdD8",
        "outputId": "3355f8c9-7799-4ad9-a247-308de08f3abc"
      },
      "execution_count": 119,
      "outputs": [
        {
          "output_type": "execute_result",
          "data": {
            "text/plain": [
              "'I'"
            ],
            "application/vnd.google.colaboratory.intrinsic+json": {
              "type": "string"
            }
          },
          "metadata": {},
          "execution_count": 119
        }
      ]
    },
    {
      "cell_type": "code",
      "source": [
        "#lemma\n",
        "token2.lemma_"
      ],
      "metadata": {
        "colab": {
          "base_uri": "https://localhost:8080/",
          "height": 35
        },
        "id": "VNqLPqO7m44D",
        "outputId": "3de1188b-5cf3-4890-b2e6-51a44678374b"
      },
      "execution_count": 120,
      "outputs": [
        {
          "output_type": "execute_result",
          "data": {
            "text/plain": [
              "'Heroica'"
            ],
            "application/vnd.google.colaboratory.intrinsic+json": {
              "type": "string"
            }
          },
          "metadata": {},
          "execution_count": 120
        }
      ]
    },
    {
      "cell_type": "code",
      "source": [
        "sentence1[12].lemma_"
      ],
      "metadata": {
        "colab": {
          "base_uri": "https://localhost:8080/",
          "height": 35
        },
        "id": "hlZkClvNm_sr",
        "outputId": "188a815e-71b9-442a-cd35-32cacc79039c"
      },
      "execution_count": 121,
      "outputs": [
        {
          "output_type": "execute_result",
          "data": {
            "text/plain": [
              "'a'"
            ],
            "application/vnd.google.colaboratory.intrinsic+json": {
              "type": "string"
            }
          },
          "metadata": {},
          "execution_count": 121
        }
      ]
    },
    {
      "cell_type": "code",
      "source": [
        "#morphological analysis \n",
        "sentence1[12].morph"
      ],
      "metadata": {
        "colab": {
          "base_uri": "https://localhost:8080/"
        },
        "id": "slpPvyx5pdNR",
        "outputId": "4855973a-e0be-46d8-b7e3-8fada094d7a6"
      },
      "execution_count": 35,
      "outputs": [
        {
          "output_type": "execute_result",
          "data": {
            "text/plain": [
              ""
            ]
          },
          "metadata": {},
          "execution_count": 35
        }
      ]
    },
    {
      "cell_type": "code",
      "source": [
        "#part of speech\n",
        "token2.pos_"
      ],
      "metadata": {
        "colab": {
          "base_uri": "https://localhost:8080/",
          "height": 35
        },
        "id": "UBT-QcF9p-py",
        "outputId": "d848f9a8-2927-41b3-c3c6-0e6003a5fd12"
      },
      "execution_count": 36,
      "outputs": [
        {
          "output_type": "execute_result",
          "data": {
            "text/plain": [
              "'VERB'"
            ],
            "application/vnd.google.colaboratory.intrinsic+json": {
              "type": "string"
            }
          },
          "metadata": {},
          "execution_count": 36
        }
      ]
    },
    {
      "cell_type": "code",
      "source": [
        "#syntactic dependency\n",
        "token2.dep_"
      ],
      "metadata": {
        "colab": {
          "base_uri": "https://localhost:8080/",
          "height": 35
        },
        "id": "PNI1Cw2RqDXU",
        "outputId": "c9f46e56-5c42-4f0a-c006-c8cf9adea957"
      },
      "execution_count": 37,
      "outputs": [
        {
          "output_type": "execute_result",
          "data": {
            "text/plain": [
              "'ROOT'"
            ],
            "application/vnd.google.colaboratory.intrinsic+json": {
              "type": "string"
            }
          },
          "metadata": {},
          "execution_count": 37
        }
      ]
    },
    {
      "cell_type": "code",
      "source": [
        "#language\n",
        "token2.lang_"
      ],
      "metadata": {
        "colab": {
          "base_uri": "https://localhost:8080/",
          "height": 35
        },
        "id": "VMecC3oXqJwZ",
        "outputId": "ce31f256-ff94-4d49-d825-3dbae777a7dd"
      },
      "execution_count": 38,
      "outputs": [
        {
          "output_type": "execute_result",
          "data": {
            "text/plain": [
              "'es'"
            ],
            "application/vnd.google.colaboratory.intrinsic+json": {
              "type": "string"
            }
          },
          "metadata": {},
          "execution_count": 38
        }
      ]
    },
    {
      "cell_type": "markdown",
      "source": [
        "#Part of Speech tagging \n",
        "In the field of computational linguistics, understanding parts-of-speech is essential. SpaCy offers an easy way to parse a text and identify its parts of speech. Below, we will iterate across each token (word or punctuation) in the text and identify its part of speech."
      ],
      "metadata": {
        "id": "nWh9L43mqSD3"
      }
    },
    {
      "cell_type": "code",
      "source": [
        "for token in sentence1:\n",
        "    print (token.text, token.pos_, token.dep_)"
      ],
      "metadata": {
        "colab": {
          "base_uri": "https://localhost:8080/"
        },
        "id": "gpcJKtVVqbQe",
        "outputId": "40709dff-b52d-4ec4-c261-c4857bfbd870"
      },
      "execution_count": 39,
      "outputs": [
        {
          "output_type": "stream",
          "name": "stdout",
          "text": [
            "Voy AUX aux\n",
            "a ADP mark\n",
            "cantar VERB ROOT\n",
            "estos DET det\n",
            "versos NOUN obj\n",
            ", PUNCT punct\n",
            "\n",
            " SPACE dep\n",
            "pongan VERB advcl\n",
            "mucha DET det\n",
            "atención NOUN obj\n",
            "todos PRON appos\n",
            ", PUNCT punct\n",
            "\n",
            " SPACE dep\n",
            "voy AUX aux\n",
            "a ADP mark\n",
            "cantar VERB advcl\n",
            "la DET det\n",
            "tragedia NOUN obj\n",
            "\n",
            " SPACE dep\n",
            "de ADP case\n",
            "la DET det\n",
            "Heroica PROPN nmod\n",
            "Matamoros PROPN flat\n",
            ". PUNCT punct\n",
            "\n",
            "\n",
            " SPACE dep\n"
          ]
        }
      ]
    },
    {
      "cell_type": "code",
      "source": [
        "import spacy\n",
        "from spacy import displacy\n",
        "displacy.render(sentence1, style=\"dep\", jupyter=True, options={})"
      ],
      "metadata": {
        "colab": {
          "base_uri": "https://localhost:8080/",
          "height": 703
        },
        "id": "EqvkTnO6qkgP",
        "outputId": "48bfe3d8-8e9e-421b-c522-0c20e398730c"
      },
      "execution_count": 57,
      "outputs": [
        {
          "output_type": "display_data",
          "data": {
            "text/plain": [
              "<IPython.core.display.HTML object>"
            ],
            "text/html": [
              "<span class=\"tex2jax_ignore\"><svg xmlns=\"http://www.w3.org/2000/svg\" xmlns:xlink=\"http://www.w3.org/1999/xlink\" xml:lang=\"es\" id=\"34f1940599144059ad908475ac62dae6-0\" class=\"displacy\" width=\"3900\" height=\"662.0\" direction=\"ltr\" style=\"max-width: none; height: 662.0px; color: #000000; background: #ffffff; font-family: Arial; direction: ltr\">\n",
              "<text class=\"displacy-token\" fill=\"currentColor\" text-anchor=\"middle\" y=\"572.0\">\n",
              "    <tspan class=\"displacy-word\" fill=\"currentColor\" x=\"50\">Voy</tspan>\n",
              "    <tspan class=\"displacy-tag\" dy=\"2em\" fill=\"currentColor\" x=\"50\">AUX</tspan>\n",
              "</text>\n",
              "\n",
              "<text class=\"displacy-token\" fill=\"currentColor\" text-anchor=\"middle\" y=\"572.0\">\n",
              "    <tspan class=\"displacy-word\" fill=\"currentColor\" x=\"225\">a</tspan>\n",
              "    <tspan class=\"displacy-tag\" dy=\"2em\" fill=\"currentColor\" x=\"225\">ADP</tspan>\n",
              "</text>\n",
              "\n",
              "<text class=\"displacy-token\" fill=\"currentColor\" text-anchor=\"middle\" y=\"572.0\">\n",
              "    <tspan class=\"displacy-word\" fill=\"currentColor\" x=\"400\">cantar</tspan>\n",
              "    <tspan class=\"displacy-tag\" dy=\"2em\" fill=\"currentColor\" x=\"400\">VERB</tspan>\n",
              "</text>\n",
              "\n",
              "<text class=\"displacy-token\" fill=\"currentColor\" text-anchor=\"middle\" y=\"572.0\">\n",
              "    <tspan class=\"displacy-word\" fill=\"currentColor\" x=\"575\">estos</tspan>\n",
              "    <tspan class=\"displacy-tag\" dy=\"2em\" fill=\"currentColor\" x=\"575\">DET</tspan>\n",
              "</text>\n",
              "\n",
              "<text class=\"displacy-token\" fill=\"currentColor\" text-anchor=\"middle\" y=\"572.0\">\n",
              "    <tspan class=\"displacy-word\" fill=\"currentColor\" x=\"750\">versos,</tspan>\n",
              "    <tspan class=\"displacy-tag\" dy=\"2em\" fill=\"currentColor\" x=\"750\">NOUN</tspan>\n",
              "</text>\n",
              "\n",
              "<text class=\"displacy-token\" fill=\"currentColor\" text-anchor=\"middle\" y=\"572.0\">\n",
              "    <tspan class=\"displacy-word\" fill=\"currentColor\" x=\"925\">\n",
              "</tspan>\n",
              "    <tspan class=\"displacy-tag\" dy=\"2em\" fill=\"currentColor\" x=\"925\">SPACE</tspan>\n",
              "</text>\n",
              "\n",
              "<text class=\"displacy-token\" fill=\"currentColor\" text-anchor=\"middle\" y=\"572.0\">\n",
              "    <tspan class=\"displacy-word\" fill=\"currentColor\" x=\"1100\">pongan</tspan>\n",
              "    <tspan class=\"displacy-tag\" dy=\"2em\" fill=\"currentColor\" x=\"1100\">VERB</tspan>\n",
              "</text>\n",
              "\n",
              "<text class=\"displacy-token\" fill=\"currentColor\" text-anchor=\"middle\" y=\"572.0\">\n",
              "    <tspan class=\"displacy-word\" fill=\"currentColor\" x=\"1275\">mucha</tspan>\n",
              "    <tspan class=\"displacy-tag\" dy=\"2em\" fill=\"currentColor\" x=\"1275\">DET</tspan>\n",
              "</text>\n",
              "\n",
              "<text class=\"displacy-token\" fill=\"currentColor\" text-anchor=\"middle\" y=\"572.0\">\n",
              "    <tspan class=\"displacy-word\" fill=\"currentColor\" x=\"1450\">atención</tspan>\n",
              "    <tspan class=\"displacy-tag\" dy=\"2em\" fill=\"currentColor\" x=\"1450\">NOUN</tspan>\n",
              "</text>\n",
              "\n",
              "<text class=\"displacy-token\" fill=\"currentColor\" text-anchor=\"middle\" y=\"572.0\">\n",
              "    <tspan class=\"displacy-word\" fill=\"currentColor\" x=\"1625\">todos,</tspan>\n",
              "    <tspan class=\"displacy-tag\" dy=\"2em\" fill=\"currentColor\" x=\"1625\">PUNCT</tspan>\n",
              "</text>\n",
              "\n",
              "<text class=\"displacy-token\" fill=\"currentColor\" text-anchor=\"middle\" y=\"572.0\">\n",
              "    <tspan class=\"displacy-word\" fill=\"currentColor\" x=\"1800\">\n",
              "</tspan>\n",
              "    <tspan class=\"displacy-tag\" dy=\"2em\" fill=\"currentColor\" x=\"1800\">SPACE</tspan>\n",
              "</text>\n",
              "\n",
              "<text class=\"displacy-token\" fill=\"currentColor\" text-anchor=\"middle\" y=\"572.0\">\n",
              "    <tspan class=\"displacy-word\" fill=\"currentColor\" x=\"1975\">voy</tspan>\n",
              "    <tspan class=\"displacy-tag\" dy=\"2em\" fill=\"currentColor\" x=\"1975\">AUX</tspan>\n",
              "</text>\n",
              "\n",
              "<text class=\"displacy-token\" fill=\"currentColor\" text-anchor=\"middle\" y=\"572.0\">\n",
              "    <tspan class=\"displacy-word\" fill=\"currentColor\" x=\"2150\">a</tspan>\n",
              "    <tspan class=\"displacy-tag\" dy=\"2em\" fill=\"currentColor\" x=\"2150\">ADP</tspan>\n",
              "</text>\n",
              "\n",
              "<text class=\"displacy-token\" fill=\"currentColor\" text-anchor=\"middle\" y=\"572.0\">\n",
              "    <tspan class=\"displacy-word\" fill=\"currentColor\" x=\"2325\">cantar</tspan>\n",
              "    <tspan class=\"displacy-tag\" dy=\"2em\" fill=\"currentColor\" x=\"2325\">VERB</tspan>\n",
              "</text>\n",
              "\n",
              "<text class=\"displacy-token\" fill=\"currentColor\" text-anchor=\"middle\" y=\"572.0\">\n",
              "    <tspan class=\"displacy-word\" fill=\"currentColor\" x=\"2500\">la</tspan>\n",
              "    <tspan class=\"displacy-tag\" dy=\"2em\" fill=\"currentColor\" x=\"2500\">DET</tspan>\n",
              "</text>\n",
              "\n",
              "<text class=\"displacy-token\" fill=\"currentColor\" text-anchor=\"middle\" y=\"572.0\">\n",
              "    <tspan class=\"displacy-word\" fill=\"currentColor\" x=\"2675\">tragedia</tspan>\n",
              "    <tspan class=\"displacy-tag\" dy=\"2em\" fill=\"currentColor\" x=\"2675\">NOUN</tspan>\n",
              "</text>\n",
              "\n",
              "<text class=\"displacy-token\" fill=\"currentColor\" text-anchor=\"middle\" y=\"572.0\">\n",
              "    <tspan class=\"displacy-word\" fill=\"currentColor\" x=\"2850\">\n",
              "</tspan>\n",
              "    <tspan class=\"displacy-tag\" dy=\"2em\" fill=\"currentColor\" x=\"2850\">SPACE</tspan>\n",
              "</text>\n",
              "\n",
              "<text class=\"displacy-token\" fill=\"currentColor\" text-anchor=\"middle\" y=\"572.0\">\n",
              "    <tspan class=\"displacy-word\" fill=\"currentColor\" x=\"3025\">de</tspan>\n",
              "    <tspan class=\"displacy-tag\" dy=\"2em\" fill=\"currentColor\" x=\"3025\">ADP</tspan>\n",
              "</text>\n",
              "\n",
              "<text class=\"displacy-token\" fill=\"currentColor\" text-anchor=\"middle\" y=\"572.0\">\n",
              "    <tspan class=\"displacy-word\" fill=\"currentColor\" x=\"3200\">la</tspan>\n",
              "    <tspan class=\"displacy-tag\" dy=\"2em\" fill=\"currentColor\" x=\"3200\">DET</tspan>\n",
              "</text>\n",
              "\n",
              "<text class=\"displacy-token\" fill=\"currentColor\" text-anchor=\"middle\" y=\"572.0\">\n",
              "    <tspan class=\"displacy-word\" fill=\"currentColor\" x=\"3375\">Heroica</tspan>\n",
              "    <tspan class=\"displacy-tag\" dy=\"2em\" fill=\"currentColor\" x=\"3375\">PROPN</tspan>\n",
              "</text>\n",
              "\n",
              "<text class=\"displacy-token\" fill=\"currentColor\" text-anchor=\"middle\" y=\"572.0\">\n",
              "    <tspan class=\"displacy-word\" fill=\"currentColor\" x=\"3550\">Matamoros.</tspan>\n",
              "    <tspan class=\"displacy-tag\" dy=\"2em\" fill=\"currentColor\" x=\"3550\">PUNCT</tspan>\n",
              "</text>\n",
              "\n",
              "<text class=\"displacy-token\" fill=\"currentColor\" text-anchor=\"middle\" y=\"572.0\">\n",
              "    <tspan class=\"displacy-word\" fill=\"currentColor\" x=\"3725\">\n",
              "\n",
              "</tspan>\n",
              "    <tspan class=\"displacy-tag\" dy=\"2em\" fill=\"currentColor\" x=\"3725\">SPACE</tspan>\n",
              "</text>\n",
              "\n",
              "<g class=\"displacy-arrow\">\n",
              "    <path class=\"displacy-arc\" id=\"arrow-34f1940599144059ad908475ac62dae6-0-0\" stroke-width=\"2px\" d=\"M70,527.0 C70,352.0 380.0,352.0 380.0,527.0\" fill=\"none\" stroke=\"currentColor\"/>\n",
              "    <text dy=\"1.25em\" style=\"font-size: 0.8em; letter-spacing: 1px\">\n",
              "        <textPath xlink:href=\"#arrow-34f1940599144059ad908475ac62dae6-0-0\" class=\"displacy-label\" startOffset=\"50%\" side=\"left\" fill=\"currentColor\" text-anchor=\"middle\">aux</textPath>\n",
              "    </text>\n",
              "    <path class=\"displacy-arrowhead\" d=\"M70,529.0 L62,517.0 78,517.0\" fill=\"currentColor\"/>\n",
              "</g>\n",
              "\n",
              "<g class=\"displacy-arrow\">\n",
              "    <path class=\"displacy-arc\" id=\"arrow-34f1940599144059ad908475ac62dae6-0-1\" stroke-width=\"2px\" d=\"M245,527.0 C245,439.5 375.0,439.5 375.0,527.0\" fill=\"none\" stroke=\"currentColor\"/>\n",
              "    <text dy=\"1.25em\" style=\"font-size: 0.8em; letter-spacing: 1px\">\n",
              "        <textPath xlink:href=\"#arrow-34f1940599144059ad908475ac62dae6-0-1\" class=\"displacy-label\" startOffset=\"50%\" side=\"left\" fill=\"currentColor\" text-anchor=\"middle\">mark</textPath>\n",
              "    </text>\n",
              "    <path class=\"displacy-arrowhead\" d=\"M245,529.0 L237,517.0 253,517.0\" fill=\"currentColor\"/>\n",
              "</g>\n",
              "\n",
              "<g class=\"displacy-arrow\">\n",
              "    <path class=\"displacy-arc\" id=\"arrow-34f1940599144059ad908475ac62dae6-0-2\" stroke-width=\"2px\" d=\"M595,527.0 C595,439.5 725.0,439.5 725.0,527.0\" fill=\"none\" stroke=\"currentColor\"/>\n",
              "    <text dy=\"1.25em\" style=\"font-size: 0.8em; letter-spacing: 1px\">\n",
              "        <textPath xlink:href=\"#arrow-34f1940599144059ad908475ac62dae6-0-2\" class=\"displacy-label\" startOffset=\"50%\" side=\"left\" fill=\"currentColor\" text-anchor=\"middle\">det</textPath>\n",
              "    </text>\n",
              "    <path class=\"displacy-arrowhead\" d=\"M595,529.0 L587,517.0 603,517.0\" fill=\"currentColor\"/>\n",
              "</g>\n",
              "\n",
              "<g class=\"displacy-arrow\">\n",
              "    <path class=\"displacy-arc\" id=\"arrow-34f1940599144059ad908475ac62dae6-0-3\" stroke-width=\"2px\" d=\"M420,527.0 C420,352.0 730.0,352.0 730.0,527.0\" fill=\"none\" stroke=\"currentColor\"/>\n",
              "    <text dy=\"1.25em\" style=\"font-size: 0.8em; letter-spacing: 1px\">\n",
              "        <textPath xlink:href=\"#arrow-34f1940599144059ad908475ac62dae6-0-3\" class=\"displacy-label\" startOffset=\"50%\" side=\"left\" fill=\"currentColor\" text-anchor=\"middle\">obj</textPath>\n",
              "    </text>\n",
              "    <path class=\"displacy-arrowhead\" d=\"M730.0,529.0 L738.0,517.0 722.0,517.0\" fill=\"currentColor\"/>\n",
              "</g>\n",
              "\n",
              "<g class=\"displacy-arrow\">\n",
              "    <path class=\"displacy-arc\" id=\"arrow-34f1940599144059ad908475ac62dae6-0-4\" stroke-width=\"2px\" d=\"M770,527.0 C770,439.5 900.0,439.5 900.0,527.0\" fill=\"none\" stroke=\"currentColor\"/>\n",
              "    <text dy=\"1.25em\" style=\"font-size: 0.8em; letter-spacing: 1px\">\n",
              "        <textPath xlink:href=\"#arrow-34f1940599144059ad908475ac62dae6-0-4\" class=\"displacy-label\" startOffset=\"50%\" side=\"left\" fill=\"currentColor\" text-anchor=\"middle\">dep</textPath>\n",
              "    </text>\n",
              "    <path class=\"displacy-arrowhead\" d=\"M900.0,529.0 L908.0,517.0 892.0,517.0\" fill=\"currentColor\"/>\n",
              "</g>\n",
              "\n",
              "<g class=\"displacy-arrow\">\n",
              "    <path class=\"displacy-arc\" id=\"arrow-34f1940599144059ad908475ac62dae6-0-5\" stroke-width=\"2px\" d=\"M420,527.0 C420,264.5 1085.0,264.5 1085.0,527.0\" fill=\"none\" stroke=\"currentColor\"/>\n",
              "    <text dy=\"1.25em\" style=\"font-size: 0.8em; letter-spacing: 1px\">\n",
              "        <textPath xlink:href=\"#arrow-34f1940599144059ad908475ac62dae6-0-5\" class=\"displacy-label\" startOffset=\"50%\" side=\"left\" fill=\"currentColor\" text-anchor=\"middle\">advcl</textPath>\n",
              "    </text>\n",
              "    <path class=\"displacy-arrowhead\" d=\"M1085.0,529.0 L1093.0,517.0 1077.0,517.0\" fill=\"currentColor\"/>\n",
              "</g>\n",
              "\n",
              "<g class=\"displacy-arrow\">\n",
              "    <path class=\"displacy-arc\" id=\"arrow-34f1940599144059ad908475ac62dae6-0-6\" stroke-width=\"2px\" d=\"M1295,527.0 C1295,439.5 1425.0,439.5 1425.0,527.0\" fill=\"none\" stroke=\"currentColor\"/>\n",
              "    <text dy=\"1.25em\" style=\"font-size: 0.8em; letter-spacing: 1px\">\n",
              "        <textPath xlink:href=\"#arrow-34f1940599144059ad908475ac62dae6-0-6\" class=\"displacy-label\" startOffset=\"50%\" side=\"left\" fill=\"currentColor\" text-anchor=\"middle\">det</textPath>\n",
              "    </text>\n",
              "    <path class=\"displacy-arrowhead\" d=\"M1295,529.0 L1287,517.0 1303,517.0\" fill=\"currentColor\"/>\n",
              "</g>\n",
              "\n",
              "<g class=\"displacy-arrow\">\n",
              "    <path class=\"displacy-arc\" id=\"arrow-34f1940599144059ad908475ac62dae6-0-7\" stroke-width=\"2px\" d=\"M1120,527.0 C1120,352.0 1430.0,352.0 1430.0,527.0\" fill=\"none\" stroke=\"currentColor\"/>\n",
              "    <text dy=\"1.25em\" style=\"font-size: 0.8em; letter-spacing: 1px\">\n",
              "        <textPath xlink:href=\"#arrow-34f1940599144059ad908475ac62dae6-0-7\" class=\"displacy-label\" startOffset=\"50%\" side=\"left\" fill=\"currentColor\" text-anchor=\"middle\">obj</textPath>\n",
              "    </text>\n",
              "    <path class=\"displacy-arrowhead\" d=\"M1430.0,529.0 L1438.0,517.0 1422.0,517.0\" fill=\"currentColor\"/>\n",
              "</g>\n",
              "\n",
              "<g class=\"displacy-arrow\">\n",
              "    <path class=\"displacy-arc\" id=\"arrow-34f1940599144059ad908475ac62dae6-0-8\" stroke-width=\"2px\" d=\"M420,527.0 C420,177.0 1615.0,177.0 1615.0,527.0\" fill=\"none\" stroke=\"currentColor\"/>\n",
              "    <text dy=\"1.25em\" style=\"font-size: 0.8em; letter-spacing: 1px\">\n",
              "        <textPath xlink:href=\"#arrow-34f1940599144059ad908475ac62dae6-0-8\" class=\"displacy-label\" startOffset=\"50%\" side=\"left\" fill=\"currentColor\" text-anchor=\"middle\">punct</textPath>\n",
              "    </text>\n",
              "    <path class=\"displacy-arrowhead\" d=\"M1615.0,529.0 L1623.0,517.0 1607.0,517.0\" fill=\"currentColor\"/>\n",
              "</g>\n",
              "\n",
              "<g class=\"displacy-arrow\">\n",
              "    <path class=\"displacy-arc\" id=\"arrow-34f1940599144059ad908475ac62dae6-0-9\" stroke-width=\"2px\" d=\"M1645,527.0 C1645,439.5 1775.0,439.5 1775.0,527.0\" fill=\"none\" stroke=\"currentColor\"/>\n",
              "    <text dy=\"1.25em\" style=\"font-size: 0.8em; letter-spacing: 1px\">\n",
              "        <textPath xlink:href=\"#arrow-34f1940599144059ad908475ac62dae6-0-9\" class=\"displacy-label\" startOffset=\"50%\" side=\"left\" fill=\"currentColor\" text-anchor=\"middle\">dep</textPath>\n",
              "    </text>\n",
              "    <path class=\"displacy-arrowhead\" d=\"M1775.0,529.0 L1783.0,517.0 1767.0,517.0\" fill=\"currentColor\"/>\n",
              "</g>\n",
              "\n",
              "<g class=\"displacy-arrow\">\n",
              "    <path class=\"displacy-arc\" id=\"arrow-34f1940599144059ad908475ac62dae6-0-10\" stroke-width=\"2px\" d=\"M1995,527.0 C1995,352.0 2305.0,352.0 2305.0,527.0\" fill=\"none\" stroke=\"currentColor\"/>\n",
              "    <text dy=\"1.25em\" style=\"font-size: 0.8em; letter-spacing: 1px\">\n",
              "        <textPath xlink:href=\"#arrow-34f1940599144059ad908475ac62dae6-0-10\" class=\"displacy-label\" startOffset=\"50%\" side=\"left\" fill=\"currentColor\" text-anchor=\"middle\">aux</textPath>\n",
              "    </text>\n",
              "    <path class=\"displacy-arrowhead\" d=\"M1995,529.0 L1987,517.0 2003,517.0\" fill=\"currentColor\"/>\n",
              "</g>\n",
              "\n",
              "<g class=\"displacy-arrow\">\n",
              "    <path class=\"displacy-arc\" id=\"arrow-34f1940599144059ad908475ac62dae6-0-11\" stroke-width=\"2px\" d=\"M2170,527.0 C2170,439.5 2300.0,439.5 2300.0,527.0\" fill=\"none\" stroke=\"currentColor\"/>\n",
              "    <text dy=\"1.25em\" style=\"font-size: 0.8em; letter-spacing: 1px\">\n",
              "        <textPath xlink:href=\"#arrow-34f1940599144059ad908475ac62dae6-0-11\" class=\"displacy-label\" startOffset=\"50%\" side=\"left\" fill=\"currentColor\" text-anchor=\"middle\">mark</textPath>\n",
              "    </text>\n",
              "    <path class=\"displacy-arrowhead\" d=\"M2170,529.0 L2162,517.0 2178,517.0\" fill=\"currentColor\"/>\n",
              "</g>\n",
              "\n",
              "<g class=\"displacy-arrow\">\n",
              "    <path class=\"displacy-arc\" id=\"arrow-34f1940599144059ad908475ac62dae6-0-12\" stroke-width=\"2px\" d=\"M420,527.0 C420,89.5 2320.0,89.5 2320.0,527.0\" fill=\"none\" stroke=\"currentColor\"/>\n",
              "    <text dy=\"1.25em\" style=\"font-size: 0.8em; letter-spacing: 1px\">\n",
              "        <textPath xlink:href=\"#arrow-34f1940599144059ad908475ac62dae6-0-12\" class=\"displacy-label\" startOffset=\"50%\" side=\"left\" fill=\"currentColor\" text-anchor=\"middle\">advcl</textPath>\n",
              "    </text>\n",
              "    <path class=\"displacy-arrowhead\" d=\"M2320.0,529.0 L2328.0,517.0 2312.0,517.0\" fill=\"currentColor\"/>\n",
              "</g>\n",
              "\n",
              "<g class=\"displacy-arrow\">\n",
              "    <path class=\"displacy-arc\" id=\"arrow-34f1940599144059ad908475ac62dae6-0-13\" stroke-width=\"2px\" d=\"M2520,527.0 C2520,439.5 2650.0,439.5 2650.0,527.0\" fill=\"none\" stroke=\"currentColor\"/>\n",
              "    <text dy=\"1.25em\" style=\"font-size: 0.8em; letter-spacing: 1px\">\n",
              "        <textPath xlink:href=\"#arrow-34f1940599144059ad908475ac62dae6-0-13\" class=\"displacy-label\" startOffset=\"50%\" side=\"left\" fill=\"currentColor\" text-anchor=\"middle\">det</textPath>\n",
              "    </text>\n",
              "    <path class=\"displacy-arrowhead\" d=\"M2520,529.0 L2512,517.0 2528,517.0\" fill=\"currentColor\"/>\n",
              "</g>\n",
              "\n",
              "<g class=\"displacy-arrow\">\n",
              "    <path class=\"displacy-arc\" id=\"arrow-34f1940599144059ad908475ac62dae6-0-14\" stroke-width=\"2px\" d=\"M2345,527.0 C2345,352.0 2655.0,352.0 2655.0,527.0\" fill=\"none\" stroke=\"currentColor\"/>\n",
              "    <text dy=\"1.25em\" style=\"font-size: 0.8em; letter-spacing: 1px\">\n",
              "        <textPath xlink:href=\"#arrow-34f1940599144059ad908475ac62dae6-0-14\" class=\"displacy-label\" startOffset=\"50%\" side=\"left\" fill=\"currentColor\" text-anchor=\"middle\">obj</textPath>\n",
              "    </text>\n",
              "    <path class=\"displacy-arrowhead\" d=\"M2655.0,529.0 L2663.0,517.0 2647.0,517.0\" fill=\"currentColor\"/>\n",
              "</g>\n",
              "\n",
              "<g class=\"displacy-arrow\">\n",
              "    <path class=\"displacy-arc\" id=\"arrow-34f1940599144059ad908475ac62dae6-0-15\" stroke-width=\"2px\" d=\"M2695,527.0 C2695,439.5 2825.0,439.5 2825.0,527.0\" fill=\"none\" stroke=\"currentColor\"/>\n",
              "    <text dy=\"1.25em\" style=\"font-size: 0.8em; letter-spacing: 1px\">\n",
              "        <textPath xlink:href=\"#arrow-34f1940599144059ad908475ac62dae6-0-15\" class=\"displacy-label\" startOffset=\"50%\" side=\"left\" fill=\"currentColor\" text-anchor=\"middle\">dep</textPath>\n",
              "    </text>\n",
              "    <path class=\"displacy-arrowhead\" d=\"M2825.0,529.0 L2833.0,517.0 2817.0,517.0\" fill=\"currentColor\"/>\n",
              "</g>\n",
              "\n",
              "<g class=\"displacy-arrow\">\n",
              "    <path class=\"displacy-arc\" id=\"arrow-34f1940599144059ad908475ac62dae6-0-16\" stroke-width=\"2px\" d=\"M3045,527.0 C3045,352.0 3355.0,352.0 3355.0,527.0\" fill=\"none\" stroke=\"currentColor\"/>\n",
              "    <text dy=\"1.25em\" style=\"font-size: 0.8em; letter-spacing: 1px\">\n",
              "        <textPath xlink:href=\"#arrow-34f1940599144059ad908475ac62dae6-0-16\" class=\"displacy-label\" startOffset=\"50%\" side=\"left\" fill=\"currentColor\" text-anchor=\"middle\">case</textPath>\n",
              "    </text>\n",
              "    <path class=\"displacy-arrowhead\" d=\"M3045,529.0 L3037,517.0 3053,517.0\" fill=\"currentColor\"/>\n",
              "</g>\n",
              "\n",
              "<g class=\"displacy-arrow\">\n",
              "    <path class=\"displacy-arc\" id=\"arrow-34f1940599144059ad908475ac62dae6-0-17\" stroke-width=\"2px\" d=\"M3220,527.0 C3220,439.5 3350.0,439.5 3350.0,527.0\" fill=\"none\" stroke=\"currentColor\"/>\n",
              "    <text dy=\"1.25em\" style=\"font-size: 0.8em; letter-spacing: 1px\">\n",
              "        <textPath xlink:href=\"#arrow-34f1940599144059ad908475ac62dae6-0-17\" class=\"displacy-label\" startOffset=\"50%\" side=\"left\" fill=\"currentColor\" text-anchor=\"middle\">det</textPath>\n",
              "    </text>\n",
              "    <path class=\"displacy-arrowhead\" d=\"M3220,529.0 L3212,517.0 3228,517.0\" fill=\"currentColor\"/>\n",
              "</g>\n",
              "\n",
              "<g class=\"displacy-arrow\">\n",
              "    <path class=\"displacy-arc\" id=\"arrow-34f1940599144059ad908475ac62dae6-0-18\" stroke-width=\"2px\" d=\"M2695,527.0 C2695,264.5 3360.0,264.5 3360.0,527.0\" fill=\"none\" stroke=\"currentColor\"/>\n",
              "    <text dy=\"1.25em\" style=\"font-size: 0.8em; letter-spacing: 1px\">\n",
              "        <textPath xlink:href=\"#arrow-34f1940599144059ad908475ac62dae6-0-18\" class=\"displacy-label\" startOffset=\"50%\" side=\"left\" fill=\"currentColor\" text-anchor=\"middle\">nmod</textPath>\n",
              "    </text>\n",
              "    <path class=\"displacy-arrowhead\" d=\"M3360.0,529.0 L3368.0,517.0 3352.0,517.0\" fill=\"currentColor\"/>\n",
              "</g>\n",
              "\n",
              "<g class=\"displacy-arrow\">\n",
              "    <path class=\"displacy-arc\" id=\"arrow-34f1940599144059ad908475ac62dae6-0-19\" stroke-width=\"2px\" d=\"M420,527.0 C420,2.0 3550.0,2.0 3550.0,527.0\" fill=\"none\" stroke=\"currentColor\"/>\n",
              "    <text dy=\"1.25em\" style=\"font-size: 0.8em; letter-spacing: 1px\">\n",
              "        <textPath xlink:href=\"#arrow-34f1940599144059ad908475ac62dae6-0-19\" class=\"displacy-label\" startOffset=\"50%\" side=\"left\" fill=\"currentColor\" text-anchor=\"middle\">punct</textPath>\n",
              "    </text>\n",
              "    <path class=\"displacy-arrowhead\" d=\"M3550.0,529.0 L3558.0,517.0 3542.0,517.0\" fill=\"currentColor\"/>\n",
              "</g>\n",
              "\n",
              "<g class=\"displacy-arrow\">\n",
              "    <path class=\"displacy-arc\" id=\"arrow-34f1940599144059ad908475ac62dae6-0-20\" stroke-width=\"2px\" d=\"M3570,527.0 C3570,439.5 3700.0,439.5 3700.0,527.0\" fill=\"none\" stroke=\"currentColor\"/>\n",
              "    <text dy=\"1.25em\" style=\"font-size: 0.8em; letter-spacing: 1px\">\n",
              "        <textPath xlink:href=\"#arrow-34f1940599144059ad908475ac62dae6-0-20\" class=\"displacy-label\" startOffset=\"50%\" side=\"left\" fill=\"currentColor\" text-anchor=\"middle\">dep</textPath>\n",
              "    </text>\n",
              "    <path class=\"displacy-arrowhead\" d=\"M3700.0,529.0 L3708.0,517.0 3692.0,517.0\" fill=\"currentColor\"/>\n",
              "</g>\n",
              "</svg></span>"
            ]
          },
          "metadata": {}
        }
      ]
    },
    {
      "cell_type": "code",
      "source": [
        "\n",
        "displacy.render(sentence1, style=\"ent\", jupyter=True)"
      ],
      "metadata": {
        "colab": {
          "base_uri": "https://localhost:8080/",
          "height": 122
        },
        "id": "K4GkvTr5t6gX",
        "outputId": "c210efb9-3197-4a5f-9cbf-83d633b3b57f"
      },
      "execution_count": 60,
      "outputs": [
        {
          "output_type": "display_data",
          "data": {
            "text/plain": [
              "<IPython.core.display.HTML object>"
            ],
            "text/html": [
              "<span class=\"tex2jax_ignore\"><div class=\"entities\" style=\"line-height: 2.5; direction: ltr\">Voy a cantar estos versos,</br>pongan mucha atención todos,</br>voy a cantar la \n",
              "<mark class=\"entity\" style=\"background: #ddd; padding: 0.45em 0.6em; margin: 0 0.25em; line-height: 1; border-radius: 0.35em;\">\n",
              "    tragedia\n",
              "de la Heroica Matamoros.\n",
              "\n",
              "\n",
              "    <span style=\"font-size: 0.8em; font-weight: bold; line-height: 1; border-radius: 0.35em; vertical-align: middle; margin-left: 0.5rem\">MISC</span>\n",
              "</mark>\n",
              "</div></span>"
            ]
          },
          "metadata": {}
        }
      ]
    },
    {
      "cell_type": "markdown",
      "source": [
        "#named entity recogniton"
      ],
      "metadata": {
        "id": "oqeATc5iu-g6"
      }
    },
    {
      "cell_type": "code",
      "source": [
        "for ent in doc.ents:\n",
        "    print (ent.text, ent.label_)"
      ],
      "metadata": {
        "colab": {
          "base_uri": "https://localhost:8080/"
        },
        "id": "UGsK511GvBnZ",
        "outputId": "5a29e805-b758-4d86-e24d-c169dac80b67"
      },
      "execution_count": 61,
      "outputs": [
        {
          "output_type": "stream",
          "name": "stdout",
          "text": [
            "tragedia\n",
            "de la Heroica Matamoros.\n",
            "\n",
            " MISC\n",
            "Lucio Blanco PER\n",
            "Matamoros\n",
            "ya resuelta ORG\n",
            "Mayor Ramos LOC\n",
            "Mayor Ramos PER\n",
            "Mayor Ramos PER\n",
            "Barragán PER\n",
            "Carranza PER\n",
            "Blanco PER\n",
            "Blanco PER\n",
            "Estados Unidos.\n",
            "\n",
            " LOC\n",
            "López PER\n",
            "Chazarreta PER\n",
            "banqueta. ORG\n",
            "Agarraron PER\n",
            "Parián\n",
            "a las seis los fusilaron.\n",
            "\n",
            " MISC\n",
            "Antonio Chazarreta PER\n",
            "Carranza PER\n",
            "Matamoros\n",
            "en Texas LOC\n",
            "Lucio PER\n",
            "Matamoros.\n",
            " MISC\n"
          ]
        }
      ]
    },
    {
      "cell_type": "code",
      "source": [
        "displacy.render(doc, style=\"ent\", jupyter=True)"
      ],
      "metadata": {
        "colab": {
          "base_uri": "https://localhost:8080/",
          "height": 1000
        },
        "id": "vIwNtwgAvJWm",
        "outputId": "77e5c380-54a2-4f4c-9a34-8f80ac96c7bd"
      },
      "execution_count": 64,
      "outputs": [
        {
          "output_type": "display_data",
          "data": {
            "text/plain": [
              "<IPython.core.display.HTML object>"
            ],
            "text/html": [
              "<span class=\"tex2jax_ignore\"><div class=\"entities\" style=\"line-height: 2.5; direction: ltr\">Voy a cantar estos versos,</br>pongan mucha atención todos,</br>voy a cantar la \n",
              "<mark class=\"entity\" style=\"background: #ddd; padding: 0.45em 0.6em; margin: 0 0.25em; line-height: 1; border-radius: 0.35em;\">\n",
              "    tragedia\n",
              "de la Heroica Matamoros.\n",
              "\n",
              "\n",
              "    <span style=\"font-size: 0.8em; font-weight: bold; line-height: 1; border-radius: 0.35em; vertical-align: middle; margin-left: 0.5rem\">MISC</span>\n",
              "</mark>\n",
              "Dia martes tres de junio</br>de mil novecientos trece,</br>a las diez de la mañana</br>\n",
              "<mark class=\"entity\" style=\"background: #ddd; padding: 0.45em 0.6em; margin: 0 0.25em; line-height: 1; border-radius: 0.35em;\">\n",
              "    Lucio Blanco\n",
              "    <span style=\"font-size: 0.8em; font-weight: bold; line-height: 1; border-radius: 0.35em; vertical-align: middle; margin-left: 0.5rem\">PER</span>\n",
              "</mark>\n",
              " se aparece.</br></br>Pues traía miles de hombres,</br>bien armados y valientes</br>para tomar esa plaza y</br>hacer correr a las gentes.</br></br>La gente de \n",
              "<mark class=\"entity\" style=\"background: #7aecec; padding: 0.45em 0.6em; margin: 0 0.25em; line-height: 1; border-radius: 0.35em;\">\n",
              "    Matamoros\n",
              "ya resuelta\n",
              "    <span style=\"font-size: 0.8em; font-weight: bold; line-height: 1; border-radius: 0.35em; vertical-align: middle; margin-left: 0.5rem\">ORG</span>\n",
              "</mark>\n",
              " toda estaba</br>a defender a su pueblo</br>aunque la vida costara.</br></br>Por hojas sueltas pidieron</br>la plaza al \n",
              "<mark class=\"entity\" style=\"background: #ff9561; padding: 0.45em 0.6em; margin: 0 0.25em; line-height: 1; border-radius: 0.35em;\">\n",
              "    Mayor Ramos\n",
              "    <span style=\"font-size: 0.8em; font-weight: bold; line-height: 1; border-radius: 0.35em; vertical-align: middle; margin-left: 0.5rem\">LOC</span>\n",
              "</mark>\n",
              ",</br>diciendo: -Si no la entregan</br>de todos modos entramos. -</br></br>Cuando estas hojas llegaron</br>a manos del \n",
              "<mark class=\"entity\" style=\"background: #ddd; padding: 0.45em 0.6em; margin: 0 0.25em; line-height: 1; border-radius: 0.35em;\">\n",
              "    Mayor Ramos\n",
              "    <span style=\"font-size: 0.8em; font-weight: bold; line-height: 1; border-radius: 0.35em; vertical-align: middle; margin-left: 0.5rem\">PER</span>\n",
              "</mark>\n",
              ",</br>sonriendo dijo al enviado:</br>-La plaza no la entregamos.</br></br>Pues decía el \n",
              "<mark class=\"entity\" style=\"background: #ddd; padding: 0.45em 0.6em; margin: 0 0.25em; line-height: 1; border-radius: 0.35em;\">\n",
              "    Mayor Ramos\n",
              "    <span style=\"font-size: 0.8em; font-weight: bold; line-height: 1; border-radius: 0.35em; vertical-align: middle; margin-left: 0.5rem\">PER</span>\n",
              "</mark>\n",
              ",</br>lo mismo que \n",
              "<mark class=\"entity\" style=\"background: #ddd; padding: 0.45em 0.6em; margin: 0 0.25em; line-height: 1; border-radius: 0.35em;\">\n",
              "    Barragán\n",
              "    <span style=\"font-size: 0.8em; font-weight: bold; line-height: 1; border-radius: 0.35em; vertical-align: middle; margin-left: 0.5rem\">PER</span>\n",
              "</mark>\n",
              ":</br>-Lo que es \n",
              "<mark class=\"entity\" style=\"background: #ddd; padding: 0.45em 0.6em; margin: 0 0.25em; line-height: 1; border-radius: 0.35em;\">\n",
              "    Carranza\n",
              "    <span style=\"font-size: 0.8em; font-weight: bold; line-height: 1; border-radius: 0.35em; vertical-align: middle; margin-left: 0.5rem\">PER</span>\n",
              "</mark>\n",
              " no gana</br>y si no ya lo verán.</br></br>Ya la hora se llegó,</br>pues ya se le cumple el plazo,</br>por dondequiera se oía</br>la bala y el cañonazo.</br></br>La gente de Matamoros</br>muy contenta se quedaba</br>cuando vino la noticia</br>que \n",
              "<mark class=\"entity\" style=\"background: #ddd; padding: 0.45em 0.6em; margin: 0 0.25em; line-height: 1; border-radius: 0.35em;\">\n",
              "    Blanco\n",
              "    <span style=\"font-size: 0.8em; font-weight: bold; line-height: 1; border-radius: 0.35em; vertical-align: middle; margin-left: 0.5rem\">PER</span>\n",
              "</mark>\n",
              " se retiraba.</br></br>Pero un repique oportuno,</br>que no saben quién lo dio,</br>alentó a los carrancistas</br>y \n",
              "<mark class=\"entity\" style=\"background: #ddd; padding: 0.45em 0.6em; margin: 0 0.25em; line-height: 1; border-radius: 0.35em;\">\n",
              "    Blanco\n",
              "    <span style=\"font-size: 0.8em; font-weight: bold; line-height: 1; border-radius: 0.35em; vertical-align: middle; margin-left: 0.5rem\">PER</span>\n",
              "</mark>\n",
              " se devolvió.</br></br>Para las tres de la tarde</br>había muertos y heridos,</br>y los soldados de línea</br>se iban a \n",
              "<mark class=\"entity\" style=\"background: #ff9561; padding: 0.45em 0.6em; margin: 0 0.25em; line-height: 1; border-radius: 0.35em;\">\n",
              "    Estados Unidos.\n",
              "\n",
              "\n",
              "    <span style=\"font-size: 0.8em; font-weight: bold; line-height: 1; border-radius: 0.35em; vertical-align: middle; margin-left: 0.5rem\">LOC</span>\n",
              "</mark>\n",
              "El empuje fue terrible,</br>la defensa por demás;</br>eran pocos los de adentro,</br>los de afuera muchos más.</br></br>Los valientes voluntarios</br>de \n",
              "<mark class=\"entity\" style=\"background: #ddd; padding: 0.45em 0.6em; margin: 0 0.25em; line-height: 1; border-radius: 0.35em;\">\n",
              "    López\n",
              "    <span style=\"font-size: 0.8em; font-weight: bold; line-height: 1; border-radius: 0.35em; vertical-align: middle; margin-left: 0.5rem\">PER</span>\n",
              "</mark>\n",
              " y \n",
              "<mark class=\"entity\" style=\"background: #ddd; padding: 0.45em 0.6em; margin: 0 0.25em; line-height: 1; border-radius: 0.35em;\">\n",
              "    Chazarreta\n",
              "    <span style=\"font-size: 0.8em; font-weight: bold; line-height: 1; border-radius: 0.35em; vertical-align: middle; margin-left: 0.5rem\">PER</span>\n",
              "</mark>\n",
              "</br>se salían de las trincheras</br>a tirar a la \n",
              "<mark class=\"entity\" style=\"background: #7aecec; padding: 0.45em 0.6em; margin: 0 0.25em; line-height: 1; border-radius: 0.35em;\">\n",
              "    banqueta.\n",
              "    <span style=\"font-size: 0.8em; font-weight: bold; line-height: 1; border-radius: 0.35em; vertical-align: middle; margin-left: 0.5rem\">ORG</span>\n",
              "</mark>\n",
              "</br></br>A las diez de la mañana</br>algunas casas quemaron,</br>pero éstas fueron venganzas</br>que llegando consumaron.</br></br>\n",
              "<mark class=\"entity\" style=\"background: #ddd; padding: 0.45em 0.6em; margin: 0 0.25em; line-height: 1; border-radius: 0.35em;\">\n",
              "    Agarraron\n",
              "    <span style=\"font-size: 0.8em; font-weight: bold; line-height: 1; border-radius: 0.35em; vertical-align: middle; margin-left: 0.5rem\">PER</span>\n",
              "</mark>\n",
              " prisioneros</br>a unos niños que pelearon,</br>y otro día en el \n",
              "<mark class=\"entity\" style=\"background: #ddd; padding: 0.45em 0.6em; margin: 0 0.25em; line-height: 1; border-radius: 0.35em;\">\n",
              "    Parián\n",
              "a las seis los fusilaron.\n",
              "\n",
              "\n",
              "    <span style=\"font-size: 0.8em; font-weight: bold; line-height: 1; border-radius: 0.35em; vertical-align: middle; margin-left: 0.5rem\">MISC</span>\n",
              "</mark>\n",
              "Pues lo niños que pelearon</br>con bastante decisión</br>al enemigo causaron</br>bastante admiración.</br></br>Pero un antiguo artillero</br>que era también gobiernista,</br>a ese no le hicieron nada,</br>lo defendió un carrancista.</br></br>Pero a \n",
              "<mark class=\"entity\" style=\"background: #ddd; padding: 0.45em 0.6em; margin: 0 0.25em; line-height: 1; border-radius: 0.35em;\">\n",
              "    Antonio Chazarreta\n",
              "    <span style=\"font-size: 0.8em; font-weight: bold; line-height: 1; border-radius: 0.35em; vertical-align: middle; margin-left: 0.5rem\">PER</span>\n",
              "</mark>\n",
              "</br>le tocó muy mala suerte,</br>lo cogieron prisionero</br>y fue sentenciado a muerte.</br></br>Las gentes de Matamoros</br>perdieron toda esperanza</br>al oír que por las calles</br>gritan que viva \n",
              "<mark class=\"entity\" style=\"background: #ddd; padding: 0.45em 0.6em; margin: 0 0.25em; line-height: 1; border-radius: 0.35em;\">\n",
              "    Carranza\n",
              "    <span style=\"font-size: 0.8em; font-weight: bold; line-height: 1; border-radius: 0.35em; vertical-align: middle; margin-left: 0.5rem\">PER</span>\n",
              "</mark>\n",
              ".</br></br>Las gentes de \n",
              "<mark class=\"entity\" style=\"background: #ff9561; padding: 0.45em 0.6em; margin: 0 0.25em; line-height: 1; border-radius: 0.35em;\">\n",
              "    Matamoros\n",
              "en Texas\n",
              "    <span style=\"font-size: 0.8em; font-weight: bold; line-height: 1; border-radius: 0.35em; vertical-align: middle; margin-left: 0.5rem\">LOC</span>\n",
              "</mark>\n",
              " aventurando,</br>dicen que no han de volver</br>mientras \n",
              "<mark class=\"entity\" style=\"background: #ddd; padding: 0.45em 0.6em; margin: 0 0.25em; line-height: 1; border-radius: 0.35em;\">\n",
              "    Lucio\n",
              "    <span style=\"font-size: 0.8em; font-weight: bold; line-height: 1; border-radius: 0.35em; vertical-align: middle; margin-left: 0.5rem\">PER</span>\n",
              "</mark>\n",
              " tenga el mando.</br></br>Ya con ésta me despido,</br>me compadezco de todos,</br>y con tristeza les digo</br>que perdimos \n",
              "<mark class=\"entity\" style=\"background: #ddd; padding: 0.45em 0.6em; margin: 0 0.25em; line-height: 1; border-radius: 0.35em;\">\n",
              "    Matamoros.\n",
              "\n",
              "    <span style=\"font-size: 0.8em; font-weight: bold; line-height: 1; border-radius: 0.35em; vertical-align: middle; margin-left: 0.5rem\">MISC</span>\n",
              "</mark>\n",
              "</div></span>"
            ]
          },
          "metadata": {}
        }
      ]
    },
    {
      "cell_type": "markdown",
      "source": [
        "#Word Vectors\n",
        "REsources\n",
        "https://pypi.org/project/PyDictionary/"
      ],
      "metadata": {
        "id": "zyeNWTiqv_Gq"
      }
    },
    {
      "cell_type": "code",
      "source": [
        "!pip install PyDictionary\n",
        "from PyDictionary import PyDictionary"
      ],
      "metadata": {
        "colab": {
          "base_uri": "https://localhost:8080/"
        },
        "id": "H00KEpH8xBHq",
        "outputId": "0898ef82-0243-46ac-cb4a-838410aeff7b"
      },
      "execution_count": 67,
      "outputs": [
        {
          "output_type": "stream",
          "name": "stdout",
          "text": [
            "Looking in indexes: https://pypi.org/simple, https://us-python.pkg.dev/colab-wheels/public/simple/\n",
            "Requirement already satisfied: PyDictionary in /usr/local/lib/python3.7/dist-packages (2.0.1)\n",
            "Requirement already satisfied: goslate in /usr/local/lib/python3.7/dist-packages (from PyDictionary) (1.5.4)\n",
            "Requirement already satisfied: bs4 in /usr/local/lib/python3.7/dist-packages (from PyDictionary) (0.0.1)\n",
            "Requirement already satisfied: requests in /usr/local/lib/python3.7/dist-packages (from PyDictionary) (2.23.0)\n",
            "Requirement already satisfied: click in /usr/local/lib/python3.7/dist-packages (from PyDictionary) (7.1.2)\n",
            "Requirement already satisfied: beautifulsoup4 in /usr/local/lib/python3.7/dist-packages (from bs4->PyDictionary) (4.6.3)\n",
            "Requirement already satisfied: futures in /usr/local/lib/python3.7/dist-packages (from goslate->PyDictionary) (2.2.0)\n",
            "Requirement already satisfied: chardet<4,>=3.0.2 in /usr/local/lib/python3.7/dist-packages (from requests->PyDictionary) (3.0.4)\n",
            "Requirement already satisfied: idna<3,>=2.5 in /usr/local/lib/python3.7/dist-packages (from requests->PyDictionary) (2.10)\n",
            "Requirement already satisfied: urllib3!=1.25.0,!=1.25.1,<1.26,>=1.21.1 in /usr/local/lib/python3.7/dist-packages (from requests->PyDictionary) (1.24.3)\n",
            "Requirement already satisfied: certifi>=2017.4.17 in /usr/local/lib/python3.7/dist-packages (from requests->PyDictionary) (2022.6.15)\n"
          ]
        }
      ]
    },
    {
      "cell_type": "code",
      "source": [
        "dictionary=PyDictionary()\n",
        "\n",
        "words  = [\"cantar\", \"vida\"]\n",
        "for word in words:\n",
        "    syns = dictionary.synonym(word)\n",
        "    print (f\"{word}: {syns[0:5]}\\n\")"
      ],
      "metadata": {
        "colab": {
          "base_uri": "https://localhost:8080/",
          "height": 218
        },
        "id": "TfC9l-TAwERU",
        "outputId": "f994a52f-6d00-451b-a010-5d7994f6ec49"
      },
      "execution_count": 71,
      "outputs": [
        {
          "output_type": "stream",
          "name": "stdout",
          "text": [
            "cantar has no Synonyms in the API\n"
          ]
        },
        {
          "output_type": "error",
          "ename": "TypeError",
          "evalue": "ignored",
          "traceback": [
            "\u001b[0;31m---------------------------------------------------------------------------\u001b[0m",
            "\u001b[0;31mTypeError\u001b[0m                                 Traceback (most recent call last)",
            "\u001b[0;32m<ipython-input-71-b37fe63c3793>\u001b[0m in \u001b[0;36m<module>\u001b[0;34m()\u001b[0m\n\u001b[1;32m      4\u001b[0m \u001b[0;32mfor\u001b[0m \u001b[0mword\u001b[0m \u001b[0;32min\u001b[0m \u001b[0mwords\u001b[0m\u001b[0;34m:\u001b[0m\u001b[0;34m\u001b[0m\u001b[0;34m\u001b[0m\u001b[0m\n\u001b[1;32m      5\u001b[0m     \u001b[0msyns\u001b[0m \u001b[0;34m=\u001b[0m \u001b[0mdictionary\u001b[0m\u001b[0;34m.\u001b[0m\u001b[0msynonym\u001b[0m\u001b[0;34m(\u001b[0m\u001b[0mword\u001b[0m\u001b[0;34m)\u001b[0m\u001b[0;34m\u001b[0m\u001b[0;34m\u001b[0m\u001b[0m\n\u001b[0;32m----> 6\u001b[0;31m     \u001b[0mprint\u001b[0m \u001b[0;34m(\u001b[0m\u001b[0;34mf\"{word}: {syns[0:5]}\\n\"\u001b[0m\u001b[0;34m)\u001b[0m\u001b[0;34m\u001b[0m\u001b[0;34m\u001b[0m\u001b[0m\n\u001b[0m",
            "\u001b[0;31mTypeError\u001b[0m: 'NoneType' object is not subscriptable"
          ]
        }
      ]
    }
  ]
}