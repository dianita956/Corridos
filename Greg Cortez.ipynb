{
 "cells": [
  {
   "cell_type": "code",
   "execution_count": 1,
   "id": "b1a73489",
   "metadata": {},
   "outputs": [],
   "source": [
    "import nltk\n",
    "import geopandas as geopd\n",
    "import pandas as pd\n",
    "import os\n",
    "import fiona \n",
    "import shapely\n",
    "from shapely.geometry import Point\n",
    "from shapely.wkt import loads"
   ]
  },
  {
   "cell_type": "code",
   "execution_count": 2,
   "id": "37be911b",
   "metadata": {},
   "outputs": [
    {
     "name": "stdout",
     "output_type": "stream",
     "text": [
      "Requirement already satisfied: requests in c:\\users\\dmlpz\\anaconda3\\envs\\greg\\lib\\site-packages (2.28.1)\n",
      "Requirement already satisfied: charset-normalizer<3,>=2 in c:\\users\\dmlpz\\anaconda3\\envs\\greg\\lib\\site-packages (from requests) (2.1.1)\n",
      "Requirement already satisfied: idna<4,>=2.5 in c:\\users\\dmlpz\\anaconda3\\envs\\greg\\lib\\site-packages (from requests) (3.3)\n",
      "Requirement already satisfied: urllib3<1.27,>=1.21.1 in c:\\users\\dmlpz\\anaconda3\\envs\\greg\\lib\\site-packages (from requests) (1.26.12)\n",
      "Requirement already satisfied: certifi>=2017.4.17 in c:\\users\\dmlpz\\anaconda3\\envs\\greg\\lib\\site-packages (from requests) (2022.6.15)\n",
      "Note: you may need to restart the kernel to use updated packages.\n"
     ]
    }
   ],
   "source": [
    "%pip install requests\n",
    "import requests"
   ]
  },
  {
   "cell_type": "code",
   "execution_count": 6,
   "id": "9eb12e29",
   "metadata": {},
   "outputs": [],
   "source": [
    "#%pip install vaderSentiment\n",
    "from vaderSentiment import SentimentIntensityAnalyzer"
   ]
  },
  {
   "cell_type": "code",
   "execution_count": 7,
   "id": "45c9de41",
   "metadata": {},
   "outputs": [],
   "source": [
    "#%pip install geograpy3\n",
    "import geograpy\n",
    "from geograpy import extraction\n",
    "from geograpy import places"
   ]
  },
  {
   "cell_type": "code",
   "execution_count": 8,
   "id": "9d32cdb5",
   "metadata": {},
   "outputs": [
    {
     "name": "stdout",
     "output_type": "stream",
     "text": [
      "Requirement already satisfied: geopy in c:\\users\\dmlpz\\anaconda3\\envs\\greg\\lib\\site-packages (2.2.0)Note: you may need to restart the kernel to use updated packages.\n",
      "\n",
      "Requirement already satisfied: geographiclib<2,>=1.49 in c:\\users\\dmlpz\\anaconda3\\envs\\greg\\lib\\site-packages (from geopy) (1.52)\n"
     ]
    }
   ],
   "source": [
    "%pip install geopy\n",
    "from geopy.geocoders import Nominatim\n",
    "import time\n",
    "from pprint import pprint"
   ]
  },
  {
   "cell_type": "markdown",
   "id": "a5b55db5",
   "metadata": {},
   "source": [
    "El Corrido de Gregorio Cortez "
   ]
  },
  {
   "cell_type": "code",
   "execution_count": null,
   "id": "9d2b3bf2",
   "metadata": {},
   "outputs": [],
   "source": []
  }
 ],
 "metadata": {
  "kernelspec": {
   "display_name": "Python 3.9.13 ('Greg')",
   "language": "python",
   "name": "python3"
  },
  "language_info": {
   "codemirror_mode": {
    "name": "ipython",
    "version": 3
   },
   "file_extension": ".py",
   "mimetype": "text/x-python",
   "name": "python",
   "nbconvert_exporter": "python",
   "pygments_lexer": "ipython3",
   "version": "3.9.13"
  },
  "vscode": {
   "interpreter": {
    "hash": "c33b8046986a03aa44ef4ea500a2630dcd79ff60fec54402ff1309c4dcbd3e63"
   }
  }
 },
 "nbformat": 4,
 "nbformat_minor": 5
}
