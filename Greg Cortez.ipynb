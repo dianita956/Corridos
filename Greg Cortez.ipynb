{
 "cells": [
  {
   "cell_type": "code",
   "execution_count": null,
   "id": "b1a73489",
   "metadata": {},
   "outputs": [],
   "source": [
    "import nltk\n",
    "import geopandas as geopd\n",
    "import pandas as pd\n",
    "import os\n",
    "import fiona \n",
    "import shapely\n",
    "from shapely.geometry import Point\n",
    "from shapely.wkt import loads\n",
    "import matplotlib.pyplot as plot"
   ]
  },
  {
   "cell_type": "code",
   "execution_count": null,
   "id": "0a4a91f2",
   "metadata": {},
   "outputs": [],
   "source": [
    "from nltk.corpus.reader.plaintext import PlaintextCorpusReader\n",
    "from nltk.corpus import stopwords\n",
    "from nltk.tokenize import word_tokenize"
   ]
  },
  {
   "cell_type": "code",
   "execution_count": null,
   "id": "457d727b",
   "metadata": {},
   "outputs": [],
   "source": [
    "import spacy "
   ]
  },
  {
   "cell_type": "code",
   "execution_count": null,
   "id": "37be911b",
   "metadata": {},
   "outputs": [],
   "source": [
    "%pip install requests\n",
    "import requests"
   ]
  },
  {
   "cell_type": "code",
   "execution_count": null,
   "id": "9eb12e29",
   "metadata": {},
   "outputs": [],
   "source": [
    "#%pip install vaderSentiment\n",
    "from vaderSentiment import SentimentIntensityAnalyzer\n",
    "sa = SentimentIntensityAnalyzer()"
   ]
  },
  {
   "cell_type": "code",
   "execution_count": null,
   "id": "45c9de41",
   "metadata": {},
   "outputs": [],
   "source": [
    "#%pip install geograpy3\n",
    "import geograpy\n",
    "from geograpy import extraction\n",
    "from geograpy import places"
   ]
  },
  {
   "cell_type": "code",
   "execution_count": null,
   "id": "9d32cdb5",
   "metadata": {},
   "outputs": [],
   "source": [
    "%pip install geopy\n",
    "from geopy.geocoders import Nominatim\n",
    "import time\n",
    "from pprint import pprint"
   ]
  },
  {
   "cell_type": "markdown",
   "id": "a5b55db5",
   "metadata": {},
   "source": [
    "El Corrido de Gregorio Cortez \n",
    "by Diane Lopez\n",
    "Septemeber 8 2022\n",
    "text analysis sentiment and gis project"
   ]
  },
  {
   "cell_type": "code",
   "execution_count": null,
   "id": "9d2b3bf2",
   "metadata": {},
   "outputs": [],
   "source": [
    "#reading text file\n",
    "text = open(\"corrido corpus\\gregoriocortez_es_corrido.txt\", encoding=\"utf-8\").read()\n",
    "# Replace line breaks with spaces\n",
    "text = text.replace('\\n', ' ')"
   ]
  },
  {
   "cell_type": "code",
   "execution_count": null,
   "id": "26bb2e91",
   "metadata": {},
   "outputs": [],
   "source": [
    "for number, sentence in enumerate(nltk.sent_tokenize(text)):\n",
    "    print(number, sentence)\n",
    " # Break text into sentences\n",
    "sentences = nltk.sent_tokenize(text)"
   ]
  },
  {
   "cell_type": "code",
   "execution_count": null,
   "id": "18b8d5f7",
   "metadata": {},
   "outputs": [],
   "source": [
    "# Make empty list\n",
    "sentence_scores = []\n",
    "# Get each sentence and sentence number, which is what enumerate does\n",
    "for number, sentence in enumerate(sentences):\n",
    "    # Use VADER to calculate sentiment\n",
    "    scores = sa.polarity_scores(sentence)\n",
    "    # Make dictionary and append it to the previously empty list\n",
    "    sentence_scores.append({'sentence': sentence, 'sentence_number': number+1, 'sentiment_score': scores['compound']})\n",
    "pd.DataFrame(sentence_scores)\n",
    " # Assign DataFrame to variable red_df\n",
    " # 10 most negative sentence\n",
    "greg_df = pd.DataFrame(sentence_scores)\n",
    "greg_df"
   ]
  },
  {
   "cell_type": "code",
   "execution_count": null,
   "id": "95a92184",
   "metadata": {},
   "outputs": [],
   "source": [
    "# Sort by the column \"sentiment_score\" and slice for first 10 values\n",
    "# 10 negative sentence_scores\n",
    "greg_df.sort_values(by='sentiment_score')[:10]"
   ]
  },
  {
   "cell_type": "code",
   "execution_count": null,
   "id": "eeee1fbf",
   "metadata": {},
   "outputs": [],
   "source": [
    "# 10 positive sentence_scores\n",
    " # Sort by the column \"sentiment_score,\" this time in descending order, and slice for first 10 values\n",
    "\n",
    "greg_df.sort_values(by='sentiment_score', ascending=False)[:18]\n",
    " "
   ]
  },
  {
   "cell_type": "code",
   "execution_count": null,
   "id": "f493a79d",
   "metadata": {},
   "outputs": [],
   "source": [
    "## Make a sentiment plot\n",
    "greg_df['sentiment_score'].plot();\n",
    " \n",
    "ax = greg_df['sentiment_score'].plot(x='sentence_number', y='sentiment_score', kind='line',\n",
    "                        figsize=(10,5), rot=90, title='Sentiment in Gregorio Cortez Corrido')"
   ]
  },
  {
   "cell_type": "code",
   "execution_count": null,
   "metadata": {},
   "outputs": [],
   "source": [
    " # Get averages for a rolling window, then plot\n",
    "greg_df.rolling(5)['sentiment_score'].mean().plot(x='sentence_number', y='sentiment_score', kind='line',\n",
    "                        figsize=(10,5), rot=90, title='Sentiment in \"Gregorio Cortez Corrido\"')\n",
    "\n",
    "# Plot a horizontal line at 0\n",
    "plot.axhline(y=0, color='orange', linestyle='-');"
   ]
  },
  {
   "cell_type": "markdown",
   "id": "26750af9",
   "metadata": {},
   "source": [
    "Word Frequencies: ask Hejin for help here"
   ]
  },
  {
   "cell_type": "code",
   "execution_count": null,
   "id": "80331992",
   "metadata": {},
   "outputs": [],
   "source": [
    "path_corridos = os.getcwd()\n",
    "greg_file = 'gregoriocortez_es_corrido.txt'\n",
    "corpus = PlaintextCorpusReader( path_corridos, greg_file)\n",
    "corpus"
   ]
  },
  {
   "cell_type": "code",
   "execution_count": null,
   "id": "3271d0ed",
   "metadata": {},
   "outputs": [],
   "source": [
    "stop_words = []\n",
    "# The filename of the custom data/stop_words.csv file\n",
    "stopwords_greg = 'corrido corpus\\gregoriocortez_es_corrido.txt'\n",
    "if os.path.exists(stopwords_greg):\n",
    "    #import csv\n",
    "    with open(stopwords_greg, 'r', encoding=\"utf-8\") as f:\n",
    "        stop_words = list(f)[0:27]\n",
    "    print('Custom stopwords list loaded from doc')\n",
    "else:\n",
    "    # Load the NLTK stopwords list\n",
    "    from nltk.corpus import stopwords\n",
    "    stop_words = stopwords.words('spanish')\n",
    "    print('NLTK stopwords list loaded')\n",
    "\n",
    "pprint(stop_words)"
   ]
  },
  {
   "cell_type": "markdown",
   "id": "982d839c",
   "metadata": {},
   "source": [
    "STOP WORDS!!!"
   ]
  },
  {
   "cell_type": "code",
   "execution_count": null,
   "id": "a8c19071",
   "metadata": {},
   "outputs": [],
   "source": [
    "import nltk\n",
    "nltk.download('stopwords')"
   ]
  },
  {
   "cell_type": "code",
   "execution_count": null,
   "id": "b3c55ff6",
   "metadata": {},
   "outputs": [],
   "source": [
    "from nltk.tokenize import sent_tokenize, word_tokenize\n",
    "from nltk.corpus import stopwords\n"
   ]
  },
  {
   "cell_type": "code",
   "execution_count": null,
   "id": "bd6d3133",
   "metadata": {},
   "outputs": [],
   "source": [
    "import nltk\n",
    "from nltk.corpus import stopwords\n",
    "\n",
    "stops = set(stopwords.words('spanish'))\n",
    "print(stops)"
   ]
  },
  {
   "cell_type": "code",
   "execution_count": null,
   "id": "e739ca5c",
   "metadata": {},
   "outputs": [],
   "source": [
    "greg = open(\"corrido corpus\\gregoriocortez_es_corrido.txt\", encoding = 'utf-8').read().lower()"
   ]
  },
  {
   "cell_type": "code",
   "execution_count": null,
   "id": "a5848b87",
   "metadata": {},
   "outputs": [],
   "source": [
    "#the var stopWords contains ## stop words\n",
    "stopWords = set(stopwords.words('spanish'))\n",
    "words = word_tokenize(greg)\n",
    "wordsFiltered = []\n",
    "\n",
    "for w in words:\n",
    "    if w not in stopWords:\n",
    "        #wordsFiltered contains all words which are not stop words. \n",
    "        wordsFiltered.append(w)\n",
    "\n",
    "print(wordsFiltered)"
   ]
  },
  {
   "cell_type": "code",
   "execution_count": null,
   "id": "b51b36a3",
   "metadata": {},
   "outputs": [],
   "source": [
    "print(len(stopWords))\n",
    "print(stopWords)"
   ]
  },
  {
   "cell_type": "code",
   "execution_count": null,
   "id": "9206f684",
   "metadata": {},
   "outputs": [],
   "source": [
    "word_tokenize(greg)"
   ]
  }
 ],
 "metadata": {
  "kernelspec": {
   "display_name": "Python 3.9.13 ('GregCortez')",
   "language": "python",
   "name": "python3"
  },
  "language_info": {
   "codemirror_mode": {
    "name": "ipython",
    "version": 3
   },
   "file_extension": ".py",
   "mimetype": "text/x-python",
   "name": "python",
   "nbconvert_exporter": "python",
   "pygments_lexer": "ipython3",
   "version": "3.9.13"
  },
  "vscode": {
   "interpreter": {
    "hash": "8a27f88ce5c954a07fd947c99c0c9c106cdd63656ed15b6da87f708bf4b75587"
   }
  }
 },
 "nbformat": 4,
 "nbformat_minor": 5
}
