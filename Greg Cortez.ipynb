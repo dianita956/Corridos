{
 "cells": [
  {
   "cell_type": "code",
   "execution_count": 5,
   "id": "b1a73489",
   "metadata": {},
   "outputs": [],
   "source": [
    "import nltk\n",
    "import geopandas as geopd\n",
    "import pandas as pd\n",
    "import os\n",
    "import fiona \n",
    "import shapely\n",
    "from shapely.geometry import Point\n",
    "from shapely.wkt import loads"
   ]
  },
  {
   "cell_type": "code",
   "execution_count": 7,
   "id": "37be911b",
   "metadata": {},
   "outputs": [
    {
     "name": "stdout",
     "output_type": "stream",
     "text": [
      "Collecting requests\n",
      "  Using cached requests-2.28.1-py3-none-any.whl (62 kB)\n",
      "Collecting urllib3<1.27,>=1.21.1\n",
      "  Using cached urllib3-1.26.12-py2.py3-none-any.whl (140 kB)\n",
      "Collecting idna<4,>=2.5\n",
      "  Using cached idna-3.3-py3-none-any.whl (61 kB)\n",
      "Requirement already satisfied: certifi>=2017.4.17 in c:\\users\\dmlpz\\anaconda3\\envs\\greg\\lib\\site-packages (from requests) (2022.6.15)\n",
      "Collecting charset-normalizer<3,>=2\n",
      "  Using cached charset_normalizer-2.1.1-py3-none-any.whl (39 kB)\n",
      "Installing collected packages: urllib3, idna, charset-normalizer, requests\n",
      "Successfully installed charset-normalizer-2.1.1 idna-3.3 requests-2.28.1 urllib3-1.26.12\n"
     ]
    }
   ],
   "source": [
    "!pip install requests\n",
    "import requests"
   ]
  },
  {
   "cell_type": "code",
   "execution_count": 12,
   "id": "c2138ef1",
   "metadata": {},
   "outputs": [
    {
     "name": "stdout",
     "output_type": "stream",
     "text": [
      "Requirement already satisfied: vader-sentiment in c:\\users\\dmlpz\\anaconda3\\envs\\greg\\lib\\site-packages (3.2.1.1)\n"
     ]
    }
   ],
   "source": [
    "!pip install vader-sentiment"
   ]
  },
  {
   "cell_type": "code",
   "execution_count": 18,
   "id": "9eb12e29",
   "metadata": {},
   "outputs": [
    {
     "name": "stdout",
     "output_type": "stream",
     "text": [
      "Requirement already satisfied: vaderSentiment in c:\\users\\dmlpz\\anaconda3\\envs\\greg\\lib\\site-packages (3.3.2)\n",
      "Requirement already satisfied: requests in c:\\users\\dmlpz\\anaconda3\\envs\\greg\\lib\\site-packages (from vaderSentiment) (2.28.1)\n",
      "Requirement already satisfied: urllib3<1.27,>=1.21.1 in c:\\users\\dmlpz\\anaconda3\\envs\\greg\\lib\\site-packages (from requests->vaderSentiment) (1.26.12)\n",
      "Requirement already satisfied: idna<4,>=2.5 in c:\\users\\dmlpz\\anaconda3\\envs\\greg\\lib\\site-packages (from requests->vaderSentiment) (3.3)\n",
      "Requirement already satisfied: charset-normalizer<3,>=2 in c:\\users\\dmlpz\\anaconda3\\envs\\greg\\lib\\site-packages (from requests->vaderSentiment) (2.1.1)\n",
      "Requirement already satisfied: certifi>=2017.4.17 in c:\\users\\dmlpz\\anaconda3\\envs\\greg\\lib\\site-packages (from requests->vaderSentiment) (2022.6.15)\n"
     ]
    }
   ],
   "source": [
    "!pip install vaderSentiment\n",
    "from vaderSentiment.vaderSentiment import SentimentIntensityAnalyzer"
   ]
  },
  {
   "cell_type": "code",
   "execution_count": 15,
   "id": "45c9de41",
   "metadata": {},
   "outputs": [
    {
     "name": "stdout",
     "output_type": "stream",
     "text": [
      "Collecting geograpy3\n",
      "  Using cached geograpy3-0.2.3-py3-none-any.whl (34 kB)\n",
      "Collecting jellyfish\n",
      "  Downloading jellyfish-0.9.0-cp39-cp39-win_amd64.whl (26 kB)\n",
      "Requirement already satisfied: nltk in c:\\users\\dmlpz\\anaconda3\\envs\\greg\\lib\\site-packages (from geograpy3) (3.7)\n",
      "Requirement already satisfied: numpy in c:\\users\\dmlpz\\anaconda3\\envs\\greg\\lib\\site-packages (from geograpy3) (1.23.1)\n",
      "Collecting pylodstorage~=0.1.13\n",
      "  Using cached pylodstorage-0.1.34-py3-none-any.whl (59 kB)\n",
      "Requirement already satisfied: pandas in c:\\users\\dmlpz\\anaconda3\\envs\\greg\\lib\\site-packages (from geograpy3) (1.4.3)\n",
      "Collecting sphinx-rtd-theme\n",
      "  Using cached sphinx_rtd_theme-1.0.0-py2.py3-none-any.whl (2.8 MB)\n",
      "Collecting scikit-learn\n",
      "  Downloading scikit_learn-1.1.2-cp39-cp39-win_amd64.whl (7.4 MB)\n",
      "     ---------------------------------------- 7.4/7.4 MB 18.2 MB/s eta 0:00:00\n",
      "Collecting newspaper3k~=0.2.8\n",
      "  Using cached newspaper3k-0.2.8-py3-none-any.whl (211 kB)\n",
      "Collecting tinysegmenter==0.3\n",
      "  Using cached tinysegmenter-0.3.tar.gz (16 kB)\n",
      "  Preparing metadata (setup.py): started\n",
      "  Preparing metadata (setup.py): finished with status 'done'\n",
      "Requirement already satisfied: requests>=2.10.0 in c:\\users\\dmlpz\\anaconda3\\envs\\greg\\lib\\site-packages (from newspaper3k~=0.2.8->geograpy3) (2.28.1)\n",
      "Collecting feedfinder2>=0.0.4\n",
      "  Using cached feedfinder2-0.0.4.tar.gz (3.3 kB)\n",
      "  Preparing metadata (setup.py): started\n",
      "  Preparing metadata (setup.py): finished with status 'done'\n",
      "Collecting tldextract>=2.0.1\n",
      "  Using cached tldextract-3.3.1-py3-none-any.whl (93 kB)\n",
      "Requirement already satisfied: python-dateutil>=2.5.3 in c:\\users\\dmlpz\\anaconda3\\envs\\greg\\lib\\site-packages (from newspaper3k~=0.2.8->geograpy3) (2.8.2)\n",
      "Collecting PyYAML>=3.11\n",
      "  Downloading PyYAML-6.0-cp39-cp39-win_amd64.whl (151 kB)\n",
      "     ---------------------------------------- 151.6/151.6 kB ? eta 0:00:00\n",
      "Requirement already satisfied: Pillow>=3.3.0 in c:\\users\\dmlpz\\anaconda3\\envs\\greg\\lib\\site-packages (from newspaper3k~=0.2.8->geograpy3) (9.2.0)\n",
      "Collecting lxml>=3.6.0\n",
      "  Downloading lxml-4.9.1-cp39-cp39-win_amd64.whl (3.6 MB)\n",
      "     ---------------------------------------- 3.6/3.6 MB 19.3 MB/s eta 0:00:00\n",
      "Collecting feedparser>=5.2.1\n",
      "  Using cached feedparser-6.0.10-py3-none-any.whl (81 kB)\n",
      "Collecting cssselect>=0.9.2\n",
      "  Using cached cssselect-1.1.0-py2.py3-none-any.whl (16 kB)\n",
      "Requirement already satisfied: beautifulsoup4>=4.4.1 in c:\\users\\dmlpz\\anaconda3\\envs\\greg\\lib\\site-packages (from newspaper3k~=0.2.8->geograpy3) (4.11.1)\n",
      "Collecting jieba3k>=0.35.1\n",
      "  Using cached jieba3k-0.35.1.zip (7.4 MB)\n",
      "  Preparing metadata (setup.py): started\n",
      "  Preparing metadata (setup.py): finished with status 'done'\n",
      "Requirement already satisfied: joblib in c:\\users\\dmlpz\\anaconda3\\envs\\greg\\lib\\site-packages (from nltk->geograpy3) (1.1.0)\n",
      "Requirement already satisfied: click in c:\\users\\dmlpz\\anaconda3\\envs\\greg\\lib\\site-packages (from nltk->geograpy3) (7.1.2)\n",
      "Requirement already satisfied: tqdm in c:\\users\\dmlpz\\anaconda3\\envs\\greg\\lib\\site-packages (from nltk->geograpy3) (4.64.0)\n",
      "Requirement already satisfied: regex>=2021.8.3 in c:\\users\\dmlpz\\anaconda3\\envs\\greg\\lib\\site-packages (from nltk->geograpy3) (2022.7.9)\n",
      "Collecting SPARQLWrapper\n",
      "  Using cached SPARQLWrapper-2.0.0-py3-none-any.whl (28 kB)\n",
      "Collecting tabulate\n",
      "  Using cached tabulate-0.8.10-py3-none-any.whl (29 kB)\n",
      "Collecting jsonpickle\n",
      "  Using cached jsonpickle-2.2.0-py2.py3-none-any.whl (39 kB)\n",
      "Collecting pylatexenc~=2.10\n",
      "  Using cached pylatexenc-2.10.tar.gz (162 kB)\n",
      "  Preparing metadata (setup.py): started\n",
      "  Preparing metadata (setup.py): finished with status 'done'\n",
      "Requirement already satisfied: pytz>=2020.1 in c:\\users\\dmlpz\\anaconda3\\envs\\greg\\lib\\site-packages (from pandas->geograpy3) (2022.1)\n",
      "Collecting scipy>=1.3.2\n",
      "  Downloading scipy-1.9.1-cp39-cp39-win_amd64.whl (38.6 MB)\n",
      "     ---------------------------------------- 38.6/38.6 MB 8.4 MB/s eta 0:00:00\n",
      "Collecting threadpoolctl>=2.0.0\n",
      "  Using cached threadpoolctl-3.1.0-py3-none-any.whl (14 kB)\n",
      "Collecting docutils<0.18\n",
      "  Using cached docutils-0.17.1-py2.py3-none-any.whl (575 kB)\n",
      "Collecting sphinx>=1.6\n",
      "  Using cached Sphinx-5.1.1-py3-none-any.whl (3.2 MB)\n",
      "Requirement already satisfied: soupsieve>1.2 in c:\\users\\dmlpz\\anaconda3\\envs\\greg\\lib\\site-packages (from beautifulsoup4>=4.4.1->newspaper3k~=0.2.8->geograpy3) (2.3.1)\n",
      "Requirement already satisfied: six in c:\\users\\dmlpz\\anaconda3\\envs\\greg\\lib\\site-packages (from feedfinder2>=0.0.4->newspaper3k~=0.2.8->geograpy3) (1.16.0)\n",
      "Collecting sgmllib3k\n",
      "  Using cached sgmllib3k-1.0.0.tar.gz (5.8 kB)\n",
      "  Preparing metadata (setup.py): started\n",
      "  Preparing metadata (setup.py): finished with status 'done'\n",
      "Requirement already satisfied: idna<4,>=2.5 in c:\\users\\dmlpz\\anaconda3\\envs\\greg\\lib\\site-packages (from requests>=2.10.0->newspaper3k~=0.2.8->geograpy3) (3.3)\n",
      "Requirement already satisfied: certifi>=2017.4.17 in c:\\users\\dmlpz\\anaconda3\\envs\\greg\\lib\\site-packages (from requests>=2.10.0->newspaper3k~=0.2.8->geograpy3) (2022.6.15)\n",
      "Requirement already satisfied: charset-normalizer<3,>=2 in c:\\users\\dmlpz\\anaconda3\\envs\\greg\\lib\\site-packages (from requests>=2.10.0->newspaper3k~=0.2.8->geograpy3) (2.1.1)\n",
      "Requirement already satisfied: urllib3<1.27,>=1.21.1 in c:\\users\\dmlpz\\anaconda3\\envs\\greg\\lib\\site-packages (from requests>=2.10.0->newspaper3k~=0.2.8->geograpy3) (1.26.12)\n",
      "Collecting babel>=1.3\n",
      "  Using cached Babel-2.10.3-py3-none-any.whl (9.5 MB)\n",
      "Collecting sphinxcontrib-jsmath\n",
      "  Using cached sphinxcontrib_jsmath-1.0.1-py2.py3-none-any.whl (5.1 kB)\n",
      "Requirement already satisfied: Jinja2>=2.3 in c:\\users\\dmlpz\\anaconda3\\envs\\greg\\lib\\site-packages (from sphinx>=1.6->sphinx-rtd-theme->geograpy3) (3.0.3)\n",
      "Collecting alabaster<0.8,>=0.7\n",
      "  Using cached alabaster-0.7.12-py2.py3-none-any.whl (14 kB)\n",
      "Collecting importlib-metadata>=4.4\n",
      "  Using cached importlib_metadata-4.12.0-py3-none-any.whl (21 kB)\n",
      "Collecting sphinxcontrib-htmlhelp>=2.0.0\n",
      "  Using cached sphinxcontrib_htmlhelp-2.0.0-py2.py3-none-any.whl (100 kB)\n",
      "Collecting imagesize\n",
      "  Using cached imagesize-1.4.1-py2.py3-none-any.whl (8.8 kB)\n",
      "Requirement already satisfied: Pygments>=2.0 in c:\\users\\dmlpz\\anaconda3\\envs\\greg\\lib\\site-packages (from sphinx>=1.6->sphinx-rtd-theme->geograpy3) (2.11.2)\n",
      "Collecting snowballstemmer>=1.1\n",
      "  Using cached snowballstemmer-2.2.0-py2.py3-none-any.whl (93 kB)\n",
      "Collecting sphinxcontrib-qthelp\n",
      "  Using cached sphinxcontrib_qthelp-1.0.3-py2.py3-none-any.whl (90 kB)\n",
      "Requirement already satisfied: colorama>=0.3.5 in c:\\users\\dmlpz\\anaconda3\\envs\\greg\\lib\\site-packages (from sphinx>=1.6->sphinx-rtd-theme->geograpy3) (0.4.5)\n",
      "Collecting sphinxcontrib-serializinghtml>=1.1.5\n",
      "  Using cached sphinxcontrib_serializinghtml-1.1.5-py2.py3-none-any.whl (94 kB)\n",
      "Collecting sphinxcontrib-applehelp\n",
      "  Using cached sphinxcontrib_applehelp-1.0.2-py2.py3-none-any.whl (121 kB)\n",
      "Collecting sphinxcontrib-devhelp\n",
      "  Using cached sphinxcontrib_devhelp-1.0.2-py2.py3-none-any.whl (84 kB)\n",
      "Requirement already satisfied: packaging in c:\\users\\dmlpz\\anaconda3\\envs\\greg\\lib\\site-packages (from sphinx>=1.6->sphinx-rtd-theme->geograpy3) (21.3)\n",
      "Collecting requests-file>=1.4\n",
      "  Using cached requests_file-1.5.1-py2.py3-none-any.whl (3.7 kB)\n",
      "Collecting filelock>=3.0.8\n",
      "  Using cached filelock-3.8.0-py3-none-any.whl (10 kB)\n",
      "Collecting rdflib>=6.1.1\n",
      "  Using cached rdflib-6.2.0-py3-none-any.whl (500 kB)\n",
      "Collecting zipp>=0.5\n",
      "  Using cached zipp-3.8.1-py3-none-any.whl (5.6 kB)\n",
      "Requirement already satisfied: MarkupSafe>=2.0 in c:\\users\\dmlpz\\anaconda3\\envs\\greg\\lib\\site-packages (from Jinja2>=2.3->sphinx>=1.6->sphinx-rtd-theme->geograpy3) (2.1.1)\n",
      "Requirement already satisfied: pyparsing in c:\\users\\dmlpz\\anaconda3\\envs\\greg\\lib\\site-packages (from rdflib>=6.1.1->SPARQLWrapper->pylodstorage~=0.1.13->geograpy3) (3.0.9)\n",
      "Requirement already satisfied: setuptools in c:\\users\\dmlpz\\anaconda3\\envs\\greg\\lib\\site-packages (from rdflib>=6.1.1->SPARQLWrapper->pylodstorage~=0.1.13->geograpy3) (63.4.1)\n",
      "Collecting isodate\n",
      "  Using cached isodate-0.6.1-py2.py3-none-any.whl (41 kB)\n",
      "Building wheels for collected packages: tinysegmenter, feedfinder2, jieba3k, pylatexenc, sgmllib3k\n",
      "  Building wheel for tinysegmenter (setup.py): started\n",
      "  Building wheel for tinysegmenter (setup.py): finished with status 'done'\n",
      "  Created wheel for tinysegmenter: filename=tinysegmenter-0.3-py3-none-any.whl size=13540 sha256=ccfc033aff3b980d32eaf510d92a1fb6eafa18bc44bff708fb15e7f6cd98e2b4\n",
      "  Stored in directory: c:\\users\\dmlpz\\appdata\\local\\pip\\cache\\wheels\\94\\ad\\df\\a2a01300cea47d5695f242f7e925a805970106fd9e4b151468\n",
      "  Building wheel for feedfinder2 (setup.py): started\n",
      "  Building wheel for feedfinder2 (setup.py): finished with status 'done'\n",
      "  Created wheel for feedfinder2: filename=feedfinder2-0.0.4-py3-none-any.whl size=3341 sha256=e8d2d9d1e87136bfa190715b34fc2e3938c4684a2d695e5956b085453e6d35c1\n",
      "  Stored in directory: c:\\users\\dmlpz\\appdata\\local\\pip\\cache\\wheels\\43\\4a\\c2\\61a371b2524ac90805391c660d8dc4505705297f25e2b85a5d\n",
      "  Building wheel for jieba3k (setup.py): started\n",
      "  Building wheel for jieba3k (setup.py): finished with status 'done'\n",
      "  Created wheel for jieba3k: filename=jieba3k-0.35.1-py3-none-any.whl size=7398381 sha256=1467eefb078fbccd278160888f348087ff57a7ff6c216a2cb88b64ea9ae95815\n",
      "  Stored in directory: c:\\users\\dmlpz\\appdata\\local\\pip\\cache\\wheels\\c2\\22\\59\\8214a8d6357e9f540ce1f37f9a4362b6156b4ca81b37f1945f\n",
      "  Building wheel for pylatexenc (setup.py): started\n",
      "  Building wheel for pylatexenc (setup.py): finished with status 'done'\n",
      "  Created wheel for pylatexenc: filename=pylatexenc-2.10-py3-none-any.whl size=136820 sha256=6ca02ccdeb24bb748475de63214d61fcba5a65e14ef20535af3bbed3a53ad437\n",
      "  Stored in directory: c:\\users\\dmlpz\\appdata\\local\\pip\\cache\\wheels\\a3\\68\\66\\2f15abd0673d83c02f354115feedeb89c3daed2ac319b11090\n",
      "  Building wheel for sgmllib3k (setup.py): started\n",
      "  Building wheel for sgmllib3k (setup.py): finished with status 'done'\n",
      "  Created wheel for sgmllib3k: filename=sgmllib3k-1.0.0-py3-none-any.whl size=6048 sha256=0b06ac5a50ed1a7c0d4aa998e905f3bf221743c51c672a1c69be2611779966db\n",
      "  Stored in directory: c:\\users\\dmlpz\\appdata\\local\\pip\\cache\\wheels\\65\\7a\\a7\\78c287f64e401255dff4c13fdbc672fed5efbfd21c530114e1\n",
      "Successfully built tinysegmenter feedfinder2 jieba3k pylatexenc sgmllib3k\n",
      "Installing collected packages: tinysegmenter, snowballstemmer, sgmllib3k, pylatexenc, jieba3k, alabaster, zipp, threadpoolctl, tabulate, sphinxcontrib-serializinghtml, sphinxcontrib-qthelp, sphinxcontrib-jsmath, sphinxcontrib-htmlhelp, sphinxcontrib-devhelp, sphinxcontrib-applehelp, scipy, PyYAML, lxml, jsonpickle, jellyfish, isodate, imagesize, filelock, feedparser, docutils, cssselect, babel, scikit-learn, requests-file, rdflib, importlib-metadata, feedfinder2, tldextract, sphinx, SPARQLWrapper, sphinx-rtd-theme, pylodstorage, newspaper3k, geograpy3\n",
      "Successfully installed PyYAML-6.0 SPARQLWrapper-2.0.0 alabaster-0.7.12 babel-2.10.3 cssselect-1.1.0 docutils-0.17.1 feedfinder2-0.0.4 feedparser-6.0.10 filelock-3.8.0 geograpy3-0.2.3 imagesize-1.4.1 importlib-metadata-4.12.0 isodate-0.6.1 jellyfish-0.9.0 jieba3k-0.35.1 jsonpickle-2.2.0 lxml-4.9.1 newspaper3k-0.2.8 pylatexenc-2.10 pylodstorage-0.1.34 rdflib-6.2.0 requests-file-1.5.1 scikit-learn-1.1.2 scipy-1.9.1 sgmllib3k-1.0.0 snowballstemmer-2.2.0 sphinx-5.1.1 sphinx-rtd-theme-1.0.0 sphinxcontrib-applehelp-1.0.2 sphinxcontrib-devhelp-1.0.2 sphinxcontrib-htmlhelp-2.0.0 sphinxcontrib-jsmath-1.0.1 sphinxcontrib-qthelp-1.0.3 sphinxcontrib-serializinghtml-1.1.5 tabulate-0.8.10 threadpoolctl-3.1.0 tinysegmenter-0.3 tldextract-3.3.1 zipp-3.8.1\n"
     ]
    }
   ],
   "source": [
    "!pip install geograpy3\n",
    "import geograpy\n",
    "from geograpy import extraction\n",
    "from geograpy import places"
   ]
  },
  {
   "cell_type": "code",
   "execution_count": 16,
   "id": "9d32cdb5",
   "metadata": {},
   "outputs": [
    {
     "name": "stdout",
     "output_type": "stream",
     "text": [
      "Collecting geopy\n",
      "  Using cached geopy-2.2.0-py3-none-any.whl (118 kB)\n",
      "Collecting geographiclib<2,>=1.49\n",
      "  Using cached geographiclib-1.52-py3-none-any.whl (38 kB)\n",
      "Installing collected packages: geographiclib, geopy\n",
      "Successfully installed geographiclib-1.52 geopy-2.2.0\n"
     ]
    }
   ],
   "source": [
    "!pip install geopy\n",
    "from geopy.geocoders import Nominatim\n",
    "import time\n",
    "from pprint import pprint"
   ]
  }
 ],
 "metadata": {
  "kernelspec": {
   "display_name": "Python 3 (ipykernel)",
   "language": "python",
   "name": "python3"
  },
  "language_info": {
   "codemirror_mode": {
    "name": "ipython",
    "version": 3
   },
   "file_extension": ".py",
   "mimetype": "text/x-python",
   "name": "python",
   "nbconvert_exporter": "python",
   "pygments_lexer": "ipython3",
   "version": "3.9.13"
  }
 },
 "nbformat": 4,
 "nbformat_minor": 5
}
