{
 "cells": [
  {
   "cell_type": "code",
   "execution_count": null,
   "id": "d06f4599",
   "metadata": {},
   "outputs": [],
   "source": [
    "import spacy \n",
    "from spacy.lang.en import English\n",
    "from spacy.pipeline import EntityRuler\n",
    "import json\n",
    "import random"
   ]
  },
  {
   "cell_type": "code",
   "execution_count": 26,
   "id": "6167a678",
   "metadata": {},
   "outputs": [
    {
     "name": "stdout",
     "output_type": "stream",
     "text": [
      "not found\n",
      "found in pc\n"
     ]
    }
   ],
   "source": [
    "def load_data(file):\n",
    "    with open(file, 'r', encoding='utf-8') as f:\n",
    "        #print(f)\n",
    "        return(json.load(f))\n",
    "    \n",
    "    \n",
    "def save_data (file, data):\n",
    "    with open (file, \"w\", encoding='utf-8') as f:\n",
    "       data = json.dump(data, f, indent=4)\n",
    "       #print(data)\n",
    "\n",
    "def create_training_data(file, type):\n",
    "    #print(type)\n",
    "    #print(file)\n",
    "    data = load_data(file)\n",
    "    #print(data)\n",
    "    patterns=[]\n",
    "    for key, value in data.items():\n",
    "        #print(key, value)\n",
    "        for obj in value:\n",
    "            #print(obj.get(\"Municipality\"))\n",
    "            pattern = {\n",
    "                \"label\":type,\n",
    "                \"pattern\": obj.get(\"Municipality\")\n",
    "                }\n",
    "            patterns.append(pattern)\n",
    "        if any(d.get(\"Municipality\")=='Karnes' for d in value): \n",
    "            print(\"found\") \n",
    "        if not any(d.get(\"Municipality\")=='Karnes' for d in value):\n",
    "            print('not found')\n",
    "            if any(d.get(\"Primary County\")=='Karnes' for d in value): \n",
    "                print(\"found in pc\")\n",
    "        #print(item)\n",
    "        #print(data)\n",
    "        \n",
    "        #print(pattern)\n",
    "        #print(patterns)\n",
    "    return(patterns)\n",
    "patterns = create_training_data('../Corridos/data/TexasMunicipalities.json', 'GPE')\n",
    "#print(patterns)"
   ]
  },
  {
   "cell_type": "code",
   "execution_count": null,
   "id": "04df1bdd",
   "metadata": {},
   "outputs": [],
   "source": [
    "def test_model(model, text):\n",
    "    doc = nlp(text)\n",
    "    results = []\n",
    "    entities = []\n",
    "    for ent in doc.ents:\n",
    "        x=entities.append((ent.start_char, ent.end_char, ent.label_))\n",
    "        print(x)\n",
    "        return (results)\n",
    "'''\n",
    "    if len(entities) > 0:\n",
    "        results = [text, {\"entities\": entities}]\n",
    "        return (results)\n",
    "'''\n",
    "# spacy wants to see training data as below #train_data\n",
    "#TRAIN_DATA = [(text, {\"entities\": [(start, end, label)]})]\n",
    "\n",
    "nlp = spacy.load(\"tx_ner\")\n",
    "TRAIN_DATA = []\n",
    "with open (\"../Corridos/corrido corpus/ElCorridodeGregorioCortez_X.txt\", \"r\", encoding='utf-8')as f:\n",
    "    text = f.read()\n",
    "    #print(text)\n",
    "    segments = text.split(\"\\n\\n\")[0:]\n",
    "    #hits = []\n",
    "    for segment in segments:\n",
    "        segment = segment.strip()\n",
    "        segment = segment.replace(\"\\n\", \" \")\n",
    "        results = test_model(nlp, segment)\n",
    "        if results != None:\n",
    "            TRAIN_DATA.append(results)\n",
    "\n",
    "print (len(TRAIN_DATA))\n",
    "#save_data(\"../Corridos/data/TxMunicipality_training_data.json\", TRAIN_DATA)\n",
    "\n"
   ]
  },
  {
   "cell_type": "code",
   "execution_count": null,
   "id": "8cb1fa40",
   "metadata": {},
   "outputs": [],
   "source": [
    "def load_data(file):\n",
    "    with open(file, 'r', encoding='utf-8') as f:\n",
    "        #print(f)\n",
    "        return(json.load(f))\n",
    "    \n",
    "    \n",
    "def save_data (file, data):\n",
    "    with open (file, \"w\", encoding='utf-8') as f:\n",
    "       data = json.dump(data, f, indent=4)\n",
    "       #print(data)\n",
    "\n",
    "def test_model(model, text):\n",
    "    doc = nlp(text)\n",
    "    results = []\n",
    "    entities = []\n",
    "    for ent in doc.ents:\n",
    "        x=entities.append((ent.start_char, ent.end_char, ent.label_))\n",
    "        print(x)\n",
    "        return (results)"
   ]
  }
 ],
 "metadata": {
  "kernelspec": {
   "display_name": "Greg",
   "language": "python",
   "name": "python3"
  },
  "language_info": {
   "codemirror_mode": {
    "name": "ipython",
    "version": 3
   },
   "file_extension": ".py",
   "mimetype": "text/x-python",
   "name": "python",
   "nbconvert_exporter": "python",
   "pygments_lexer": "ipython3",
   "version": "3.9.13"
  },
  "vscode": {
   "interpreter": {
    "hash": "c33b8046986a03aa44ef4ea500a2630dcd79ff60fec54402ff1309c4dcbd3e63"
   }
  }
 },
 "nbformat": 4,
 "nbformat_minor": 5
}
